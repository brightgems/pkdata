{
 "cells": [
  {
   "cell_type": "code",
   "execution_count": 2,
   "metadata": {},
   "outputs": [],
   "source": [
    "# improt packages\n",
    "import pandas as pd\n",
    "import pprint\n",
    "import tableprint as tp\n",
    "import datashader as ds\n",
    "import itertools as it\n",
    "from ipywidgets import interact, interactive, fixed, interact_manual\n",
    "import ipywidgets as widgets\n",
    "import matplotlib.pylab as plt\n",
    "from matplotlib.font_manager import FontProperties\n",
    "import seaborn as sns\n",
    "from dask import dataframe as ddf\n",
    "import warnings\n",
    "warnings.filterwarnings(action='ignore')\n",
    "\n",
    "font0 = FontProperties()\n",
    "alignment = {'horizontalalignment': 'center', 'verticalalignment': 'baseline'}\n",
    "# Show family options\n",
    "\n",
    "families = ['serif', 'sans-serif', 'cursive', 'fantasy', 'monospace']\n",
    "\n",
    "font1 = font0.copy()\n",
    "font1.set_size('large')\n",
    "plt.style.use('ggplot')\n",
    "pp = pprint.PrettyPrinter(indent=4)\n",
    "\n",
    "# mpld3.enable_notebook()\n",
    "\n",
    "%matplotlib inline"
   ]
  },
  {
   "cell_type": "code",
   "execution_count": 7,
   "metadata": {},
   "outputs": [
    {
     "data": {
      "text/plain": [
       "<matplotlib.axes._subplots.AxesSubplot at 0x347e80f0>"
      ]
     },
     "execution_count": 7,
     "metadata": {},
     "output_type": "execute_result"
    },
    {
     "data": {
      "image/png": "[encoded data removed]",
      "text/plain": [
       "<Figure size 432x288 with 1 Axes>"
      ]
     },
     "metadata": {},
     "output_type": "display_data"
    }
   ],
   "source": [
    "df_test = pd.read_csv('../workdir/submission.csv')\n",
    "df_test[df_test.prediction_pay_price>1]['prediction_pay_price'].plot.hist()"
   ]
  }
 ],
 "metadata": {
  "anaconda-cloud": {},
  "kernelspec": {
   "display_name": "Python [conda env:py36]",
   "language": "python",
   "name": "conda-env-py36-py"
  },
  "language_info": {
   "codemirror_mode": {
    "name": "ipython",
    "version": 3
   },
   "file_extension": ".py",
   "mimetype": "text/x-python",
   "name": "python",
   "nbconvert_exporter": "python",
   "pygments_lexer": "ipython3",
   "version": "3.6.5"
  }
 },
 "nbformat": 4,
 "nbformat_minor": 2
}
