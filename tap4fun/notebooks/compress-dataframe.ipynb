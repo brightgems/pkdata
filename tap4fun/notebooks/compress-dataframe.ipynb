{
 "cells": [
  {
   "cell_type": "markdown",
   "metadata": {
    "nbpresent": {
     "id": "e0c1ce36-c934-4dd5-abbd-d36c4fe17bd2"
    }
   },
   "source": [
    "# Minimize Raw Data\n",
    "考虑到原始文件较大，使用pandas读取时选择合适的数据类型并压缩内存占用。本文对数据做预处理，找到数据框最合适的数据类型并重新读取，可以将内存占用压缩一半（压缩后942MB）.\n",
    "\n",
    "本文结束时输出数据框最小数据类型到临时文件夹。"
   ]
  },
  {
   "cell_type": "code",
   "execution_count": 1,
   "metadata": {
    "nbpresent": {
     "id": "e45c0cbe-b455-46b8-8fc3-0ab0cc99cc85"
    }
   },
   "outputs": [],
   "source": [
    "# improt packages\n",
    "import pandas as pd\n",
    "import pprint\n",
    "import numpy as np\n",
    "import itertools as it\n",
    "\n",
    "import matplotlib as mpl\n",
    "import matplotlib.pylab as plt\n",
    "%matplotlib inline"
   ]
  },
  {
   "cell_type": "markdown",
   "metadata": {
    "nbpresent": {
     "id": "0f084399-3e73-4525-b908-1709b1433b96"
    }
   },
   "source": [
    "load sample data training data"
   ]
  },
  {
   "cell_type": "code",
   "execution_count": 3,
   "metadata": {
    "nbpresent": {
     "id": "cf326671-b769-4112-ad60-9338503b07b2"
    }
   },
   "outputs": [
    {
     "ename": "FileNotFoundError",
     "evalue": "File b'data/tap_fun_train.csv' does not exist",
     "output_type": "error",
     "traceback": [
      "\u001b[1;31m----------------------------------------------------------------\u001b[0m",
      "\u001b[1;31mFileNotFoundError\u001b[0m              Traceback (most recent call last)",
      "\u001b[1;32m<timed exec>\u001b[0m in \u001b[0;36m<module>\u001b[1;34m()\u001b[0m\n",
      "\u001b[1;32mD:\\Python27\\envs\\py36\\lib\\site-packages\\pandas\\io\\parsers.py\u001b[0m in \u001b[0;36mparser_f\u001b[1;34m(filepath_or_buffer, sep, delimiter, header, names, index_col, usecols, squeeze, prefix, mangle_dupe_cols, dtype, engine, converters, true_values, false_values, skipinitialspace, skiprows, nrows, na_values, keep_default_na, na_filter, verbose, skip_blank_lines, parse_dates, infer_datetime_format, keep_date_col, date_parser, dayfirst, iterator, chunksize, compression, thousands, decimal, lineterminator, quotechar, quoting, escapechar, comment, encoding, dialect, tupleize_cols, error_bad_lines, warn_bad_lines, skipfooter, doublequote, delim_whitespace, low_memory, memory_map, float_precision)\u001b[0m\n\u001b[0;32m    676\u001b[0m                     skip_blank_lines=skip_blank_lines)\n\u001b[0;32m    677\u001b[0m \u001b[1;33m\u001b[0m\u001b[0m\n\u001b[1;32m--> 678\u001b[1;33m         \u001b[1;32mreturn\u001b[0m \u001b[0m_read\u001b[0m\u001b[1;33m(\u001b[0m\u001b[0mfilepath_or_buffer\u001b[0m\u001b[1;33m,\u001b[0m \u001b[0mkwds\u001b[0m\u001b[1;33m)\u001b[0m\u001b[1;33m\u001b[0m\u001b[0m\n\u001b[0m\u001b[0;32m    679\u001b[0m \u001b[1;33m\u001b[0m\u001b[0m\n\u001b[0;32m    680\u001b[0m     \u001b[0mparser_f\u001b[0m\u001b[1;33m.\u001b[0m\u001b[0m__name__\u001b[0m \u001b[1;33m=\u001b[0m \u001b[0mname\u001b[0m\u001b[1;33m\u001b[0m\u001b[0m\n",
      "\u001b[1;32mD:\\Python27\\envs\\py36\\lib\\site-packages\\pandas\\io\\parsers.py\u001b[0m in \u001b[0;36m_read\u001b[1;34m(filepath_or_buffer, kwds)\u001b[0m\n\u001b[0;32m    438\u001b[0m \u001b[1;33m\u001b[0m\u001b[0m\n\u001b[0;32m    439\u001b[0m     \u001b[1;31m# Create the parser.\u001b[0m\u001b[1;33m\u001b[0m\u001b[1;33m\u001b[0m\u001b[0m\n\u001b[1;32m--> 440\u001b[1;33m     \u001b[0mparser\u001b[0m \u001b[1;33m=\u001b[0m \u001b[0mTextFileReader\u001b[0m\u001b[1;33m(\u001b[0m\u001b[0mfilepath_or_buffer\u001b[0m\u001b[1;33m,\u001b[0m \u001b[1;33m**\u001b[0m\u001b[0mkwds\u001b[0m\u001b[1;33m)\u001b[0m\u001b[1;33m\u001b[0m\u001b[0m\n\u001b[0m\u001b[0;32m    441\u001b[0m \u001b[1;33m\u001b[0m\u001b[0m\n\u001b[0;32m    442\u001b[0m     \u001b[1;32mif\u001b[0m \u001b[0mchunksize\u001b[0m \u001b[1;32mor\u001b[0m \u001b[0miterator\u001b[0m\u001b[1;33m:\u001b[0m\u001b[1;33m\u001b[0m\u001b[0m\n",
      "\u001b[1;32mD:\\Python27\\envs\\py36\\lib\\site-packages\\pandas\\io\\parsers.py\u001b[0m in \u001b[0;36m__init__\u001b[1;34m(self, f, engine, **kwds)\u001b[0m\n\u001b[0;32m    785\u001b[0m             \u001b[0mself\u001b[0m\u001b[1;33m.\u001b[0m\u001b[0moptions\u001b[0m\u001b[1;33m[\u001b[0m\u001b[1;34m'has_index_names'\u001b[0m\u001b[1;33m]\u001b[0m \u001b[1;33m=\u001b[0m \u001b[0mkwds\u001b[0m\u001b[1;33m[\u001b[0m\u001b[1;34m'has_index_names'\u001b[0m\u001b[1;33m]\u001b[0m\u001b[1;33m\u001b[0m\u001b[0m\n\u001b[0;32m    786\u001b[0m \u001b[1;33m\u001b[0m\u001b[0m\n\u001b[1;32m--> 787\u001b[1;33m         \u001b[0mself\u001b[0m\u001b[1;33m.\u001b[0m\u001b[0m_make_engine\u001b[0m\u001b[1;33m(\u001b[0m\u001b[0mself\u001b[0m\u001b[1;33m.\u001b[0m\u001b[0mengine\u001b[0m\u001b[1;33m)\u001b[0m\u001b[1;33m\u001b[0m\u001b[0m\n\u001b[0m\u001b[0;32m    788\u001b[0m \u001b[1;33m\u001b[0m\u001b[0m\n\u001b[0;32m    789\u001b[0m     \u001b[1;32mdef\u001b[0m \u001b[0mclose\u001b[0m\u001b[1;33m(\u001b[0m\u001b[0mself\u001b[0m\u001b[1;33m)\u001b[0m\u001b[1;33m:\u001b[0m\u001b[1;33m\u001b[0m\u001b[0m\n",
      "\u001b[1;32mD:\\Python27\\envs\\py36\\lib\\site-packages\\pandas\\io\\parsers.py\u001b[0m in \u001b[0;36m_make_engine\u001b[1;34m(self, engine)\u001b[0m\n\u001b[0;32m   1012\u001b[0m     \u001b[1;32mdef\u001b[0m \u001b[0m_make_engine\u001b[0m\u001b[1;33m(\u001b[0m\u001b[0mself\u001b[0m\u001b[1;33m,\u001b[0m \u001b[0mengine\u001b[0m\u001b[1;33m=\u001b[0m\u001b[1;34m'c'\u001b[0m\u001b[1;33m)\u001b[0m\u001b[1;33m:\u001b[0m\u001b[1;33m\u001b[0m\u001b[0m\n\u001b[0;32m   1013\u001b[0m         \u001b[1;32mif\u001b[0m \u001b[0mengine\u001b[0m \u001b[1;33m==\u001b[0m \u001b[1;34m'c'\u001b[0m\u001b[1;33m:\u001b[0m\u001b[1;33m\u001b[0m\u001b[0m\n\u001b[1;32m-> 1014\u001b[1;33m             \u001b[0mself\u001b[0m\u001b[1;33m.\u001b[0m\u001b[0m_engine\u001b[0m \u001b[1;33m=\u001b[0m \u001b[0mCParserWrapper\u001b[0m\u001b[1;33m(\u001b[0m\u001b[0mself\u001b[0m\u001b[1;33m.\u001b[0m\u001b[0mf\u001b[0m\u001b[1;33m,\u001b[0m \u001b[1;33m**\u001b[0m\u001b[0mself\u001b[0m\u001b[1;33m.\u001b[0m\u001b[0moptions\u001b[0m\u001b[1;33m)\u001b[0m\u001b[1;33m\u001b[0m\u001b[0m\n\u001b[0m\u001b[0;32m   1015\u001b[0m         \u001b[1;32melse\u001b[0m\u001b[1;33m:\u001b[0m\u001b[1;33m\u001b[0m\u001b[0m\n\u001b[0;32m   1016\u001b[0m             \u001b[1;32mif\u001b[0m \u001b[0mengine\u001b[0m \u001b[1;33m==\u001b[0m \u001b[1;34m'python'\u001b[0m\u001b[1;33m:\u001b[0m\u001b[1;33m\u001b[0m\u001b[0m\n",
      "\u001b[1;32mD:\\Python27\\envs\\py36\\lib\\site-packages\\pandas\\io\\parsers.py\u001b[0m in \u001b[0;36m__init__\u001b[1;34m(self, src, **kwds)\u001b[0m\n\u001b[0;32m   1706\u001b[0m         \u001b[0mkwds\u001b[0m\u001b[1;33m[\u001b[0m\u001b[1;34m'usecols'\u001b[0m\u001b[1;33m]\u001b[0m \u001b[1;33m=\u001b[0m \u001b[0mself\u001b[0m\u001b[1;33m.\u001b[0m\u001b[0musecols\u001b[0m\u001b[1;33m\u001b[0m\u001b[0m\n\u001b[0;32m   1707\u001b[0m \u001b[1;33m\u001b[0m\u001b[0m\n\u001b[1;32m-> 1708\u001b[1;33m         \u001b[0mself\u001b[0m\u001b[1;33m.\u001b[0m\u001b[0m_reader\u001b[0m \u001b[1;33m=\u001b[0m \u001b[0mparsers\u001b[0m\u001b[1;33m.\u001b[0m\u001b[0mTextReader\u001b[0m\u001b[1;33m(\u001b[0m\u001b[0msrc\u001b[0m\u001b[1;33m,\u001b[0m \u001b[1;33m**\u001b[0m\u001b[0mkwds\u001b[0m\u001b[1;33m)\u001b[0m\u001b[1;33m\u001b[0m\u001b[0m\n\u001b[0m\u001b[0;32m   1709\u001b[0m \u001b[1;33m\u001b[0m\u001b[0m\n\u001b[0;32m   1710\u001b[0m         \u001b[0mpassed_names\u001b[0m \u001b[1;33m=\u001b[0m \u001b[0mself\u001b[0m\u001b[1;33m.\u001b[0m\u001b[0mnames\u001b[0m \u001b[1;32mis\u001b[0m \u001b[1;32mNone\u001b[0m\u001b[1;33m\u001b[0m\u001b[0m\n",
      "\u001b[1;32mpandas/_libs/parsers.pyx\u001b[0m in \u001b[0;36mpandas._libs.parsers.TextReader.__cinit__\u001b[1;34m()\u001b[0m\n",
      "\u001b[1;32mpandas/_libs/parsers.pyx\u001b[0m in \u001b[0;36mpandas._libs.parsers.TextReader._setup_parser_source\u001b[1;34m()\u001b[0m\n",
      "\u001b[1;31mFileNotFoundError\u001b[0m: File b'data/tap_fun_train.csv' does not exist"
     ]
    },
    {
     "ename": "NameError",
     "evalue": "name 'df_train' is not defined",
     "output_type": "error",
     "traceback": [
      "\u001b[1;31m----------------------------------------------------------------\u001b[0m",
      "\u001b[1;31mNameError\u001b[0m                      Traceback (most recent call last)",
      "\u001b[1;32m<ipython-input-3-0a224c556260>\u001b[0m in \u001b[0;36m<module>\u001b[1;34m()\u001b[0m\n\u001b[0;32m      2\u001b[0m \u001b[1;33m\u001b[0m\u001b[0m\n\u001b[0;32m      3\u001b[0m \u001b[0mget_ipython\u001b[0m\u001b[1;33m(\u001b[0m\u001b[1;33m)\u001b[0m\u001b[1;33m.\u001b[0m\u001b[0mrun_line_magic\u001b[0m\u001b[1;33m(\u001b[0m\u001b[1;34m'time'\u001b[0m\u001b[1;33m,\u001b[0m \u001b[1;34m\"df_train = pd.read_csv('data/tap_fun_train.csv', infer_datetime_format=True)\"\u001b[0m\u001b[1;33m)\u001b[0m\u001b[1;33m\u001b[0m\u001b[0m\n\u001b[1;32m----> 4\u001b[1;33m \u001b[0mdf_train\u001b[0m\u001b[1;33m.\u001b[0m\u001b[0mhead\u001b[0m\u001b[1;33m(\u001b[0m\u001b[1;33m)\u001b[0m\u001b[1;33m\u001b[0m\u001b[0m\n\u001b[0m",
      "\u001b[1;31mNameError\u001b[0m: name 'df_train' is not defined"
     ]
    }
   ],
   "source": [
    "pp = pprint.PrettyPrinter(indent=4)\n",
    "\n",
    "%time df_train = pd.read_csv('../data/tap_fun_train.csv', infer_datetime_format=True)\n",
    "df_train.head()"
   ]
  },
  {
   "cell_type": "code",
   "execution_count": 3,
   "metadata": {
    "nbpresent": {
     "id": "b145ec3a-1d83-4640-9e26-bb61360ae953"
    }
   },
   "outputs": [
    {
     "name": "stdout",
     "output_type": "stream",
     "text": [
      "<class 'pandas.core.frame.DataFrame'>\n",
      "RangeIndex: 2288007 entries, 0 to 2288006\n",
      "Columns: 109 entries, user_id to prediction_pay_price\n",
      "dtypes: float64(13), int64(95), object(1)\n",
      "memory usage: 1.9+ GB\n"
     ]
    }
   ],
   "source": [
    "df_train.info()"
   ]
  },
  {
   "cell_type": "code",
   "execution_count": 40,
   "metadata": {
    "nbpresent": {
     "id": "6d387e21-ffaf-42e4-b298-9f0da6b7b608"
    }
   },
   "outputs": [
    {
     "name": "stdout",
     "output_type": "stream",
     "text": [
      "<class 'pandas.core.frame.DataFrame'>\n",
      "RangeIndex: 2288007 entries, 0 to 2288006\n",
      "Columns: 109 entries, user_id to prediction_pay_price\n",
      "dtypes: float64(13), int64(95), object(1)\n",
      "memory usage: 1.9+ GB\n"
     ]
    }
   ],
   "source": [
    "df_train.info()"
   ]
  },
  {
   "cell_type": "markdown",
   "metadata": {
    "nbpresent": {
     "id": "4f7c52ad-f616-40cf-b2ae-f42d7f1c1bbd"
    }
   },
   "source": [
    "get minimum datatype"
   ]
  },
  {
   "cell_type": "code",
   "execution_count": 3,
   "metadata": {
    "nbpresent": {
     "id": "37341844-cc29-421c-8c55-055356b145cc"
    }
   },
   "outputs": [],
   "source": [
    "gl_int = df_train.select_dtypes(include=['int64'])\n",
    "\n",
    "int_types = [\"uint16\", \"uint32\",\"uint64\"]\n",
    "int_types_max = {}\n",
    "for it in int_types:\n",
    "    int_types_max[it] = np.iinfo(it).max\n",
    "int_types_max = sorted(int_types_max.items(),key= lambda x: x[1])\n",
    "\n",
    "import itertools as it\n",
    "column_types = {}\n",
    "for field,max in gl_int.max().iteritems():\n",
    "    best_type= list(it.filterfalse(lambda x: max>x[1],int_types_max))\n",
    "    column_types[field] = best_type[0][0]\n"
   ]
  },
  {
   "cell_type": "code",
   "execution_count": 4,
   "metadata": {
    "nbpresent": {
     "id": "dc2955b4-0926-48e1-a8f3-d09270d55f57"
    },
    "scrolled": false
   },
   "outputs": [
    {
     "data": {
      "text/plain": [
       "{'user_id': 'uint32',\n",
       " 'infantry_add_value': 'uint32',\n",
       " 'infantry_reduce_value': 'uint32',\n",
       " 'cavalry_add_value': 'uint32',\n",
       " 'cavalry_reduce_value': 'uint32',\n",
       " 'shaman_add_value': 'uint32',\n",
       " 'shaman_reduce_value': 'uint32',\n",
       " 'wound_infantry_add_value': 'uint32',\n",
       " 'wound_infantry_reduce_value': 'uint32',\n",
       " 'wound_cavalry_add_value': 'uint32',\n",
       " 'wound_cavalry_reduce_value': 'uint32',\n",
       " 'wound_shaman_add_value': 'uint32',\n",
       " 'wound_shaman_reduce_value': 'uint32',\n",
       " 'general_acceleration_add_value': 'uint32',\n",
       " 'general_acceleration_reduce_value': 'uint32',\n",
       " 'building_acceleration_add_value': 'uint32',\n",
       " 'building_acceleration_reduce_value': 'uint32',\n",
       " 'reaserch_acceleration_add_value': 'uint32',\n",
       " 'reaserch_acceleration_reduce_value': 'uint32',\n",
       " 'training_acceleration_add_value': 'uint32',\n",
       " 'training_acceleration_reduce_value': 'uint32',\n",
       " 'treatment_acceleraion_add_value': 'uint16',\n",
       " 'treatment_acceleration_reduce_value': 'uint16',\n",
       " 'bd_training_hut_level': 'uint16',\n",
       " 'bd_healing_lodge_level': 'uint16',\n",
       " 'bd_stronghold_level': 'uint16',\n",
       " 'bd_outpost_portal_level': 'uint16',\n",
       " 'bd_barrack_level': 'uint16',\n",
       " 'bd_healing_spring_level': 'uint16',\n",
       " 'bd_dolmen_level': 'uint16',\n",
       " 'bd_guest_cavern_level': 'uint16',\n",
       " 'bd_warehouse_level': 'uint16',\n",
       " 'bd_watchtower_level': 'uint16',\n",
       " 'bd_magic_coin_tree_level': 'uint16',\n",
       " 'bd_hall_of_war_level': 'uint16',\n",
       " 'bd_market_level': 'uint16',\n",
       " 'bd_hero_gacha_level': 'uint16',\n",
       " 'bd_hero_strengthen_level': 'uint16',\n",
       " 'bd_hero_pve_level': 'uint16',\n",
       " 'sr_scout_level': 'uint16',\n",
       " 'sr_training_speed_level': 'uint16',\n",
       " 'sr_infantry_tier_2_level': 'uint16',\n",
       " 'sr_cavalry_tier_2_level': 'uint16',\n",
       " 'sr_shaman_tier_2_level': 'uint16',\n",
       " 'sr_infantry_atk_level': 'uint16',\n",
       " 'sr_cavalry_atk_level': 'uint16',\n",
       " 'sr_shaman_atk_level': 'uint16',\n",
       " 'sr_infantry_tier_3_level': 'uint16',\n",
       " 'sr_cavalry_tier_3_level': 'uint16',\n",
       " 'sr_shaman_tier_3_level': 'uint16',\n",
       " 'sr_troop_defense_level': 'uint16',\n",
       " 'sr_infantry_def_level': 'uint16',\n",
       " 'sr_cavalry_def_level': 'uint16',\n",
       " 'sr_shaman_def_level': 'uint16',\n",
       " 'sr_infantry_hp_level': 'uint16',\n",
       " 'sr_cavalry_hp_level': 'uint16',\n",
       " 'sr_shaman_hp_level': 'uint16',\n",
       " 'sr_infantry_tier_4_level': 'uint16',\n",
       " 'sr_cavalry_tier_4_level': 'uint16',\n",
       " 'sr_shaman_tier_4_level': 'uint16',\n",
       " 'sr_troop_attack_level': 'uint16',\n",
       " 'sr_construction_speed_level': 'uint16',\n",
       " 'sr_hide_storage_level': 'uint16',\n",
       " 'sr_troop_consumption_level': 'uint16',\n",
       " 'sr_rss_a_prod_levell': 'uint16',\n",
       " 'sr_rss_b_prod_level': 'uint16',\n",
       " 'sr_rss_c_prod_level': 'uint16',\n",
       " 'sr_rss_d_prod_level': 'uint16',\n",
       " 'sr_rss_a_gather_level': 'uint16',\n",
       " 'sr_rss_b_gather_level': 'uint16',\n",
       " 'sr_rss_c_gather_level': 'uint16',\n",
       " 'sr_rss_d_gather_level': 'uint16',\n",
       " 'sr_troop_load_level': 'uint16',\n",
       " 'sr_rss_e_gather_level': 'uint16',\n",
       " 'sr_rss_e_prod_level': 'uint16',\n",
       " 'sr_outpost_durability_level': 'uint16',\n",
       " 'sr_outpost_tier_2_level': 'uint16',\n",
       " 'sr_healing_space_level': 'uint16',\n",
       " 'sr_gathering_hunter_buff_level': 'uint16',\n",
       " 'sr_healing_speed_level': 'uint16',\n",
       " 'sr_outpost_tier_3_level': 'uint16',\n",
       " 'sr_alliance_march_speed_level': 'uint16',\n",
       " 'sr_pvp_march_speed_level': 'uint16',\n",
       " 'sr_gathering_march_speed_level': 'uint16',\n",
       " 'sr_outpost_tier_4_level': 'uint16',\n",
       " 'sr_guest_troop_capacity_level': 'uint16',\n",
       " 'sr_march_size_level': 'uint16',\n",
       " 'sr_rss_help_bonus_level': 'uint16',\n",
       " 'pvp_battle_count': 'uint16',\n",
       " 'pvp_lanch_count': 'uint16',\n",
       " 'pvp_win_count': 'uint16',\n",
       " 'pve_battle_count': 'uint16',\n",
       " 'pve_lanch_count': 'uint16',\n",
       " 'pve_win_count': 'uint16',\n",
       " 'pay_count': 'uint16',\n",
       " 'wood_add_value': 'float32',\n",
       " 'wood_reduce_value': 'float32',\n",
       " 'stone_add_value': 'float32',\n",
       " 'stone_reduce_value': 'float32',\n",
       " 'ivory_add_value': 'float32',\n",
       " 'ivory_reduce_value': 'float32',\n",
       " 'meat_add_value': 'float32',\n",
       " 'meat_reduce_value': 'float32',\n",
       " 'magic_add_value': 'float32',\n",
       " 'magic_reduce_value': 'float32',\n",
       " 'avg_online_minutes': 'float32',\n",
       " 'pay_price': 'float32',\n",
       " 'prediction_pay_price': 'float32'}"
      ]
     },
     "execution_count": 4,
     "metadata": {},
     "output_type": "execute_result"
    }
   ],
   "source": [
    "gl_float = df_train.select_dtypes(include=['float64'])\n",
    "float_types = [\"float32\",\"float64\"]\n",
    "float_types_max = {}\n",
    "for it in float_types:\n",
    "    float_types_max[it] = np.finfo(it).max\n",
    "float_types_max = sorted(float_types_max.items(),key= lambda x: x[1])\n",
    "\n",
    "import itertools as it\n",
    "for field,max in gl_float.max().iteritems():\n",
    "    best_type= list(it.filterfalse(lambda x: max>x[1],float_types_max))\n",
    "    column_types[field] = best_type[0][0]\n",
    "column_types    "
   ]
  },
  {
   "cell_type": "markdown",
   "metadata": {},
   "source": [
    "store column_types as intermidate file"
   ]
  },
  {
   "cell_type": "code",
   "execution_count": 5,
   "metadata": {},
   "outputs": [],
   "source": [
    "import pickle\n",
    "pickle.dump(column_types,open('tmp/column_types.pickle','wb'))\n",
    "column_types = pickle.load(open('tmp/column_types.pickle','rb'))"
   ]
  },
  {
   "cell_type": "code",
   "execution_count": 11,
   "metadata": {},
   "outputs": [
    {
     "name": "stdout",
     "output_type": "stream",
     "text": [
      "Wall time: 30.9 s\n"
     ]
    }
   ],
   "source": [
    "%time df_train = pd.read_csv('data/tap_fun_train.csv',dtype=column_types, parse_dates=['register_time'], infer_datetime_format=True)"
   ]
  },
  {
   "cell_type": "code",
   "execution_count": 13,
   "metadata": {},
   "outputs": [
    {
     "name": "stdout",
     "output_type": "stream",
     "text": [
      "<class 'pandas.core.frame.DataFrame'>\n",
      "RangeIndex: 2288007 entries, 0 to 2288006\n",
      "Columns: 109 entries, user_id to prediction_pay_price\n",
      "dtypes: datetime64[ns](1), float32(13), uint16(74), uint32(21)\n",
      "memory usage: 637.1 MB\n"
     ]
    }
   ],
   "source": [
    "df_train.info()"
   ]
  },
  {
   "cell_type": "code",
   "execution_count": 14,
   "metadata": {
    "nbpresent": {
     "id": "13b4efcb-56fb-4a37-a003-a0b07a734e73"
    }
   },
   "outputs": [
    {
     "name": "stdout",
     "output_type": "stream",
     "text": [
      "Wall time: 5.7 s\n"
     ]
    }
   ],
   "source": [
    "%time df_train.to_hdf('data/tap_fun_train.h5','/data')"
   ]
  },
  {
   "cell_type": "code",
   "execution_count": 8,
   "metadata": {},
   "outputs": [
    {
     "name": "stdout",
     "output_type": "stream",
     "text": [
      "Wall time: 10.4 s\n"
     ]
    }
   ],
   "source": [
    "%time df_test = pd.read_csv('data/tap_fun_test.csv',dtype=column_types, parse_dates=['register_time'], infer_datetime_format=True)"
   ]
  },
  {
   "cell_type": "code",
   "execution_count": 9,
   "metadata": {},
   "outputs": [
    {
     "name": "stdout",
     "output_type": "stream",
     "text": [
      "Wall time: 2.25 s\n"
     ]
    }
   ],
   "source": [
    "%time df_test.to_hdf('data/tap_fun_test.h5','/data')"
   ]
  },
  {
   "cell_type": "markdown",
   "metadata": {
    "nbpresent": {
     "id": "b484b839-f16f-498b-b7f3-dfe5e9558c87"
    }
   },
   "source": [
    "read dask dataframe"
   ]
  },
  {
   "cell_type": "code",
   "execution_count": 5,
   "metadata": {
    "collapsed": true,
    "nbpresent": {
     "id": "e24eb67f-42fa-4b9f-91a9-048b4d3faeff"
    }
   },
   "outputs": [],
   "source": [
    "import dask.dataframe as ddf"
   ]
  },
  {
   "cell_type": "code",
   "execution_count": 6,
   "metadata": {
    "collapsed": true,
    "nbpresent": {
     "id": "c7a3fc61-2024-40ec-b5fd-91a9f631439d"
    }
   },
   "outputs": [],
   "source": [
    "ddf_train =ddf.from_pandas(df_train, npartitions=8)"
   ]
  },
  {
   "cell_type": "markdown",
   "metadata": {
    "nbpresent": {
     "id": "a668738a-2e6b-4953-9914-f0da00fc4803"
    }
   },
   "source": [
    "compare performance, pandas response faster oberviously\n",
    "\n",
    "from_pandas perforamnce is better than pandas and read from multiple file"
   ]
  },
  {
   "cell_type": "code",
   "execution_count": 9,
   "metadata": {
    "nbpresent": {
     "id": "22ac4eaf-431b-49d4-a1af-055bf34e896c"
    }
   },
   "outputs": [
    {
     "name": "stdout",
     "output_type": "stream",
     "text": [
      "Wall time: 72.2 ms\n"
     ]
    },
    {
     "data": {
      "text/plain": [
       "3190530"
      ]
     },
     "execution_count": 9,
     "metadata": {},
     "output_type": "execute_result"
    }
   ],
   "source": [
    "%time df_train['user_id'].max()"
   ]
  },
  {
   "cell_type": "code",
   "execution_count": 10,
   "metadata": {
    "nbpresent": {
     "id": "6c58eac9-6b38-4875-a51d-349970bf66ba"
    }
   },
   "outputs": [
    {
     "name": "stdout",
     "output_type": "stream",
     "text": [
      "Wall time: 46 ms\n"
     ]
    },
    {
     "data": {
      "text/plain": [
       "1"
      ]
     },
     "execution_count": 10,
     "metadata": {},
     "output_type": "execute_result"
    }
   ],
   "source": [
    "%time ddf_train['user_id'].min().compute()"
   ]
  },
  {
   "cell_type": "code",
   "execution_count": null,
   "metadata": {
    "nbpresent": {
     "id": "11ffc63e-2499-4924-81a6-3a01ea6da28a"
    }
   },
   "outputs": [
    {
     "name": "stdout",
     "output_type": "stream",
     "text": [
      "Wall time: 10.7 s\n"
     ]
    },
    {
     "data": {
      "text/html": [
       "<div>\n",
       "<style scoped>\n",
       "    .dataframe tbody tr th:only-of-type {\n",
       "        vertical-align: middle;\n",
       "    }\n",
       "\n",
       "    .dataframe tbody tr th {\n",
       "        vertical-align: top;\n",
       "    }\n",
       "\n",
       "    .dataframe thead th {\n",
       "        text-align: right;\n",
       "    }\n",
       "</style>\n",
       "<table border=\"1\" class=\"dataframe\">\n",
       "  <thead>\n",
       "    <tr style=\"text-align: right;\">\n",
       "      <th></th>\n",
       "      <th>user_id</th>\n",
       "      <th>wood_add_value</th>\n",
       "      <th>wood_reduce_value</th>\n",
       "      <th>stone_add_value</th>\n",
       "      <th>stone_reduce_value</th>\n",
       "      <th>ivory_add_value</th>\n",
       "      <th>ivory_reduce_value</th>\n",
       "      <th>meat_add_value</th>\n",
       "      <th>meat_reduce_value</th>\n",
       "      <th>magic_add_value</th>\n",
       "      <th>...</th>\n",
       "      <th>pvp_battle_count</th>\n",
       "      <th>pvp_lanch_count</th>\n",
       "      <th>pvp_win_count</th>\n",
       "      <th>pve_battle_count</th>\n",
       "      <th>pve_lanch_count</th>\n",
       "      <th>pve_win_count</th>\n",
       "      <th>avg_online_minutes</th>\n",
       "      <th>pay_price</th>\n",
       "      <th>pay_count</th>\n",
       "      <th>prediction_pay_price</th>\n",
       "    </tr>\n",
       "  </thead>\n",
       "  <tbody>\n",
       "    <tr>\n",
       "      <th>count</th>\n",
       "      <td>2.288007e+06</td>\n",
       "      <td>2.288007e+06</td>\n",
       "      <td>2.288007e+06</td>\n",
       "      <td>2.288007e+06</td>\n",
       "      <td>2.288007e+06</td>\n",
       "      <td>2.288007e+06</td>\n",
       "      <td>2.288007e+06</td>\n",
       "      <td>2.288007e+06</td>\n",
       "      <td>2.288007e+06</td>\n",
       "      <td>2.288007e+06</td>\n",
       "      <td>...</td>\n",
       "      <td>2.288007e+06</td>\n",
       "      <td>2.288007e+06</td>\n",
       "      <td>2.288007e+06</td>\n",
       "      <td>2.288007e+06</td>\n",
       "      <td>2.288007e+06</td>\n",
       "      <td>2.288007e+06</td>\n",
       "      <td>2.288007e+06</td>\n",
       "      <td>2.288007e+06</td>\n",
       "      <td>2.288007e+06</td>\n",
       "      <td>2.288007e+06</td>\n",
       "    </tr>\n",
       "    <tr>\n",
       "      <th>mean</th>\n",
       "      <td>1.529543e+06</td>\n",
       "      <td>4.543069e+05</td>\n",
       "      <td>3.698433e+05</td>\n",
       "      <td>1.897788e+05</td>\n",
       "      <td>1.376074e+05</td>\n",
       "      <td>8.075623e+04</td>\n",
       "      <td>3.613170e+04</td>\n",
       "      <td>5.855155e+05</td>\n",
       "      <td>3.548102e+05</td>\n",
       "      <td>7.538954e+04</td>\n",
       "      <td>...</td>\n",
       "      <td>2.148313e+00</td>\n",
       "      <td>1.059639e+00</td>\n",
       "      <td>9.838589e-01</td>\n",
       "      <td>2.844738e+00</td>\n",
       "      <td>2.832409e+00</td>\n",
       "      <td>2.556749e+00</td>\n",
       "      <td>1.020749e+01</td>\n",
       "      <td>5.346691e-01</td>\n",
       "      <td>5.770699e-02</td>\n",
       "      <td>1.793146e+00</td>\n",
       "    </tr>\n",
       "    <tr>\n",
       "      <th>std</th>\n",
       "      <td>9.399393e+05</td>\n",
       "      <td>4.958667e+06</td>\n",
       "      <td>3.737720e+06</td>\n",
       "      <td>4.670620e+06</td>\n",
       "      <td>3.370166e+06</td>\n",
       "      <td>2.220540e+06</td>\n",
       "      <td>1.782499e+06</td>\n",
       "      <td>5.868629e+06</td>\n",
       "      <td>3.400632e+06</td>\n",
       "      <td>9.662892e+05</td>\n",
       "      <td>...</td>\n",
       "      <td>1.167797e+01</td>\n",
       "      <td>9.074459e+00</td>\n",
       "      <td>8.951280e+00</td>\n",
       "      <td>1.276245e+01</td>\n",
       "      <td>1.271820e+01</td>\n",
       "      <td>1.184737e+01</td>\n",
       "      <td>3.895946e+01</td>\n",
       "      <td>2.263835e+01</td>\n",
       "      <td>7.090886e-01</td>\n",
       "      <td>8.846303e+01</td>\n",
       "    </tr>\n",
       "    <tr>\n",
       "      <th>min</th>\n",
       "      <td>1.000000e+00</td>\n",
       "      <td>0.000000e+00</td>\n",
       "      <td>0.000000e+00</td>\n",
       "      <td>0.000000e+00</td>\n",
       "      <td>0.000000e+00</td>\n",
       "      <td>0.000000e+00</td>\n",
       "      <td>0.000000e+00</td>\n",
       "      <td>0.000000e+00</td>\n",
       "      <td>0.000000e+00</td>\n",
       "      <td>0.000000e+00</td>\n",
       "      <td>...</td>\n",
       "      <td>0.000000e+00</td>\n",
       "      <td>0.000000e+00</td>\n",
       "      <td>0.000000e+00</td>\n",
       "      <td>0.000000e+00</td>\n",
       "      <td>0.000000e+00</td>\n",
       "      <td>0.000000e+00</td>\n",
       "      <td>0.000000e+00</td>\n",
       "      <td>0.000000e+00</td>\n",
       "      <td>0.000000e+00</td>\n",
       "      <td>0.000000e+00</td>\n",
       "    </tr>\n",
       "    <tr>\n",
       "      <th>25%</th>\n",
       "      <td>8.230080e+05</td>\n",
       "      <td>1.000000e+04</td>\n",
       "      <td>0.000000e+00</td>\n",
       "      <td>0.000000e+00</td>\n",
       "      <td>0.000000e+00</td>\n",
       "      <td>0.000000e+00</td>\n",
       "      <td>0.000000e+00</td>\n",
       "      <td>1.000000e+04</td>\n",
       "      <td>0.000000e+00</td>\n",
       "      <td>0.000000e+00</td>\n",
       "      <td>...</td>\n",
       "      <td>0.000000e+00</td>\n",
       "      <td>0.000000e+00</td>\n",
       "      <td>0.000000e+00</td>\n",
       "      <td>0.000000e+00</td>\n",
       "      <td>0.000000e+00</td>\n",
       "      <td>0.000000e+00</td>\n",
       "      <td>5.000000e-01</td>\n",
       "      <td>0.000000e+00</td>\n",
       "      <td>0.000000e+00</td>\n",
       "      <td>0.000000e+00</td>\n",
       "    </tr>\n",
       "    <tr>\n",
       "      <th>50%</th>\n",
       "      <td>1.787749e+06</td>\n",
       "      <td>5.410750e+04</td>\n",
       "      <td>1.661000e+04</td>\n",
       "      <td>0.000000e+00</td>\n",
       "      <td>0.000000e+00</td>\n",
       "      <td>0.000000e+00</td>\n",
       "      <td>0.000000e+00</td>\n",
       "      <td>4.200500e+04</td>\n",
       "      <td>9.444000e+03</td>\n",
       "      <td>0.000000e+00</td>\n",
       "      <td>...</td>\n",
       "      <td>0.000000e+00</td>\n",
       "      <td>0.000000e+00</td>\n",
       "      <td>0.000000e+00</td>\n",
       "      <td>0.000000e+00</td>\n",
       "      <td>0.000000e+00</td>\n",
       "      <td>0.000000e+00</td>\n",
       "      <td>2.000000e+00</td>\n",
       "      <td>0.000000e+00</td>\n",
       "      <td>0.000000e+00</td>\n",
       "      <td>0.000000e+00</td>\n",
       "    </tr>\n",
       "    <tr>\n",
       "      <th>75%</th>\n",
       "      <td>3.083868e+06</td>\n",
       "      <td>1.668665e+05</td>\n",
       "      <td>1.006360e+05</td>\n",
       "      <td>0.000000e+00</td>\n",
       "      <td>0.000000e+00</td>\n",
       "      <td>0.000000e+00</td>\n",
       "      <td>0.000000e+00</td>\n",
       "      <td>1.537720e+05</td>\n",
       "      <td>6.917500e+04</td>\n",
       "      <td>0.000000e+00</td>\n",
       "      <td>...</td>\n",
       "      <td>1.000000e+00</td>\n",
       "      <td>0.000000e+00</td>\n",
       "      <td>0.000000e+00</td>\n",
       "      <td>1.000000e+00</td>\n",
       "      <td>1.000000e+00</td>\n",
       "      <td>1.000000e+00</td>\n",
       "      <td>5.166667e+00</td>\n",
       "      <td>0.000000e+00</td>\n",
       "      <td>0.000000e+00</td>\n",
       "      <td>0.000000e+00</td>\n",
       "    </tr>\n",
       "    <tr>\n",
       "      <th>max</th>\n",
       "      <td>3.190530e+06</td>\n",
       "      <td>1.239962e+09</td>\n",
       "      <td>7.995875e+08</td>\n",
       "      <td>1.214869e+09</td>\n",
       "      <td>7.962378e+08</td>\n",
       "      <td>5.744961e+08</td>\n",
       "      <td>4.481972e+08</td>\n",
       "      <td>1.470644e+09</td>\n",
       "      <td>8.889537e+08</td>\n",
       "      <td>2.637228e+08</td>\n",
       "      <td>...</td>\n",
       "      <td>2.054000e+03</td>\n",
       "      <td>2.051000e+03</td>\n",
       "      <td>1.904000e+03</td>\n",
       "      <td>5.090000e+02</td>\n",
       "      <td>5.090000e+02</td>\n",
       "      <td>4.880000e+02</td>\n",
       "      <td>2.049667e+03</td>\n",
       "      <td>7.457950e+03</td>\n",
       "      <td>1.050000e+02</td>\n",
       "      <td>3.297781e+04</td>\n",
       "    </tr>\n",
       "  </tbody>\n",
       "</table>\n",
       "<p>8 rows × 108 columns</p>\n",
       "</div>"
      ],
      "text/plain": [
       "            user_id  wood_add_value  wood_reduce_value  stone_add_value  \\\n",
       "count  2.288007e+06    2.288007e+06       2.288007e+06     2.288007e+06   \n",
       "mean   1.529543e+06    4.543069e+05       3.698433e+05     1.897788e+05   \n",
       "std    9.399393e+05    4.958667e+06       3.737720e+06     4.670620e+06   \n",
       "min    1.000000e+00    0.000000e+00       0.000000e+00     0.000000e+00   \n",
       "25%    8.230080e+05    1.000000e+04       0.000000e+00     0.000000e+00   \n",
       "50%    1.787749e+06    5.410750e+04       1.661000e+04     0.000000e+00   \n",
       "75%    3.083868e+06    1.668665e+05       1.006360e+05     0.000000e+00   \n",
       "max    3.190530e+06    1.239962e+09       7.995875e+08     1.214869e+09   \n",
       "\n",
       "       stone_reduce_value  ivory_add_value  ivory_reduce_value  \\\n",
       "count        2.288007e+06     2.288007e+06        2.288007e+06   \n",
       "mean         1.376074e+05     8.075623e+04        3.613170e+04   \n",
       "std          3.370166e+06     2.220540e+06        1.782499e+06   \n",
       "min          0.000000e+00     0.000000e+00        0.000000e+00   \n",
       "25%          0.000000e+00     0.000000e+00        0.000000e+00   \n",
       "50%          0.000000e+00     0.000000e+00        0.000000e+00   \n",
       "75%          0.000000e+00     0.000000e+00        0.000000e+00   \n",
       "max          7.962378e+08     5.744961e+08        4.481972e+08   \n",
       "\n",
       "       meat_add_value  meat_reduce_value  magic_add_value  \\\n",
       "count    2.288007e+06       2.288007e+06     2.288007e+06   \n",
       "mean     5.855155e+05       3.548102e+05     7.538954e+04   \n",
       "std      5.868629e+06       3.400632e+06     9.662892e+05   \n",
       "min      0.000000e+00       0.000000e+00     0.000000e+00   \n",
       "25%      1.000000e+04       0.000000e+00     0.000000e+00   \n",
       "50%      4.200500e+04       9.444000e+03     0.000000e+00   \n",
       "75%      1.537720e+05       6.917500e+04     0.000000e+00   \n",
       "max      1.470644e+09       8.889537e+08     2.637228e+08   \n",
       "\n",
       "               ...           pvp_battle_count  pvp_lanch_count  pvp_win_count  \\\n",
       "count          ...               2.288007e+06     2.288007e+06   2.288007e+06   \n",
       "mean           ...               2.148313e+00     1.059639e+00   9.838589e-01   \n",
       "std            ...               1.167797e+01     9.074459e+00   8.951280e+00   \n",
       "min            ...               0.000000e+00     0.000000e+00   0.000000e+00   \n",
       "25%            ...               0.000000e+00     0.000000e+00   0.000000e+00   \n",
       "50%            ...               0.000000e+00     0.000000e+00   0.000000e+00   \n",
       "75%            ...               1.000000e+00     0.000000e+00   0.000000e+00   \n",
       "max            ...               2.054000e+03     2.051000e+03   1.904000e+03   \n",
       "\n",
       "       pve_battle_count  pve_lanch_count  pve_win_count  avg_online_minutes  \\\n",
       "count      2.288007e+06     2.288007e+06   2.288007e+06        2.288007e+06   \n",
       "mean       2.844738e+00     2.832409e+00   2.556749e+00        1.020749e+01   \n",
       "std        1.276245e+01     1.271820e+01   1.184737e+01        3.895946e+01   \n",
       "min        0.000000e+00     0.000000e+00   0.000000e+00        0.000000e+00   \n",
       "25%        0.000000e+00     0.000000e+00   0.000000e+00        5.000000e-01   \n",
       "50%        0.000000e+00     0.000000e+00   0.000000e+00        2.000000e+00   \n",
       "75%        1.000000e+00     1.000000e+00   1.000000e+00        5.166667e+00   \n",
       "max        5.090000e+02     5.090000e+02   4.880000e+02        2.049667e+03   \n",
       "\n",
       "          pay_price     pay_count  prediction_pay_price  \n",
       "count  2.288007e+06  2.288007e+06          2.288007e+06  \n",
       "mean   5.346691e-01  5.770699e-02          1.793146e+00  \n",
       "std    2.263835e+01  7.090886e-01          8.846303e+01  \n",
       "min    0.000000e+00  0.000000e+00          0.000000e+00  \n",
       "25%    0.000000e+00  0.000000e+00          0.000000e+00  \n",
       "50%    0.000000e+00  0.000000e+00          0.000000e+00  \n",
       "75%    0.000000e+00  0.000000e+00          0.000000e+00  \n",
       "max    7.457950e+03  1.050000e+02          3.297781e+04  \n",
       "\n",
       "[8 rows x 108 columns]"
      ]
     },
     "execution_count": 11,
     "metadata": {},
     "output_type": "execute_result"
    }
   ],
   "source": [
    "%time ddf_train.describe().compute()"
   ]
  },
  {
   "cell_type": "markdown",
   "metadata": {
    "nbpresent": {
     "id": "2554a735-6e4c-4e6f-8e55-03fe6dddf276"
    }
   },
   "source": [
    "日均注册用户数"
   ]
  },
  {
   "cell_type": "code",
   "execution_count": 7,
   "metadata": {
    "collapsed": true,
    "nbpresent": {
     "id": "d427d5f1-5fe8-4f5a-accb-8ca2e6839bfe"
    }
   },
   "outputs": [],
   "source": [
    "df_train['register_date']=df_train.register_time.apply(lambda x:pd.to_datetime(x).strftime('%Y-%m-%d'))\n",
    "agg_usercntbyday = df_train.groupby('register_date')['user_id'].count()"
   ]
  },
  {
   "cell_type": "code",
   "execution_count": 8,
   "metadata": {
    "nbpresent": {
     "id": "7f093917-6a5a-40dc-919e-448b7f4d38af"
    }
   },
   "outputs": [
    {
     "data": {
      "image/png": "[encoded data removed]",
      "text/plain": [
       "<Figure size 1152x360 with 1 Axes>"
      ]
     },
     "metadata": {},
     "output_type": "display_data"
    }
   ],
   "source": [
    "agg_usercntbyday.plot(kind='bar',figsize=(16,5));"
   ]
  },
  {
   "cell_type": "markdown",
   "metadata": {
    "nbpresent": {
     "id": "bef2e871-9117-48ea-972b-a4dfd3e7ae65"
    }
   },
   "source": [
    "付款价格频率图"
   ]
  },
  {
   "cell_type": "code",
   "execution_count": 9,
   "metadata": {
    "nbpresent": {
     "id": "06316966-f33c-4be8-936c-51d7dd4543c1"
    }
   },
   "outputs": [
    {
     "data": {
      "text/plain": [
       "count    2.288007e+06\n",
       "mean     5.346689e-01\n",
       "std      2.263835e+01\n",
       "min      0.000000e+00\n",
       "25%      0.000000e+00\n",
       "50%      0.000000e+00\n",
       "75%      0.000000e+00\n",
       "max      7.457950e+03\n",
       "Name: pay_price, dtype: float64"
      ]
     },
     "execution_count": 9,
     "metadata": {},
     "output_type": "execute_result"
    }
   ],
   "source": [
    "df_train['pay_price'].describe()"
   ]
  },
  {
   "cell_type": "code",
   "execution_count": 10,
   "metadata": {
    "nbpresent": {
     "id": "f4070362-5ce1-4cb1-938f-e1f10e01eef3"
    }
   },
   "outputs": [
    {
     "data": {
      "text/plain": [
       "[0.0, 0.01)            2246568\n",
       "[0.01, 10.0)             29094\n",
       "[10.0, 100.0)            10310\n",
       "[100.0, 1000.0)           1860\n",
       "[1000.0, 10000.0)          175\n",
       "[10000.0, 100000.0)          0\n",
       "Name: pay_price_group, dtype: int64"
      ]
     },
     "execution_count": 10,
     "metadata": {},
     "output_type": "execute_result"
    }
   ],
   "source": [
    "df_train['pay_price_group']=pd.cut( df_train['pay_price'],[0,.01,10,100,1000,10000,100000],right=False)\n",
    "df_train['pay_price_group'].value_counts()"
   ]
  },
  {
   "cell_type": "code",
   "execution_count": 11,
   "metadata": {
    "nbpresent": {
     "id": "f19393cd-e4aa-4350-a664-0f3b1f453296"
    }
   },
   "outputs": [
    {
     "data": {
      "text/plain": [
       "[0.0, 0.01)            2242019\n",
       "[0.01, 10.0)             29286\n",
       "[10.0, 100.0)            12093\n",
       "[100.0, 1000.0)           3822\n",
       "[1000.0, 10000.0)          758\n",
       "[10000.0, 100000.0)         29\n",
       "Name: prediction_pay_price_group, dtype: int64"
      ]
     },
     "execution_count": 11,
     "metadata": {},
     "output_type": "execute_result"
    }
   ],
   "source": [
    "df_train['prediction_future_pay_price'] = df_train['prediction_pay_price'] - df_train['pay_price']\n",
    "df_train['prediction_pay_price_group']=pd.cut( df_train['prediction_pay_price'],[0,0.01,10,100,1000,10000,100000],right=False)\n",
    "df_train['prediction_pay_price_group'].value_counts()"
   ]
  },
  {
   "cell_type": "code",
   "execution_count": 12,
   "metadata": {
    "nbpresent": {
     "id": "4ec03b46-0550-4af0-8167-88d02871e489"
    }
   },
   "outputs": [
    {
     "data": {
      "image/png": "[encoded data removed]",
      "text/plain": [
       "<Figure size 1152x360 with 1 Axes>"
      ]
     },
     "metadata": {},
     "output_type": "display_data"
    }
   ],
   "source": [
    "df_train['pay_count_group']=pd.cut( df_train['pay_count'],[0,1,2,3,4,200],right=False)\n",
    "df_train['pay_count_group'].value_counts().plot.bar(figsize=(16,5));"
   ]
  },
  {
   "cell_type": "markdown",
   "metadata": {},
   "source": [
    "选取变量描述"
   ]
  },
  {
   "cell_type": "code",
   "execution_count": 13,
   "metadata": {
    "nbpresent": {
     "id": "b896e8e6-433a-47c6-a4b8-1e97f49bd19f"
    }
   },
   "outputs": [
    {
     "data": {
      "text/plain": [
       "cat\n",
       "avg            1\n",
       "bd            16\n",
       "building       2\n",
       "cavalry        2\n",
       "general        2\n",
       "infantry       2\n",
       "ivory          2\n",
       "magic          2\n",
       "meat           2\n",
       "pay            2\n",
       "prediction     1\n",
       "pve            3\n",
       "pvp            3\n",
       "reaserch       2\n",
       "register       1\n",
       "shaman         2\n",
       "sr            49\n",
       "stone          2\n",
       "training       2\n",
       "treatment      2\n",
       "user           1\n",
       "wood           2\n",
       "wound          6\n",
       "Name: column, dtype: int64"
      ]
     },
     "execution_count": 13,
     "metadata": {},
     "output_type": "execute_result"
    }
   ],
   "source": [
    "df_variable = pd.read_excel('data/tap4fun.xlsx',sheet_name='Sheet1')\n",
    "df_variable = df_variable.iloc[:,range(3)].rename(columns={'字段名':'column','字段解释':'desc','数据时间':'cycle'})\n",
    "df_variable['cat'] = df_variable.column.str.split('_').apply(lambda x: x[0])\n",
    "\n",
    "# df_variable['cat_desc'] = df_variable.desc.str.split('：')#.apply(lambda x:x[0])\n",
    "df_variable.groupby('cat')['column'].count()\n"
   ]
  },
  {
   "cell_type": "markdown",
   "metadata": {},
   "source": [
    "按变量类别查看数据"
   ]
  },
  {
   "cell_type": "code",
   "execution_count": 14,
   "metadata": {},
   "outputs": [
    {
     "data": {
      "text/html": [
       "<div>\n",
       "<style scoped>\n",
       "    .dataframe tbody tr th:only-of-type {\n",
       "        vertical-align: middle;\n",
       "    }\n",
       "\n",
       "    .dataframe tbody tr th {\n",
       "        vertical-align: top;\n",
       "    }\n",
       "\n",
       "    .dataframe thead th {\n",
       "        text-align: right;\n",
       "    }\n",
       "</style>\n",
       "<table border=\"1\" class=\"dataframe\">\n",
       "  <thead>\n",
       "    <tr style=\"text-align: right;\">\n",
       "      <th></th>\n",
       "      <th>count</th>\n",
       "      <th>mean</th>\n",
       "      <th>std</th>\n",
       "      <th>min</th>\n",
       "      <th>25%</th>\n",
       "      <th>50%</th>\n",
       "      <th>75%</th>\n",
       "      <th>max</th>\n",
       "    </tr>\n",
       "  </thead>\n",
       "  <tbody>\n",
       "    <tr>\n",
       "      <th>sr_scout_level</th>\n",
       "      <td>228801.0</td>\n",
       "      <td>0.331572</td>\n",
       "      <td>0.738572</td>\n",
       "      <td>0.0</td>\n",
       "      <td>0.0</td>\n",
       "      <td>0.0</td>\n",
       "      <td>0.0</td>\n",
       "      <td>7.0</td>\n",
       "    </tr>\n",
       "    <tr>\n",
       "      <th>sr_training_speed_level</th>\n",
       "      <td>228801.0</td>\n",
       "      <td>0.300405</td>\n",
       "      <td>0.985558</td>\n",
       "      <td>0.0</td>\n",
       "      <td>0.0</td>\n",
       "      <td>0.0</td>\n",
       "      <td>0.0</td>\n",
       "      <td>16.0</td>\n",
       "    </tr>\n",
       "    <tr>\n",
       "      <th>sr_infantry_tier_2_level</th>\n",
       "      <td>228801.0</td>\n",
       "      <td>0.024196</td>\n",
       "      <td>0.153657</td>\n",
       "      <td>0.0</td>\n",
       "      <td>0.0</td>\n",
       "      <td>0.0</td>\n",
       "      <td>0.0</td>\n",
       "      <td>1.0</td>\n",
       "    </tr>\n",
       "    <tr>\n",
       "      <th>sr_cavalry_tier_2_level</th>\n",
       "      <td>228801.0</td>\n",
       "      <td>0.023121</td>\n",
       "      <td>0.150287</td>\n",
       "      <td>0.0</td>\n",
       "      <td>0.0</td>\n",
       "      <td>0.0</td>\n",
       "      <td>0.0</td>\n",
       "      <td>1.0</td>\n",
       "    </tr>\n",
       "    <tr>\n",
       "      <th>sr_shaman_tier_2_level</th>\n",
       "      <td>228801.0</td>\n",
       "      <td>0.019891</td>\n",
       "      <td>0.139625</td>\n",
       "      <td>0.0</td>\n",
       "      <td>0.0</td>\n",
       "      <td>0.0</td>\n",
       "      <td>0.0</td>\n",
       "      <td>1.0</td>\n",
       "    </tr>\n",
       "    <tr>\n",
       "      <th>sr_infantry_atk_level</th>\n",
       "      <td>228801.0</td>\n",
       "      <td>0.023982</td>\n",
       "      <td>0.252950</td>\n",
       "      <td>0.0</td>\n",
       "      <td>0.0</td>\n",
       "      <td>0.0</td>\n",
       "      <td>0.0</td>\n",
       "      <td>9.0</td>\n",
       "    </tr>\n",
       "    <tr>\n",
       "      <th>sr_cavalry_atk_level</th>\n",
       "      <td>228801.0</td>\n",
       "      <td>0.022447</td>\n",
       "      <td>0.245027</td>\n",
       "      <td>0.0</td>\n",
       "      <td>0.0</td>\n",
       "      <td>0.0</td>\n",
       "      <td>0.0</td>\n",
       "      <td>8.0</td>\n",
       "    </tr>\n",
       "    <tr>\n",
       "      <th>sr_shaman_atk_level</th>\n",
       "      <td>228801.0</td>\n",
       "      <td>0.018260</td>\n",
       "      <td>0.221621</td>\n",
       "      <td>0.0</td>\n",
       "      <td>0.0</td>\n",
       "      <td>0.0</td>\n",
       "      <td>0.0</td>\n",
       "      <td>9.0</td>\n",
       "    </tr>\n",
       "    <tr>\n",
       "      <th>sr_infantry_tier_3_level</th>\n",
       "      <td>228801.0</td>\n",
       "      <td>0.000227</td>\n",
       "      <td>0.015074</td>\n",
       "      <td>0.0</td>\n",
       "      <td>0.0</td>\n",
       "      <td>0.0</td>\n",
       "      <td>0.0</td>\n",
       "      <td>1.0</td>\n",
       "    </tr>\n",
       "    <tr>\n",
       "      <th>sr_cavalry_tier_3_level</th>\n",
       "      <td>228801.0</td>\n",
       "      <td>0.000214</td>\n",
       "      <td>0.014633</td>\n",
       "      <td>0.0</td>\n",
       "      <td>0.0</td>\n",
       "      <td>0.0</td>\n",
       "      <td>0.0</td>\n",
       "      <td>1.0</td>\n",
       "    </tr>\n",
       "    <tr>\n",
       "      <th>sr_shaman_tier_3_level</th>\n",
       "      <td>228801.0</td>\n",
       "      <td>0.000192</td>\n",
       "      <td>0.013866</td>\n",
       "      <td>0.0</td>\n",
       "      <td>0.0</td>\n",
       "      <td>0.0</td>\n",
       "      <td>0.0</td>\n",
       "      <td>1.0</td>\n",
       "    </tr>\n",
       "    <tr>\n",
       "      <th>sr_troop_defense_level</th>\n",
       "      <td>228801.0</td>\n",
       "      <td>0.000498</td>\n",
       "      <td>0.055782</td>\n",
       "      <td>0.0</td>\n",
       "      <td>0.0</td>\n",
       "      <td>0.0</td>\n",
       "      <td>0.0</td>\n",
       "      <td>11.0</td>\n",
       "    </tr>\n",
       "    <tr>\n",
       "      <th>sr_infantry_def_level</th>\n",
       "      <td>228801.0</td>\n",
       "      <td>0.000310</td>\n",
       "      <td>0.042071</td>\n",
       "      <td>0.0</td>\n",
       "      <td>0.0</td>\n",
       "      <td>0.0</td>\n",
       "      <td>0.0</td>\n",
       "      <td>11.0</td>\n",
       "    </tr>\n",
       "    <tr>\n",
       "      <th>sr_cavalry_def_level</th>\n",
       "      <td>228801.0</td>\n",
       "      <td>0.000341</td>\n",
       "      <td>0.049648</td>\n",
       "      <td>0.0</td>\n",
       "      <td>0.0</td>\n",
       "      <td>0.0</td>\n",
       "      <td>0.0</td>\n",
       "      <td>11.0</td>\n",
       "    </tr>\n",
       "    <tr>\n",
       "      <th>sr_shaman_def_level</th>\n",
       "      <td>228801.0</td>\n",
       "      <td>0.000267</td>\n",
       "      <td>0.038377</td>\n",
       "      <td>0.0</td>\n",
       "      <td>0.0</td>\n",
       "      <td>0.0</td>\n",
       "      <td>0.0</td>\n",
       "      <td>10.0</td>\n",
       "    </tr>\n",
       "    <tr>\n",
       "      <th>sr_infantry_hp_level</th>\n",
       "      <td>228801.0</td>\n",
       "      <td>0.000538</td>\n",
       "      <td>0.061342</td>\n",
       "      <td>0.0</td>\n",
       "      <td>0.0</td>\n",
       "      <td>0.0</td>\n",
       "      <td>0.0</td>\n",
       "      <td>11.0</td>\n",
       "    </tr>\n",
       "    <tr>\n",
       "      <th>sr_cavalry_hp_level</th>\n",
       "      <td>228801.0</td>\n",
       "      <td>0.000459</td>\n",
       "      <td>0.056212</td>\n",
       "      <td>0.0</td>\n",
       "      <td>0.0</td>\n",
       "      <td>0.0</td>\n",
       "      <td>0.0</td>\n",
       "      <td>11.0</td>\n",
       "    </tr>\n",
       "    <tr>\n",
       "      <th>sr_shaman_hp_level</th>\n",
       "      <td>228801.0</td>\n",
       "      <td>0.000363</td>\n",
       "      <td>0.050304</td>\n",
       "      <td>0.0</td>\n",
       "      <td>0.0</td>\n",
       "      <td>0.0</td>\n",
       "      <td>0.0</td>\n",
       "      <td>11.0</td>\n",
       "    </tr>\n",
       "    <tr>\n",
       "      <th>sr_infantry_tier_4_level</th>\n",
       "      <td>228801.0</td>\n",
       "      <td>0.000009</td>\n",
       "      <td>0.002957</td>\n",
       "      <td>0.0</td>\n",
       "      <td>0.0</td>\n",
       "      <td>0.0</td>\n",
       "      <td>0.0</td>\n",
       "      <td>1.0</td>\n",
       "    </tr>\n",
       "    <tr>\n",
       "      <th>sr_cavalry_tier_4_level</th>\n",
       "      <td>228801.0</td>\n",
       "      <td>0.000022</td>\n",
       "      <td>0.004675</td>\n",
       "      <td>0.0</td>\n",
       "      <td>0.0</td>\n",
       "      <td>0.0</td>\n",
       "      <td>0.0</td>\n",
       "      <td>1.0</td>\n",
       "    </tr>\n",
       "    <tr>\n",
       "      <th>sr_shaman_tier_4_level</th>\n",
       "      <td>228801.0</td>\n",
       "      <td>0.000013</td>\n",
       "      <td>0.003621</td>\n",
       "      <td>0.0</td>\n",
       "      <td>0.0</td>\n",
       "      <td>0.0</td>\n",
       "      <td>0.0</td>\n",
       "      <td>1.0</td>\n",
       "    </tr>\n",
       "    <tr>\n",
       "      <th>sr_troop_attack_level</th>\n",
       "      <td>228801.0</td>\n",
       "      <td>0.000004</td>\n",
       "      <td>0.002091</td>\n",
       "      <td>0.0</td>\n",
       "      <td>0.0</td>\n",
       "      <td>0.0</td>\n",
       "      <td>0.0</td>\n",
       "      <td>1.0</td>\n",
       "    </tr>\n",
       "    <tr>\n",
       "      <th>sr_construction_speed_level</th>\n",
       "      <td>228801.0</td>\n",
       "      <td>0.122438</td>\n",
       "      <td>0.592391</td>\n",
       "      <td>0.0</td>\n",
       "      <td>0.0</td>\n",
       "      <td>0.0</td>\n",
       "      <td>0.0</td>\n",
       "      <td>15.0</td>\n",
       "    </tr>\n",
       "    <tr>\n",
       "      <th>sr_hide_storage_level</th>\n",
       "      <td>228801.0</td>\n",
       "      <td>0.034786</td>\n",
       "      <td>0.265796</td>\n",
       "      <td>0.0</td>\n",
       "      <td>0.0</td>\n",
       "      <td>0.0</td>\n",
       "      <td>0.0</td>\n",
       "      <td>8.0</td>\n",
       "    </tr>\n",
       "    <tr>\n",
       "      <th>sr_troop_consumption_level</th>\n",
       "      <td>228801.0</td>\n",
       "      <td>0.032902</td>\n",
       "      <td>0.269731</td>\n",
       "      <td>0.0</td>\n",
       "      <td>0.0</td>\n",
       "      <td>0.0</td>\n",
       "      <td>0.0</td>\n",
       "      <td>10.0</td>\n",
       "    </tr>\n",
       "    <tr>\n",
       "      <th>sr_rss_a_prod_level</th>\n",
       "      <td>0.0</td>\n",
       "      <td>NaN</td>\n",
       "      <td>NaN</td>\n",
       "      <td>NaN</td>\n",
       "      <td>NaN</td>\n",
       "      <td>NaN</td>\n",
       "      <td>NaN</td>\n",
       "      <td>NaN</td>\n",
       "    </tr>\n",
       "    <tr>\n",
       "      <th>sr_rss_b_prod_level</th>\n",
       "      <td>228801.0</td>\n",
       "      <td>0.002461</td>\n",
       "      <td>0.072288</td>\n",
       "      <td>0.0</td>\n",
       "      <td>0.0</td>\n",
       "      <td>0.0</td>\n",
       "      <td>0.0</td>\n",
       "      <td>9.0</td>\n",
       "    </tr>\n",
       "    <tr>\n",
       "      <th>sr_rss_c_prod_level</th>\n",
       "      <td>228801.0</td>\n",
       "      <td>0.000511</td>\n",
       "      <td>0.032852</td>\n",
       "      <td>0.0</td>\n",
       "      <td>0.0</td>\n",
       "      <td>0.0</td>\n",
       "      <td>0.0</td>\n",
       "      <td>8.0</td>\n",
       "    </tr>\n",
       "    <tr>\n",
       "      <th>sr_rss_d_prod_level</th>\n",
       "      <td>228801.0</td>\n",
       "      <td>0.043064</td>\n",
       "      <td>0.314709</td>\n",
       "      <td>0.0</td>\n",
       "      <td>0.0</td>\n",
       "      <td>0.0</td>\n",
       "      <td>0.0</td>\n",
       "      <td>9.0</td>\n",
       "    </tr>\n",
       "    <tr>\n",
       "      <th>sr_rss_a_gather_level</th>\n",
       "      <td>228801.0</td>\n",
       "      <td>0.021508</td>\n",
       "      <td>0.229921</td>\n",
       "      <td>0.0</td>\n",
       "      <td>0.0</td>\n",
       "      <td>0.0</td>\n",
       "      <td>0.0</td>\n",
       "      <td>7.0</td>\n",
       "    </tr>\n",
       "    <tr>\n",
       "      <th>sr_rss_b_gather_level</th>\n",
       "      <td>228801.0</td>\n",
       "      <td>0.001508</td>\n",
       "      <td>0.054775</td>\n",
       "      <td>0.0</td>\n",
       "      <td>0.0</td>\n",
       "      <td>0.0</td>\n",
       "      <td>0.0</td>\n",
       "      <td>5.0</td>\n",
       "    </tr>\n",
       "    <tr>\n",
       "      <th>sr_rss_c_gather_level</th>\n",
       "      <td>228801.0</td>\n",
       "      <td>0.000337</td>\n",
       "      <td>0.023183</td>\n",
       "      <td>0.0</td>\n",
       "      <td>0.0</td>\n",
       "      <td>0.0</td>\n",
       "      <td>0.0</td>\n",
       "      <td>4.0</td>\n",
       "    </tr>\n",
       "    <tr>\n",
       "      <th>sr_rss_d_gather_level</th>\n",
       "      <td>228801.0</td>\n",
       "      <td>0.017666</td>\n",
       "      <td>0.191408</td>\n",
       "      <td>0.0</td>\n",
       "      <td>0.0</td>\n",
       "      <td>0.0</td>\n",
       "      <td>0.0</td>\n",
       "      <td>8.0</td>\n",
       "    </tr>\n",
       "    <tr>\n",
       "      <th>sr_troop_load_level</th>\n",
       "      <td>228801.0</td>\n",
       "      <td>0.028776</td>\n",
       "      <td>0.304601</td>\n",
       "      <td>0.0</td>\n",
       "      <td>0.0</td>\n",
       "      <td>0.0</td>\n",
       "      <td>0.0</td>\n",
       "      <td>8.0</td>\n",
       "    </tr>\n",
       "    <tr>\n",
       "      <th>sr_rss_e_gather_level</th>\n",
       "      <td>228801.0</td>\n",
       "      <td>0.001705</td>\n",
       "      <td>0.054329</td>\n",
       "      <td>0.0</td>\n",
       "      <td>0.0</td>\n",
       "      <td>0.0</td>\n",
       "      <td>0.0</td>\n",
       "      <td>5.0</td>\n",
       "    </tr>\n",
       "    <tr>\n",
       "      <th>sr_rss_e_prod_level</th>\n",
       "      <td>228801.0</td>\n",
       "      <td>0.007552</td>\n",
       "      <td>0.136338</td>\n",
       "      <td>0.0</td>\n",
       "      <td>0.0</td>\n",
       "      <td>0.0</td>\n",
       "      <td>0.0</td>\n",
       "      <td>8.0</td>\n",
       "    </tr>\n",
       "    <tr>\n",
       "      <th>sr_outpost_durability_level</th>\n",
       "      <td>228801.0</td>\n",
       "      <td>0.111315</td>\n",
       "      <td>0.483413</td>\n",
       "      <td>0.0</td>\n",
       "      <td>0.0</td>\n",
       "      <td>0.0</td>\n",
       "      <td>0.0</td>\n",
       "      <td>7.0</td>\n",
       "    </tr>\n",
       "    <tr>\n",
       "      <th>sr_outpost_tier_2_level</th>\n",
       "      <td>228801.0</td>\n",
       "      <td>0.044738</td>\n",
       "      <td>0.206728</td>\n",
       "      <td>0.0</td>\n",
       "      <td>0.0</td>\n",
       "      <td>0.0</td>\n",
       "      <td>0.0</td>\n",
       "      <td>1.0</td>\n",
       "    </tr>\n",
       "    <tr>\n",
       "      <th>sr_healing_space_level</th>\n",
       "      <td>228801.0</td>\n",
       "      <td>0.028466</td>\n",
       "      <td>0.234927</td>\n",
       "      <td>0.0</td>\n",
       "      <td>0.0</td>\n",
       "      <td>0.0</td>\n",
       "      <td>0.0</td>\n",
       "      <td>7.0</td>\n",
       "    </tr>\n",
       "    <tr>\n",
       "      <th>sr_gathering_hunter_buff_level</th>\n",
       "      <td>228801.0</td>\n",
       "      <td>0.034003</td>\n",
       "      <td>0.249593</td>\n",
       "      <td>0.0</td>\n",
       "      <td>0.0</td>\n",
       "      <td>0.0</td>\n",
       "      <td>0.0</td>\n",
       "      <td>5.0</td>\n",
       "    </tr>\n",
       "    <tr>\n",
       "      <th>sr_healing_speed_level</th>\n",
       "      <td>228801.0</td>\n",
       "      <td>0.021871</td>\n",
       "      <td>0.199809</td>\n",
       "      <td>0.0</td>\n",
       "      <td>0.0</td>\n",
       "      <td>0.0</td>\n",
       "      <td>0.0</td>\n",
       "      <td>5.0</td>\n",
       "    </tr>\n",
       "    <tr>\n",
       "      <th>sr_outpost_tier_3_level</th>\n",
       "      <td>228801.0</td>\n",
       "      <td>0.000835</td>\n",
       "      <td>0.028881</td>\n",
       "      <td>0.0</td>\n",
       "      <td>0.0</td>\n",
       "      <td>0.0</td>\n",
       "      <td>0.0</td>\n",
       "      <td>1.0</td>\n",
       "    </tr>\n",
       "    <tr>\n",
       "      <th>sr_alliance_march_speed_level</th>\n",
       "      <td>228801.0</td>\n",
       "      <td>0.000358</td>\n",
       "      <td>0.039665</td>\n",
       "      <td>0.0</td>\n",
       "      <td>0.0</td>\n",
       "      <td>0.0</td>\n",
       "      <td>0.0</td>\n",
       "      <td>9.0</td>\n",
       "    </tr>\n",
       "    <tr>\n",
       "      <th>sr_pvp_march_speed_level</th>\n",
       "      <td>228801.0</td>\n",
       "      <td>0.000712</td>\n",
       "      <td>0.056981</td>\n",
       "      <td>0.0</td>\n",
       "      <td>0.0</td>\n",
       "      <td>0.0</td>\n",
       "      <td>0.0</td>\n",
       "      <td>10.0</td>\n",
       "    </tr>\n",
       "    <tr>\n",
       "      <th>sr_gathering_march_speed_level</th>\n",
       "      <td>228801.0</td>\n",
       "      <td>0.000507</td>\n",
       "      <td>0.042121</td>\n",
       "      <td>0.0</td>\n",
       "      <td>0.0</td>\n",
       "      <td>0.0</td>\n",
       "      <td>0.0</td>\n",
       "      <td>9.0</td>\n",
       "    </tr>\n",
       "    <tr>\n",
       "      <th>sr_outpost_tier_4_level</th>\n",
       "      <td>228801.0</td>\n",
       "      <td>0.000013</td>\n",
       "      <td>0.003621</td>\n",
       "      <td>0.0</td>\n",
       "      <td>0.0</td>\n",
       "      <td>0.0</td>\n",
       "      <td>0.0</td>\n",
       "      <td>1.0</td>\n",
       "    </tr>\n",
       "    <tr>\n",
       "      <th>sr_guest_troop_capacity_level</th>\n",
       "      <td>228801.0</td>\n",
       "      <td>0.000004</td>\n",
       "      <td>0.002091</td>\n",
       "      <td>0.0</td>\n",
       "      <td>0.0</td>\n",
       "      <td>0.0</td>\n",
       "      <td>0.0</td>\n",
       "      <td>1.0</td>\n",
       "    </tr>\n",
       "    <tr>\n",
       "      <th>sr_march_size_level</th>\n",
       "      <td>228801.0</td>\n",
       "      <td>0.000031</td>\n",
       "      <td>0.011258</td>\n",
       "      <td>0.0</td>\n",
       "      <td>0.0</td>\n",
       "      <td>0.0</td>\n",
       "      <td>0.0</td>\n",
       "      <td>5.0</td>\n",
       "    </tr>\n",
       "    <tr>\n",
       "      <th>sr_rss_help_bonus_level</th>\n",
       "      <td>228801.0</td>\n",
       "      <td>0.000035</td>\n",
       "      <td>0.016725</td>\n",
       "      <td>0.0</td>\n",
       "      <td>0.0</td>\n",
       "      <td>0.0</td>\n",
       "      <td>0.0</td>\n",
       "      <td>8.0</td>\n",
       "    </tr>\n",
       "  </tbody>\n",
       "</table>\n",
       "</div>"
      ],
      "text/plain": [
       "                                   count      mean       std  min  25%  50%  \\\n",
       "sr_scout_level                  228801.0  0.331572  0.738572  0.0  0.0  0.0   \n",
       "sr_training_speed_level         228801.0  0.300405  0.985558  0.0  0.0  0.0   \n",
       "sr_infantry_tier_2_level        228801.0  0.024196  0.153657  0.0  0.0  0.0   \n",
       "sr_cavalry_tier_2_level         228801.0  0.023121  0.150287  0.0  0.0  0.0   \n",
       "sr_shaman_tier_2_level          228801.0  0.019891  0.139625  0.0  0.0  0.0   \n",
       "sr_infantry_atk_level           228801.0  0.023982  0.252950  0.0  0.0  0.0   \n",
       "sr_cavalry_atk_level            228801.0  0.022447  0.245027  0.0  0.0  0.0   \n",
       "sr_shaman_atk_level             228801.0  0.018260  0.221621  0.0  0.0  0.0   \n",
       "sr_infantry_tier_3_level        228801.0  0.000227  0.015074  0.0  0.0  0.0   \n",
       "sr_cavalry_tier_3_level         228801.0  0.000214  0.014633  0.0  0.0  0.0   \n",
       "sr_shaman_tier_3_level          228801.0  0.000192  0.013866  0.0  0.0  0.0   \n",
       "sr_troop_defense_level          228801.0  0.000498  0.055782  0.0  0.0  0.0   \n",
       "sr_infantry_def_level           228801.0  0.000310  0.042071  0.0  0.0  0.0   \n",
       "sr_cavalry_def_level            228801.0  0.000341  0.049648  0.0  0.0  0.0   \n",
       "sr_shaman_def_level             228801.0  0.000267  0.038377  0.0  0.0  0.0   \n",
       "sr_infantry_hp_level            228801.0  0.000538  0.061342  0.0  0.0  0.0   \n",
       "sr_cavalry_hp_level             228801.0  0.000459  0.056212  0.0  0.0  0.0   \n",
       "sr_shaman_hp_level              228801.0  0.000363  0.050304  0.0  0.0  0.0   \n",
       "sr_infantry_tier_4_level        228801.0  0.000009  0.002957  0.0  0.0  0.0   \n",
       "sr_cavalry_tier_4_level         228801.0  0.000022  0.004675  0.0  0.0  0.0   \n",
       "sr_shaman_tier_4_level          228801.0  0.000013  0.003621  0.0  0.0  0.0   \n",
       "sr_troop_attack_level           228801.0  0.000004  0.002091  0.0  0.0  0.0   \n",
       "sr_construction_speed_level     228801.0  0.122438  0.592391  0.0  0.0  0.0   \n",
       "sr_hide_storage_level           228801.0  0.034786  0.265796  0.0  0.0  0.0   \n",
       "sr_troop_consumption_level      228801.0  0.032902  0.269731  0.0  0.0  0.0   \n",
       "sr_rss_a_prod_level                  0.0       NaN       NaN  NaN  NaN  NaN   \n",
       "sr_rss_b_prod_level             228801.0  0.002461  0.072288  0.0  0.0  0.0   \n",
       "sr_rss_c_prod_level             228801.0  0.000511  0.032852  0.0  0.0  0.0   \n",
       "sr_rss_d_prod_level             228801.0  0.043064  0.314709  0.0  0.0  0.0   \n",
       "sr_rss_a_gather_level           228801.0  0.021508  0.229921  0.0  0.0  0.0   \n",
       "sr_rss_b_gather_level           228801.0  0.001508  0.054775  0.0  0.0  0.0   \n",
       "sr_rss_c_gather_level           228801.0  0.000337  0.023183  0.0  0.0  0.0   \n",
       "sr_rss_d_gather_level           228801.0  0.017666  0.191408  0.0  0.0  0.0   \n",
       "sr_troop_load_level             228801.0  0.028776  0.304601  0.0  0.0  0.0   \n",
       "sr_rss_e_gather_level           228801.0  0.001705  0.054329  0.0  0.0  0.0   \n",
       "sr_rss_e_prod_level             228801.0  0.007552  0.136338  0.0  0.0  0.0   \n",
       "sr_outpost_durability_level     228801.0  0.111315  0.483413  0.0  0.0  0.0   \n",
       "sr_outpost_tier_2_level         228801.0  0.044738  0.206728  0.0  0.0  0.0   \n",
       "sr_healing_space_level          228801.0  0.028466  0.234927  0.0  0.0  0.0   \n",
       "sr_gathering_hunter_buff_level  228801.0  0.034003  0.249593  0.0  0.0  0.0   \n",
       "sr_healing_speed_level          228801.0  0.021871  0.199809  0.0  0.0  0.0   \n",
       "sr_outpost_tier_3_level         228801.0  0.000835  0.028881  0.0  0.0  0.0   \n",
       "sr_alliance_march_speed_level   228801.0  0.000358  0.039665  0.0  0.0  0.0   \n",
       "sr_pvp_march_speed_level        228801.0  0.000712  0.056981  0.0  0.0  0.0   \n",
       "sr_gathering_march_speed_level  228801.0  0.000507  0.042121  0.0  0.0  0.0   \n",
       "sr_outpost_tier_4_level         228801.0  0.000013  0.003621  0.0  0.0  0.0   \n",
       "sr_guest_troop_capacity_level   228801.0  0.000004  0.002091  0.0  0.0  0.0   \n",
       "sr_march_size_level             228801.0  0.000031  0.011258  0.0  0.0  0.0   \n",
       "sr_rss_help_bonus_level         228801.0  0.000035  0.016725  0.0  0.0  0.0   \n",
       "\n",
       "                                75%   max  \n",
       "sr_scout_level                  0.0   7.0  \n",
       "sr_training_speed_level         0.0  16.0  \n",
       "sr_infantry_tier_2_level        0.0   1.0  \n",
       "sr_cavalry_tier_2_level         0.0   1.0  \n",
       "sr_shaman_tier_2_level          0.0   1.0  \n",
       "sr_infantry_atk_level           0.0   9.0  \n",
       "sr_cavalry_atk_level            0.0   8.0  \n",
       "sr_shaman_atk_level             0.0   9.0  \n",
       "sr_infantry_tier_3_level        0.0   1.0  \n",
       "sr_cavalry_tier_3_level         0.0   1.0  \n",
       "sr_shaman_tier_3_level          0.0   1.0  \n",
       "sr_troop_defense_level          0.0  11.0  \n",
       "sr_infantry_def_level           0.0  11.0  \n",
       "sr_cavalry_def_level            0.0  11.0  \n",
       "sr_shaman_def_level             0.0  10.0  \n",
       "sr_infantry_hp_level            0.0  11.0  \n",
       "sr_cavalry_hp_level             0.0  11.0  \n",
       "sr_shaman_hp_level              0.0  11.0  \n",
       "sr_infantry_tier_4_level        0.0   1.0  \n",
       "sr_cavalry_tier_4_level         0.0   1.0  \n",
       "sr_shaman_tier_4_level          0.0   1.0  \n",
       "sr_troop_attack_level           0.0   1.0  \n",
       "sr_construction_speed_level     0.0  15.0  \n",
       "sr_hide_storage_level           0.0   8.0  \n",
       "sr_troop_consumption_level      0.0  10.0  \n",
       "sr_rss_a_prod_level             NaN   NaN  \n",
       "sr_rss_b_prod_level             0.0   9.0  \n",
       "sr_rss_c_prod_level             0.0   8.0  \n",
       "sr_rss_d_prod_level             0.0   9.0  \n",
       "sr_rss_a_gather_level           0.0   7.0  \n",
       "sr_rss_b_gather_level           0.0   5.0  \n",
       "sr_rss_c_gather_level           0.0   4.0  \n",
       "sr_rss_d_gather_level           0.0   8.0  \n",
       "sr_troop_load_level             0.0   8.0  \n",
       "sr_rss_e_gather_level           0.0   5.0  \n",
       "sr_rss_e_prod_level             0.0   8.0  \n",
       "sr_outpost_durability_level     0.0   7.0  \n",
       "sr_outpost_tier_2_level         0.0   1.0  \n",
       "sr_healing_space_level          0.0   7.0  \n",
       "sr_gathering_hunter_buff_level  0.0   5.0  \n",
       "sr_healing_speed_level          0.0   5.0  \n",
       "sr_outpost_tier_3_level         0.0   1.0  \n",
       "sr_alliance_march_speed_level   0.0   9.0  \n",
       "sr_pvp_march_speed_level        0.0  10.0  \n",
       "sr_gathering_march_speed_level  0.0   9.0  \n",
       "sr_outpost_tier_4_level         0.0   1.0  \n",
       "sr_guest_troop_capacity_level   0.0   1.0  \n",
       "sr_march_size_level             0.0   5.0  \n",
       "sr_rss_help_bonus_level         0.0   8.0  "
      ]
     },
     "execution_count": 14,
     "metadata": {},
     "output_type": "execute_result"
    }
   ],
   "source": [
    "from toolz.curried import pipe, map, filter, get\n",
    "import warnings\n",
    "warnings.filterwarnings('ignore')\n",
    "sr_var = list(df_variable[df_variable.cat=='sr'].column.values)\n",
    "df_srdesc = df_train.loc[:,sr_var].sample(frac=.1).describe().transpose()\n",
    "df_srdesc"
   ]
  },
  {
   "cell_type": "markdown",
   "metadata": {},
   "source": [
    "数据文件里少一列sr_rss_a_prod_le"
   ]
  },
  {
   "cell_type": "code",
   "execution_count": 15,
   "metadata": {
    "collapsed": true
   },
   "outputs": [],
   "source": [
    "df_srdesc = df_srdesc.drop('sr_rss_a_prod_level', axis=0)\n"
   ]
  },
  {
   "cell_type": "markdown",
   "metadata": {},
   "source": [
    "合并SR变量组"
   ]
  },
  {
   "cell_type": "code",
   "execution_count": 16,
   "metadata": {
    "collapsed": true,
    "scrolled": false
   },
   "outputs": [],
   "source": [
    "# df_train[df_train.sr_cavalry_def_level>1]\n",
    "# df_train['sr_level_score']= df_train.apply(lambda x: x[df_srdesc[df_srdesc['max']==1].index].sum())\n",
    "cols_sr_level = df_srdesc[df_srdesc['max']==1].index\n",
    "cols_sr_main = df_srdesc[df_srdesc['max']>1].index\n",
    "\n",
    "df_train['sr_level_score'] = df_train.filter(cols_sr_level).sum(axis=1)\n",
    "df_train['sr_main_score']=df_train.filter(cols_sr_main).mean(axis=1)"
   ]
  },
  {
   "cell_type": "code",
   "execution_count": 17,
   "metadata": {},
   "outputs": [
    {
     "data": {
      "text/plain": [
       "count    2.288007e+06\n",
       "mean     1.126059e-01\n",
       "std      5.821053e-01\n",
       "min      0.000000e+00\n",
       "25%      0.000000e+00\n",
       "50%      0.000000e+00\n",
       "75%      0.000000e+00\n",
       "max      2.400000e+01\n",
       "Name: sr_level_score, dtype: float64"
      ]
     },
     "execution_count": 17,
     "metadata": {},
     "output_type": "execute_result"
    }
   ],
   "source": [
    "df_trans =  df_train.drop(df_srdesc.index, axis=1)\n",
    "\n",
    "\n",
    "df_train['sr_level_score'].describe()"
   ]
  },
  {
   "cell_type": "code",
   "execution_count": 18,
   "metadata": {},
   "outputs": [
    {
     "name": "stdout",
     "output_type": "stream",
     "text": [
      "column# has reduced to 68\n"
     ]
    }
   ],
   "source": [
    "print('column# has reduced to %d'%df_trans.shape[1])"
   ]
  },
  {
   "cell_type": "markdown",
   "metadata": {},
   "source": [
    "整理bd变量组"
   ]
  },
  {
   "cell_type": "code",
   "execution_count": 19,
   "metadata": {},
   "outputs": [
    {
     "data": {
      "text/html": [
       "<div>\n",
       "<style scoped>\n",
       "    .dataframe tbody tr th:only-of-type {\n",
       "        vertical-align: middle;\n",
       "    }\n",
       "\n",
       "    .dataframe tbody tr th {\n",
       "        vertical-align: top;\n",
       "    }\n",
       "\n",
       "    .dataframe thead th {\n",
       "        text-align: right;\n",
       "    }\n",
       "</style>\n",
       "<table border=\"1\" class=\"dataframe\">\n",
       "  <thead>\n",
       "    <tr style=\"text-align: right;\">\n",
       "      <th></th>\n",
       "      <th>count</th>\n",
       "      <th>mean</th>\n",
       "      <th>std</th>\n",
       "      <th>min</th>\n",
       "      <th>25%</th>\n",
       "      <th>50%</th>\n",
       "      <th>75%</th>\n",
       "      <th>max</th>\n",
       "    </tr>\n",
       "  </thead>\n",
       "  <tbody>\n",
       "    <tr>\n",
       "      <th>bd_training_hut_level</th>\n",
       "      <td>228801.0</td>\n",
       "      <td>1.302180</td>\n",
       "      <td>1.972679</td>\n",
       "      <td>0.0</td>\n",
       "      <td>0.0</td>\n",
       "      <td>0.0</td>\n",
       "      <td>2.0</td>\n",
       "      <td>19.0</td>\n",
       "    </tr>\n",
       "    <tr>\n",
       "      <th>bd_healing_lodge_level</th>\n",
       "      <td>228801.0</td>\n",
       "      <td>1.021796</td>\n",
       "      <td>1.807430</td>\n",
       "      <td>0.0</td>\n",
       "      <td>0.0</td>\n",
       "      <td>0.0</td>\n",
       "      <td>1.0</td>\n",
       "      <td>19.0</td>\n",
       "    </tr>\n",
       "    <tr>\n",
       "      <th>bd_stronghold_level</th>\n",
       "      <td>228801.0</td>\n",
       "      <td>2.085563</td>\n",
       "      <td>2.515235</td>\n",
       "      <td>0.0</td>\n",
       "      <td>0.0</td>\n",
       "      <td>1.0</td>\n",
       "      <td>4.0</td>\n",
       "      <td>21.0</td>\n",
       "    </tr>\n",
       "    <tr>\n",
       "      <th>bd_outpost_portal_level</th>\n",
       "      <td>228801.0</td>\n",
       "      <td>1.757418</td>\n",
       "      <td>2.355234</td>\n",
       "      <td>0.0</td>\n",
       "      <td>0.0</td>\n",
       "      <td>0.0</td>\n",
       "      <td>3.0</td>\n",
       "      <td>21.0</td>\n",
       "    </tr>\n",
       "    <tr>\n",
       "      <th>bd_barrack_level</th>\n",
       "      <td>228801.0</td>\n",
       "      <td>1.280300</td>\n",
       "      <td>2.030024</td>\n",
       "      <td>0.0</td>\n",
       "      <td>0.0</td>\n",
       "      <td>0.0</td>\n",
       "      <td>1.0</td>\n",
       "      <td>19.0</td>\n",
       "    </tr>\n",
       "    <tr>\n",
       "      <th>bd_healing_spring_level</th>\n",
       "      <td>228801.0</td>\n",
       "      <td>0.923519</td>\n",
       "      <td>1.901420</td>\n",
       "      <td>0.0</td>\n",
       "      <td>0.0</td>\n",
       "      <td>0.0</td>\n",
       "      <td>1.0</td>\n",
       "      <td>21.0</td>\n",
       "    </tr>\n",
       "    <tr>\n",
       "      <th>bd_dolmen_level</th>\n",
       "      <td>228801.0</td>\n",
       "      <td>0.962155</td>\n",
       "      <td>2.051561</td>\n",
       "      <td>0.0</td>\n",
       "      <td>0.0</td>\n",
       "      <td>0.0</td>\n",
       "      <td>1.0</td>\n",
       "      <td>20.0</td>\n",
       "    </tr>\n",
       "    <tr>\n",
       "      <th>bd_guest_cavern_level</th>\n",
       "      <td>228801.0</td>\n",
       "      <td>0.441148</td>\n",
       "      <td>1.625539</td>\n",
       "      <td>0.0</td>\n",
       "      <td>0.0</td>\n",
       "      <td>0.0</td>\n",
       "      <td>0.0</td>\n",
       "      <td>20.0</td>\n",
       "    </tr>\n",
       "    <tr>\n",
       "      <th>bd_warehouse_level</th>\n",
       "      <td>228801.0</td>\n",
       "      <td>0.930315</td>\n",
       "      <td>1.955561</td>\n",
       "      <td>0.0</td>\n",
       "      <td>0.0</td>\n",
       "      <td>0.0</td>\n",
       "      <td>1.0</td>\n",
       "      <td>20.0</td>\n",
       "    </tr>\n",
       "    <tr>\n",
       "      <th>bd_watchtower_level</th>\n",
       "      <td>228801.0</td>\n",
       "      <td>0.913663</td>\n",
       "      <td>1.888313</td>\n",
       "      <td>0.0</td>\n",
       "      <td>0.0</td>\n",
       "      <td>0.0</td>\n",
       "      <td>1.0</td>\n",
       "      <td>16.0</td>\n",
       "    </tr>\n",
       "    <tr>\n",
       "      <th>bd_magic_coin_tree_level</th>\n",
       "      <td>228801.0</td>\n",
       "      <td>1.141424</td>\n",
       "      <td>2.106278</td>\n",
       "      <td>0.0</td>\n",
       "      <td>0.0</td>\n",
       "      <td>0.0</td>\n",
       "      <td>1.0</td>\n",
       "      <td>19.0</td>\n",
       "    </tr>\n",
       "    <tr>\n",
       "      <th>bd_hall_of_war_level</th>\n",
       "      <td>228801.0</td>\n",
       "      <td>0.101014</td>\n",
       "      <td>0.438815</td>\n",
       "      <td>0.0</td>\n",
       "      <td>0.0</td>\n",
       "      <td>0.0</td>\n",
       "      <td>0.0</td>\n",
       "      <td>16.0</td>\n",
       "    </tr>\n",
       "    <tr>\n",
       "      <th>bd_market_level</th>\n",
       "      <td>228801.0</td>\n",
       "      <td>0.771063</td>\n",
       "      <td>1.824907</td>\n",
       "      <td>0.0</td>\n",
       "      <td>0.0</td>\n",
       "      <td>0.0</td>\n",
       "      <td>0.0</td>\n",
       "      <td>18.0</td>\n",
       "    </tr>\n",
       "    <tr>\n",
       "      <th>bd_hero_gacha_level</th>\n",
       "      <td>228801.0</td>\n",
       "      <td>0.199969</td>\n",
       "      <td>0.969860</td>\n",
       "      <td>0.0</td>\n",
       "      <td>0.0</td>\n",
       "      <td>0.0</td>\n",
       "      <td>0.0</td>\n",
       "      <td>14.0</td>\n",
       "    </tr>\n",
       "    <tr>\n",
       "      <th>bd_hero_strengthen_level</th>\n",
       "      <td>228801.0</td>\n",
       "      <td>0.179247</td>\n",
       "      <td>0.891360</td>\n",
       "      <td>0.0</td>\n",
       "      <td>0.0</td>\n",
       "      <td>0.0</td>\n",
       "      <td>0.0</td>\n",
       "      <td>14.0</td>\n",
       "    </tr>\n",
       "    <tr>\n",
       "      <th>bd_hero_pve_level</th>\n",
       "      <td>228801.0</td>\n",
       "      <td>0.291493</td>\n",
       "      <td>1.305427</td>\n",
       "      <td>0.0</td>\n",
       "      <td>0.0</td>\n",
       "      <td>0.0</td>\n",
       "      <td>0.0</td>\n",
       "      <td>18.0</td>\n",
       "    </tr>\n",
       "  </tbody>\n",
       "</table>\n",
       "</div>"
      ],
      "text/plain": [
       "                             count      mean       std  min  25%  50%  75%  \\\n",
       "bd_training_hut_level     228801.0  1.302180  1.972679  0.0  0.0  0.0  2.0   \n",
       "bd_healing_lodge_level    228801.0  1.021796  1.807430  0.0  0.0  0.0  1.0   \n",
       "bd_stronghold_level       228801.0  2.085563  2.515235  0.0  0.0  1.0  4.0   \n",
       "bd_outpost_portal_level   228801.0  1.757418  2.355234  0.0  0.0  0.0  3.0   \n",
       "bd_barrack_level          228801.0  1.280300  2.030024  0.0  0.0  0.0  1.0   \n",
       "bd_healing_spring_level   228801.0  0.923519  1.901420  0.0  0.0  0.0  1.0   \n",
       "bd_dolmen_level           228801.0  0.962155  2.051561  0.0  0.0  0.0  1.0   \n",
       "bd_guest_cavern_level     228801.0  0.441148  1.625539  0.0  0.0  0.0  0.0   \n",
       "bd_warehouse_level        228801.0  0.930315  1.955561  0.0  0.0  0.0  1.0   \n",
       "bd_watchtower_level       228801.0  0.913663  1.888313  0.0  0.0  0.0  1.0   \n",
       "bd_magic_coin_tree_level  228801.0  1.141424  2.106278  0.0  0.0  0.0  1.0   \n",
       "bd_hall_of_war_level      228801.0  0.101014  0.438815  0.0  0.0  0.0  0.0   \n",
       "bd_market_level           228801.0  0.771063  1.824907  0.0  0.0  0.0  0.0   \n",
       "bd_hero_gacha_level       228801.0  0.199969  0.969860  0.0  0.0  0.0  0.0   \n",
       "bd_hero_strengthen_level  228801.0  0.179247  0.891360  0.0  0.0  0.0  0.0   \n",
       "bd_hero_pve_level         228801.0  0.291493  1.305427  0.0  0.0  0.0  0.0   \n",
       "\n",
       "                           max  \n",
       "bd_training_hut_level     19.0  \n",
       "bd_healing_lodge_level    19.0  \n",
       "bd_stronghold_level       21.0  \n",
       "bd_outpost_portal_level   21.0  \n",
       "bd_barrack_level          19.0  \n",
       "bd_healing_spring_level   21.0  \n",
       "bd_dolmen_level           20.0  \n",
       "bd_guest_cavern_level     20.0  \n",
       "bd_warehouse_level        20.0  \n",
       "bd_watchtower_level       16.0  \n",
       "bd_magic_coin_tree_level  19.0  \n",
       "bd_hall_of_war_level      16.0  \n",
       "bd_market_level           18.0  \n",
       "bd_hero_gacha_level       14.0  \n",
       "bd_hero_strengthen_level  14.0  \n",
       "bd_hero_pve_level         18.0  "
      ]
     },
     "execution_count": 19,
     "metadata": {},
     "output_type": "execute_result"
    }
   ],
   "source": [
    "bd_var = list(df_variable[df_variable.cat=='bd'].column.values)\n",
    "bd_srdesc = df_train.loc[:,bd_var].sample(frac=.1).describe().transpose()\n",
    "bd_srdesc"
   ]
  },
  {
   "cell_type": "code",
   "execution_count": 20,
   "metadata": {},
   "outputs": [
    {
     "name": "stdout",
     "output_type": "stream",
     "text": [
      "reduced column#: 53\n"
     ]
    }
   ],
   "source": [
    "df_trans['bd_main_score']=df_train.filter(bd_srdesc.index).mean(axis=1)\n",
    "df_trans = df_trans.drop(bd_srdesc.index, axis=1)\n",
    "print('reduced column#: %d'%df_trans.shape[1])"
   ]
  },
  {
   "cell_type": "markdown",
   "metadata": {},
   "source": [
    "整理wood/meat/wound\n",
    "\n",
    "reduce% = (add - reduce)/add"
   ]
  },
  {
   "cell_type": "code",
   "execution_count": 21,
   "metadata": {
    "collapsed": true
   },
   "outputs": [],
   "source": [
    "def merge_add_reduce(cat):\n",
    "    global df_variable, df_trans, df_train\n",
    "    vars = df_variable[df_variable.cat==cat].column\n",
    "    vars_add = pipe(vars, filter(lambda x: x.find('add_')>0),list)\n",
    "    vars_rdc = pipe(vars, filter(lambda x: x.find('reduce_')>0),list)\n",
    "    df_trans[cat+'_add']= df_train[vars_add].sum(axis=1)\n",
    "    df_trans[cat+'_reduce%']= df_train[vars_rdc].sum(axis=1)/df_trans[cat+'_add']\n",
    "    df_trans.loc[df_trans[cat+'_add']==0,cat+'_reduce%' ] = 0\n",
    "\n",
    "    try:\n",
    "        df_trans = df_trans.drop(vars, axis=1)\n",
    "    except:\n",
    "        pass\n",
    "    \n",
    "cat_set = df_variable[df_variable.column.str.find('reduce')>0].cat.unique()\n",
    "\n",
    "for cat in cat_set:\n",
    "    merge_add_reduce(cat)"
   ]
  },
  {
   "cell_type": "code",
   "execution_count": 22,
   "metadata": {},
   "outputs": [
    {
     "name": "stdout",
     "output_type": "stream",
     "text": [
      "reduced column#: 49\n"
     ]
    }
   ],
   "source": [
    "print('reduced column#: %d'%df_trans.shape[1])\n",
    "# df_trans[df_trans==np.inf].sum()"
   ]
  },
  {
   "cell_type": "markdown",
   "metadata": {},
   "source": [
    "合并pve/pvp\n",
    "\n",
    "新增变量：\n",
    "- 主动发起比率\n",
    "- 胜率"
   ]
  },
  {
   "cell_type": "code",
   "execution_count": 23,
   "metadata": {},
   "outputs": [
    {
     "name": "stdout",
     "output_type": "stream",
     "text": [
      "reduced column#: 49\n"
     ]
    }
   ],
   "source": [
    "vars = df_variable[df_variable.cat=='pve'].column\n",
    "vars\n",
    "df_trans['pve_launch%'] = df_train['pve_lanch_count']/df_train['pve_battle_count']\n",
    "df_trans['pve_win%'] = df_train['pve_win_count']/df_train['pve_battle_count']\n",
    "df_trans['pvp_launch%'] = df_train['pvp_lanch_count']/df_train['pvp_battle_count']\n",
    "df_trans['pvp_win%'] = df_train['pvp_win_count']/df_train['pvp_battle_count']\n",
    "\n",
    "df_trans[['pve_launch%','pve_win%','pvp_launch%','pvp_win%']] = df_trans[['pve_launch%','pve_win%','pvp_launch%','pvp_win%']].fillna(0)\n",
    "try:\n",
    "    df_trans =df_trans.drop(['pve_lanch_count','pve_win_count','pvp_lanch_count','pvp_win_count'], axis=1)\n",
    "except:\n",
    "    pass\n",
    "print('reduced column#: %d'%df_trans.shape[1])\n"
   ]
  },
  {
   "cell_type": "markdown",
   "metadata": {},
   "source": [
    "计算客单价"
   ]
  },
  {
   "cell_type": "code",
   "execution_count": 24,
   "metadata": {
    "collapsed": true
   },
   "outputs": [],
   "source": [
    "df_trans['avg_pay'] = df_trans['pay_price']/df_trans['pay_count']\n",
    "df_trans.loc[df_trans['pay_count']==0, 'avg_pay'] = 0"
   ]
  },
  {
   "cell_type": "markdown",
   "metadata": {},
   "source": [
    "有多少比例的用户在7日内付费且7-45继续付费?"
   ]
  },
  {
   "cell_type": "code",
   "execution_count": 25,
   "metadata": {},
   "outputs": [
    {
     "name": "stdout",
     "output_type": "stream",
     "text": [
      "27.290716474818407% of users will extend payment on next 38 days\n"
     ]
    }
   ],
   "source": [
    "cnt_after_7 = df_trans[(df_trans.pay_price>0) & (df_trans.prediction_future_pay_price>0)].shape[0]\n",
    "cnt_before_7 = df_trans[(df_trans.pay_price>0)].shape[0]\n",
    "print('{0}% of users will extend payment on next 38 days'.format(cnt_after_7/cnt_before_7*100))"
   ]
  },
  {
   "cell_type": "code",
   "execution_count": 26,
   "metadata": {},
   "outputs": [
    {
     "data": {
      "text/html": [
       "<div>\n",
       "<style scoped>\n",
       "    .dataframe tbody tr th:only-of-type {\n",
       "        vertical-align: middle;\n",
       "    }\n",
       "\n",
       "    .dataframe tbody tr th {\n",
       "        vertical-align: top;\n",
       "    }\n",
       "\n",
       "    .dataframe thead th {\n",
       "        text-align: right;\n",
       "    }\n",
       "</style>\n",
       "<table border=\"1\" class=\"dataframe\">\n",
       "  <thead>\n",
       "    <tr style=\"text-align: right;\">\n",
       "      <th></th>\n",
       "      <th>pay_price</th>\n",
       "      <th>prediction_pay_price</th>\n",
       "      <th>prediction_future_pay_price</th>\n",
       "    </tr>\n",
       "  </thead>\n",
       "  <tbody>\n",
       "    <tr>\n",
       "      <th>40</th>\n",
       "      <td>2.970000</td>\n",
       "      <td>4.960000</td>\n",
       "      <td>1.990000</td>\n",
       "    </tr>\n",
       "    <tr>\n",
       "      <th>155</th>\n",
       "      <td>156.880005</td>\n",
       "      <td>166.860001</td>\n",
       "      <td>9.979996</td>\n",
       "    </tr>\n",
       "    <tr>\n",
       "      <th>248</th>\n",
       "      <td>14.980000</td>\n",
       "      <td>19.969999</td>\n",
       "      <td>4.990000</td>\n",
       "    </tr>\n",
       "    <tr>\n",
       "      <th>381</th>\n",
       "      <td>406.869995</td>\n",
       "      <td>8982.780273</td>\n",
       "      <td>8575.910156</td>\n",
       "    </tr>\n",
       "    <tr>\n",
       "      <th>481</th>\n",
       "      <td>6.970000</td>\n",
       "      <td>8.960000</td>\n",
       "      <td>1.990000</td>\n",
       "    </tr>\n",
       "  </tbody>\n",
       "</table>\n",
       "</div>"
      ],
      "text/plain": [
       "      pay_price  prediction_pay_price  prediction_future_pay_price\n",
       "40     2.970000              4.960000                     1.990000\n",
       "155  156.880005            166.860001                     9.979996\n",
       "248   14.980000             19.969999                     4.990000\n",
       "381  406.869995           8982.780273                  8575.910156\n",
       "481    6.970000              8.960000                     1.990000"
      ]
     },
     "execution_count": 26,
     "metadata": {},
     "output_type": "execute_result"
    }
   ],
   "source": [
    "df_trans[(df_trans.pay_price>0) & (df_trans.prediction_future_pay_price>0)].loc[:,['pay_price','prediction_pay_price','prediction_future_pay_price']].head()"
   ]
  },
  {
   "cell_type": "markdown",
   "metadata": {
    "nbpresent": {
     "id": "3bf966d6-cf45-4eec-94b1-b0a90b89f6b9"
    }
   },
   "source": [
    "test variable correlation and keep high correlated"
   ]
  },
  {
   "cell_type": "code",
   "execution_count": 27,
   "metadata": {
    "collapsed": true,
    "nbpresent": {
     "id": "63c1b8da-14e8-424f-b393-031fee97535f"
    }
   },
   "outputs": [],
   "source": [
    "X = df_trans.drop(labels=['user_id','register_date','prediction_pay_price','register_time','prediction_future_pay_price','pay_price']+\n",
    "                  list(df_trans.select_dtypes('category').columns), axis=1)\n",
    "y = df_trans['prediction_future_pay_price']\n",
    "# df_trans.sample(frac=.1)[df_trans==np.inf].sum()"
   ]
  },
  {
   "cell_type": "markdown",
   "metadata": {},
   "source": [
    "查看变量间的相关性，按照变量类别从大到小依次排序为：\n",
    "- bd/building\n",
    "- pvp\n",
    "- pve\n",
    "- wound\n",
    "- training\n",
    "- meat\n",
    "- sr\n",
    "- shaman\n"
   ]
  },
  {
   "cell_type": "code",
   "execution_count": 28,
   "metadata": {
    "scrolled": false
   },
   "outputs": [
    {
     "data": {
      "text/html": [
       "<div>\n",
       "<style scoped>\n",
       "    .dataframe tbody tr th:only-of-type {\n",
       "        vertical-align: middle;\n",
       "    }\n",
       "\n",
       "    .dataframe tbody tr th {\n",
       "        vertical-align: top;\n",
       "    }\n",
       "\n",
       "    .dataframe thead tr th {\n",
       "        text-align: left;\n",
       "    }\n",
       "</style>\n",
       "<table border=\"1\" class=\"dataframe\">\n",
       "  <thead>\n",
       "    <tr>\n",
       "      <th>left_cat</th>\n",
       "      <th colspan=\"3\" halign=\"left\">building</th>\n",
       "      <th colspan=\"5\" halign=\"left\">general</th>\n",
       "      <th colspan=\"2\" halign=\"left\">ivory</th>\n",
       "      <th>...</th>\n",
       "      <th>reaserch</th>\n",
       "      <th>shaman</th>\n",
       "      <th>stone</th>\n",
       "      <th colspan=\"7\" halign=\"left\">training</th>\n",
       "    </tr>\n",
       "    <tr>\n",
       "      <th>right_cat</th>\n",
       "      <th>general</th>\n",
       "      <th>ivory</th>\n",
       "      <th>wood</th>\n",
       "      <th>ivory</th>\n",
       "      <th>meat</th>\n",
       "      <th>pay</th>\n",
       "      <th>stone</th>\n",
       "      <th>wood</th>\n",
       "      <th>stone</th>\n",
       "      <th>wood</th>\n",
       "      <th>...</th>\n",
       "      <th>wood</th>\n",
       "      <th>cavalry</th>\n",
       "      <th>wood</th>\n",
       "      <th>general</th>\n",
       "      <th>ivory</th>\n",
       "      <th>meat</th>\n",
       "      <th>pay</th>\n",
       "      <th>reaserch</th>\n",
       "      <th>stone</th>\n",
       "      <th>wood</th>\n",
       "    </tr>\n",
       "  </thead>\n",
       "  <tbody>\n",
       "    <tr>\n",
       "      <th>left</th>\n",
       "      <td>1</td>\n",
       "      <td>1</td>\n",
       "      <td>1</td>\n",
       "      <td>1</td>\n",
       "      <td>1</td>\n",
       "      <td>1</td>\n",
       "      <td>1</td>\n",
       "      <td>1</td>\n",
       "      <td>1</td>\n",
       "      <td>1</td>\n",
       "      <td>...</td>\n",
       "      <td>1</td>\n",
       "      <td>2</td>\n",
       "      <td>1</td>\n",
       "      <td>1</td>\n",
       "      <td>1</td>\n",
       "      <td>1</td>\n",
       "      <td>1</td>\n",
       "      <td>1</td>\n",
       "      <td>1</td>\n",
       "      <td>1</td>\n",
       "    </tr>\n",
       "    <tr>\n",
       "      <th>right</th>\n",
       "      <td>1</td>\n",
       "      <td>1</td>\n",
       "      <td>1</td>\n",
       "      <td>1</td>\n",
       "      <td>1</td>\n",
       "      <td>1</td>\n",
       "      <td>1</td>\n",
       "      <td>1</td>\n",
       "      <td>1</td>\n",
       "      <td>1</td>\n",
       "      <td>...</td>\n",
       "      <td>1</td>\n",
       "      <td>2</td>\n",
       "      <td>1</td>\n",
       "      <td>1</td>\n",
       "      <td>1</td>\n",
       "      <td>1</td>\n",
       "      <td>1</td>\n",
       "      <td>1</td>\n",
       "      <td>1</td>\n",
       "      <td>1</td>\n",
       "    </tr>\n",
       "  </tbody>\n",
       "</table>\n",
       "<p>2 rows × 30 columns</p>\n",
       "</div>"
      ],
      "text/plain": [
       "left_cat  building            general                     ivory      ...   \\\n",
       "right_cat  general ivory wood   ivory meat pay stone wood stone wood ...    \n",
       "left             1     1    1       1    1   1     1    1     1    1 ...    \n",
       "right            1     1    1       1    1   1     1    1     1    1 ...    \n",
       "\n",
       "left_cat  reaserch  shaman stone training                                     \n",
       "right_cat     wood cavalry  wood  general ivory meat pay reaserch stone wood  \n",
       "left             1       2     1        1     1    1   1        1     1    1  \n",
       "right            1       2     1        1     1    1   1        1     1    1  \n",
       "\n",
       "[2 rows x 30 columns]"
      ]
     },
     "execution_count": 28,
     "metadata": {},
     "output_type": "execute_result"
    }
   ],
   "source": [
    "\n",
    "n_var = len(X.columns)\n",
    "mask = np.zeros((n_var,n_var))\n",
    "for i in range(n_var):\n",
    "    for j in range(n_var):\n",
    "        if i<j:\n",
    "            mask[i,j]=True\n",
    "# np.triu(mask)   # equal to upper triangle of array\n",
    "         \n",
    "\n",
    "df_corr = (X[X.pay_count>0].sample(frac=.1).corr()>0.8)*mask\n",
    "df_corr = df_corr.unstack()\n",
    "df_corr = df_corr[(df_corr==1)]\n",
    "df_corr= df_corr.to_frame().reset_index().rename(columns={'level_0':'left','level_1':'right'}).iloc[:,:2]\n",
    "df_corr= df_corr[df_corr.left!=df_corr.right]\n",
    "df_corr['left_cat'] = df_corr.left.str.split('_').apply(lambda x:x[0])\n",
    "df_corr['right_cat'] = df_corr.right.str.split('_').apply(lambda x:x[0])\n",
    "df_corr.groupby(['left_cat','right_cat']).count().transpose()"
   ]
  },
  {
   "cell_type": "markdown",
   "metadata": {},
   "source": [
    "数据分布不均匀，归一化并取log使数据接近正态分布"
   ]
  },
  {
   "cell_type": "code",
   "execution_count": 29,
   "metadata": {
    "collapsed": true
   },
   "outputs": [],
   "source": [
    "from sklearn.pipeline import make_pipeline\n",
    "from sklearn.preprocessing import FunctionTransformer\n",
    "from sklearn.preprocessing import StandardScaler\n",
    "scaler_X = StandardScaler()\n",
    "\n",
    "def do_log(x):\n",
    "    return np.log(x+1)\n",
    "\n",
    "def do_exp(x):\n",
    "    return np.exp(x)-1\n",
    "\n",
    "loger = FunctionTransformer(do_log, do_exp)\n",
    "pipeline_list = [scaler_X, loger]\n"
   ]
  },
  {
   "cell_type": "markdown",
   "metadata": {},
   "source": [
    "根据相关性产生新的特征，消除高相关特征使数据独立分布"
   ]
  },
  {
   "cell_type": "code",
   "execution_count": 30,
   "metadata": {},
   "outputs": [
    {
     "data": {
      "text/html": [
       "<div>\n",
       "<style scoped>\n",
       "    .dataframe tbody tr th:only-of-type {\n",
       "        vertical-align: middle;\n",
       "    }\n",
       "\n",
       "    .dataframe tbody tr th {\n",
       "        vertical-align: top;\n",
       "    }\n",
       "\n",
       "    .dataframe thead th {\n",
       "        text-align: right;\n",
       "    }\n",
       "</style>\n",
       "<table border=\"1\" class=\"dataframe\">\n",
       "  <thead>\n",
       "    <tr style=\"text-align: right;\">\n",
       "      <th></th>\n",
       "      <th>left</th>\n",
       "      <th>right</th>\n",
       "      <th>left_cat</th>\n",
       "      <th>right_cat</th>\n",
       "    </tr>\n",
       "  </thead>\n",
       "  <tbody>\n",
       "    <tr>\n",
       "      <th>0</th>\n",
       "      <td>stone_add</td>\n",
       "      <td>wood_add</td>\n",
       "      <td>stone</td>\n",
       "      <td>wood</td>\n",
       "    </tr>\n",
       "    <tr>\n",
       "      <th>1</th>\n",
       "      <td>ivory_add</td>\n",
       "      <td>wood_add</td>\n",
       "      <td>ivory</td>\n",
       "      <td>wood</td>\n",
       "    </tr>\n",
       "    <tr>\n",
       "      <th>2</th>\n",
       "      <td>ivory_add</td>\n",
       "      <td>stone_add</td>\n",
       "      <td>ivory</td>\n",
       "      <td>stone</td>\n",
       "    </tr>\n",
       "    <tr>\n",
       "      <th>3</th>\n",
       "      <td>meat_add</td>\n",
       "      <td>wood_add</td>\n",
       "      <td>meat</td>\n",
       "      <td>wood</td>\n",
       "    </tr>\n",
       "    <tr>\n",
       "      <th>4</th>\n",
       "      <td>meat_add</td>\n",
       "      <td>stone_add</td>\n",
       "      <td>meat</td>\n",
       "      <td>stone</td>\n",
       "    </tr>\n",
       "    <tr>\n",
       "      <th>5</th>\n",
       "      <td>meat_add</td>\n",
       "      <td>ivory_add</td>\n",
       "      <td>meat</td>\n",
       "      <td>ivory</td>\n",
       "    </tr>\n",
       "    <tr>\n",
       "      <th>6</th>\n",
       "      <td>meat_reduce%</td>\n",
       "      <td>wood_reduce%</td>\n",
       "      <td>meat</td>\n",
       "      <td>wood</td>\n",
       "    </tr>\n",
       "    <tr>\n",
       "      <th>7</th>\n",
       "      <td>shaman_add</td>\n",
       "      <td>cavalry_add</td>\n",
       "      <td>shaman</td>\n",
       "      <td>cavalry</td>\n",
       "    </tr>\n",
       "    <tr>\n",
       "      <th>8</th>\n",
       "      <td>shaman_reduce%</td>\n",
       "      <td>cavalry_reduce%</td>\n",
       "      <td>shaman</td>\n",
       "      <td>cavalry</td>\n",
       "    </tr>\n",
       "    <tr>\n",
       "      <th>9</th>\n",
       "      <td>general_add</td>\n",
       "      <td>pay_count</td>\n",
       "      <td>general</td>\n",
       "      <td>pay</td>\n",
       "    </tr>\n",
       "    <tr>\n",
       "      <th>10</th>\n",
       "      <td>general_add</td>\n",
       "      <td>wood_add</td>\n",
       "      <td>general</td>\n",
       "      <td>wood</td>\n",
       "    </tr>\n",
       "    <tr>\n",
       "      <th>11</th>\n",
       "      <td>general_add</td>\n",
       "      <td>stone_add</td>\n",
       "      <td>general</td>\n",
       "      <td>stone</td>\n",
       "    </tr>\n",
       "    <tr>\n",
       "      <th>12</th>\n",
       "      <td>general_add</td>\n",
       "      <td>ivory_add</td>\n",
       "      <td>general</td>\n",
       "      <td>ivory</td>\n",
       "    </tr>\n",
       "    <tr>\n",
       "      <th>13</th>\n",
       "      <td>general_add</td>\n",
       "      <td>meat_add</td>\n",
       "      <td>general</td>\n",
       "      <td>meat</td>\n",
       "    </tr>\n",
       "    <tr>\n",
       "      <th>14</th>\n",
       "      <td>building_add</td>\n",
       "      <td>wood_add</td>\n",
       "      <td>building</td>\n",
       "      <td>wood</td>\n",
       "    </tr>\n",
       "    <tr>\n",
       "      <th>15</th>\n",
       "      <td>building_add</td>\n",
       "      <td>ivory_add</td>\n",
       "      <td>building</td>\n",
       "      <td>ivory</td>\n",
       "    </tr>\n",
       "    <tr>\n",
       "      <th>16</th>\n",
       "      <td>building_add</td>\n",
       "      <td>general_add</td>\n",
       "      <td>building</td>\n",
       "      <td>general</td>\n",
       "    </tr>\n",
       "    <tr>\n",
       "      <th>17</th>\n",
       "      <td>reaserch_add</td>\n",
       "      <td>pay_count</td>\n",
       "      <td>reaserch</td>\n",
       "      <td>pay</td>\n",
       "    </tr>\n",
       "    <tr>\n",
       "      <th>18</th>\n",
       "      <td>reaserch_add</td>\n",
       "      <td>wood_add</td>\n",
       "      <td>reaserch</td>\n",
       "      <td>wood</td>\n",
       "    </tr>\n",
       "    <tr>\n",
       "      <th>19</th>\n",
       "      <td>reaserch_add</td>\n",
       "      <td>stone_add</td>\n",
       "      <td>reaserch</td>\n",
       "      <td>stone</td>\n",
       "    </tr>\n",
       "    <tr>\n",
       "      <th>20</th>\n",
       "      <td>reaserch_add</td>\n",
       "      <td>ivory_add</td>\n",
       "      <td>reaserch</td>\n",
       "      <td>ivory</td>\n",
       "    </tr>\n",
       "    <tr>\n",
       "      <th>21</th>\n",
       "      <td>reaserch_add</td>\n",
       "      <td>meat_add</td>\n",
       "      <td>reaserch</td>\n",
       "      <td>meat</td>\n",
       "    </tr>\n",
       "    <tr>\n",
       "      <th>22</th>\n",
       "      <td>reaserch_add</td>\n",
       "      <td>general_add</td>\n",
       "      <td>reaserch</td>\n",
       "      <td>general</td>\n",
       "    </tr>\n",
       "    <tr>\n",
       "      <th>23</th>\n",
       "      <td>reaserch_add</td>\n",
       "      <td>building_add</td>\n",
       "      <td>reaserch</td>\n",
       "      <td>building</td>\n",
       "    </tr>\n",
       "    <tr>\n",
       "      <th>24</th>\n",
       "      <td>training_add</td>\n",
       "      <td>pay_count</td>\n",
       "      <td>training</td>\n",
       "      <td>pay</td>\n",
       "    </tr>\n",
       "    <tr>\n",
       "      <th>25</th>\n",
       "      <td>training_add</td>\n",
       "      <td>wood_add</td>\n",
       "      <td>training</td>\n",
       "      <td>wood</td>\n",
       "    </tr>\n",
       "    <tr>\n",
       "      <th>26</th>\n",
       "      <td>training_add</td>\n",
       "      <td>stone_add</td>\n",
       "      <td>training</td>\n",
       "      <td>stone</td>\n",
       "    </tr>\n",
       "    <tr>\n",
       "      <th>27</th>\n",
       "      <td>training_add</td>\n",
       "      <td>ivory_add</td>\n",
       "      <td>training</td>\n",
       "      <td>ivory</td>\n",
       "    </tr>\n",
       "    <tr>\n",
       "      <th>28</th>\n",
       "      <td>training_add</td>\n",
       "      <td>meat_add</td>\n",
       "      <td>training</td>\n",
       "      <td>meat</td>\n",
       "    </tr>\n",
       "    <tr>\n",
       "      <th>29</th>\n",
       "      <td>training_add</td>\n",
       "      <td>general_add</td>\n",
       "      <td>training</td>\n",
       "      <td>general</td>\n",
       "    </tr>\n",
       "    <tr>\n",
       "      <th>30</th>\n",
       "      <td>training_add</td>\n",
       "      <td>reaserch_add</td>\n",
       "      <td>training</td>\n",
       "      <td>reaserch</td>\n",
       "    </tr>\n",
       "    <tr>\n",
       "      <th>31</th>\n",
       "      <td>pve_win%</td>\n",
       "      <td>pve_launch%</td>\n",
       "      <td>pve</td>\n",
       "      <td>pve</td>\n",
       "    </tr>\n",
       "  </tbody>\n",
       "</table>\n",
       "</div>"
      ],
      "text/plain": [
       "              left            right  left_cat right_cat\n",
       "0        stone_add         wood_add     stone      wood\n",
       "1        ivory_add         wood_add     ivory      wood\n",
       "2        ivory_add        stone_add     ivory     stone\n",
       "3         meat_add         wood_add      meat      wood\n",
       "4         meat_add        stone_add      meat     stone\n",
       "5         meat_add        ivory_add      meat     ivory\n",
       "6     meat_reduce%     wood_reduce%      meat      wood\n",
       "7       shaman_add      cavalry_add    shaman   cavalry\n",
       "8   shaman_reduce%  cavalry_reduce%    shaman   cavalry\n",
       "9      general_add        pay_count   general       pay\n",
       "10     general_add         wood_add   general      wood\n",
       "11     general_add        stone_add   general     stone\n",
       "12     general_add        ivory_add   general     ivory\n",
       "13     general_add         meat_add   general      meat\n",
       "14    building_add         wood_add  building      wood\n",
       "15    building_add        ivory_add  building     ivory\n",
       "16    building_add      general_add  building   general\n",
       "17    reaserch_add        pay_count  reaserch       pay\n",
       "18    reaserch_add         wood_add  reaserch      wood\n",
       "19    reaserch_add        stone_add  reaserch     stone\n",
       "20    reaserch_add        ivory_add  reaserch     ivory\n",
       "21    reaserch_add         meat_add  reaserch      meat\n",
       "22    reaserch_add      general_add  reaserch   general\n",
       "23    reaserch_add     building_add  reaserch  building\n",
       "24    training_add        pay_count  training       pay\n",
       "25    training_add         wood_add  training      wood\n",
       "26    training_add        stone_add  training     stone\n",
       "27    training_add        ivory_add  training     ivory\n",
       "28    training_add         meat_add  training      meat\n",
       "29    training_add      general_add  training   general\n",
       "30    training_add     reaserch_add  training  reaserch\n",
       "31        pve_win%      pve_launch%       pve       pve"
      ]
     },
     "execution_count": 30,
     "metadata": {},
     "output_type": "execute_result"
    }
   ],
   "source": [
    "#TODO\n",
    "\n",
    "df_corr\n",
    "# X_log.isin([np.inf]).sum()"
   ]
  },
  {
   "cell_type": "markdown",
   "metadata": {},
   "source": [
    "使用L1范式做特征筛选"
   ]
  },
  {
   "cell_type": "code",
   "execution_count": 35,
   "metadata": {
    "nbpresent": {
     "id": "47f5289b-0edc-4558-93dc-c46291b6338b"
    }
   },
   "outputs": [
    {
     "name": "stderr",
     "output_type": "stream",
     "text": [
      "........................................................................................................................................................................................................................................................................................................................................................................................................................................................................................................................................................................................................................[Parallel(n_jobs=8)]: Done   6 out of   6 | elapsed:   12.3s finished\n"
     ]
    },
    {
     "data": {
      "text/plain": [
       "Pipeline(memory=None,\n",
       "     steps=[('standardscaler', StandardScaler(copy=True, with_mean=True, with_std=True)), ('functiontransformer', FunctionTransformer(accept_sparse=False,\n",
       "          func=<function do_log at 0x000000003ECBFD90>, inv_kw_args=None,\n",
       "          inverse_func=<function do_exp at 0x000000003FDB0510>,\n",
       "          kw...False,\n",
       "    precompute='auto', random_state=None, selection='cyclic', tol=0.0001,\n",
       "    verbose=True))])"
      ]
     },
     "execution_count": 35,
     "metadata": {},
     "output_type": "execute_result"
    }
   ],
   "source": [
    "from os import cpu_count\n",
    "from sklearn.linear_model import MultiTaskLassoCV, LassoCV\n",
    "\n",
    "estimator_lasso= LassoCV(eps=0.001, cv=6, verbose=True, n_jobs=cpu_count())\n",
    "\n",
    "pipeline_lasso = make_pipeline(scaler_X, loger,estimator_lasso)\n",
    "\n",
    "pipeline_lasso.fit(X, y)\n"
   ]
  },
  {
   "cell_type": "markdown",
   "metadata": {},
   "source": [
    "test feature importance"
   ]
  },
  {
   "cell_type": "code",
   "execution_count": 36,
   "metadata": {},
   "outputs": [
    {
     "data": {
      "text/html": [
       "<div>\n",
       "<style scoped>\n",
       "    .dataframe tbody tr th:only-of-type {\n",
       "        vertical-align: middle;\n",
       "    }\n",
       "\n",
       "    .dataframe tbody tr th {\n",
       "        vertical-align: top;\n",
       "    }\n",
       "\n",
       "    .dataframe thead th {\n",
       "        text-align: right;\n",
       "    }\n",
       "</style>\n",
       "<table border=\"1\" class=\"dataframe\">\n",
       "  <thead>\n",
       "    <tr style=\"text-align: right;\">\n",
       "      <th></th>\n",
       "      <th>column</th>\n",
       "      <th>importance</th>\n",
       "      <th>desc</th>\n",
       "      <th>cycle</th>\n",
       "      <th>cat</th>\n",
       "    </tr>\n",
       "  </thead>\n",
       "  <tbody>\n",
       "    <tr>\n",
       "      <th>12</th>\n",
       "      <td>ivory_add</td>\n",
       "      <td>294.279306</td>\n",
       "      <td>NaN</td>\n",
       "      <td>NaN</td>\n",
       "      <td>NaN</td>\n",
       "    </tr>\n",
       "    <tr>\n",
       "      <th>8</th>\n",
       "      <td>wood_add</td>\n",
       "      <td>206.493702</td>\n",
       "      <td>NaN</td>\n",
       "      <td>NaN</td>\n",
       "      <td>NaN</td>\n",
       "    </tr>\n",
       "    <tr>\n",
       "      <th>10</th>\n",
       "      <td>stone_add</td>\n",
       "      <td>120.902012</td>\n",
       "      <td>NaN</td>\n",
       "      <td>NaN</td>\n",
       "      <td>NaN</td>\n",
       "    </tr>\n",
       "    <tr>\n",
       "      <th>22</th>\n",
       "      <td>shaman_add</td>\n",
       "      <td>37.089417</td>\n",
       "      <td>NaN</td>\n",
       "      <td>NaN</td>\n",
       "      <td>NaN</td>\n",
       "    </tr>\n",
       "    <tr>\n",
       "      <th>40</th>\n",
       "      <td>avg_pay</td>\n",
       "      <td>31.014522</td>\n",
       "      <td>NaN</td>\n",
       "      <td>NaN</td>\n",
       "      <td>NaN</td>\n",
       "    </tr>\n",
       "    <tr>\n",
       "      <th>9</th>\n",
       "      <td>wood_reduce%</td>\n",
       "      <td>22.229897</td>\n",
       "      <td>NaN</td>\n",
       "      <td>NaN</td>\n",
       "      <td>NaN</td>\n",
       "    </tr>\n",
       "    <tr>\n",
       "      <th>20</th>\n",
       "      <td>cavalry_add</td>\n",
       "      <td>17.289842</td>\n",
       "      <td>NaN</td>\n",
       "      <td>NaN</td>\n",
       "      <td>NaN</td>\n",
       "    </tr>\n",
       "    <tr>\n",
       "      <th>21</th>\n",
       "      <td>cavalry_reduce%</td>\n",
       "      <td>11.825961</td>\n",
       "      <td>NaN</td>\n",
       "      <td>NaN</td>\n",
       "      <td>NaN</td>\n",
       "    </tr>\n",
       "    <tr>\n",
       "      <th>6</th>\n",
       "      <td>sr_main_score</td>\n",
       "      <td>11.628810</td>\n",
       "      <td>NaN</td>\n",
       "      <td>NaN</td>\n",
       "      <td>NaN</td>\n",
       "    </tr>\n",
       "    <tr>\n",
       "      <th>17</th>\n",
       "      <td>magic_reduce%</td>\n",
       "      <td>10.639985</td>\n",
       "      <td>NaN</td>\n",
       "      <td>NaN</td>\n",
       "      <td>NaN</td>\n",
       "    </tr>\n",
       "    <tr>\n",
       "      <th>7</th>\n",
       "      <td>bd_main_score</td>\n",
       "      <td>6.456936</td>\n",
       "      <td>NaN</td>\n",
       "      <td>NaN</td>\n",
       "      <td>NaN</td>\n",
       "    </tr>\n",
       "    <tr>\n",
       "      <th>36</th>\n",
       "      <td>pve_launch%</td>\n",
       "      <td>5.116809</td>\n",
       "      <td>NaN</td>\n",
       "      <td>NaN</td>\n",
       "      <td>NaN</td>\n",
       "    </tr>\n",
       "    <tr>\n",
       "      <th>19</th>\n",
       "      <td>infantry_reduce%</td>\n",
       "      <td>0.760524</td>\n",
       "      <td>NaN</td>\n",
       "      <td>NaN</td>\n",
       "      <td>NaN</td>\n",
       "    </tr>\n",
       "    <tr>\n",
       "      <th>15</th>\n",
       "      <td>meat_reduce%</td>\n",
       "      <td>-0.000000</td>\n",
       "      <td>NaN</td>\n",
       "      <td>NaN</td>\n",
       "      <td>NaN</td>\n",
       "    </tr>\n",
       "    <tr>\n",
       "      <th>23</th>\n",
       "      <td>shaman_reduce%</td>\n",
       "      <td>-0.000000</td>\n",
       "      <td>NaN</td>\n",
       "      <td>NaN</td>\n",
       "      <td>NaN</td>\n",
       "    </tr>\n",
       "    <tr>\n",
       "      <th>39</th>\n",
       "      <td>pvp_win%</td>\n",
       "      <td>-0.038725</td>\n",
       "      <td>NaN</td>\n",
       "      <td>NaN</td>\n",
       "      <td>NaN</td>\n",
       "    </tr>\n",
       "    <tr>\n",
       "      <th>27</th>\n",
       "      <td>general_reduce%</td>\n",
       "      <td>-0.182161</td>\n",
       "      <td>NaN</td>\n",
       "      <td>NaN</td>\n",
       "      <td>NaN</td>\n",
       "    </tr>\n",
       "    <tr>\n",
       "      <th>38</th>\n",
       "      <td>pvp_launch%</td>\n",
       "      <td>-0.192125</td>\n",
       "      <td>NaN</td>\n",
       "      <td>NaN</td>\n",
       "      <td>NaN</td>\n",
       "    </tr>\n",
       "    <tr>\n",
       "      <th>1</th>\n",
       "      <td>pvp_battle_count</td>\n",
       "      <td>-0.400984</td>\n",
       "      <td>PVP次数</td>\n",
       "      <td>前七日</td>\n",
       "      <td>pvp</td>\n",
       "    </tr>\n",
       "    <tr>\n",
       "      <th>32</th>\n",
       "      <td>training_add</td>\n",
       "      <td>-1.155918</td>\n",
       "      <td>NaN</td>\n",
       "      <td>NaN</td>\n",
       "      <td>NaN</td>\n",
       "    </tr>\n",
       "    <tr>\n",
       "      <th>29</th>\n",
       "      <td>building_reduce%</td>\n",
       "      <td>-1.763997</td>\n",
       "      <td>NaN</td>\n",
       "      <td>NaN</td>\n",
       "      <td>NaN</td>\n",
       "    </tr>\n",
       "    <tr>\n",
       "      <th>25</th>\n",
       "      <td>wound_reduce%</td>\n",
       "      <td>-1.845628</td>\n",
       "      <td>NaN</td>\n",
       "      <td>NaN</td>\n",
       "      <td>NaN</td>\n",
       "    </tr>\n",
       "    <tr>\n",
       "      <th>3</th>\n",
       "      <td>avg_online_minutes</td>\n",
       "      <td>-1.994921</td>\n",
       "      <td>在线时长</td>\n",
       "      <td>前七日</td>\n",
       "      <td>avg</td>\n",
       "    </tr>\n",
       "    <tr>\n",
       "      <th>33</th>\n",
       "      <td>training_reduce%</td>\n",
       "      <td>-2.283062</td>\n",
       "      <td>NaN</td>\n",
       "      <td>NaN</td>\n",
       "      <td>NaN</td>\n",
       "    </tr>\n",
       "    <tr>\n",
       "      <th>31</th>\n",
       "      <td>reaserch_reduce%</td>\n",
       "      <td>-2.584430</td>\n",
       "      <td>NaN</td>\n",
       "      <td>NaN</td>\n",
       "      <td>NaN</td>\n",
       "    </tr>\n",
       "    <tr>\n",
       "      <th>37</th>\n",
       "      <td>pve_win%</td>\n",
       "      <td>-3.059019</td>\n",
       "      <td>NaN</td>\n",
       "      <td>NaN</td>\n",
       "      <td>NaN</td>\n",
       "    </tr>\n",
       "    <tr>\n",
       "      <th>34</th>\n",
       "      <td>treatment_add</td>\n",
       "      <td>-4.724773</td>\n",
       "      <td>NaN</td>\n",
       "      <td>NaN</td>\n",
       "      <td>NaN</td>\n",
       "    </tr>\n",
       "    <tr>\n",
       "      <th>0</th>\n",
       "      <td>sr_rss_a_prod_levell</td>\n",
       "      <td>-6.036048</td>\n",
       "      <td>NaN</td>\n",
       "      <td>NaN</td>\n",
       "      <td>NaN</td>\n",
       "    </tr>\n",
       "    <tr>\n",
       "      <th>26</th>\n",
       "      <td>general_add</td>\n",
       "      <td>-11.492829</td>\n",
       "      <td>NaN</td>\n",
       "      <td>NaN</td>\n",
       "      <td>NaN</td>\n",
       "    </tr>\n",
       "    <tr>\n",
       "      <th>18</th>\n",
       "      <td>infantry_add</td>\n",
       "      <td>-11.654465</td>\n",
       "      <td>NaN</td>\n",
       "      <td>NaN</td>\n",
       "      <td>NaN</td>\n",
       "    </tr>\n",
       "    <tr>\n",
       "      <th>16</th>\n",
       "      <td>magic_add</td>\n",
       "      <td>-13.303869</td>\n",
       "      <td>NaN</td>\n",
       "      <td>NaN</td>\n",
       "      <td>NaN</td>\n",
       "    </tr>\n",
       "    <tr>\n",
       "      <th>4</th>\n",
       "      <td>pay_count</td>\n",
       "      <td>-21.466262</td>\n",
       "      <td>付费次数</td>\n",
       "      <td>前七日</td>\n",
       "      <td>pay</td>\n",
       "    </tr>\n",
       "    <tr>\n",
       "      <th>2</th>\n",
       "      <td>pve_battle_count</td>\n",
       "      <td>-24.550220</td>\n",
       "      <td>PVE次数</td>\n",
       "      <td>前七日</td>\n",
       "      <td>pve</td>\n",
       "    </tr>\n",
       "    <tr>\n",
       "      <th>5</th>\n",
       "      <td>sr_level_score</td>\n",
       "      <td>-28.049738</td>\n",
       "      <td>NaN</td>\n",
       "      <td>NaN</td>\n",
       "      <td>NaN</td>\n",
       "    </tr>\n",
       "    <tr>\n",
       "      <th>35</th>\n",
       "      <td>treatment_reduce%</td>\n",
       "      <td>-33.150933</td>\n",
       "      <td>NaN</td>\n",
       "      <td>NaN</td>\n",
       "      <td>NaN</td>\n",
       "    </tr>\n",
       "    <tr>\n",
       "      <th>24</th>\n",
       "      <td>wound_add</td>\n",
       "      <td>-34.112281</td>\n",
       "      <td>NaN</td>\n",
       "      <td>NaN</td>\n",
       "      <td>NaN</td>\n",
       "    </tr>\n",
       "    <tr>\n",
       "      <th>28</th>\n",
       "      <td>building_add</td>\n",
       "      <td>-55.349500</td>\n",
       "      <td>NaN</td>\n",
       "      <td>NaN</td>\n",
       "      <td>NaN</td>\n",
       "    </tr>\n",
       "    <tr>\n",
       "      <th>30</th>\n",
       "      <td>reaserch_add</td>\n",
       "      <td>-56.354037</td>\n",
       "      <td>NaN</td>\n",
       "      <td>NaN</td>\n",
       "      <td>NaN</td>\n",
       "    </tr>\n",
       "    <tr>\n",
       "      <th>14</th>\n",
       "      <td>meat_add</td>\n",
       "      <td>-114.715887</td>\n",
       "      <td>NaN</td>\n",
       "      <td>NaN</td>\n",
       "      <td>NaN</td>\n",
       "    </tr>\n",
       "    <tr>\n",
       "      <th>11</th>\n",
       "      <td>stone_reduce%</td>\n",
       "      <td>-137.033415</td>\n",
       "      <td>NaN</td>\n",
       "      <td>NaN</td>\n",
       "      <td>NaN</td>\n",
       "    </tr>\n",
       "    <tr>\n",
       "      <th>13</th>\n",
       "      <td>ivory_reduce%</td>\n",
       "      <td>-165.303853</td>\n",
       "      <td>NaN</td>\n",
       "      <td>NaN</td>\n",
       "      <td>NaN</td>\n",
       "    </tr>\n",
       "  </tbody>\n",
       "</table>\n",
       "</div>"
      ],
      "text/plain": [
       "                  column  importance   desc cycle  cat\n",
       "12             ivory_add  294.279306    NaN   NaN  NaN\n",
       "8               wood_add  206.493702    NaN   NaN  NaN\n",
       "10             stone_add  120.902012    NaN   NaN  NaN\n",
       "22            shaman_add   37.089417    NaN   NaN  NaN\n",
       "40               avg_pay   31.014522    NaN   NaN  NaN\n",
       "9           wood_reduce%   22.229897    NaN   NaN  NaN\n",
       "20           cavalry_add   17.289842    NaN   NaN  NaN\n",
       "21       cavalry_reduce%   11.825961    NaN   NaN  NaN\n",
       "6          sr_main_score   11.628810    NaN   NaN  NaN\n",
       "17         magic_reduce%   10.639985    NaN   NaN  NaN\n",
       "7          bd_main_score    6.456936    NaN   NaN  NaN\n",
       "36           pve_launch%    5.116809    NaN   NaN  NaN\n",
       "19      infantry_reduce%    0.760524    NaN   NaN  NaN\n",
       "15          meat_reduce%   -0.000000    NaN   NaN  NaN\n",
       "23        shaman_reduce%   -0.000000    NaN   NaN  NaN\n",
       "39              pvp_win%   -0.038725    NaN   NaN  NaN\n",
       "27       general_reduce%   -0.182161    NaN   NaN  NaN\n",
       "38           pvp_launch%   -0.192125    NaN   NaN  NaN\n",
       "1       pvp_battle_count   -0.400984  PVP次数   前七日  pvp\n",
       "32          training_add   -1.155918    NaN   NaN  NaN\n",
       "29      building_reduce%   -1.763997    NaN   NaN  NaN\n",
       "25         wound_reduce%   -1.845628    NaN   NaN  NaN\n",
       "3     avg_online_minutes   -1.994921   在线时长   前七日  avg\n",
       "33      training_reduce%   -2.283062    NaN   NaN  NaN\n",
       "31      reaserch_reduce%   -2.584430    NaN   NaN  NaN\n",
       "37              pve_win%   -3.059019    NaN   NaN  NaN\n",
       "34         treatment_add   -4.724773    NaN   NaN  NaN\n",
       "0   sr_rss_a_prod_levell   -6.036048    NaN   NaN  NaN\n",
       "26           general_add  -11.492829    NaN   NaN  NaN\n",
       "18          infantry_add  -11.654465    NaN   NaN  NaN\n",
       "16             magic_add  -13.303869    NaN   NaN  NaN\n",
       "4              pay_count  -21.466262   付费次数   前七日  pay\n",
       "2       pve_battle_count  -24.550220  PVE次数   前七日  pve\n",
       "5         sr_level_score  -28.049738    NaN   NaN  NaN\n",
       "35     treatment_reduce%  -33.150933    NaN   NaN  NaN\n",
       "24             wound_add  -34.112281    NaN   NaN  NaN\n",
       "28          building_add  -55.349500    NaN   NaN  NaN\n",
       "30          reaserch_add  -56.354037    NaN   NaN  NaN\n",
       "14              meat_add -114.715887    NaN   NaN  NaN\n",
       "11         stone_reduce% -137.033415    NaN   NaN  NaN\n",
       "13         ivory_reduce% -165.303853    NaN   NaN  NaN"
      ]
     },
     "execution_count": 36,
     "metadata": {},
     "output_type": "execute_result"
    }
   ],
   "source": [
    "var_importance = pipeline_lasso.steps[2][1].coef_\n",
    "df_variable_importance =pd.DataFrame({'column':X.columns, 'importance':var_importance})\n",
    "df_variable_importance = pd.merge(df_variable_importance,df_variable,on='column',how='left')\n",
    "df_variable_importance.sort_values('importance', ascending = False)"
   ]
  },
  {
   "cell_type": "markdown",
   "metadata": {},
   "source": [
    "evaluate model using MAE"
   ]
  },
  {
   "cell_type": "code",
   "execution_count": 40,
   "metadata": {},
   "outputs": [
    {
     "data": {
      "text/plain": [
       "0.17473207218345499"
      ]
     },
     "execution_count": 40,
     "metadata": {},
     "output_type": "execute_result"
    }
   ],
   "source": [
    "y_predict = pipeline_lasso.predict(X)\n",
    "pipeline_lasso.score(X, y)"
   ]
  },
  {
   "cell_type": "code",
   "execution_count": 109,
   "metadata": {},
   "outputs": [
    {
     "data": {
      "text/plain": [
       "array([-0.93381757, -0.99450619, -1.05097127, -1.18031463])"
      ]
     },
     "execution_count": 109,
     "metadata": {},
     "output_type": "execute_result"
    }
   ],
   "source": [
    "y_predict[:4]"
   ]
  },
  {
   "cell_type": "markdown",
   "metadata": {},
   "source": [
    "run SGD Classifier to predict if user will pay in future, using most import varaible"
   ]
  },
  {
   "cell_type": "code",
   "execution_count": 52,
   "metadata": {},
   "outputs": [],
   "source": [
    "from sklearn.model_selection import train_test_split, StratifiedShuffleSplit\n",
    "X_classfier = X#.loc[:,df_variable_importance.column] #'pay_price','pay_count','avg_pay' df_variable_importance.column\n",
    "y_classfier = y >0\n",
    "X_train, X_test, y_train, y_test =train_test_split(X_classfier, y_classfier, test_size=0.3)"
   ]
  },
  {
   "cell_type": "code",
   "execution_count": 56,
   "metadata": {},
   "outputs": [
    {
     "name": "stdout",
     "output_type": "stream",
     "text": [
      "Wall time: 27.2 s\n"
     ]
    }
   ],
   "source": [
    "%%time\n",
    "from sklearn.linear_model import SGDClassifier\n",
    "from sklearn.preprocessing import scale\n",
    "\n",
    "md_sgd = SGDClassifier(loss = 'hinge',fit_intercept=True, penalty='l2',learning_rate='optimal',eta0=0.01, max_iter=50)#,class_weight={False:2,True:1})\n",
    "\n",
    "pipeline_classfier = make_pipeline(scaler_X,md_sgd)\n",
    "pipeline_classfier.fit(X_train,y_train)"
   ]
  },
  {
   "cell_type": "code",
   "execution_count": 57,
   "metadata": {},
   "outputs": [
    {
     "data": {
      "text/plain": [
       "0.18784739767559372"
      ]
     },
     "execution_count": 57,
     "metadata": {},
     "output_type": "execute_result"
    }
   ],
   "source": [
    "from sklearn.metrics import f1_score\n",
    "y_predict = pipeline_classfier.predict(X_train)\n",
    "f1_score(y_predict, y_train)\n"
   ]
  },
  {
   "cell_type": "code",
   "execution_count": 93,
   "metadata": {},
   "outputs": [
    {
     "data": {
      "text/plain": [
       "(10622, 5762)"
      ]
     },
     "execution_count": 93,
     "metadata": {},
     "output_type": "execute_result"
    }
   ],
   "source": [
    "y_train.sum(),y_predict.sum()\n",
    "SGDClassifier?"
   ]
  },
  {
   "cell_type": "markdown",
   "metadata": {},
   "source": [
    "test importance using Random Forest"
   ]
  },
  {
   "cell_type": "markdown",
   "metadata": {},
   "source": [
    "test importance using XGBClassifier"
   ]
  },
  {
   "cell_type": "code",
   "execution_count": 65,
   "metadata": {},
   "outputs": [
    {
     "data": {
      "text/plain": [
       "0.013780479638076387"
      ]
     },
     "execution_count": 65,
     "metadata": {},
     "output_type": "execute_result"
    }
   ],
   "source": [
    "# from xgboost import XGBRegressor  # change import\n",
    "from dask_ml.xgboost import XGBClassifier\n",
    "from dask.distributed import Client\n",
    "client = Client()\n",
    "est = XGBClassifier()\n",
    "est.fit(ddf.from_pandas(X_train,npartitions=8), ddf.from_pandas(y_train,npartitions=8))\n",
    "\n",
    "y_predict = est.predict(ddf.from_pandas(X_train,npartitions=8))\n",
    "f1_score(y_predict, y_train)"
   ]
  },
  {
   "cell_type": "code",
   "execution_count": 59,
   "metadata": {
    "collapsed": true
   },
   "outputs": [],
   "source": []
  }
 ],
 "metadata": {
  "anaconda-cloud": {},
  "kernelspec": {
   "display_name": "Python [conda env:py36]",
   "language": "python",
   "name": "conda-env-py36-py"
  },
  "language_info": {
   "codemirror_mode": {
    "name": "ipython",
    "version": 3
   },
   "file_extension": ".py",
   "mimetype": "text/x-python",
   "name": "python",
   "nbconvert_exporter": "python",
   "pygments_lexer": "ipython3",
   "version": "3.6.5"
  },
  "nbpresent": {
   "slides": {
    "06e2a39b-3088-4770-bb43-9ce2ab43607b": {
     "id": "06e2a39b-3088-4770-bb43-9ce2ab43607b",
     "prev": "d682e02c-01b0-4ac5-9913-ea06b0c47d7b",
     "regions": {
      "96e2c7b1-b407-4e08-a297-9d76e2b9e867": {
       "attrs": {
        "height": 0.8,
        "width": 0.8,
        "x": 0.1,
        "y": 0.1
       },
       "content": {
        "cell": "4ec03b46-0550-4af0-8167-88d02871e489",
        "part": "whole"
       },
       "id": "96e2c7b1-b407-4e08-a297-9d76e2b9e867"
      }
     }
    },
    "155dce0d-4aa1-4fb4-a251-8a88d6fc2ed1": {
     "id": "155dce0d-4aa1-4fb4-a251-8a88d6fc2ed1",
     "prev": "6caf3660-d5b4-49e5-ae85-f7f3fb41d9cc",
     "regions": {
      "5be711ed-0913-483a-8634-8d1ca8b3a7a4": {
       "attrs": {
        "height": 0.8,
        "width": 0.8,
        "x": 0.1,
        "y": 0.1
       },
       "content": {
        "cell": "2554a735-6e4c-4e6f-8e55-03fe6dddf276",
        "part": "whole"
       },
       "id": "5be711ed-0913-483a-8634-8d1ca8b3a7a4"
      }
     }
    },
    "1acea520-22eb-4c8d-b725-f75e29726ef3": {
     "id": "1acea520-22eb-4c8d-b725-f75e29726ef3",
     "prev": "5cb0df00-b578-4701-8aa5-809686fcbbb4",
     "regions": {
      "db2bbe74-73c1-4f86-a4d3-c938d001490f": {
       "attrs": {
        "height": 0.8,
        "width": 0.8,
        "x": 0.1,
        "y": 0.1
       },
       "content": {
        "cell": "16e61ed9-a43c-4259-8c30-5d4399a762e2",
        "part": "whole"
       },
       "id": "db2bbe74-73c1-4f86-a4d3-c938d001490f"
      }
     }
    },
    "1e666791-596c-41f8-b73a-1cdbea63bdf6": {
     "id": "1e666791-596c-41f8-b73a-1cdbea63bdf6",
     "prev": "4507a7b0-7c0e-446f-81d8-49802f675485",
     "regions": {
      "c5717439-6951-4e46-9613-c0907bb16e48": {
       "attrs": {
        "height": 0.8,
        "width": 0.8,
        "x": 0.1,
        "y": 0.1
       },
       "content": {
        "cell": "9059fcc4-cbc5-4847-8e4d-7dd690176e3c",
        "part": "whole"
       },
       "id": "c5717439-6951-4e46-9613-c0907bb16e48"
      }
     }
    },
    "23e4be50-473b-43fc-bd50-a32acc642001": {
     "id": "23e4be50-473b-43fc-bd50-a32acc642001",
     "prev": "155dce0d-4aa1-4fb4-a251-8a88d6fc2ed1",
     "regions": {
      "c27ed864-d46c-4c89-86b4-7a8a650f33a0": {
       "attrs": {
        "height": 0.8,
        "width": 0.8,
        "x": 0.1,
        "y": 0.1
       },
       "content": {
        "cell": "d427d5f1-5fe8-4f5a-accb-8ca2e6839bfe",
        "part": "whole"
       },
       "id": "c27ed864-d46c-4c89-86b4-7a8a650f33a0"
      }
     }
    },
    "2f20840d-5c39-4de5-9085-030050eff696": {
     "id": "2f20840d-5c39-4de5-9085-030050eff696",
     "prev": "f63280d6-9c97-49f6-a496-6ee789928ee5",
     "regions": {
      "0a98f8c8-3ad5-4d94-a4ec-0bd6334f8ec8": {
       "attrs": {
        "height": 0.8,
        "width": 0.8,
        "x": 0.1,
        "y": 0.1
       },
       "content": {
        "cell": "bef2e871-9117-48ea-972b-a4dfd3e7ae65",
        "part": "whole"
       },
       "id": "0a98f8c8-3ad5-4d94-a4ec-0bd6334f8ec8"
      }
     }
    },
    "3060e86b-9098-4b76-b097-56408f8a7b9a": {
     "id": "3060e86b-9098-4b76-b097-56408f8a7b9a",
     "prev": "5daa011c-134f-4449-9a7d-a6cb218ab309",
     "regions": {
      "50593303-3ee1-4f50-af95-5b7fa913d2f8": {
       "attrs": {
        "height": 0.8,
        "width": 0.8,
        "x": 0.1,
        "y": 0.1
       },
       "content": {
        "cell": "dc2955b4-0926-48e1-a8f3-d09270d55f57",
        "part": "whole"
       },
       "id": "50593303-3ee1-4f50-af95-5b7fa913d2f8"
      }
     }
    },
    "3272dda7-eb6b-4193-8f61-fa4e3e95d6f2": {
     "id": "3272dda7-eb6b-4193-8f61-fa4e3e95d6f2",
     "prev": "84d31752-f286-4b2d-ab9b-74c9cd0d9cf8",
     "regions": {
      "8d8f8d99-e78b-4705-b71b-1d2435610648": {
       "attrs": {
        "height": 0.8,
        "width": 0.8,
        "x": 0.1,
        "y": 0.1
       },
       "content": {
        "cell": "83e123e9-90a5-4bb9-a4df-6ec15e77b646",
        "part": "whole"
       },
       "id": "8d8f8d99-e78b-4705-b71b-1d2435610648"
      }
     }
    },
    "38a58f5b-acb8-4571-b0c8-b6c12f41f5cc": {
     "id": "38a58f5b-acb8-4571-b0c8-b6c12f41f5cc",
     "prev": "c690df84-f6b1-4d3e-9132-59a5efb37fd6",
     "regions": {
      "e9013bd9-3946-4154-91b0-c81b9c8ab669": {
       "attrs": {
        "height": 0.8,
        "width": 0.8,
        "x": 0.1,
        "y": 0.1
       },
       "content": {
        "cell": "e45c0cbe-b455-46b8-8fc3-0ab0cc99cc85",
        "part": "whole"
       },
       "id": "e9013bd9-3946-4154-91b0-c81b9c8ab669"
      }
     }
    },
    "3d967ff1-bb59-4bc2-86ea-688ad779d42e": {
     "id": "3d967ff1-bb59-4bc2-86ea-688ad779d42e",
     "prev": "89b72808-0bcc-4c5c-8491-456d1f4d15bb",
     "regions": {
      "85046d76-db93-485b-9890-e6263127b5c3": {
       "attrs": {
        "height": 0.8,
        "width": 0.8,
        "x": 0.1,
        "y": 0.1
       },
       "content": {
        "cell": "cf326671-b769-4112-ad60-9338503b07b2",
        "part": "whole"
       },
       "id": "85046d76-db93-485b-9890-e6263127b5c3"
      }
     }
    },
    "4507a7b0-7c0e-446f-81d8-49802f675485": {
     "id": "4507a7b0-7c0e-446f-81d8-49802f675485",
     "prev": "3d967ff1-bb59-4bc2-86ea-688ad779d42e",
     "regions": {
      "47e00512-aac8-4e82-aca4-0cc28208044a": {
       "attrs": {
        "height": 0.8,
        "width": 0.8,
        "x": 0.1,
        "y": 0.1
       },
       "content": {
        "cell": "b145ec3a-1d83-4640-9e26-bb61360ae953",
        "part": "whole"
       },
       "id": "47e00512-aac8-4e82-aca4-0cc28208044a"
      }
     }
    },
    "48eab4e9-cb1d-4368-95d9-94fc2e8729ba": {
     "id": "48eab4e9-cb1d-4368-95d9-94fc2e8729ba",
     "prev": "3272dda7-eb6b-4193-8f61-fa4e3e95d6f2",
     "regions": {
      "72b0758e-bb14-46ce-be65-1740a3ae66ac": {
       "attrs": {
        "height": 0.8,
        "width": 0.8,
        "x": 0.1,
        "y": 0.1
       },
       "content": {
        "cell": "47f5289b-0edc-4558-93dc-c46291b6338b",
        "part": "whole"
       },
       "id": "72b0758e-bb14-46ce-be65-1740a3ae66ac"
      }
     }
    },
    "49044aea-b956-4511-b697-c2e7f3bb309b": {
     "id": "49044aea-b956-4511-b697-c2e7f3bb309b",
     "prev": "1e666791-596c-41f8-b73a-1cdbea63bdf6",
     "regions": {
      "add68d87-165d-4c4e-8c36-5988800c512a": {
       "attrs": {
        "height": 0.8,
        "width": 0.8,
        "x": 0.1,
        "y": 0.1
       },
       "content": {
        "cell": "6d387e21-ffaf-42e4-b298-9f0da6b7b608",
        "part": "whole"
       },
       "id": "add68d87-165d-4c4e-8c36-5988800c512a"
      }
     }
    },
    "5c3df914-8778-4a4e-8216-ba1054b2942c": {
     "id": "5c3df914-8778-4a4e-8216-ba1054b2942c",
     "prev": "a8f2f0e4-3f43-448e-b037-07388b880f24",
     "regions": {
      "a55cbdf8-8670-4824-98bf-6d28ee71537e": {
       "attrs": {
        "height": 0.8,
        "width": 0.8,
        "x": 0.1,
        "y": 0.1
       },
       "content": {
        "cell": "a668738a-2e6b-4953-9914-f0da00fc4803",
        "part": "whole"
       },
       "id": "a55cbdf8-8670-4824-98bf-6d28ee71537e"
      }
     }
    },
    "5cb0df00-b578-4701-8aa5-809686fcbbb4": {
     "id": "5cb0df00-b578-4701-8aa5-809686fcbbb4",
     "prev": "d9ad6ee8-3bc0-454b-ae41-171644c4aecf",
     "regions": {
      "9c96d84a-d478-4fc0-928a-3e7265b59104": {
       "attrs": {
        "height": 0.8,
        "width": 0.8,
        "x": 0.1,
        "y": 0.1
       },
       "content": {
        "cell": "6c58eac9-6b38-4875-a51d-349970bf66ba",
        "part": "whole"
       },
       "id": "9c96d84a-d478-4fc0-928a-3e7265b59104"
      }
     }
    },
    "5daa011c-134f-4449-9a7d-a6cb218ab309": {
     "id": "5daa011c-134f-4449-9a7d-a6cb218ab309",
     "prev": "ccc7d071-8f2e-4d74-ac81-000b3e3aa5c3",
     "regions": {
      "0f75d334-7b1c-42f7-8bb5-61bed0b5d54a": {
       "attrs": {
        "height": 0.8,
        "width": 0.8,
        "x": 0.1,
        "y": 0.1
       },
       "content": {
        "cell": "37341844-cc29-421c-8c55-055356b145cc",
        "part": "whole"
       },
       "id": "0f75d334-7b1c-42f7-8bb5-61bed0b5d54a"
      }
     }
    },
    "6598ebb8-be77-4db5-a5d0-b0a5177a0e12": {
     "id": "6598ebb8-be77-4db5-a5d0-b0a5177a0e12",
     "prev": "2f20840d-5c39-4de5-9085-030050eff696",
     "regions": {
      "8dea4a06-cceb-4ad0-854b-c688a91a3080": {
       "attrs": {
        "height": 0.8,
        "width": 0.8,
        "x": 0.1,
        "y": 0.1
       },
       "content": {
        "cell": "06316966-f33c-4be8-936c-51d7dd4543c1",
        "part": "whole"
       },
       "id": "8dea4a06-cceb-4ad0-854b-c688a91a3080"
      }
     }
    },
    "6caf3660-d5b4-49e5-ae85-f7f3fb41d9cc": {
     "id": "6caf3660-d5b4-49e5-ae85-f7f3fb41d9cc",
     "prev": "1acea520-22eb-4c8d-b725-f75e29726ef3",
     "regions": {
      "8ba9b7a9-c464-43d3-87a4-2f75e35619a9": {
       "attrs": {
        "height": 0.8,
        "width": 0.8,
        "x": 0.1,
        "y": 0.1
       },
       "content": {
        "cell": "11ffc63e-2499-4924-81a6-3a01ea6da28a",
        "part": "whole"
       },
       "id": "8ba9b7a9-c464-43d3-87a4-2f75e35619a9"
      }
     }
    },
    "6f29642e-ad10-4d95-8580-13259774b0dd": {
     "id": "6f29642e-ad10-4d95-8580-13259774b0dd",
     "prev": "48eab4e9-cb1d-4368-95d9-94fc2e8729ba",
     "regions": {
      "c0d36dcf-12bf-4eda-b885-b5c5b6f3854e": {
       "attrs": {
        "height": 0.8,
        "width": 0.8,
        "x": 0.1,
        "y": 0.1
       },
       "content": {
        "cell": "b896e8e6-433a-47c6-a4b8-1e97f49bd19f",
        "part": "whole"
       },
       "id": "c0d36dcf-12bf-4eda-b885-b5c5b6f3854e"
      }
     }
    },
    "73f93d7d-652d-4687-abb1-f9310f46e778": {
     "id": "73f93d7d-652d-4687-abb1-f9310f46e778",
     "prev": "d857587a-9a97-4383-94f0-54d417d135b0",
     "regions": {
      "ca1b83bb-fa17-4742-a6f6-7584b46dd3cf": {
       "attrs": {
        "height": 0.8,
        "width": 0.8,
        "x": 0.1,
        "y": 0.1
       },
       "content": {
        "cell": "87a180de-e1af-4923-a5e0-cccf96b7f883",
        "part": "whole"
       },
       "id": "ca1b83bb-fa17-4742-a6f6-7584b46dd3cf"
      }
     }
    },
    "84d31752-f286-4b2d-ab9b-74c9cd0d9cf8": {
     "id": "84d31752-f286-4b2d-ab9b-74c9cd0d9cf8",
     "prev": "ebd37d62-ce3c-40ac-8892-41fa7b313b38",
     "regions": {
      "e30d571f-25d5-47e6-9370-a4b9bf6e18c9": {
       "attrs": {
        "height": 0.8,
        "width": 0.8,
        "x": 0.1,
        "y": 0.1
       },
       "content": {
        "cell": "63c1b8da-14e8-424f-b393-031fee97535f",
        "part": "whole"
       },
       "id": "e30d571f-25d5-47e6-9370-a4b9bf6e18c9"
      }
     }
    },
    "89196030-e073-4867-96ac-82781036bd2d": {
     "id": "89196030-e073-4867-96ac-82781036bd2d",
     "prev": "6f29642e-ad10-4d95-8580-13259774b0dd",
     "regions": {
      "f70d436e-de8f-4bff-956b-ed47dd0e2ec7": {
       "attrs": {
        "height": 0.8,
        "width": 0.8,
        "x": 0.1,
        "y": 0.1
       },
       "content": {
        "cell": "5b4d8c2b-11d1-4772-80de-a8d7ed339909",
        "part": "whole"
       },
       "id": "f70d436e-de8f-4bff-956b-ed47dd0e2ec7"
      }
     }
    },
    "89b72808-0bcc-4c5c-8491-456d1f4d15bb": {
     "id": "89b72808-0bcc-4c5c-8491-456d1f4d15bb",
     "prev": "38a58f5b-acb8-4571-b0c8-b6c12f41f5cc",
     "regions": {
      "10275d8a-b7e3-43e8-b47e-ebcece35dc7a": {
       "attrs": {
        "height": 0.8,
        "width": 0.8,
        "x": 0.1,
        "y": 0.1
       },
       "content": {
        "cell": "0f084399-3e73-4525-b908-1709b1433b96",
        "part": "whole"
       },
       "id": "10275d8a-b7e3-43e8-b47e-ebcece35dc7a"
      }
     }
    },
    "a8f2f0e4-3f43-448e-b037-07388b880f24": {
     "id": "a8f2f0e4-3f43-448e-b037-07388b880f24",
     "prev": "d54c50f7-19a7-45a4-a790-48620724d82c",
     "regions": {
      "813d57c2-08b8-4078-810b-fb3766f2fbeb": {
       "attrs": {
        "height": 0.8,
        "width": 0.8,
        "x": 0.1,
        "y": 0.1
       },
       "content": {
        "cell": "c7a3fc61-2024-40ec-b5fd-91a9f631439d",
        "part": "whole"
       },
       "id": "813d57c2-08b8-4078-810b-fb3766f2fbeb"
      }
     }
    },
    "aa2dc83d-81f0-491a-93ac-ea33448e733f": {
     "id": "aa2dc83d-81f0-491a-93ac-ea33448e733f",
     "prev": "6598ebb8-be77-4db5-a5d0-b0a5177a0e12",
     "regions": {
      "602f6f9d-86bb-48d8-af0f-5559a25bf2bc": {
       "attrs": {
        "height": 0.8,
        "width": 0.8,
        "x": 0.1,
        "y": 0.1
       },
       "content": {
        "cell": "f4070362-5ce1-4cb1-938f-e1f10e01eef3",
        "part": "whole"
       },
       "id": "602f6f9d-86bb-48d8-af0f-5559a25bf2bc"
      }
     }
    },
    "c690df84-f6b1-4d3e-9132-59a5efb37fd6": {
     "id": "c690df84-f6b1-4d3e-9132-59a5efb37fd6",
     "prev": null,
     "regions": {
      "71b89878-d329-4bee-a0ce-4d80481e67a6": {
       "attrs": {
        "height": 0.8,
        "width": 0.8,
        "x": 0.1,
        "y": 0.1
       },
       "content": {
        "cell": "e45c0cbe-b455-46b8-8fc3-0ab0cc99cc85",
        "part": "source"
       },
       "id": "71b89878-d329-4bee-a0ce-4d80481e67a6"
      }
     }
    },
    "ccc7d071-8f2e-4d74-ac81-000b3e3aa5c3": {
     "id": "ccc7d071-8f2e-4d74-ac81-000b3e3aa5c3",
     "prev": "49044aea-b956-4511-b697-c2e7f3bb309b",
     "regions": {
      "9a4b0757-cd22-4d06-9781-3feb31f6c470": {
       "attrs": {
        "height": 0.8,
        "width": 0.8,
        "x": 0.1,
        "y": 0.1
       },
       "content": {
        "cell": "4f7c52ad-f616-40cf-b2ae-f42d7f1c1bbd",
        "part": "whole"
       },
       "id": "9a4b0757-cd22-4d06-9781-3feb31f6c470"
      }
     }
    },
    "d54c50f7-19a7-45a4-a790-48620724d82c": {
     "id": "d54c50f7-19a7-45a4-a790-48620724d82c",
     "prev": "dabf3b49-9959-44db-b6a8-afc5b21c5685",
     "regions": {
      "3f9d22a2-b7e0-4014-a0c2-dc5dc36333ce": {
       "attrs": {
        "height": 0.8,
        "width": 0.8,
        "x": 0.1,
        "y": 0.1
       },
       "content": {
        "cell": "e24eb67f-42fa-4b9f-91a9-048b4d3faeff",
        "part": "whole"
       },
       "id": "3f9d22a2-b7e0-4014-a0c2-dc5dc36333ce"
      }
     }
    },
    "d682e02c-01b0-4ac5-9913-ea06b0c47d7b": {
     "id": "d682e02c-01b0-4ac5-9913-ea06b0c47d7b",
     "prev": "aa2dc83d-81f0-491a-93ac-ea33448e733f",
     "regions": {
      "c2c268eb-5eba-4723-8c50-1a2dc5aa3e1a": {
       "attrs": {
        "height": 0.8,
        "width": 0.8,
        "x": 0.1,
        "y": 0.1
       },
       "content": {
        "cell": "f19393cd-e4aa-4350-a664-0f3b1f453296",
        "part": "whole"
       },
       "id": "c2c268eb-5eba-4723-8c50-1a2dc5aa3e1a"
      }
     }
    },
    "d857587a-9a97-4383-94f0-54d417d135b0": {
     "id": "d857587a-9a97-4383-94f0-54d417d135b0",
     "prev": "3060e86b-9098-4b76-b097-56408f8a7b9a",
     "regions": {
      "89b4021c-43f5-42c9-b11f-3a8311ba1fe7": {
       "attrs": {
        "height": 0.8,
        "width": 0.8,
        "x": 0.1,
        "y": 0.1
       },
       "content": {
        "cell": "13b4efcb-56fb-4a37-a003-a0b07a734e73",
        "part": "whole"
       },
       "id": "89b4021c-43f5-42c9-b11f-3a8311ba1fe7"
      }
     }
    },
    "d9ad6ee8-3bc0-454b-ae41-171644c4aecf": {
     "id": "d9ad6ee8-3bc0-454b-ae41-171644c4aecf",
     "prev": "5c3df914-8778-4a4e-8216-ba1054b2942c",
     "regions": {
      "f67e50c4-87ef-44b9-93ef-2868c02380da": {
       "attrs": {
        "height": 0.8,
        "width": 0.8,
        "x": 0.1,
        "y": 0.1
       },
       "content": {
        "cell": "16e61ed9-a43c-4259-8c30-5d4399a762e2",
        "part": "outputs"
       },
       "id": "f67e50c4-87ef-44b9-93ef-2868c02380da"
      }
     }
    },
    "dabf3b49-9959-44db-b6a8-afc5b21c5685": {
     "id": "dabf3b49-9959-44db-b6a8-afc5b21c5685",
     "prev": "73f93d7d-652d-4687-abb1-f9310f46e778",
     "regions": {
      "65de9a10-ece7-4d97-b8b0-fe05aa2df8c1": {
       "attrs": {
        "height": 0.8,
        "width": 0.8,
        "x": 0.1,
        "y": 0.1
       },
       "content": {
        "cell": "b484b839-f16f-498b-b7f3-dfe5e9558c87",
        "part": "whole"
       },
       "id": "65de9a10-ece7-4d97-b8b0-fe05aa2df8c1"
      }
     }
    },
    "ebd37d62-ce3c-40ac-8892-41fa7b313b38": {
     "id": "ebd37d62-ce3c-40ac-8892-41fa7b313b38",
     "prev": "06e2a39b-3088-4770-bb43-9ce2ab43607b",
     "regions": {
      "1d734f79-0018-41db-ba7f-ccd45c64d880": {
       "attrs": {
        "height": 0.8,
        "width": 0.8,
        "x": 0.1,
        "y": 0.1
       },
       "content": {
        "cell": "3bf966d6-cf45-4eec-94b1-b0a90b89f6b9",
        "part": "whole"
       },
       "id": "1d734f79-0018-41db-ba7f-ccd45c64d880"
      }
     }
    },
    "f63280d6-9c97-49f6-a496-6ee789928ee5": {
     "id": "f63280d6-9c97-49f6-a496-6ee789928ee5",
     "prev": "23e4be50-473b-43fc-bd50-a32acc642001",
     "regions": {
      "839e4afe-7fd3-48a6-a6ef-b65e4a5ad499": {
       "attrs": {
        "height": 0.8,
        "width": 0.8,
        "x": 0.1,
        "y": 0.1
       },
       "content": {
        "cell": "7f093917-6a5a-40dc-919e-448b7f4d38af",
        "part": "whole"
       },
       "id": "839e4afe-7fd3-48a6-a6ef-b65e4a5ad499"
      }
     }
    }
   },
   "themes": {
    "default": "13cd70fe-d170-40b1-8a07-9eb6ede440fc",
    "theme": {
     "13cd70fe-d170-40b1-8a07-9eb6ede440fc": {
      "id": "13cd70fe-d170-40b1-8a07-9eb6ede440fc",
      "palette": {
       "19cc588f-0593-49c9-9f4b-e4d7cc113b1c": {
        "id": "19cc588f-0593-49c9-9f4b-e4d7cc113b1c",
        "rgb": [
         252,
         252,
         252
        ]
       },
       "31af15d2-7e15-44c5-ab5e-e04b16a89eff": {
        "id": "31af15d2-7e15-44c5-ab5e-e04b16a89eff",
        "rgb": [
         68,
         68,
         68
        ]
       },
       "50f92c45-a630-455b-aec3-788680ec7410": {
        "id": "50f92c45-a630-455b-aec3-788680ec7410",
        "rgb": [
         155,
         177,
         192
        ]
       },
       "c5cc3653-2ee1-402a-aba2-7caae1da4f6c": {
        "id": "c5cc3653-2ee1-402a-aba2-7caae1da4f6c",
        "rgb": [
         43,
         126,
         184
        ]
       },
       "efa7f048-9acb-414c-8b04-a26811511a21": {
        "id": "efa7f048-9acb-414c-8b04-a26811511a21",
        "rgb": [
         25.118061674008803,
         73.60176211453744,
         107.4819383259912
        ]
       }
      },
      "rules": {
       "blockquote": {
        "color": "50f92c45-a630-455b-aec3-788680ec7410"
       },
       "code": {
        "font-family": "Anonymous Pro"
       },
       "h1": {
        "color": "c5cc3653-2ee1-402a-aba2-7caae1da4f6c",
        "font-family": "Lato",
        "font-size": 8
       },
       "h2": {
        "color": "c5cc3653-2ee1-402a-aba2-7caae1da4f6c",
        "font-family": "Lato",
        "font-size": 6
       },
       "h3": {
        "color": "50f92c45-a630-455b-aec3-788680ec7410",
        "font-family": "Lato",
        "font-size": 5.5
       },
       "h4": {
        "color": "c5cc3653-2ee1-402a-aba2-7caae1da4f6c",
        "font-family": "Lato",
        "font-size": 5
       },
       "h5": {
        "font-family": "Lato"
       },
       "h6": {
        "font-family": "Lato"
       },
       "h7": {
        "font-family": "Lato"
       },
       "pre": {
        "font-family": "Anonymous Pro",
        "font-size": 4
       }
      },
      "text-base": {
       "font-family": "Merriweather",
       "font-size": 4
      }
     },
     "1bf61d15-2381-4af7-b877-1ad810c1d003": {
      "backgrounds": {
       "dc7afa04-bf90-40b1-82a5-726e3cff5267": {
        "background-color": "31af15d2-7e15-44c5-ab5e-e04b16a89eff",
        "id": "dc7afa04-bf90-40b1-82a5-726e3cff5267"
       }
      },
      "id": "1bf61d15-2381-4af7-b877-1ad810c1d003",
      "palette": {
       "19cc588f-0593-49c9-9f4b-e4d7cc113b1c": {
        "id": "19cc588f-0593-49c9-9f4b-e4d7cc113b1c",
        "rgb": [
         252,
         252,
         252
        ]
       },
       "31af15d2-7e15-44c5-ab5e-e04b16a89eff": {
        "id": "31af15d2-7e15-44c5-ab5e-e04b16a89eff",
        "rgb": [
         68,
         68,
         68
        ]
       },
       "50f92c45-a630-455b-aec3-788680ec7410": {
        "id": "50f92c45-a630-455b-aec3-788680ec7410",
        "rgb": [
         197,
         226,
         245
        ]
       },
       "c5cc3653-2ee1-402a-aba2-7caae1da4f6c": {
        "id": "c5cc3653-2ee1-402a-aba2-7caae1da4f6c",
        "rgb": [
         43,
         126,
         184
        ]
       },
       "efa7f048-9acb-414c-8b04-a26811511a21": {
        "id": "efa7f048-9acb-414c-8b04-a26811511a21",
        "rgb": [
         25.118061674008803,
         73.60176211453744,
         107.4819383259912
        ]
       }
      },
      "rules": {
       "a": {
        "color": "19cc588f-0593-49c9-9f4b-e4d7cc113b1c"
       },
       "blockquote": {
        "color": "50f92c45-a630-455b-aec3-788680ec7410",
        "font-size": 3
       },
       "code": {
        "font-family": "Anonymous Pro"
       },
       "h1": {
        "color": "19cc588f-0593-49c9-9f4b-e4d7cc113b1c",
        "font-family": "Merriweather",
        "font-size": 8
       },
       "h2": {
        "color": "19cc588f-0593-49c9-9f4b-e4d7cc113b1c",
        "font-family": "Merriweather",
        "font-size": 6
       },
       "h3": {
        "color": "50f92c45-a630-455b-aec3-788680ec7410",
        "font-family": "Lato",
        "font-size": 5.5
       },
       "h4": {
        "color": "c5cc3653-2ee1-402a-aba2-7caae1da4f6c",
        "font-family": "Lato",
        "font-size": 5
       },
       "h5": {
        "font-family": "Lato"
       },
       "h6": {
        "font-family": "Lato"
       },
       "h7": {
        "font-family": "Lato"
       },
       "li": {
        "color": "50f92c45-a630-455b-aec3-788680ec7410",
        "font-size": 3.25
       },
       "pre": {
        "font-family": "Anonymous Pro",
        "font-size": 4
       }
      },
      "text-base": {
       "color": "19cc588f-0593-49c9-9f4b-e4d7cc113b1c",
       "font-family": "Lato",
       "font-size": 4
      }
     },
     "3f3e5c4c-f921-40b0-894c-e83f5884ebb6": {
      "backgrounds": {
       "backgroundColor": {
        "background-color": "backgroundColor",
        "id": "backgroundColor"
       }
      },
      "id": "3f3e5c4c-f921-40b0-894c-e83f5884ebb6",
      "palette": {
       "backgroundColor": {
        "id": "backgroundColor",
        "rgb": [
         247,
         243,
         222
        ]
       },
       "headingColor": {
        "id": "headingColor",
        "rgb": [
         51,
         51,
         51
        ]
       },
       "linkColor": {
        "id": "linkColor",
        "rgb": [
         139,
         116,
         61
        ]
       },
       "mainColor": {
        "id": "mainColor",
        "rgb": [
         51,
         51,
         51
        ]
       }
      },
      "rules": {
       "a": {
        "color": "linkColor"
       },
       "h1": {
        "color": "headingColor",
        "font-family": "Oswald",
        "font-size": 7
       },
       "h2": {
        "color": "headingColor",
        "font-family": "Oswald",
        "font-size": 5
       },
       "h3": {
        "color": "headingColor",
        "font-family": "Oswald",
        "font-size": 3.75
       },
       "h4": {
        "color": "headingColor",
        "font-family": "Oswald",
        "font-size": 3
       },
       "h5": {
        "color": "headingColor",
        "font-family": "Oswald"
       },
       "h6": {
        "color": "headingColor",
        "font-family": "Oswald"
       },
       "h7": {
        "color": "headingColor",
        "font-family": "Oswald"
       },
       "li": {
        "color": "mainColor",
        "font-family": "Lato",
        "font-size": 5
       },
       "p": {
        "color": "mainColor",
        "font-family": "Lato",
        "font-size": 5
       }
      },
      "text-base": {
       "color": "mainColor",
       "font-family": "Lato",
       "font-size": 5
      }
     }
    }
   }
  }
 },
 "nbformat": 4,
 "nbformat_minor": 2
}
