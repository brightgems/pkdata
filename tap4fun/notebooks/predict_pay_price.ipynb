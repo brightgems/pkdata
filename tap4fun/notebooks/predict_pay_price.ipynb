{
 "cells": [
  {
   "cell_type": "markdown",
   "metadata": {
    "nbpresent": {
     "id": "e0c1ce36-c934-4dd5-abbd-d36c4fe17bd2"
    }
   },
   "source": [
    "# Predict pay user\n",
    "本文使用中间数据集的特征预测7日后付费的用户（包括复购和新付费用户）。\n",
    "\n",
    "通过对5大类因子有效性的研究得到有效的模型输入. 筛选因子的主要方法：\n",
    "1. 大类中的因子等权平均\n",
    "2. 大类中的因子用PCA压缩（矩阵正交），得到最大解释比例的因子\n",
    "3. stepwise(RFE)，通过ploy, cross product产生的新因子，使用模型迭代筛选出最有效的因子\n",
    "\n",
    "[Strategies to scale computationally: bigger data](http://scikit-learn.org/stable/modules/scaling_strategies.html)"
   ]
  },
  {
   "cell_type": "code",
   "execution_count": 1,
   "metadata": {},
   "outputs": [],
   "source": [
    "# improt packages\n",
    "import pandas as pd\n",
    "import pprint\n",
    "import tableprint as tp\n",
    "import numpy as np\n",
    "import itertools as it\n",
    "\n",
    "import matplotlib as mpl\n",
    "import matplotlib.pylab as plt\n",
    "from matplotlib.font_manager import FontProperties\n",
    "import seaborn as sns\n",
    "\n",
    "font0 = FontProperties()\n",
    "alignment = {'horizontalalignment': 'center', 'verticalalignment': 'baseline'}\n",
    "# Show family options\n",
    "\n",
    "families = ['serif', 'sans-serif', 'cursive', 'fantasy', 'monospace']\n",
    "\n",
    "font1 = font0.copy()\n",
    "font1.set_size('large')\n",
    "plt.style.use('ggplot')\n",
    "pp = pprint.PrettyPrinter(indent=4)\n",
    "%matplotlib inline"
   ]
  },
  {
   "cell_type": "markdown",
   "metadata": {},
   "source": [
    "读取X和y，均为未标准化数据集, y为log后的数据"
   ]
  },
  {
   "cell_type": "code",
   "execution_count": 2,
   "metadata": {},
   "outputs": [],
   "source": [
    "X = pd.read_csv('tmp/X.csv',memory_map=True)\n",
    "X=X.fillna(0)"
   ]
  },
  {
   "cell_type": "code",
   "execution_count": 3,
   "metadata": {},
   "outputs": [
    {
     "data": {
      "text/plain": [
       "(2288007, 53)"
      ]
     },
     "execution_count": 3,
     "metadata": {},
     "output_type": "execute_result"
    }
   ],
   "source": [
    "valid_cols = list(map(lambda x: not x.startswith('prediction_'),X.columns))\n",
    "X=X.loc[:,valid_cols]\n",
    "X.shape"
   ]
  },
  {
   "cell_type": "code",
   "execution_count": 4,
   "metadata": {},
   "outputs": [],
   "source": [
    "y = pd.read_csv('tmp/y.csv',header=None)\n",
    "y_clf = y.values.ravel()>0"
   ]
  },
  {
   "cell_type": "code",
   "execution_count": 5,
   "metadata": {},
   "outputs": [
    {
     "data": {
      "text/plain": [
       "(2288007, 1)"
      ]
     },
     "execution_count": 5,
     "metadata": {},
     "output_type": "execute_result"
    }
   ],
   "source": [
    "y_log = np.log(y.values.ravel()+1)\n",
    "y.shape"
   ]
  },
  {
   "cell_type": "code",
   "execution_count": 6,
   "metadata": {},
   "outputs": [],
   "source": [
    "df_variable = pd.read_excel('data/tap4fun.xlsx',sheet_name='Sheet1')\n",
    "df_variable = df_variable.iloc[:,range(3)].rename(columns={'字段名':'column','字段解释':'desc','数据时间':'cycle'})\n",
    "df_variable['cat'] = df_variable.column.str.split('_').apply(lambda x: x[0])\n"
   ]
  },
  {
   "cell_type": "markdown",
   "metadata": {},
   "source": [
    "将因子做成n类，分别做因子合成\n",
    "- 支付/消费： 订单总和，订单量总和，平均订单价值\n",
    "- 会员活跃度： 在线时间\n",
    "- 游戏效率：战争积分，内政积分, \n",
    "- 异动指标：周平均流失率，日平均流失率\n",
    "- 转化率：每小时消费金额， 每小时内政积分，第小时战争积分"
   ]
  },
  {
   "cell_type": "markdown",
   "metadata": {},
   "source": [
    "对支付类因子做因子合成"
   ]
  },
  {
   "cell_type": "code",
   "execution_count": 7,
   "metadata": {},
   "outputs": [
    {
     "data": {
      "text/plain": [
       "['pay_price_log',\n",
       " 'avg_pay',\n",
       " 'pay_price_per_hour',\n",
       " 'pay_count',\n",
       " 'pay_price_group_(-0.01, 0.0]',\n",
       " 'pay_price_group_(0.0, 1.0]',\n",
       " 'pay_price_group_(1.0, 10.0]',\n",
       " 'pay_price_group_(10.0, 100.0]',\n",
       " 'pay_price_group_(100.0, 1000.0]',\n",
       " 'pay_price_group_(1000.0, 5000.0]',\n",
       " 'pay_price_group_(5000.0, 10000.0]',\n",
       " 'avg_pay_group_(-0.01, 0.0]',\n",
       " 'avg_pay_group_(0.0, 1.0]',\n",
       " 'avg_pay_group_(1.0, 5.0]',\n",
       " 'avg_pay_group_(5.0, 10.0]',\n",
       " 'avg_pay_group_(10.0, 20.0]',\n",
       " 'avg_pay_group_(20.0, 50.0]',\n",
       " 'avg_pay_group_(50.0, 100.0]',\n",
       " 'pay_count_group_(-1, 0]',\n",
       " 'pay_count_group_(0, 1]',\n",
       " 'pay_count_group_(1, 2]',\n",
       " 'pay_count_group_(2, 3]',\n",
       " 'pay_count_group_(3, 4]',\n",
       " 'pay_count_group_(4, 200]']"
      ]
     },
     "execution_count": 7,
     "metadata": {},
     "output_type": "execute_result"
    }
   ],
   "source": [
    "# 查询消费类因子\n",
    "from toolz import filter\n",
    "pay_cols= list(filter(lambda x: 'pay' in x, X.columns))\n",
    "pay_cols"
   ]
  },
  {
   "cell_type": "code",
   "execution_count": 8,
   "metadata": {},
   "outputs": [
    {
     "data": {
      "image/png": "[encoded data removed]",
      "text/plain": [
       "<matplotlib.figure.Figure at 0x19e030f0>"
      ]
     },
     "metadata": {},
     "output_type": "display_data"
    }
   ],
   "source": [
    "pay_corr = X.loc[:,pay_cols].corr()\n",
    "sns.heatmap(pay_corr);"
   ]
  },
  {
   "cell_type": "code",
   "execution_count": 11,
   "metadata": {},
   "outputs": [
    {
     "data": {
      "text/plain": [
       "PCA(copy=True, iterated_power='auto', n_components=None, random_state=None,\n",
       "  svd_solver='auto', tol=0.0, whiten=False)"
      ]
     },
     "execution_count": 11,
     "metadata": {},
     "output_type": "execute_result"
    }
   ],
   "source": [
    "from sklearn.decomposition import PCA\n",
    "pca = PCA()\n",
    "pca.fit( X.loc[:,pay_cols])\n"
   ]
  },
  {
   "cell_type": "code",
   "execution_count": 12,
   "metadata": {},
   "outputs": [
    {
     "data": {
      "text/plain": [
       "array([0.84119659, 0.94302524, 0.97623468, 0.98737931, 0.99240494,\n",
       "       0.99487397, 0.9960829 , 0.99722461, 0.99805445, 0.99884476,\n",
       "       0.99937326, 0.99967542, 0.99982154, 0.99990903, 0.99996146,\n",
       "       0.99998096, 0.99999045, 0.99999863, 1.        , 1.        ,\n",
       "       1.        , 1.        , 1.        , 1.        ])"
      ]
     },
     "execution_count": 12,
     "metadata": {},
     "output_type": "execute_result"
    }
   ],
   "source": [
    "np.cumsum(pca.explained_variance_ratio_)"
   ]
  },
  {
   "cell_type": "markdown",
   "metadata": {},
   "source": [
    "会员活跃度因子"
   ]
  },
  {
   "cell_type": "code",
   "execution_count": 13,
   "metadata": {},
   "outputs": [
    {
     "data": {
      "image/png": "[encoded data removed]",
      "text/plain": [
       "<matplotlib.figure.Figure at 0x19debda0>"
      ]
     },
     "metadata": {},
     "output_type": "display_data"
    }
   ],
   "source": [
    "X['avg_online_minutes_log10'] = np.log10(X['avg_online_minutes']+1)\n",
    "\n",
    "active_cols= list(filter(lambda x: 'avg_online' in x, X.columns)) \n",
    "active_corr = X.loc[:,active_cols].corr()\n",
    "sns.heatmap(active_corr);"
   ]
  },
  {
   "cell_type": "code",
   "execution_count": 14,
   "metadata": {},
   "outputs": [
    {
     "data": {
      "text/plain": [
       "['avg_online_minutes_log10']"
      ]
     },
     "execution_count": 14,
     "metadata": {},
     "output_type": "execute_result"
    }
   ],
   "source": [
    "active_cols = ['avg_online_minutes_log10']#[x for x in active_cols  if x not in ['avg_online_minutes']]\n",
    "active_cols"
   ]
  },
  {
   "cell_type": "markdown",
   "metadata": {},
   "source": [
    "会员成就因子合成"
   ]
  },
  {
   "cell_type": "code",
   "execution_count": 15,
   "metadata": {},
   "outputs": [
    {
     "data": {
      "text/plain": [
       "count    2.288007e+06\n",
       "mean     1.797366e-01\n",
       "std      1.092318e+00\n",
       "min      0.000000e+00\n",
       "25%      0.000000e+00\n",
       "50%      0.000000e+00\n",
       "75%      1.727273e-01\n",
       "max      6.530000e+02\n",
       "Name: acceleration_reduce%, dtype: float64"
      ]
     },
     "execution_count": 15,
     "metadata": {},
     "output_type": "execute_result"
    }
   ],
   "source": [
    "X['acceleration_reduce%'].describe()"
   ]
  },
  {
   "cell_type": "code",
   "execution_count": 16,
   "metadata": {},
   "outputs": [],
   "source": [
    "efficiency_cols = ['army_add','resource_add','acceleration_add']\n",
    "for col in efficiency_cols:\n",
    "    X[col+'_log'] = np.log(X[col]+1)\n",
    "\n",
    "X['achievement'] = np.log(X['army_add']+X['resource_add']+1)\n",
    "X['achievement_per_hour'] = X['achievement']/X['avg_online_minutes']/60\n",
    "X['acceleration_per_hour'] = X['acceleration_add']/X['avg_online_minutes']/60    \n",
    "X.loc[X.avg_online_minutes==0,'achievement_per_hour']=0\n",
    "X.loc[X.avg_online_minutes==0,'acceleration_per_hour']=0\n",
    "X['acceleration_per_hour_log']= np.log(X['acceleration_per_hour']+1)\n",
    "X['acceleration_reduce_per_hour_log']= np.log(X['acceleration_per_hour']*X['acceleration_reduce%']+1)\n",
    "X['resource_reduce_log']= np.log(X['resource_add']*X['resource_reduce%']+1)\n",
    "X['army_reduce_log']= np.log(X['army_add']*X['resource_reduce%']+1)\n",
    "X['achievement_per_hour_log']= np.log(X['achievement_per_hour']+1)\n",
    "X['sr_main_score_per_hour_log']= np.log(X['sr_main_score']/X['avg_online_minutes']/60  +1)\n",
    "X['sr_level_score_per_hour']= X['sr_level_score']/X['avg_online_minutes']/60\n",
    "X['army_reduce_per_battle'] = (X['army_add']*X['army_reduce%']+1)/X['battle_count']\n",
    "X.loc[X.avg_online_minutes==0,'sr_main_score_per_hour_log']=0\n",
    "X.loc[X.avg_online_minutes==0,'sr_level_score_per_hour']=0\n",
    "X.loc[X.battle_count==0,'army_reduce_per_battle']=0\n",
    "X['sr_level_score_per_hour_log']= np.log(X['sr_level_score_per_hour'] +1)\n",
    "X['bd_resource_ratio'] = X['resource_reduce%']*X['resource_add']/X['bd_main_score']\n",
    "X.loc[X.bd_main_score==0,'bd_resource_ratio']=0\n",
    "X['army_reduce_per_battle_log']= np.log(X['army_reduce_per_battle'] +1)\n",
    "X['minutes_per_battle'] = X['avg_online_minutes']/X['battle_count']\n",
    "X.loc[X.battle_count==0,'minutes_per_battle']=0\n",
    "X = X.fillna(0)\n",
    "# 'sr_level_score',\n",
    "#  'sr_main_score',\n",
    "#  'bd_main_score',\n",
    "war_cols = ['battle_count','army_reduce_per_battle_log','minutes_per_battle','bd_resource_ratio','battle_win%','pvp_launch%','pvp_win%']\n",
    "achievement_cols= ['sr_main_score','bd_main_score']#'resource_reduce_log','achievement','achievement_per_hour_log','acceleration_per_hour_log','acceleration_reduce_per_hour_log']\n",
    "achievement_cols += war_cols\n",
    "# achievement_corr = X.loc[:,achievement_cols].corr()\n",
    "# sns.heatmap(achievement_corr);"
   ]
  },
  {
   "cell_type": "code",
   "execution_count": 17,
   "metadata": {},
   "outputs": [
    {
     "data": {
      "text/html": [
       "<div>\n",
       "<table border=\"1\" class=\"dataframe\">\n",
       "  <thead>\n",
       "    <tr style=\"text-align: right;\">\n",
       "      <th></th>\n",
       "      <th>sr_main_score</th>\n",
       "      <th>bd_main_score</th>\n",
       "      <th>battle_count</th>\n",
       "      <th>army_reduce_per_battle_log</th>\n",
       "      <th>minutes_per_battle</th>\n",
       "      <th>bd_resource_ratio</th>\n",
       "      <th>battle_win%</th>\n",
       "      <th>pvp_launch%</th>\n",
       "      <th>pvp_win%</th>\n",
       "    </tr>\n",
       "  </thead>\n",
       "  <tbody>\n",
       "    <tr>\n",
       "      <th>count</th>\n",
       "      <td>2.288007e+06</td>\n",
       "      <td>2.288007e+06</td>\n",
       "      <td>2.288007e+06</td>\n",
       "      <td>2.288007e+06</td>\n",
       "      <td>2.288007e+06</td>\n",
       "      <td>2.288007e+06</td>\n",
       "      <td>2.288007e+06</td>\n",
       "      <td>2.288007e+06</td>\n",
       "      <td>2.288007e+06</td>\n",
       "    </tr>\n",
       "    <tr>\n",
       "      <th>mean</th>\n",
       "      <td>3.784112e-02</td>\n",
       "      <td>8.971792e-01</td>\n",
       "      <td>4.993052e+00</td>\n",
       "      <td>7.927039e-01</td>\n",
       "      <td>9.870452e-01</td>\n",
       "      <td>2.221769e+05</td>\n",
       "      <td>2.647617e-01</td>\n",
       "      <td>6.899958e-02</td>\n",
       "      <td>6.822605e-02</td>\n",
       "    </tr>\n",
       "    <tr>\n",
       "      <th>std</th>\n",
       "      <td>1.352270e-01</td>\n",
       "      <td>1.475248e+00</td>\n",
       "      <td>2.106555e+01</td>\n",
       "      <td>1.589268e+00</td>\n",
       "      <td>3.924223e+00</td>\n",
       "      <td>2.122022e+06</td>\n",
       "      <td>4.036848e-01</td>\n",
       "      <td>2.193975e-01</td>\n",
       "      <td>2.163774e-01</td>\n",
       "    </tr>\n",
       "    <tr>\n",
       "      <th>min</th>\n",
       "      <td>0.000000e+00</td>\n",
       "      <td>0.000000e+00</td>\n",
       "      <td>0.000000e+00</td>\n",
       "      <td>0.000000e+00</td>\n",
       "      <td>0.000000e+00</td>\n",
       "      <td>0.000000e+00</td>\n",
       "      <td>0.000000e+00</td>\n",
       "      <td>0.000000e+00</td>\n",
       "      <td>0.000000e+00</td>\n",
       "    </tr>\n",
       "    <tr>\n",
       "      <th>25%</th>\n",
       "      <td>0.000000e+00</td>\n",
       "      <td>0.000000e+00</td>\n",
       "      <td>0.000000e+00</td>\n",
       "      <td>0.000000e+00</td>\n",
       "      <td>0.000000e+00</td>\n",
       "      <td>0.000000e+00</td>\n",
       "      <td>0.000000e+00</td>\n",
       "      <td>0.000000e+00</td>\n",
       "      <td>0.000000e+00</td>\n",
       "    </tr>\n",
       "    <tr>\n",
       "      <th>50%</th>\n",
       "      <td>0.000000e+00</td>\n",
       "      <td>3.125000e-01</td>\n",
       "      <td>0.000000e+00</td>\n",
       "      <td>0.000000e+00</td>\n",
       "      <td>0.000000e+00</td>\n",
       "      <td>4.816000e+04</td>\n",
       "      <td>0.000000e+00</td>\n",
       "      <td>0.000000e+00</td>\n",
       "      <td>0.000000e+00</td>\n",
       "    </tr>\n",
       "    <tr>\n",
       "      <th>75%</th>\n",
       "      <td>0.000000e+00</td>\n",
       "      <td>1.062500e+00</td>\n",
       "      <td>2.000000e+00</td>\n",
       "      <td>6.931472e-01</td>\n",
       "      <td>1.333333e+00</td>\n",
       "      <td>1.595880e+05</td>\n",
       "      <td>6.000000e-01</td>\n",
       "      <td>0.000000e+00</td>\n",
       "      <td>0.000000e+00</td>\n",
       "    </tr>\n",
       "    <tr>\n",
       "      <th>max</th>\n",
       "      <td>8.343750e+00</td>\n",
       "      <td>1.687500e+01</td>\n",
       "      <td>2.056000e+03</td>\n",
       "      <td>1.118569e+01</td>\n",
       "      <td>9.678333e+02</td>\n",
       "      <td>1.576357e+09</td>\n",
       "      <td>1.000000e+00</td>\n",
       "      <td>1.000000e+00</td>\n",
       "      <td>1.000000e+00</td>\n",
       "    </tr>\n",
       "  </tbody>\n",
       "</table>\n",
       "</div>"
      ],
      "text/plain": [
       "       sr_main_score  bd_main_score  battle_count  army_reduce_per_battle_log  \\\n",
       "count   2.288007e+06   2.288007e+06  2.288007e+06                2.288007e+06   \n",
       "mean    3.784112e-02   8.971792e-01  4.993052e+00                7.927039e-01   \n",
       "std     1.352270e-01   1.475248e+00  2.106555e+01                1.589268e+00   \n",
       "min     0.000000e+00   0.000000e+00  0.000000e+00                0.000000e+00   \n",
       "25%     0.000000e+00   0.000000e+00  0.000000e+00                0.000000e+00   \n",
       "50%     0.000000e+00   3.125000e-01  0.000000e+00                0.000000e+00   \n",
       "75%     0.000000e+00   1.062500e+00  2.000000e+00                6.931472e-01   \n",
       "max     8.343750e+00   1.687500e+01  2.056000e+03                1.118569e+01   \n",
       "\n",
       "       minutes_per_battle  bd_resource_ratio   battle_win%   pvp_launch%  \\\n",
       "count        2.288007e+06       2.288007e+06  2.288007e+06  2.288007e+06   \n",
       "mean         9.870452e-01       2.221769e+05  2.647617e-01  6.899958e-02   \n",
       "std          3.924223e+00       2.122022e+06  4.036848e-01  2.193975e-01   \n",
       "min          0.000000e+00       0.000000e+00  0.000000e+00  0.000000e+00   \n",
       "25%          0.000000e+00       0.000000e+00  0.000000e+00  0.000000e+00   \n",
       "50%          0.000000e+00       4.816000e+04  0.000000e+00  0.000000e+00   \n",
       "75%          1.333333e+00       1.595880e+05  6.000000e-01  0.000000e+00   \n",
       "max          9.678333e+02       1.576357e+09  1.000000e+00  1.000000e+00   \n",
       "\n",
       "           pvp_win%  \n",
       "count  2.288007e+06  \n",
       "mean   6.822605e-02  \n",
       "std    2.163774e-01  \n",
       "min    0.000000e+00  \n",
       "25%    0.000000e+00  \n",
       "50%    0.000000e+00  \n",
       "75%    0.000000e+00  \n",
       "max    1.000000e+00  "
      ]
     },
     "execution_count": 17,
     "metadata": {},
     "output_type": "execute_result"
    }
   ],
   "source": [
    "X.loc[:,achievement_cols].describe()"
   ]
  },
  {
   "cell_type": "code",
   "execution_count": 19,
   "metadata": {},
   "outputs": [
    {
     "data": {
      "text/plain": [
       "(2288007, 3)"
      ]
     },
     "execution_count": 19,
     "metadata": {},
     "output_type": "execute_result"
    }
   ],
   "source": [
    "from sklearn.linear_model import LassoCV\n",
    "from sklearn.svm import LinearSVC\n",
    "from sklearn.feature_selection import SelectFromModel\n",
    "from os import cpu_count\n",
    "X_data = X.loc[:,achievement_cols]\n",
    "lsvc = LassoCV(n_jobs = cpu_count(),fit_intercept=True,normalize=True).fit(X_data, y_log)\n",
    "\n",
    "model = SelectFromModel(lsvc, prefit=True)\n",
    "X_new = model.transform(X_data)\n",
    "X_new.shape"
   ]
  },
  {
   "cell_type": "code",
   "execution_count": 20,
   "metadata": {},
   "outputs": [
    {
     "name": "stdout",
     "output_type": "stream",
     "text": [
      "r2:0.254971\n"
     ]
    },
    {
     "data": {
      "text/plain": [
       "array([ 1.02828514e+00, -4.74832188e-03,  0.00000000e+00, -7.77318740e-03,\n",
       "        0.00000000e+00,  1.29754448e-08, -0.00000000e+00, -0.00000000e+00,\n",
       "       -0.00000000e+00])"
      ]
     },
     "execution_count": 20,
     "metadata": {},
     "output_type": "execute_result"
    }
   ],
   "source": [
    "print('r2:%f'% lsvc.score(X_data, y_log))\n",
    "lsvc.coef_"
   ]
  },
  {
   "cell_type": "code",
   "execution_count": 27,
   "metadata": {},
   "outputs": [],
   "source": [
    "# achievement_cols= ['sr_main_score','army_reduce_per_battle_log','bd_resource_ratio','pvp_launch%']\n",
    "achievement_cols=list(X_data.columns[lsvc.coef_!=0])"
   ]
  },
  {
   "cell_type": "markdown",
   "metadata": {},
   "source": [
    "特征合成: 集成"
   ]
  },
  {
   "cell_type": "code",
   "execution_count": 28,
   "metadata": {},
   "outputs": [],
   "source": [
    "from sklearn.decomposition import PCA\n",
    "from sklearn_pandas import DataFrameMapper\n",
    "from sklearn.preprocessing import MinMaxScaler\n",
    "\n",
    "others_col = list(filter(lambda x: x not in pay_cols+active_cols,X.columns))\n",
    "mapper_tp = DataFrameMapper([\n",
    "    (pay_cols, PCA(n_components=10),{'alias':'pay_pca_'}),\n",
    "    ]+list(map(lambda x: (x, None),active_cols+achievement_cols))\n",
    "    , df_out=True)\n",
    "\n",
    "X_transform = mapper_tp.fit_transform(X)"
   ]
  },
  {
   "cell_type": "markdown",
   "metadata": {},
   "source": [
    "划分训练测试集"
   ]
  },
  {
   "cell_type": "code",
   "execution_count": 29,
   "metadata": {},
   "outputs": [],
   "source": [
    "from sklearn.model_selection import train_test_split\n",
    "X_train, X_test, y_train, y_test = train_test_split(X_transform, y_clf, test_size=.2,stratify =y_clf)"
   ]
  },
  {
   "cell_type": "code",
   "execution_count": 30,
   "metadata": {},
   "outputs": [
    {
     "data": {
      "image/png": "[encoded data removed]",
      "text/plain": [
       "<matplotlib.figure.Figure at 0x19e648d0>"
      ]
     },
     "metadata": {},
     "output_type": "display_data"
    }
   ],
   "source": [
    "corr = X_test.corr()\n",
    "sns.heatmap(corr);"
   ]
  },
  {
   "cell_type": "markdown",
   "metadata": {},
   "source": [
    "使用随机森林预测7日后是否付费"
   ]
  },
  {
   "cell_type": "code",
   "execution_count": 31,
   "metadata": {},
   "outputs": [],
   "source": [
    "from sklearn.pipeline import make_pipeline\n",
    "from sklearn.preprocessing import FunctionTransformer\n",
    "from sklearn.preprocessing import MinMaxScaler, StandardScaler\n",
    "scaler_X = MinMaxScaler()\n"
   ]
  },
  {
   "cell_type": "code",
   "execution_count": 32,
   "metadata": {
    "nbpresent": {
     "id": "47f5289b-0edc-4558-93dc-c46291b6338b"
    },
    "scrolled": false
   },
   "outputs": [
    {
     "name": "stderr",
     "output_type": "stream",
     "text": [
      "[Parallel(n_jobs=8)]: Done   6 out of  10 | elapsed:    5.1s remaining:    3.4s\n"
     ]
    },
    {
     "name": "stdout",
     "output_type": "stream",
     "text": [
      "Wall time: 10.2 s\n"
     ]
    },
    {
     "name": "stderr",
     "output_type": "stream",
     "text": [
      "[Parallel(n_jobs=8)]: Done  10 out of  10 | elapsed:    7.9s finished\n"
     ]
    }
   ],
   "source": [
    "%%time\n",
    "from os import cpu_count\n",
    "from sklearn.ensemble import RandomForestClassifier\n",
    "\n",
    "clf = RandomForestClassifier(verbose=True, n_jobs=cpu_count(), \n",
    "                             class_weight={False:1, True:3}, min_samples_leaf = 2,\n",
    "                             n_estimators=10, max_depth =8)\n",
    "\n",
    "pipeline_clf = make_pipeline(scaler_X, clf)\n",
    "\n",
    "pipeline_clf.fit(X_train, y_train)\n"
   ]
  },
  {
   "cell_type": "markdown",
   "metadata": {},
   "source": [
    "test feature importance 特征重要度"
   ]
  },
  {
   "cell_type": "code",
   "execution_count": 34,
   "metadata": {},
   "outputs": [
    {
     "data": {
      "text/html": [
       "<div>\n",
       "<table border=\"1\" class=\"dataframe\">\n",
       "  <thead>\n",
       "    <tr style=\"text-align: right;\">\n",
       "      <th></th>\n",
       "      <th>column</th>\n",
       "      <th>importance</th>\n",
       "      <th>desc</th>\n",
       "      <th>cycle</th>\n",
       "      <th>cat</th>\n",
       "    </tr>\n",
       "  </thead>\n",
       "  <tbody>\n",
       "    <tr>\n",
       "      <th>14</th>\n",
       "      <td>bd_resource_ratio</td>\n",
       "      <td>0.223870</td>\n",
       "      <td>NaN</td>\n",
       "      <td>NaN</td>\n",
       "      <td>NaN</td>\n",
       "    </tr>\n",
       "    <tr>\n",
       "      <th>3</th>\n",
       "      <td>pay_pca__3</td>\n",
       "      <td>0.189148</td>\n",
       "      <td>NaN</td>\n",
       "      <td>NaN</td>\n",
       "      <td>NaN</td>\n",
       "    </tr>\n",
       "    <tr>\n",
       "      <th>0</th>\n",
       "      <td>pay_pca__0</td>\n",
       "      <td>0.142857</td>\n",
       "      <td>NaN</td>\n",
       "      <td>NaN</td>\n",
       "      <td>NaN</td>\n",
       "    </tr>\n",
       "    <tr>\n",
       "      <th>2</th>\n",
       "      <td>pay_pca__2</td>\n",
       "      <td>0.100064</td>\n",
       "      <td>NaN</td>\n",
       "      <td>NaN</td>\n",
       "      <td>NaN</td>\n",
       "    </tr>\n",
       "    <tr>\n",
       "      <th>12</th>\n",
       "      <td>bd_main_score</td>\n",
       "      <td>0.090813</td>\n",
       "      <td>NaN</td>\n",
       "      <td>NaN</td>\n",
       "      <td>NaN</td>\n",
       "    </tr>\n",
       "    <tr>\n",
       "      <th>11</th>\n",
       "      <td>sr_main_score</td>\n",
       "      <td>0.052656</td>\n",
       "      <td>NaN</td>\n",
       "      <td>NaN</td>\n",
       "      <td>NaN</td>\n",
       "    </tr>\n",
       "    <tr>\n",
       "      <th>10</th>\n",
       "      <td>avg_online_minutes_log10</td>\n",
       "      <td>0.050418</td>\n",
       "      <td>NaN</td>\n",
       "      <td>NaN</td>\n",
       "      <td>NaN</td>\n",
       "    </tr>\n",
       "    <tr>\n",
       "      <th>5</th>\n",
       "      <td>pay_pca__5</td>\n",
       "      <td>0.050336</td>\n",
       "      <td>NaN</td>\n",
       "      <td>NaN</td>\n",
       "      <td>NaN</td>\n",
       "    </tr>\n",
       "    <tr>\n",
       "      <th>7</th>\n",
       "      <td>pay_pca__7</td>\n",
       "      <td>0.038647</td>\n",
       "      <td>NaN</td>\n",
       "      <td>NaN</td>\n",
       "      <td>NaN</td>\n",
       "    </tr>\n",
       "    <tr>\n",
       "      <th>1</th>\n",
       "      <td>pay_pca__1</td>\n",
       "      <td>0.019876</td>\n",
       "      <td>NaN</td>\n",
       "      <td>NaN</td>\n",
       "      <td>NaN</td>\n",
       "    </tr>\n",
       "    <tr>\n",
       "      <th>8</th>\n",
       "      <td>pay_pca__8</td>\n",
       "      <td>0.012807</td>\n",
       "      <td>NaN</td>\n",
       "      <td>NaN</td>\n",
       "      <td>NaN</td>\n",
       "    </tr>\n",
       "    <tr>\n",
       "      <th>4</th>\n",
       "      <td>pay_pca__4</td>\n",
       "      <td>0.010939</td>\n",
       "      <td>NaN</td>\n",
       "      <td>NaN</td>\n",
       "      <td>NaN</td>\n",
       "    </tr>\n",
       "    <tr>\n",
       "      <th>9</th>\n",
       "      <td>pay_pca__9</td>\n",
       "      <td>0.008566</td>\n",
       "      <td>NaN</td>\n",
       "      <td>NaN</td>\n",
       "      <td>NaN</td>\n",
       "    </tr>\n",
       "    <tr>\n",
       "      <th>13</th>\n",
       "      <td>army_reduce_per_battle_log</td>\n",
       "      <td>0.004597</td>\n",
       "      <td>NaN</td>\n",
       "      <td>NaN</td>\n",
       "      <td>NaN</td>\n",
       "    </tr>\n",
       "    <tr>\n",
       "      <th>6</th>\n",
       "      <td>pay_pca__6</td>\n",
       "      <td>0.004406</td>\n",
       "      <td>NaN</td>\n",
       "      <td>NaN</td>\n",
       "      <td>NaN</td>\n",
       "    </tr>\n",
       "  </tbody>\n",
       "</table>\n",
       "</div>"
      ],
      "text/plain": [
       "                        column  importance desc cycle  cat\n",
       "14           bd_resource_ratio    0.223870  NaN   NaN  NaN\n",
       "3                   pay_pca__3    0.189148  NaN   NaN  NaN\n",
       "0                   pay_pca__0    0.142857  NaN   NaN  NaN\n",
       "2                   pay_pca__2    0.100064  NaN   NaN  NaN\n",
       "12               bd_main_score    0.090813  NaN   NaN  NaN\n",
       "11               sr_main_score    0.052656  NaN   NaN  NaN\n",
       "10    avg_online_minutes_log10    0.050418  NaN   NaN  NaN\n",
       "5                   pay_pca__5    0.050336  NaN   NaN  NaN\n",
       "7                   pay_pca__7    0.038647  NaN   NaN  NaN\n",
       "1                   pay_pca__1    0.019876  NaN   NaN  NaN\n",
       "8                   pay_pca__8    0.012807  NaN   NaN  NaN\n",
       "4                   pay_pca__4    0.010939  NaN   NaN  NaN\n",
       "9                   pay_pca__9    0.008566  NaN   NaN  NaN\n",
       "13  army_reduce_per_battle_log    0.004597  NaN   NaN  NaN\n",
       "6                   pay_pca__6    0.004406  NaN   NaN  NaN"
      ]
     },
     "execution_count": 34,
     "metadata": {},
     "output_type": "execute_result"
    }
   ],
   "source": [
    "var_importance = pipeline_clf.steps[1][1].feature_importances_\n",
    "df_variable_importance =pd.DataFrame({'column':X_train.columns, 'importance':var_importance})\n",
    "df_variable_importance = pd.merge(df_variable_importance,df_variable,on='column',how='left')\n",
    "sel_vars = df_variable_importance[df_variable_importance.importance>0.001].sort_values('importance', ascending = False).column\n",
    "df_variable_importance[df_variable_importance.column.isin(sel_vars)].sort_values('importance', ascending = False)"
   ]
  },
  {
   "cell_type": "markdown",
   "metadata": {},
   "source": [
    "evaluate model using MAE"
   ]
  },
  {
   "cell_type": "code",
   "execution_count": null,
   "metadata": {},
   "outputs": [],
   "source": [
    "from sklearn.metrics import f1_score, accuracy_score, recall_score, precision_score, precision_recall_curve, confusion_matrix\n",
    "\n",
    "data = {'train':[X_train, y_train],'test':[X_test,y_test]}\n",
    "y_stacked = {'train':{},'test':{}}\n",
    "\n",
    "for stage in data.keys():\n",
    "    X_in, y_in = data.get(stage)\n",
    "    y_predict = pipeline_clf.predict(X_in)\n",
    "    f1 = f1_score(y_predict, y_in)\n",
    "    accuracy = accuracy_score(y_predict, y_in)\n",
    "    precision= precision_score(y_predict, y_in)\n",
    "    recall = recall_score(y_predict, y_in)\n",
    "#     print(f\"{stage}: f1={f1},accuracy={accuracy},recall={recall}\")\n",
    "    print(\"{0}: f1={1},accuracy={2},precision={3},recall={4}\".format(stage, f1,accuracy,precision,recall))\n",
    "    y_stacked[stage]['random_forest']=y_predict\n",
    "confusion_matrix(y_predict, y_in)"
   ]
  },
  {
   "cell_type": "code",
   "execution_count": 36,
   "metadata": {},
   "outputs": [
    {
     "data": {
      "text/html": [
       "<div>\n",
       "<table border=\"1\" class=\"dataframe\">\n",
       "  <thead>\n",
       "    <tr style=\"text-align: right;\">\n",
       "      <th></th>\n",
       "      <th>bd_resource_ratio</th>\n",
       "      <th>pay_pca__3</th>\n",
       "      <th>pay_pca__0</th>\n",
       "      <th>pay_pca__2</th>\n",
       "      <th>bd_main_score</th>\n",
       "    </tr>\n",
       "  </thead>\n",
       "  <tbody>\n",
       "    <tr>\n",
       "      <th>bd_resource_ratio</th>\n",
       "      <td>1.00000</td>\n",
       "      <td>NaN</td>\n",
       "      <td>NaN</td>\n",
       "      <td>NaN</td>\n",
       "      <td>0.23806</td>\n",
       "    </tr>\n",
       "    <tr>\n",
       "      <th>pay_pca__3</th>\n",
       "      <td>NaN</td>\n",
       "      <td>NaN</td>\n",
       "      <td>NaN</td>\n",
       "      <td>NaN</td>\n",
       "      <td>NaN</td>\n",
       "    </tr>\n",
       "    <tr>\n",
       "      <th>pay_pca__0</th>\n",
       "      <td>NaN</td>\n",
       "      <td>NaN</td>\n",
       "      <td>NaN</td>\n",
       "      <td>NaN</td>\n",
       "      <td>NaN</td>\n",
       "    </tr>\n",
       "    <tr>\n",
       "      <th>pay_pca__2</th>\n",
       "      <td>NaN</td>\n",
       "      <td>NaN</td>\n",
       "      <td>NaN</td>\n",
       "      <td>NaN</td>\n",
       "      <td>NaN</td>\n",
       "    </tr>\n",
       "    <tr>\n",
       "      <th>bd_main_score</th>\n",
       "      <td>0.23806</td>\n",
       "      <td>NaN</td>\n",
       "      <td>NaN</td>\n",
       "      <td>NaN</td>\n",
       "      <td>1.00000</td>\n",
       "    </tr>\n",
       "  </tbody>\n",
       "</table>\n",
       "</div>"
      ],
      "text/plain": [
       "                   bd_resource_ratio  pay_pca__3  pay_pca__0  pay_pca__2  \\\n",
       "bd_resource_ratio            1.00000         NaN         NaN         NaN   \n",
       "pay_pca__3                       NaN         NaN         NaN         NaN   \n",
       "pay_pca__0                       NaN         NaN         NaN         NaN   \n",
       "pay_pca__2                       NaN         NaN         NaN         NaN   \n",
       "bd_main_score                0.23806         NaN         NaN         NaN   \n",
       "\n",
       "                   bd_main_score  \n",
       "bd_resource_ratio        0.23806  \n",
       "pay_pca__3                   NaN  \n",
       "pay_pca__0                   NaN  \n",
       "pay_pca__2                   NaN  \n",
       "bd_main_score            1.00000  "
      ]
     },
     "execution_count": 36,
     "metadata": {},
     "output_type": "execute_result"
    }
   ],
   "source": [
    "X.loc[:,sel_vars[:5]].corr()"
   ]
  },
  {
   "cell_type": "markdown",
   "metadata": {},
   "source": [
    "Apply Light GBM on predict future pay"
   ]
  },
  {
   "cell_type": "code",
   "execution_count": 37,
   "metadata": {},
   "outputs": [],
   "source": [
    "X_train, X_test, y_train, y_test = train_test_split(X_transform, y_log, test_size=.2,stratify =y_clf)"
   ]
  },
  {
   "cell_type": "code",
   "execution_count": 52,
   "metadata": {
    "scrolled": false
   },
   "outputs": [
    {
     "name": "stdout",
     "output_type": "stream",
     "text": [
      "Wall time: 3.74 s\n"
     ]
    }
   ],
   "source": [
    "%%time\n",
    "import lightgbm as lgb \n",
    "\n",
    "\n",
    "train_data=lgb.Dataset(X_train.loc[:,sel_vars],label=y_train)\n",
    "param = {'num_leaves':150, 'objective':'regression','max_depth':7,'learning_rate':.1,'max_bin':200}\n",
    "param['metric'] = ['l1']\n",
    "num_round=50\n",
    "\n",
    "lgbm=lgb.train(param,train_data,num_round)\n"
   ]
  },
  {
   "cell_type": "code",
   "execution_count": 53,
   "metadata": {},
   "outputs": [
    {
     "name": "stdout",
     "output_type": "stream",
     "text": [
      "test: r2=0.4682962086913416,mae=0.024491936476181128\n",
      "train: r2=0.537954142903466,mae=0.023053987179477126\n",
      "Wall time: 2.87 s\n"
     ]
    }
   ],
   "source": [
    "%%time\n",
    "from sklearn.metrics import r2_score, mean_absolute_error\n",
    "from sklearn.utils.multiclass  import type_of_target\n",
    "\n",
    "data = {'train':[X_train, y_train],'test':[X_test,y_test]}\n",
    "\n",
    "for stage in data.keys():\n",
    "    X_in, y_in = data.get(stage)\n",
    "    y_predict = lgbm.predict(X_in.loc[:,sel_vars])\n",
    "\n",
    "    mae = mean_absolute_error(y_in,y_predict)\n",
    "    r2 = r2_score(y_in,y_predict)\n",
    "    print(\"{0}: r2={1},mae={2}\".format(stage, r2,mae))"
   ]
  },
  {
   "cell_type": "code",
   "execution_count": 663,
   "metadata": {},
   "outputs": [
    {
     "name": "stdout",
     "output_type": "stream",
     "text": [
      "test: f1=0.5073223648526487,accuracy=0.9940450435094252,recall=0.5947435353963544\n",
      "train: f1=0.5343884241465069,accuracy=0.994374469038273,recall=0.6266836355923215\n",
      "Wall time: 4.27 s\n"
     ]
    }
   ],
   "source": [
    "%%time\n",
    "from sklearn.metrics import f1_score, accuracy_score, recall_score\n",
    "from sklearn.utils.multiclass  import type_of_target\n",
    "\n",
    "data = {'train':[X_train, y_train],'test':[X_test,y_test]}\n",
    "\n",
    "for stage in data.keys():\n",
    "    X_in, y_in = data.get(stage)\n",
    "    y_predict = lgbm.predict(X_in.loc[:,sel_vars])\n",
    "    if type_of_target(y_predict)==\"continuous\":\n",
    "        y_predict = y_predict>=.3\n",
    "    f1 = f1_score(y_predict, y_in)\n",
    "    accuracy = accuracy_score(y_predict, y_in)\n",
    "    recall = recall_score(y_predict, y_in)\n",
    "#     print(f\"{stage}: f1={f1},accuracy={accuracy},recall={recall}\")\n",
    "    print(\"{0}: f1={1},accuracy={2},recall={3}\".format(stage, f1,accuracy,recall))"
   ]
  },
  {
   "cell_type": "markdown",
   "metadata": {},
   "source": [
    "Tensorflow ADAM"
   ]
  },
  {
   "cell_type": "code",
   "execution_count": 281,
   "metadata": {
    "scrolled": false
   },
   "outputs": [
    {
     "name": "stdout",
     "output_type": "stream",
     "text": [
      "Epoch 1/10\n",
      "1601604/1601604 [==============================] - 28s - loss: 1.2658 - auc: 0.5905    \n",
      "Epoch 2/10\n",
      "1601604/1601604 [==============================] - 4s - loss: 0.6980 - auc: 0.8183     \n",
      "Epoch 3/10\n",
      "1601604/1601604 [==============================] - 3s - loss: 0.6669 - auc: 0.9046     \n",
      "Epoch 4/10\n",
      "1601604/1601604 [==============================] - 3s - loss: 0.6384 - auc: 0.9319     \n",
      "Epoch 5/10\n",
      "1601604/1601604 [==============================] - 3s - loss: 0.6101 - auc: 0.9434     \n",
      "Epoch 6/10\n",
      "1601604/1601604 [==============================] - 3s - loss: 0.5828 - auc: 0.9500     \n",
      "Epoch 7/10\n",
      "1601604/1601604 [==============================] - 3s - loss: 0.5544 - auc: 0.9538     \n",
      "Epoch 8/10\n",
      "1601604/1601604 [==============================] - 4s - loss: 0.5249 - auc: 0.9561     \n",
      "Epoch 9/10\n",
      "1601604/1601604 [==============================] - 4s - loss: 0.4967 - auc: 0.9578     \n",
      "Epoch 10/10\n",
      "1601604/1601604 [==============================] - 4s - loss: 0.4692 - auc: 0.9588     \n",
      "Wall time: 1min 27s\n"
     ]
    }
   ],
   "source": [
    "%%time\n",
    "import tensorflow as tf\n",
    "from keras.models import Sequential\n",
    "from keras.layers import Dense, Activation\n",
    "from keras.wrappers.scikit_learn import KerasClassifier\n",
    "from keras import optimizers\n",
    "from keras import backend as K\n",
    "\n",
    "def auc(y_true, y_pred):   \n",
    "    ptas = tf.stack([binary_PTA(y_true,y_pred,k) for k in np.linspace(0, 1, 1000)],axis=0)\n",
    "    pfas = tf.stack([binary_PFA(y_true,y_pred,k) for k in np.linspace(0, 1, 1000)],axis=0)\n",
    "    pfas = tf.concat([tf.ones((1,)) ,pfas],axis=0)\n",
    "    binSizes = -(pfas[1:]-pfas[:-1])\n",
    "    s = ptas*binSizes\n",
    "    return K.sum(s, axis=0)\n",
    "#-----------------------------------------------------------------------------------------------------------------------------------------------------\n",
    "# PFA, prob false alert for binary classifier\n",
    "def binary_PFA(y_true, y_pred, threshold=K.variable(value=0.5)):\n",
    "    y_pred = K.cast(y_pred >= threshold, 'float32')\n",
    "    # N = total number of negative labels\n",
    "    N = K.sum(1 - y_true)\n",
    "    # FP = total number of false alerts, alerts from the negative class labels\n",
    "    FP = K.sum(y_pred - y_pred * y_true)    \n",
    "    return FP/N\n",
    "#-----------------------------------------------------------------------------------------------------------------------------------------------------\n",
    "# P_TA prob true alerts for binary classifier\n",
    "def binary_PTA(y_true, y_pred, threshold=K.variable(value=0.5)):\n",
    "    y_pred = K.cast(y_pred >= threshold, 'float32')\n",
    "    # P = total number of positive labels\n",
    "    P = K.sum(y_true)\n",
    "    # TP = total number of correct alerts, alerts from the positive class labels\n",
    "    TP = K.sum(y_pred * y_true)    \n",
    "    return TP/P\n",
    "\n",
    "def make_model():\n",
    "    model = Sequential([\n",
    "        Dense(16, input_shape=(len(sel_vars),)),\n",
    "        Activation('relu'),\n",
    "        Dense(8),\n",
    "        Activation('relu'),\n",
    "        Dense(1),\n",
    "    ])\n",
    "    model.compile(loss='binary_crossentropy',\n",
    "                  optimizer='Adadelta',\n",
    "                  metrics=[auc])\n",
    "\n",
    "    return model\n",
    "pipeline_classfier = make_pipeline(scaler_X,KerasClassifier(build_fn = make_model, batch_size=200000, class_weight={False:1,True:50}))\n",
    "pipeline_classfier.fit(X_train.loc[:,sel_vars],y_train)"
   ]
  },
  {
   "cell_type": "code",
   "execution_count": 282,
   "metadata": {},
   "outputs": [
    {
     "name": "stdout",
     "output_type": "stream",
     "text": [
      "686403/686403 [==============================] - 15s    \n",
      "test: f1=0.30271145285309586,accuracy=0.9924694385076989,precision=0.23907948007670998,recall=0.4125\n",
      "1600000/1601604 [============================>.] - ETA: 0strain: f1=0.30621411109215985,accuracy=0.992380763284807,precision=0.2412001791312136,recall=0.41920921544209216\n",
      "[[1586708    8472]\n",
      " [   3731    2693]]\n",
      "Wall time: 20.1 s\n"
     ]
    }
   ],
   "source": [
    "%%time\n",
    "from sklearn.metrics import f1_score, accuracy_score, recall_score\n",
    "\n",
    "data = {'train':[X_train, y_train],'test':[X_test,y_test]}\n",
    "\n",
    "\n",
    "for stage in data.keys():\n",
    "    X_in, y_in = data.get(stage)\n",
    "    y_predict = pipeline_classfier.predict(X_in.loc[:,sel_vars])\n",
    "    f1 = f1_score(y_predict, y_in)\n",
    "    accuracy = accuracy_score(y_predict, y_in)\n",
    "    precision= precision_score(y_predict, y_in)\n",
    "    recall = recall_score(y_predict, y_in)\n",
    "#     print(f\"{stage}: f1={f1},accuracy={accuracy},recall={recall}\")\n",
    "    print(\"{0}: f1={1},accuracy={2},precision={3},recall={4}\".format(stage, f1,accuracy,precision,recall))\n",
    "print(confusion_matrix(y_predict, y_in))"
   ]
  },
  {
   "cell_type": "markdown",
   "metadata": {},
   "source": [
    "optimize hyper parameter"
   ]
  },
  {
   "cell_type": "code",
   "execution_count": 188,
   "metadata": {},
   "outputs": [
    {
     "ename": "ImportError",
     "evalue": "No module named 'hyperopt'",
     "output_type": "error",
     "traceback": [
      "\u001b[1;31m---------------------------------------------------------------------------\u001b[0m",
      "\u001b[1;31mImportError\u001b[0m                               Traceback (most recent call last)",
      "\u001b[1;32m<ipython-input-188-dfac27db8b29>\u001b[0m in \u001b[0;36m<module>\u001b[1;34m()\u001b[0m\n\u001b[0;32m      9\u001b[0m \u001b[1;33m\u001b[0m\u001b[0m\n\u001b[0;32m     10\u001b[0m \u001b[1;31m# define a search space\u001b[0m\u001b[1;33m\u001b[0m\u001b[1;33m\u001b[0m\u001b[0m\n\u001b[1;32m---> 11\u001b[1;33m \u001b[1;32mfrom\u001b[0m \u001b[0mhyperopt\u001b[0m \u001b[1;32mimport\u001b[0m \u001b[0mhp\u001b[0m\u001b[1;33m\u001b[0m\u001b[0m\n\u001b[0m\u001b[0;32m     12\u001b[0m space = hp.choice('a',\n\u001b[0;32m     13\u001b[0m     [\n",
      "\u001b[1;31mImportError\u001b[0m: No module named 'hyperopt'"
     ]
    }
   ],
   "source": [
    "\n",
    "# define an objective function\n",
    "def objective(args):\n",
    "    case, val = args\n",
    "    if case == 'case 1':\n",
    "        return val\n",
    "    else:\n",
    "        return val ** 2\n",
    "\n",
    "# define a search space\n",
    "from hyperopt import hp\n",
    "space = hp.choice('a',\n",
    "    [\n",
    "        ('case 1', 1 + hp.lognormal('c1', 0, 1)),\n",
    "        ('case 2', hp.uniform('c2', -10, 10))\n",
    "    ])\n",
    "\n",
    "# minimize the objective over the space\n",
    "from hyperopt import fmin, tpe\n",
    "best = fmin(objective, space, algo=tpe.suggest, max_evals=100)\n",
    "\n",
    "print(best)\n",
    "# -> {'a': 1, 'c2': 0.01420615366247227}\n",
    "print(hyperopt.space_eval(space, best))\n",
    "# -> ('case 2', 0.01420615366247227}"
   ]
  }
 ],
 "metadata": {
  "anaconda-cloud": {},
  "kernelspec": {
   "display_name": "Python [conda env:tensorflow]",
   "language": "python",
   "name": "conda-env-tensorflow-py"
  },
  "language_info": {
   "codemirror_mode": {
    "name": "ipython",
    "version": 3
   },
   "file_extension": ".py",
   "mimetype": "text/x-python",
   "name": "python",
   "nbconvert_exporter": "python",
   "pygments_lexer": "ipython3",
   "version": "3.5.0"
  },
  "nbpresent": {
   "slides": {
    "06e2a39b-3088-4770-bb43-9ce2ab43607b": {
     "id": "06e2a39b-3088-4770-bb43-9ce2ab43607b",
     "prev": "d682e02c-01b0-4ac5-9913-ea06b0c47d7b",
     "regions": {
      "96e2c7b1-b407-4e08-a297-9d76e2b9e867": {
       "attrs": {
        "height": 0.8,
        "width": 0.8,
        "x": 0.1,
        "y": 0.1
       },
       "content": {
        "cell": "4ec03b46-0550-4af0-8167-88d02871e489",
        "part": "whole"
       },
       "id": "96e2c7b1-b407-4e08-a297-9d76e2b9e867"
      }
     }
    },
    "155dce0d-4aa1-4fb4-a251-8a88d6fc2ed1": {
     "id": "155dce0d-4aa1-4fb4-a251-8a88d6fc2ed1",
     "prev": "6caf3660-d5b4-49e5-ae85-f7f3fb41d9cc",
     "regions": {
      "5be711ed-0913-483a-8634-8d1ca8b3a7a4": {
       "attrs": {
        "height": 0.8,
        "width": 0.8,
        "x": 0.1,
        "y": 0.1
       },
       "content": {
        "cell": "2554a735-6e4c-4e6f-8e55-03fe6dddf276",
        "part": "whole"
       },
       "id": "5be711ed-0913-483a-8634-8d1ca8b3a7a4"
      }
     }
    },
    "1acea520-22eb-4c8d-b725-f75e29726ef3": {
     "id": "1acea520-22eb-4c8d-b725-f75e29726ef3",
     "prev": "5cb0df00-b578-4701-8aa5-809686fcbbb4",
     "regions": {
      "db2bbe74-73c1-4f86-a4d3-c938d001490f": {
       "attrs": {
        "height": 0.8,
        "width": 0.8,
        "x": 0.1,
        "y": 0.1
       },
       "content": {
        "cell": "16e61ed9-a43c-4259-8c30-5d4399a762e2",
        "part": "whole"
       },
       "id": "db2bbe74-73c1-4f86-a4d3-c938d001490f"
      }
     }
    },
    "1e666791-596c-41f8-b73a-1cdbea63bdf6": {
     "id": "1e666791-596c-41f8-b73a-1cdbea63bdf6",
     "prev": "4507a7b0-7c0e-446f-81d8-49802f675485",
     "regions": {
      "c5717439-6951-4e46-9613-c0907bb16e48": {
       "attrs": {
        "height": 0.8,
        "width": 0.8,
        "x": 0.1,
        "y": 0.1
       },
       "content": {
        "cell": "9059fcc4-cbc5-4847-8e4d-7dd690176e3c",
        "part": "whole"
       },
       "id": "c5717439-6951-4e46-9613-c0907bb16e48"
      }
     }
    },
    "23e4be50-473b-43fc-bd50-a32acc642001": {
     "id": "23e4be50-473b-43fc-bd50-a32acc642001",
     "prev": "155dce0d-4aa1-4fb4-a251-8a88d6fc2ed1",
     "regions": {
      "c27ed864-d46c-4c89-86b4-7a8a650f33a0": {
       "attrs": {
        "height": 0.8,
        "width": 0.8,
        "x": 0.1,
        "y": 0.1
       },
       "content": {
        "cell": "d427d5f1-5fe8-4f5a-accb-8ca2e6839bfe",
        "part": "whole"
       },
       "id": "c27ed864-d46c-4c89-86b4-7a8a650f33a0"
      }
     }
    },
    "2f20840d-5c39-4de5-9085-030050eff696": {
     "id": "2f20840d-5c39-4de5-9085-030050eff696",
     "prev": "f63280d6-9c97-49f6-a496-6ee789928ee5",
     "regions": {
      "0a98f8c8-3ad5-4d94-a4ec-0bd6334f8ec8": {
       "attrs": {
        "height": 0.8,
        "width": 0.8,
        "x": 0.1,
        "y": 0.1
       },
       "content": {
        "cell": "bef2e871-9117-48ea-972b-a4dfd3e7ae65",
        "part": "whole"
       },
       "id": "0a98f8c8-3ad5-4d94-a4ec-0bd6334f8ec8"
      }
     }
    },
    "3060e86b-9098-4b76-b097-56408f8a7b9a": {
     "id": "3060e86b-9098-4b76-b097-56408f8a7b9a",
     "prev": "5daa011c-134f-4449-9a7d-a6cb218ab309",
     "regions": {
      "50593303-3ee1-4f50-af95-5b7fa913d2f8": {
       "attrs": {
        "height": 0.8,
        "width": 0.8,
        "x": 0.1,
        "y": 0.1
       },
       "content": {
        "cell": "dc2955b4-0926-48e1-a8f3-d09270d55f57",
        "part": "whole"
       },
       "id": "50593303-3ee1-4f50-af95-5b7fa913d2f8"
      }
     }
    },
    "3272dda7-eb6b-4193-8f61-fa4e3e95d6f2": {
     "id": "3272dda7-eb6b-4193-8f61-fa4e3e95d6f2",
     "prev": "84d31752-f286-4b2d-ab9b-74c9cd0d9cf8",
     "regions": {
      "8d8f8d99-e78b-4705-b71b-1d2435610648": {
       "attrs": {
        "height": 0.8,
        "width": 0.8,
        "x": 0.1,
        "y": 0.1
       },
       "content": {
        "cell": "83e123e9-90a5-4bb9-a4df-6ec15e77b646",
        "part": "whole"
       },
       "id": "8d8f8d99-e78b-4705-b71b-1d2435610648"
      }
     }
    },
    "38a58f5b-acb8-4571-b0c8-b6c12f41f5cc": {
     "id": "38a58f5b-acb8-4571-b0c8-b6c12f41f5cc",
     "prev": "c690df84-f6b1-4d3e-9132-59a5efb37fd6",
     "regions": {
      "e9013bd9-3946-4154-91b0-c81b9c8ab669": {
       "attrs": {
        "height": 0.8,
        "width": 0.8,
        "x": 0.1,
        "y": 0.1
       },
       "content": {
        "cell": "e45c0cbe-b455-46b8-8fc3-0ab0cc99cc85",
        "part": "whole"
       },
       "id": "e9013bd9-3946-4154-91b0-c81b9c8ab669"
      }
     }
    },
    "3d967ff1-bb59-4bc2-86ea-688ad779d42e": {
     "id": "3d967ff1-bb59-4bc2-86ea-688ad779d42e",
     "prev": "89b72808-0bcc-4c5c-8491-456d1f4d15bb",
     "regions": {
      "85046d76-db93-485b-9890-e6263127b5c3": {
       "attrs": {
        "height": 0.8,
        "width": 0.8,
        "x": 0.1,
        "y": 0.1
       },
       "content": {
        "cell": "cf326671-b769-4112-ad60-9338503b07b2",
        "part": "whole"
       },
       "id": "85046d76-db93-485b-9890-e6263127b5c3"
      }
     }
    },
    "4507a7b0-7c0e-446f-81d8-49802f675485": {
     "id": "4507a7b0-7c0e-446f-81d8-49802f675485",
     "prev": "3d967ff1-bb59-4bc2-86ea-688ad779d42e",
     "regions": {
      "47e00512-aac8-4e82-aca4-0cc28208044a": {
       "attrs": {
        "height": 0.8,
        "width": 0.8,
        "x": 0.1,
        "y": 0.1
       },
       "content": {
        "cell": "b145ec3a-1d83-4640-9e26-bb61360ae953",
        "part": "whole"
       },
       "id": "47e00512-aac8-4e82-aca4-0cc28208044a"
      }
     }
    },
    "48eab4e9-cb1d-4368-95d9-94fc2e8729ba": {
     "id": "48eab4e9-cb1d-4368-95d9-94fc2e8729ba",
     "prev": "3272dda7-eb6b-4193-8f61-fa4e3e95d6f2",
     "regions": {
      "72b0758e-bb14-46ce-be65-1740a3ae66ac": {
       "attrs": {
        "height": 0.8,
        "width": 0.8,
        "x": 0.1,
        "y": 0.1
       },
       "content": {
        "cell": "47f5289b-0edc-4558-93dc-c46291b6338b",
        "part": "whole"
       },
       "id": "72b0758e-bb14-46ce-be65-1740a3ae66ac"
      }
     }
    },
    "49044aea-b956-4511-b697-c2e7f3bb309b": {
     "id": "49044aea-b956-4511-b697-c2e7f3bb309b",
     "prev": "1e666791-596c-41f8-b73a-1cdbea63bdf6",
     "regions": {
      "add68d87-165d-4c4e-8c36-5988800c512a": {
       "attrs": {
        "height": 0.8,
        "width": 0.8,
        "x": 0.1,
        "y": 0.1
       },
       "content": {
        "cell": "6d387e21-ffaf-42e4-b298-9f0da6b7b608",
        "part": "whole"
       },
       "id": "add68d87-165d-4c4e-8c36-5988800c512a"
      }
     }
    },
    "5c3df914-8778-4a4e-8216-ba1054b2942c": {
     "id": "5c3df914-8778-4a4e-8216-ba1054b2942c",
     "prev": "a8f2f0e4-3f43-448e-b037-07388b880f24",
     "regions": {
      "a55cbdf8-8670-4824-98bf-6d28ee71537e": {
       "attrs": {
        "height": 0.8,
        "width": 0.8,
        "x": 0.1,
        "y": 0.1
       },
       "content": {
        "cell": "a668738a-2e6b-4953-9914-f0da00fc4803",
        "part": "whole"
       },
       "id": "a55cbdf8-8670-4824-98bf-6d28ee71537e"
      }
     }
    },
    "5cb0df00-b578-4701-8aa5-809686fcbbb4": {
     "id": "5cb0df00-b578-4701-8aa5-809686fcbbb4",
     "prev": "d9ad6ee8-3bc0-454b-ae41-171644c4aecf",
     "regions": {
      "9c96d84a-d478-4fc0-928a-3e7265b59104": {
       "attrs": {
        "height": 0.8,
        "width": 0.8,
        "x": 0.1,
        "y": 0.1
       },
       "content": {
        "cell": "6c58eac9-6b38-4875-a51d-349970bf66ba",
        "part": "whole"
       },
       "id": "9c96d84a-d478-4fc0-928a-3e7265b59104"
      }
     }
    },
    "5daa011c-134f-4449-9a7d-a6cb218ab309": {
     "id": "5daa011c-134f-4449-9a7d-a6cb218ab309",
     "prev": "ccc7d071-8f2e-4d74-ac81-000b3e3aa5c3",
     "regions": {
      "0f75d334-7b1c-42f7-8bb5-61bed0b5d54a": {
       "attrs": {
        "height": 0.8,
        "width": 0.8,
        "x": 0.1,
        "y": 0.1
       },
       "content": {
        "cell": "37341844-cc29-421c-8c55-055356b145cc",
        "part": "whole"
       },
       "id": "0f75d334-7b1c-42f7-8bb5-61bed0b5d54a"
      }
     }
    },
    "6598ebb8-be77-4db5-a5d0-b0a5177a0e12": {
     "id": "6598ebb8-be77-4db5-a5d0-b0a5177a0e12",
     "prev": "2f20840d-5c39-4de5-9085-030050eff696",
     "regions": {
      "8dea4a06-cceb-4ad0-854b-c688a91a3080": {
       "attrs": {
        "height": 0.8,
        "width": 0.8,
        "x": 0.1,
        "y": 0.1
       },
       "content": {
        "cell": "06316966-f33c-4be8-936c-51d7dd4543c1",
        "part": "whole"
       },
       "id": "8dea4a06-cceb-4ad0-854b-c688a91a3080"
      }
     }
    },
    "6caf3660-d5b4-49e5-ae85-f7f3fb41d9cc": {
     "id": "6caf3660-d5b4-49e5-ae85-f7f3fb41d9cc",
     "prev": "1acea520-22eb-4c8d-b725-f75e29726ef3",
     "regions": {
      "8ba9b7a9-c464-43d3-87a4-2f75e35619a9": {
       "attrs": {
        "height": 0.8,
        "width": 0.8,
        "x": 0.1,
        "y": 0.1
       },
       "content": {
        "cell": "11ffc63e-2499-4924-81a6-3a01ea6da28a",
        "part": "whole"
       },
       "id": "8ba9b7a9-c464-43d3-87a4-2f75e35619a9"
      }
     }
    },
    "6f29642e-ad10-4d95-8580-13259774b0dd": {
     "id": "6f29642e-ad10-4d95-8580-13259774b0dd",
     "prev": "48eab4e9-cb1d-4368-95d9-94fc2e8729ba",
     "regions": {
      "c0d36dcf-12bf-4eda-b885-b5c5b6f3854e": {
       "attrs": {
        "height": 0.8,
        "width": 0.8,
        "x": 0.1,
        "y": 0.1
       },
       "content": {
        "cell": "b896e8e6-433a-47c6-a4b8-1e97f49bd19f",
        "part": "whole"
       },
       "id": "c0d36dcf-12bf-4eda-b885-b5c5b6f3854e"
      }
     }
    },
    "73f93d7d-652d-4687-abb1-f9310f46e778": {
     "id": "73f93d7d-652d-4687-abb1-f9310f46e778",
     "prev": "d857587a-9a97-4383-94f0-54d417d135b0",
     "regions": {
      "ca1b83bb-fa17-4742-a6f6-7584b46dd3cf": {
       "attrs": {
        "height": 0.8,
        "width": 0.8,
        "x": 0.1,
        "y": 0.1
       },
       "content": {
        "cell": "87a180de-e1af-4923-a5e0-cccf96b7f883",
        "part": "whole"
       },
       "id": "ca1b83bb-fa17-4742-a6f6-7584b46dd3cf"
      }
     }
    },
    "84d31752-f286-4b2d-ab9b-74c9cd0d9cf8": {
     "id": "84d31752-f286-4b2d-ab9b-74c9cd0d9cf8",
     "prev": "ebd37d62-ce3c-40ac-8892-41fa7b313b38",
     "regions": {
      "e30d571f-25d5-47e6-9370-a4b9bf6e18c9": {
       "attrs": {
        "height": 0.8,
        "width": 0.8,
        "x": 0.1,
        "y": 0.1
       },
       "content": {
        "cell": "63c1b8da-14e8-424f-b393-031fee97535f",
        "part": "whole"
       },
       "id": "e30d571f-25d5-47e6-9370-a4b9bf6e18c9"
      }
     }
    },
    "89196030-e073-4867-96ac-82781036bd2d": {
     "id": "89196030-e073-4867-96ac-82781036bd2d",
     "prev": "6f29642e-ad10-4d95-8580-13259774b0dd",
     "regions": {
      "f70d436e-de8f-4bff-956b-ed47dd0e2ec7": {
       "attrs": {
        "height": 0.8,
        "width": 0.8,
        "x": 0.1,
        "y": 0.1
       },
       "content": {
        "cell": "5b4d8c2b-11d1-4772-80de-a8d7ed339909",
        "part": "whole"
       },
       "id": "f70d436e-de8f-4bff-956b-ed47dd0e2ec7"
      }
     }
    },
    "89b72808-0bcc-4c5c-8491-456d1f4d15bb": {
     "id": "89b72808-0bcc-4c5c-8491-456d1f4d15bb",
     "prev": "38a58f5b-acb8-4571-b0c8-b6c12f41f5cc",
     "regions": {
      "10275d8a-b7e3-43e8-b47e-ebcece35dc7a": {
       "attrs": {
        "height": 0.8,
        "width": 0.8,
        "x": 0.1,
        "y": 0.1
       },
       "content": {
        "cell": "0f084399-3e73-4525-b908-1709b1433b96",
        "part": "whole"
       },
       "id": "10275d8a-b7e3-43e8-b47e-ebcece35dc7a"
      }
     }
    },
    "a8f2f0e4-3f43-448e-b037-07388b880f24": {
     "id": "a8f2f0e4-3f43-448e-b037-07388b880f24",
     "prev": "d54c50f7-19a7-45a4-a790-48620724d82c",
     "regions": {
      "813d57c2-08b8-4078-810b-fb3766f2fbeb": {
       "attrs": {
        "height": 0.8,
        "width": 0.8,
        "x": 0.1,
        "y": 0.1
       },
       "content": {
        "cell": "c7a3fc61-2024-40ec-b5fd-91a9f631439d",
        "part": "whole"
       },
       "id": "813d57c2-08b8-4078-810b-fb3766f2fbeb"
      }
     }
    },
    "aa2dc83d-81f0-491a-93ac-ea33448e733f": {
     "id": "aa2dc83d-81f0-491a-93ac-ea33448e733f",
     "prev": "6598ebb8-be77-4db5-a5d0-b0a5177a0e12",
     "regions": {
      "602f6f9d-86bb-48d8-af0f-5559a25bf2bc": {
       "attrs": {
        "height": 0.8,
        "width": 0.8,
        "x": 0.1,
        "y": 0.1
       },
       "content": {
        "cell": "f4070362-5ce1-4cb1-938f-e1f10e01eef3",
        "part": "whole"
       },
       "id": "602f6f9d-86bb-48d8-af0f-5559a25bf2bc"
      }
     }
    },
    "c690df84-f6b1-4d3e-9132-59a5efb37fd6": {
     "id": "c690df84-f6b1-4d3e-9132-59a5efb37fd6",
     "prev": null,
     "regions": {
      "71b89878-d329-4bee-a0ce-4d80481e67a6": {
       "attrs": {
        "height": 0.8,
        "width": 0.8,
        "x": 0.1,
        "y": 0.1
       },
       "content": {
        "cell": "e45c0cbe-b455-46b8-8fc3-0ab0cc99cc85",
        "part": "source"
       },
       "id": "71b89878-d329-4bee-a0ce-4d80481e67a6"
      }
     }
    },
    "ccc7d071-8f2e-4d74-ac81-000b3e3aa5c3": {
     "id": "ccc7d071-8f2e-4d74-ac81-000b3e3aa5c3",
     "prev": "49044aea-b956-4511-b697-c2e7f3bb309b",
     "regions": {
      "9a4b0757-cd22-4d06-9781-3feb31f6c470": {
       "attrs": {
        "height": 0.8,
        "width": 0.8,
        "x": 0.1,
        "y": 0.1
       },
       "content": {
        "cell": "4f7c52ad-f616-40cf-b2ae-f42d7f1c1bbd",
        "part": "whole"
       },
       "id": "9a4b0757-cd22-4d06-9781-3feb31f6c470"
      }
     }
    },
    "d54c50f7-19a7-45a4-a790-48620724d82c": {
     "id": "d54c50f7-19a7-45a4-a790-48620724d82c",
     "prev": "dabf3b49-9959-44db-b6a8-afc5b21c5685",
     "regions": {
      "3f9d22a2-b7e0-4014-a0c2-dc5dc36333ce": {
       "attrs": {
        "height": 0.8,
        "width": 0.8,
        "x": 0.1,
        "y": 0.1
       },
       "content": {
        "cell": "e24eb67f-42fa-4b9f-91a9-048b4d3faeff",
        "part": "whole"
       },
       "id": "3f9d22a2-b7e0-4014-a0c2-dc5dc36333ce"
      }
     }
    },
    "d682e02c-01b0-4ac5-9913-ea06b0c47d7b": {
     "id": "d682e02c-01b0-4ac5-9913-ea06b0c47d7b",
     "prev": "aa2dc83d-81f0-491a-93ac-ea33448e733f",
     "regions": {
      "c2c268eb-5eba-4723-8c50-1a2dc5aa3e1a": {
       "attrs": {
        "height": 0.8,
        "width": 0.8,
        "x": 0.1,
        "y": 0.1
       },
       "content": {
        "cell": "f19393cd-e4aa-4350-a664-0f3b1f453296",
        "part": "whole"
       },
       "id": "c2c268eb-5eba-4723-8c50-1a2dc5aa3e1a"
      }
     }
    },
    "d857587a-9a97-4383-94f0-54d417d135b0": {
     "id": "d857587a-9a97-4383-94f0-54d417d135b0",
     "prev": "3060e86b-9098-4b76-b097-56408f8a7b9a",
     "regions": {
      "89b4021c-43f5-42c9-b11f-3a8311ba1fe7": {
       "attrs": {
        "height": 0.8,
        "width": 0.8,
        "x": 0.1,
        "y": 0.1
       },
       "content": {
        "cell": "13b4efcb-56fb-4a37-a003-a0b07a734e73",
        "part": "whole"
       },
       "id": "89b4021c-43f5-42c9-b11f-3a8311ba1fe7"
      }
     }
    },
    "d9ad6ee8-3bc0-454b-ae41-171644c4aecf": {
     "id": "d9ad6ee8-3bc0-454b-ae41-171644c4aecf",
     "prev": "5c3df914-8778-4a4e-8216-ba1054b2942c",
     "regions": {
      "f67e50c4-87ef-44b9-93ef-2868c02380da": {
       "attrs": {
        "height": 0.8,
        "width": 0.8,
        "x": 0.1,
        "y": 0.1
       },
       "content": {
        "cell": "16e61ed9-a43c-4259-8c30-5d4399a762e2",
        "part": "outputs"
       },
       "id": "f67e50c4-87ef-44b9-93ef-2868c02380da"
      }
     }
    },
    "dabf3b49-9959-44db-b6a8-afc5b21c5685": {
     "id": "dabf3b49-9959-44db-b6a8-afc5b21c5685",
     "prev": "73f93d7d-652d-4687-abb1-f9310f46e778",
     "regions": {
      "65de9a10-ece7-4d97-b8b0-fe05aa2df8c1": {
       "attrs": {
        "height": 0.8,
        "width": 0.8,
        "x": 0.1,
        "y": 0.1
       },
       "content": {
        "cell": "b484b839-f16f-498b-b7f3-dfe5e9558c87",
        "part": "whole"
       },
       "id": "65de9a10-ece7-4d97-b8b0-fe05aa2df8c1"
      }
     }
    },
    "ebd37d62-ce3c-40ac-8892-41fa7b313b38": {
     "id": "ebd37d62-ce3c-40ac-8892-41fa7b313b38",
     "prev": "06e2a39b-3088-4770-bb43-9ce2ab43607b",
     "regions": {
      "1d734f79-0018-41db-ba7f-ccd45c64d880": {
       "attrs": {
        "height": 0.8,
        "width": 0.8,
        "x": 0.1,
        "y": 0.1
       },
       "content": {
        "cell": "3bf966d6-cf45-4eec-94b1-b0a90b89f6b9",
        "part": "whole"
       },
       "id": "1d734f79-0018-41db-ba7f-ccd45c64d880"
      }
     }
    },
    "f63280d6-9c97-49f6-a496-6ee789928ee5": {
     "id": "f63280d6-9c97-49f6-a496-6ee789928ee5",
     "prev": "23e4be50-473b-43fc-bd50-a32acc642001",
     "regions": {
      "839e4afe-7fd3-48a6-a6ef-b65e4a5ad499": {
       "attrs": {
        "height": 0.8,
        "width": 0.8,
        "x": 0.1,
        "y": 0.1
       },
       "content": {
        "cell": "7f093917-6a5a-40dc-919e-448b7f4d38af",
        "part": "whole"
       },
       "id": "839e4afe-7fd3-48a6-a6ef-b65e4a5ad499"
      }
     }
    }
   },
   "themes": {
    "default": "13cd70fe-d170-40b1-8a07-9eb6ede440fc",
    "theme": {
     "13cd70fe-d170-40b1-8a07-9eb6ede440fc": {
      "id": "13cd70fe-d170-40b1-8a07-9eb6ede440fc",
      "palette": {
       "19cc588f-0593-49c9-9f4b-e4d7cc113b1c": {
        "id": "19cc588f-0593-49c9-9f4b-e4d7cc113b1c",
        "rgb": [
         252,
         252,
         252
        ]
       },
       "31af15d2-7e15-44c5-ab5e-e04b16a89eff": {
        "id": "31af15d2-7e15-44c5-ab5e-e04b16a89eff",
        "rgb": [
         68,
         68,
         68
        ]
       },
       "50f92c45-a630-455b-aec3-788680ec7410": {
        "id": "50f92c45-a630-455b-aec3-788680ec7410",
        "rgb": [
         155,
         177,
         192
        ]
       },
       "c5cc3653-2ee1-402a-aba2-7caae1da4f6c": {
        "id": "c5cc3653-2ee1-402a-aba2-7caae1da4f6c",
        "rgb": [
         43,
         126,
         184
        ]
       },
       "efa7f048-9acb-414c-8b04-a26811511a21": {
        "id": "efa7f048-9acb-414c-8b04-a26811511a21",
        "rgb": [
         25.118061674008803,
         73.60176211453744,
         107.4819383259912
        ]
       }
      },
      "rules": {
       "blockquote": {
        "color": "50f92c45-a630-455b-aec3-788680ec7410"
       },
       "code": {
        "font-family": "Anonymous Pro"
       },
       "h1": {
        "color": "c5cc3653-2ee1-402a-aba2-7caae1da4f6c",
        "font-family": "Lato",
        "font-size": 8
       },
       "h2": {
        "color": "c5cc3653-2ee1-402a-aba2-7caae1da4f6c",
        "font-family": "Lato",
        "font-size": 6
       },
       "h3": {
        "color": "50f92c45-a630-455b-aec3-788680ec7410",
        "font-family": "Lato",
        "font-size": 5.5
       },
       "h4": {
        "color": "c5cc3653-2ee1-402a-aba2-7caae1da4f6c",
        "font-family": "Lato",
        "font-size": 5
       },
       "h5": {
        "font-family": "Lato"
       },
       "h6": {
        "font-family": "Lato"
       },
       "h7": {
        "font-family": "Lato"
       },
       "pre": {
        "font-family": "Anonymous Pro",
        "font-size": 4
       }
      },
      "text-base": {
       "font-family": "Merriweather",
       "font-size": 4
      }
     },
     "1bf61d15-2381-4af7-b877-1ad810c1d003": {
      "backgrounds": {
       "dc7afa04-bf90-40b1-82a5-726e3cff5267": {
        "background-color": "31af15d2-7e15-44c5-ab5e-e04b16a89eff",
        "id": "dc7afa04-bf90-40b1-82a5-726e3cff5267"
       }
      },
      "id": "1bf61d15-2381-4af7-b877-1ad810c1d003",
      "palette": {
       "19cc588f-0593-49c9-9f4b-e4d7cc113b1c": {
        "id": "19cc588f-0593-49c9-9f4b-e4d7cc113b1c",
        "rgb": [
         252,
         252,
         252
        ]
       },
       "31af15d2-7e15-44c5-ab5e-e04b16a89eff": {
        "id": "31af15d2-7e15-44c5-ab5e-e04b16a89eff",
        "rgb": [
         68,
         68,
         68
        ]
       },
       "50f92c45-a630-455b-aec3-788680ec7410": {
        "id": "50f92c45-a630-455b-aec3-788680ec7410",
        "rgb": [
         197,
         226,
         245
        ]
       },
       "c5cc3653-2ee1-402a-aba2-7caae1da4f6c": {
        "id": "c5cc3653-2ee1-402a-aba2-7caae1da4f6c",
        "rgb": [
         43,
         126,
         184
        ]
       },
       "efa7f048-9acb-414c-8b04-a26811511a21": {
        "id": "efa7f048-9acb-414c-8b04-a26811511a21",
        "rgb": [
         25.118061674008803,
         73.60176211453744,
         107.4819383259912
        ]
       }
      },
      "rules": {
       "a": {
        "color": "19cc588f-0593-49c9-9f4b-e4d7cc113b1c"
       },
       "blockquote": {
        "color": "50f92c45-a630-455b-aec3-788680ec7410",
        "font-size": 3
       },
       "code": {
        "font-family": "Anonymous Pro"
       },
       "h1": {
        "color": "19cc588f-0593-49c9-9f4b-e4d7cc113b1c",
        "font-family": "Merriweather",
        "font-size": 8
       },
       "h2": {
        "color": "19cc588f-0593-49c9-9f4b-e4d7cc113b1c",
        "font-family": "Merriweather",
        "font-size": 6
       },
       "h3": {
        "color": "50f92c45-a630-455b-aec3-788680ec7410",
        "font-family": "Lato",
        "font-size": 5.5
       },
       "h4": {
        "color": "c5cc3653-2ee1-402a-aba2-7caae1da4f6c",
        "font-family": "Lato",
        "font-size": 5
       },
       "h5": {
        "font-family": "Lato"
       },
       "h6": {
        "font-family": "Lato"
       },
       "h7": {
        "font-family": "Lato"
       },
       "li": {
        "color": "50f92c45-a630-455b-aec3-788680ec7410",
        "font-size": 3.25
       },
       "pre": {
        "font-family": "Anonymous Pro",
        "font-size": 4
       }
      },
      "text-base": {
       "color": "19cc588f-0593-49c9-9f4b-e4d7cc113b1c",
       "font-family": "Lato",
       "font-size": 4
      }
     },
     "3f3e5c4c-f921-40b0-894c-e83f5884ebb6": {
      "backgrounds": {
       "backgroundColor": {
        "background-color": "backgroundColor",
        "id": "backgroundColor"
       }
      },
      "id": "3f3e5c4c-f921-40b0-894c-e83f5884ebb6",
      "palette": {
       "backgroundColor": {
        "id": "backgroundColor",
        "rgb": [
         247,
         243,
         222
        ]
       },
       "headingColor": {
        "id": "headingColor",
        "rgb": [
         51,
         51,
         51
        ]
       },
       "linkColor": {
        "id": "linkColor",
        "rgb": [
         139,
         116,
         61
        ]
       },
       "mainColor": {
        "id": "mainColor",
        "rgb": [
         51,
         51,
         51
        ]
       }
      },
      "rules": {
       "a": {
        "color": "linkColor"
       },
       "h1": {
        "color": "headingColor",
        "font-family": "Oswald",
        "font-size": 7
       },
       "h2": {
        "color": "headingColor",
        "font-family": "Oswald",
        "font-size": 5
       },
       "h3": {
        "color": "headingColor",
        "font-family": "Oswald",
        "font-size": 3.75
       },
       "h4": {
        "color": "headingColor",
        "font-family": "Oswald",
        "font-size": 3
       },
       "h5": {
        "color": "headingColor",
        "font-family": "Oswald"
       },
       "h6": {
        "color": "headingColor",
        "font-family": "Oswald"
       },
       "h7": {
        "color": "headingColor",
        "font-family": "Oswald"
       },
       "li": {
        "color": "mainColor",
        "font-family": "Lato",
        "font-size": 5
       },
       "p": {
        "color": "mainColor",
        "font-family": "Lato",
        "font-size": 5
       }
      },
      "text-base": {
       "color": "mainColor",
       "font-family": "Lato",
       "font-size": 5
      }
     }
    }
   }
  }
 },
 "nbformat": 4,
 "nbformat_minor": 2
}
