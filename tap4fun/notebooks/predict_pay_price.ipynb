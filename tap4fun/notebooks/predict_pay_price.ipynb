{
 "cells": [
  {
   "cell_type": "markdown",
   "metadata": {
    "nbpresent": {
     "id": "e0c1ce36-c934-4dd5-abbd-d36c4fe17bd2"
    }
   },
   "source": [
    "# Predict pay price\n",
    "本文使用中间数据集的特征预测7日后付费的用户（包括复购和新付费用户）。\n",
    "\n",
    "通过对5大类因子有效性的研究得到有效的模型输入. 筛选因子的主要方法：\n",
    "1. 大类中的因子等权平均\n",
    "2. 大类中的因子用PCA压缩（矩阵正交），得到最大解释比例的因子\n",
    "3. stepwise(RFE)，通过ploy, cross product产生的新因子，使用模型迭代筛选出最有效的因子\n",
    "\n",
    "## Solution: Feature Tools"
   ]
  },
  {
   "cell_type": "code",
   "execution_count": 1,
   "metadata": {},
   "outputs": [],
   "source": [
    "# improt packages\n",
    "import pandas as pd\n",
    "import pprint\n",
    "import tableprint as tp\n",
    "import itertools as it\n",
    "from ipywidgets import interact, interactive, fixed, interact_manual\n",
    "import ipywidgets as widgets\n",
    "import matplotlib.pylab as plt\n",
    "from matplotlib.font_manager import FontProperties\n",
    "import seaborn as sns\n",
    "import warnings\n",
    "warnings.filterwarnings(action='ignore')\n",
    "\n",
    "font0 = FontProperties()\n",
    "alignment = {'horizontalalignment': 'center', 'verticalalignment': 'baseline'}\n",
    "# Show family options\n",
    "\n",
    "families = ['serif', 'sans-serif', 'cursive', 'fantasy', 'monospace']\n",
    "\n",
    "font1 = font0.copy()\n",
    "font1.set_size('large')\n",
    "plt.style.use('ggplot')\n",
    "pp = pprint.PrettyPrinter(indent=4)\n",
    "\n",
    "%matplotlib inline"
   ]
  },
  {
   "cell_type": "markdown",
   "metadata": {},
   "source": [
    "读取X和y，均为未标准化数据集, y为log后的数据"
   ]
  },
  {
   "cell_type": "code",
   "execution_count": 385,
   "metadata": {},
   "outputs": [],
   "source": [
    "USELESS_COLUMNS = [#'stone_net',\n",
    "    ]\n",
    "\n",
    "NUMERICAL_COLUMNS = [\n",
    "    # active/payment features\n",
    "     'day_num',\n",
    "    'avg_online_minutes', 'pay_price', 'pay_price_per_hour', 'is_active_user',\n",
    "    'dayofweek', \n",
    "    'sr_main_var', 'sr_level_var', 'net_var', 'mean_wood_net_var'\n",
    "    # war features\n",
    "    'battle_win%',\n",
    "    # achievement features\n",
    "    'resource_add', 'acceleration_add'\n",
    "    'acct_value_zs', 'resource_reduce', 'army_reduce'\n",
    "    'sr_main_score',\n",
    "    # add features\n",
    "    'stone_add_value', 'ivory_add_value', 'general_acceleration_add_value',\n",
    "       'training_acceleration_add_value'\n",
    "    # reduce features\n",
    "    'wood_reduce_value', 'ivory_reduce_value',\n",
    "       'general_acceleration_reduce_value',\n",
    "       'reaserch_acceleration_reduce_value',\n",
    "    # net features\n",
    "    'meat_net', 'cavalry_net', 'general_acceleration_net',\n",
    "       'training_acceleration_net',\n",
    "    # ratio features\n",
    "    'acceleration_army_add_ratio', 'resource_army_add_ratio',\n",
    "       'bd_resource_ratio',\n",
    "    # mix features\n",
    "    'sr_army_prod',\n",
    "    'bd_sr_product',\n",
    "]\n",
    "NUMERICAL_COLUMNS = list(filter(lambda x: x not in USELESS_COLUMNS, NUMERICAL_COLUMNS))\n",
    "\n",
    "CATEGORICAL_COLUMNS = [\n",
    "    'pay_price_group',\n",
    "    'register_timecls',\n",
    "    'avg_online_minutes_group',\n",
    "]\n"
   ]
  },
  {
   "cell_type": "code",
   "execution_count": 433,
   "metadata": {},
   "outputs": [
    {
     "name": "stdout",
     "output_type": "stream",
     "text": [
      "Wall time: 7.41 s\n"
     ]
    }
   ],
   "source": [
    "%%time\n",
    "df_train = pd.read_parquet('../data/tap_fun_train.parquet')"
   ]
  },
  {
   "cell_type": "code",
   "execution_count": 434,
   "metadata": {},
   "outputs": [
    {
     "name": "stdout",
     "output_type": "stream",
     "text": [
      "Wall time: 3.03 s\n"
     ]
    }
   ],
   "source": [
    "%time df_test = pd.read_parquet('../data/tap_fun_test.parquet')"
   ]
  },
  {
   "cell_type": "code",
   "execution_count": 435,
   "metadata": {},
   "outputs": [],
   "source": [
    "df_train['prediction_future_pay_price'] = df_train['prediction_pay_price'] - df_train['pay_price']\n",
    "df_train = df_train.assign(is_future_pay= lambda x: x.prediction_future_pay_price>0)\n",
    "NUMERICAL_COLUMNS = list(filter(lambda x:x in df_train.columns, NUMERICAL_COLUMNS))\n",
    "USE_COLUMNS = NUMERICAL_COLUMNS \n",
    "TARGET_COLUMN=['prediction_future_pay_price']"
   ]
  },
  {
   "cell_type": "code",
   "execution_count": 436,
   "metadata": {},
   "outputs": [],
   "source": [
    "from dask import dataframe as dd\n",
    "\n",
    "df_sm = df_train[df_train.avg_online_minutes>20]\n",
    "dd_sm = dd.from_pandas(df_sm,npartitions=4)"
   ]
  },
  {
   "cell_type": "code",
   "execution_count": 437,
   "metadata": {},
   "outputs": [],
   "source": [
    "X = df_train[USE_COLUMNS]\n",
    "y = df_train[TARGET_COLUMN]"
   ]
  },
  {
   "cell_type": "code",
   "execution_count": 438,
   "metadata": {},
   "outputs": [
    {
     "data": {
      "text/plain": [
       "(182415, 26)"
      ]
     },
     "execution_count": 438,
     "metadata": {},
     "output_type": "execute_result"
    }
   ],
   "source": [
    "X = X[X.avg_online_minutes>20]\n",
    "y = y.loc[X.index]\n",
    "# X =X.reset_index(drop=True)\n",
    "X.shape"
   ]
  },
  {
   "cell_type": "code",
   "execution_count": 439,
   "metadata": {},
   "outputs": [],
   "source": [
    "X_test = df_test[NUMERICAL_COLUMNS]"
   ]
  },
  {
   "cell_type": "code",
   "execution_count": 440,
   "metadata": {},
   "outputs": [
    {
     "name": "stdout",
     "output_type": "stream",
     "text": [
      "╭─────────────┬─────────────┬─────────────╮\n",
      "│  day7 pay#  │ no future pay# │ samll pay#  │\n",
      "├─────────────┼─────────────┼─────────────┤\n",
      "│       41439 │       30130 │           0 │\n",
      "╰─────────────┴─────────────┴─────────────╯\n"
     ]
    }
   ],
   "source": [
    "df_pay_day7=  df_train[df_train['pay_price']>0]\n",
    "same_pay_cnt = df_pay_day7[df_pay_day7['pay_price']==df_pay_day7['prediction_pay_price']]['user_id'].count()\n",
    "less_pay_cnt = df_pay_day7[df_pay_day7['pay_price']>df_pay_day7['prediction_pay_price']]['user_id'].count()\n",
    "day7_cnt = df_pay_day7['user_id'].count()\n",
    "\n",
    "tp.table([[day7_cnt,same_pay_cnt,less_pay_cnt]],['day7 pay#', 'no future pay#', 'samll pay#'])"
   ]
  },
  {
   "cell_type": "code",
   "execution_count": 441,
   "metadata": {},
   "outputs": [],
   "source": [
    "df_variable = pd.read_excel('../data/tap4fun.xlsx',sheet_name='Sheet1')\n",
    "df_variable = df_variable.iloc[:,range(3)].rename(columns={'字段名':'column','字段解释':'desc','数据时间':'cycle'})\n",
    "df_variable['cat'] = df_variable.column.str.split('_').apply(lambda x: x[0])\n"
   ]
  },
  {
   "cell_type": "markdown",
   "metadata": {},
   "source": [
    "由于前7日的非活跃用户几乎不可能付费，模型输入把这部分数据排除"
   ]
  },
  {
   "cell_type": "code",
   "execution_count": 442,
   "metadata": {},
   "outputs": [
    {
     "name": "stdout",
     "output_type": "stream",
     "text": [
      "row count exclude inactive users:182415\n"
     ]
    }
   ],
   "source": [
    "y_log = np.log(y.values.ravel()+1)\n",
    "print(\"row count exclude inactive users:%d\"%X.shape[0])"
   ]
  },
  {
   "cell_type": "code",
   "execution_count": 443,
   "metadata": {},
   "outputs": [],
   "source": [
    "df_joint = pd.concat([df_train, df_test])\n",
    "df_joint = df_joint[df_joint.avg_online_minutes>20]"
   ]
  },
  {
   "cell_type": "markdown",
   "metadata": {},
   "source": [
    "因子有效性研究\n",
    "- 不同的归一化方式会影响数据分布吗? standard score and ipsantation change distribution"
   ]
  },
  {
   "cell_type": "code",
   "execution_count": 445,
   "metadata": {},
   "outputs": [
    {
     "name": "stdout",
     "output_type": "stream",
     "text": [
      "import factors: Index(['sr_level_min', 'sr_main_var'], dtype='object')\n",
      "r2: 0.1300751562796829\n"
     ]
    }
   ],
   "source": [
    "from sklearn.preprocessing import MinMaxScaler, StandardScaler, RobustScaler, minmax_scale\n",
    "from sklearn.linear_model import LarsCV\n",
    "from sklearn.feature_selection import SelectFromModel\n",
    "from gplearn.genetic import SymbolicRegressor, SymbolicTransformer\n",
    "from sklearn.pipeline import make_pipeline\n",
    "\n",
    "\n",
    "factor_names = list(df_sm.filter(regex='min$',axis=1).columns)\n",
    "factor_names += list(df_sm.filter(regex='max$',axis=1).columns)\n",
    "factor_names += list(df_sm.filter(regex='mean$',axis=1).columns)\n",
    "factor_names += list(df_sm.filter(regex='var$',axis=1).columns)\n",
    "data = df_sm[factor_names]\n",
    "df_net = pd.DataFrame(MinMaxScaler().fit_transform(data),columns=factor_names)\n",
    "\n",
    "md_lar = LarsCV().fit(df_net, y)\n",
    "estimator = SelectFromModel(md_lar,prefit=True)\n",
    "print('import factors:', df_net.columns[estimator.get_support()])\n",
    "print('r2: {}'.format(md_lar.score(df_net, y)))\n"
   ]
  },
  {
   "cell_type": "code",
   "execution_count": 447,
   "metadata": {},
   "outputs": [
    {
     "data": {
      "text/plain": [
       "['sr_main_min',\n",
       " 'sr_level_min',\n",
       " 'bd_main_min',\n",
       " 'sr_main_max',\n",
       " 'sr_level_max',\n",
       " 'bd_main_max',\n",
       " 'sr_main_mean',\n",
       " 'sr_level_mean',\n",
       " 'bd_main_mean',\n",
       " 'sr_main_var',\n",
       " 'sr_level_var',\n",
       " 'bd_main_var']"
      ]
     },
     "execution_count": 447,
     "metadata": {},
     "output_type": "execute_result"
    }
   ],
   "source": [
    "factor_names"
   ]
  },
  {
   "cell_type": "code",
   "execution_count": 451,
   "metadata": {},
   "outputs": [
    {
     "data": {
      "text/plain": [
       "241.14287480487263"
      ]
     },
     "execution_count": 451,
     "metadata": {},
     "output_type": "execute_result"
    }
   ],
   "source": [
    "from sklearn.metrics import r2_score, mean_squared_error\n",
    "np.sqrt(mean_squared_error(md_lar.predict(df_net),y))"
   ]
  },
  {
   "cell_type": "markdown",
   "metadata": {},
   "source": [
    "对支付类因子做因子合成"
   ]
  },
  {
   "cell_type": "code",
   "execution_count": 453,
   "metadata": {
    "scrolled": false
   },
   "outputs": [
    {
     "data": {
      "image/png": "[encoded data removed]",
      "text/plain": [
       "<Figure size 432x288 with 1 Axes>"
      ]
     },
     "metadata": {},
     "output_type": "display_data"
    }
   ],
   "source": [
    "X.pay_price_per_hour[X.pay_price_per_hour>.05].apply(lambda x: np.log(x+1)).hist();\n"
   ]
  },
  {
   "cell_type": "code",
   "execution_count": 454,
   "metadata": {},
   "outputs": [
    {
     "name": "stdout",
     "output_type": "stream",
     "text": [
      "    |    Population Average   |             Best Individual              |\n",
      "---- ------------------------- ------------------------------------------ ----------\n",
      " Gen   Length          Fitness   Length          Fitness      OOB Fitness  Time Left\n",
      "   0    11.52 0.15382249168286435        4 0.5808138205487405 0.5706366154366226     10.82m\n",
      "Wall time: 21.1 s\n"
     ]
    }
   ],
   "source": [
    "%%time\n",
    "from gplearn.genetic import SymbolicRegressor, SymbolicTransformer\n",
    "\n",
    "function_set = ['add', 'sub', 'mul', 'div',\n",
    "                'sqrt', 'log', 'abs', 'neg', 'inv',\n",
    "                'max', 'min']\n",
    "gp_size = 10\n",
    "sreg = SymbolicTransformer(population_size=500,n_components=gp_size,\n",
    "                           generations=50, stopping_criteria=0.01,\n",
    "                           function_set=function_set,\n",
    "                           p_crossover=0.6, p_subtree_mutation=0.1,\n",
    "                           p_hoist_mutation=0.2, p_point_mutation=0.1,\n",
    "                           max_samples=0.9, verbose=1, n_jobs= 8,\n",
    "                           parsimony_coefficient=0.01)\n",
    "sreg.fit(X,y)"
   ]
  },
  {
   "cell_type": "markdown",
   "metadata": {},
   "source": [
    "test correlation between systhetic factor and dependend variable"
   ]
  },
  {
   "cell_type": "code",
   "execution_count": 455,
   "metadata": {},
   "outputs": [],
   "source": [
    "gp_features =sreg.transform(X)\n",
    "df_gp_features = pd.DataFrame(gp_features, columns =list(map(lambda x: 'gp_'+str(x),range(gp_size))))\n",
    "X_gp=X.reset_index(drop=True).join(df_gp_features)"
   ]
  },
  {
   "cell_type": "markdown",
   "metadata": {},
   "source": [
    "划分训练测试集"
   ]
  },
  {
   "cell_type": "code",
   "execution_count": 456,
   "metadata": {},
   "outputs": [],
   "source": [
    "from sklearn.model_selection import train_test_split\n",
    "\n",
    "def split_train_evaluate(df, train_ratio=0.8):\n",
    "    \"\"\"\n",
    "        split dataset by register_date\n",
    "    \"\"\"\n",
    "    max_days =  df.day_num.max()\n",
    "    cutoff_daynum = int(train_ratio*max_days)\n",
    "    df_train = df[df.day_num<cutoff_daynum]\n",
    "    df_evaluate = df[df.day_num>=cutoff_daynum]\n",
    "    return df_train, df_evaluate\n",
    "X_train, X_test, y_train, y_test = train_test_split(X, y, test_size=.3)"
   ]
  },
  {
   "cell_type": "code",
   "execution_count": 425,
   "metadata": {},
   "outputs": [
    {
     "data": {
      "image/png": "[encoded data removed]",
      "text/plain": [
       "<Figure size 432x288 with 2 Axes>"
      ]
     },
     "metadata": {},
     "output_type": "display_data"
    }
   ],
   "source": [
    "corr = X_test.assign(y=y_test).corr('spearman')\n",
    "sns.heatmap(corr);"
   ]
  },
  {
   "cell_type": "code",
   "execution_count": 426,
   "metadata": {},
   "outputs": [
    {
     "data": {
      "text/plain": [
       "{'day_num': [],\n",
       " 'avg_online_minutes': [],\n",
       " 'pay_price': ['pay_price_per_hour'],\n",
       " 'pay_price_per_hour': ['pay_price'],\n",
       " 'is_active_user': [],\n",
       " 'dayofweek': [],\n",
       " 'sr_main_var': ['bd_sr_product'],\n",
       " 'sr_level_var': ['sr_army_prod'],\n",
       " 'battle_win%': [],\n",
       " 'resource_add': ['resource_reduce',\n",
       "  'stone_add_value',\n",
       "  'ivory_add_value',\n",
       "  'general_acceleration_add_value',\n",
       "  'bd_resource_ratio',\n",
       "  'bd_sr_product'],\n",
       " 'resource_reduce': ['resource_add',\n",
       "  'stone_add_value',\n",
       "  'ivory_add_value',\n",
       "  'general_acceleration_add_value',\n",
       "  'bd_resource_ratio',\n",
       "  'bd_sr_product'],\n",
       " 'stone_add_value': ['resource_add',\n",
       "  'resource_reduce',\n",
       "  'ivory_add_value',\n",
       "  'bd_resource_ratio'],\n",
       " 'ivory_add_value': ['resource_add', 'resource_reduce', 'stone_add_value'],\n",
       " 'general_acceleration_add_value': ['resource_add',\n",
       "  'resource_reduce',\n",
       "  'bd_sr_product'],\n",
       " 'ivory_reduce_value': [],\n",
       " 'general_acceleration_reduce_value': [],\n",
       " 'reaserch_acceleration_reduce_value': [],\n",
       " 'meat_net': [],\n",
       " 'cavalry_net': [],\n",
       " 'general_acceleration_net': [],\n",
       " 'training_acceleration_net': [],\n",
       " 'acceleration_army_add_ratio': ['resource_army_add_ratio'],\n",
       " 'resource_army_add_ratio': ['acceleration_army_add_ratio'],\n",
       " 'bd_resource_ratio': ['resource_add', 'resource_reduce', 'stone_add_value'],\n",
       " 'sr_army_prod': ['sr_level_var'],\n",
       " 'bd_sr_product': ['sr_main_var',\n",
       "  'resource_add',\n",
       "  'resource_reduce',\n",
       "  'general_acceleration_add_value'],\n",
       " 'y': []}"
      ]
     },
     "execution_count": 426,
     "metadata": {},
     "output_type": "execute_result"
    }
   ],
   "source": [
    "threshold = 0.85\n",
    "correlated_pairs= {}\n",
    "for col in corr:\n",
    "    # Find correlations above the threshold\n",
    "    above_threshold_vars = [x for x in list(corr.index[abs(corr[col]) > threshold]) if x != col]\n",
    "    correlated_pairs[col] = above_threshold_vars\n",
    "correlated_pairs\n"
   ]
  },
  {
   "cell_type": "markdown",
   "metadata": {},
   "source": [
    "使用Logistic Regression预测7日后是否付费"
   ]
  },
  {
   "cell_type": "code",
   "execution_count": 469,
   "metadata": {},
   "outputs": [
    {
     "name": "stdout",
     "output_type": "stream",
     "text": [
      "train: r2=-0.5524882538527673,rmse=210.04151306566047\n",
      "test: r2=-1.070848927499811,rmse=208.21252421243776\n"
     ]
    }
   ],
   "source": [
    "from os import cpu_count\n",
    "from sklearn.ensemble import RandomForestRegressor\n",
    "from sklearn.linear_model import LassoCV, Ridge\n",
    "from sklearn.ensemble import GradientBoostingClassifier\n",
    "from sklearn.neighbors import KNeighborsClassifier\n",
    "from sklearn.model_selection import StratifiedKFold\n",
    "from sklearn.feature_selection import SelectKBest, SelectFromModel, chi2, f_classif, mutual_info_classif\n",
    "from sklearn.metrics import mean_squared_error, r2_score\n",
    "from sklearn.metrics import auc, roc_curve\n",
    "from sklearn.pipeline import make_pipeline\n",
    "from sklearn.preprocessing import FunctionTransformer\n",
    "from sklearn.preprocessing import MinMaxScaler, StandardScaler\n",
    "from imblearn.pipeline import make_pipeline\n",
    "import itertools as it\n",
    "\n",
    "scaler_X = StandardScaler()\n",
    "clf_models = []\n",
    "\n",
    "c = LassoCV()\n",
    "\n",
    "md_l2 = Ridge() #class_weight='balanced',\n",
    "\n",
    "clf = RandomForestRegressor(verbose=True, n_jobs=cpu_count(), \n",
    "                             min_samples_leaf = 1,#class_weight='balanced',\n",
    "                             n_estimators=100, max_depth =11)\n",
    "pipeline_clf = make_pipeline(scaler_X,SelectFromModel(md_l1, threshold='median'), md_l2)\n",
    "pipeline_clf.fit(X_train,y_train);\n",
    "\n",
    "data = {'train':[X_train, y_train],'test':[X_test,y_test]}\n",
    "y_stacked = {'train':{},'test':{}}\n",
    "\n",
    "for stage in data.keys():\n",
    "    X_in, y_in = data.get(stage)\n",
    "    y_predict = pipeline_clf.predict(X_in)\n",
    "    r2 = r2_score(y_predict, y_in)\n",
    "    rmse = np.sqrt(mean_squared_error(y_predict, y_in))\n",
    "    print(\"{0}: r2={1},rmse={2}\".format(stage, r2, rmse))\n",
    "    y_stacked[stage]['linear']=y_predict\n",
    "clf_models.append(('linear',pipeline_clf ))"
   ]
  },
  {
   "cell_type": "markdown",
   "metadata": {},
   "source": [
    "fit with bayesian"
   ]
  },
  {
   "cell_type": "code",
   "execution_count": 471,
   "metadata": {},
   "outputs": [
    {
     "name": "stdout",
     "output_type": "stream",
     "text": [
      "train: r2=-0.5529402599167359,rmse=210.04152127935416\n",
      "test: r2=-1.0709044039584175,rmse=208.20399150563406\n",
      "Wall time: 4.1 s\n"
     ]
    }
   ],
   "source": [
    "%%time\n",
    "from sklearn.pipeline import FeatureUnion\n",
    "from sklearn.linear_model import BayesianRidge\n",
    "\n",
    "pipeline_clf = make_pipeline(scaler_X,SelectFromModel(md_l1, threshold='median'), BayesianRidge())\n",
    "\n",
    "pipeline_clf.fit(X_train, y_train)\n",
    "\n",
    "data = {'train':[X_train, y_train],'test':[X_test,y_test]}\n",
    "\n",
    "for stage in data.keys():\n",
    "    X_in, y_in = data.get(stage)\n",
    "    y_predict = pipeline_clf.predict(X_in)\n",
    "    r2 = r2_score(y_predict, y_in)\n",
    "    rmse = np.sqrt(mean_squared_error(y_predict, y_in))\n",
    "    print(\"{0}: r2={1},rmse={2}\".format(stage, r2, rmse))\n",
    "    y_stacked[stage]['BayesianRidge']=y_predict\n",
    "clf_models.append(('BayesianRidge',pipeline_clf ))"
   ]
  },
  {
   "cell_type": "markdown",
   "metadata": {},
   "source": [
    "fit with AdaBoost"
   ]
  },
  {
   "cell_type": "code",
   "execution_count": 472,
   "metadata": {},
   "outputs": [
    {
     "name": "stdout",
     "output_type": "stream",
     "text": [
      "train: r2=0.4088360337375372,rmse=233.35561609478077\n",
      "test: r2=0.11943806701273985,rmse=258.8543651463588\n",
      "Wall time: 31.6 s\n"
     ]
    }
   ],
   "source": [
    "%%time\n",
    "from sklearn.ensemble import AdaBoostRegressor\n",
    "\n",
    "pipeline_clf = make_pipeline(AdaBoostRegressor(learning_rate=.3))\n",
    "\n",
    "pipeline_clf.fit(X_train, y_train)\n",
    "\n",
    "data = {'train':[X_train, y_train],'test':[X_test,y_test]}\n",
    "\n",
    "for stage in data.keys():\n",
    "    X_in, y_in = data.get(stage)\n",
    "    y_predict = pipeline_clf.predict(X_in)\n",
    "    r2 = r2_score(y_predict, y_in)\n",
    "    rmse = np.sqrt(mean_squared_error(y_predict, y_in))\n",
    "    print(\"{0}: r2={1},rmse={2}\".format(stage, r2, rmse))\n",
    "    y_stacked[stage]['BayesianRidge']=y_predict\n",
    "clf_models.append(('BayesianRidge',pipeline_clf ))"
   ]
  },
  {
   "cell_type": "markdown",
   "metadata": {},
   "source": [
    "predit with regression"
   ]
  },
  {
   "cell_type": "code",
   "execution_count": 508,
   "metadata": {},
   "outputs": [],
   "source": [
    "def split_train_evaluate(df, train_ratio=0.8):\n",
    "    \"\"\"\n",
    "        split dataset by register_date\n",
    "    \"\"\"\n",
    "    max_days =  df.day_num.max()\n",
    "    cutoff_daynum = int(train_ratio*max_days)\n",
    "    train_index = df.day_num<cutoff_daynum\n",
    "    evaluate_index = df.day_num>=cutoff_daynum\n",
    "    return train_index, evaluate_index\n",
    "\n",
    "train,test = split_train_evaluate(X,train_ratio=.7)\n",
    "X_train, X_test= X[train],X[test]\n",
    "y_train, y_test = y[train].prediction_future_pay_price,y[test].prediction_future_pay_price"
   ]
  },
  {
   "cell_type": "code",
   "execution_count": 509,
   "metadata": {},
   "outputs": [
    {
     "name": "stdout",
     "output_type": "stream",
     "text": [
      "Wall time: 5.28 s\n"
     ]
    }
   ],
   "source": [
    "%%time\n",
    "import lightgbm as lgb \n",
    "\n",
    "\n",
    "train_data=lgb.Dataset(X_train,label=y_train)\n",
    "param = {'num_leaves':150, 'boosting_type': 'gbdt',\n",
    "        'objective': 'regression',\n",
    "        'metric':'rmse','max_depth':-1,'learning_rate':0.02,'max_bin':100, 'reg_lambda':0.03,'reg_alpha':0,\n",
    "         'subsample' : 0.3,#'feature_fraction':0.6,\n",
    "         'is_unbalance': 'false',  #because training data is unbalance (replaced with scale_pos_weight)\n",
    "        }\n",
    "# param['metric'] = ['l1']\n",
    "num_round=300\n",
    "\n",
    "lgbm=lgb.train(param,train_data,num_round)\n"
   ]
  },
  {
   "cell_type": "code",
   "execution_count": 510,
   "metadata": {},
   "outputs": [
    {
     "name": "stdout",
     "output_type": "stream",
     "text": [
      "train: r2=0.4327844464766001,rmse=137.74128709196702\n",
      "test: r2=-0.5272751092898496,rmse=221.52443897771317\n"
     ]
    }
   ],
   "source": [
    "from sklearn.metrics import r2_score, mean_squared_error\n",
    "import math\n",
    "\n",
    "data = {'train':[X_train, y_train],'test':[X_test,y_test]}\n",
    "y_stacked = {'train':{},'test':{}}\n",
    "\n",
    "for stage in data.keys():\n",
    "    X_in, y_in = data.get(stage)\n",
    "    y_predict = lgbm.predict(X_in)\n",
    "    r2 = r2_score(y_predict, y_in)\n",
    "    rmse = np.sqrt(mean_squared_error(y_predict, y_in))\n",
    "    print(\"{0}: r2={1},rmse={2}\".format(stage, r2, rmse))\n"
   ]
  },
  {
   "cell_type": "code",
   "execution_count": 511,
   "metadata": {},
   "outputs": [
    {
     "name": "stdout",
     "output_type": "stream",
     "text": [
      "train: rmse=209.98497288098307\n",
      "test: rmse=210.70732771787908\n"
     ]
    }
   ],
   "source": [
    "from sklearn.linear_model import BayesianRidge, Lasso, Ridge\n",
    "pipeline_reg = make_pipeline(scaler_X,SelectFromModel(Lasso(), threshold='median'), Ridge())\n",
    "pipeline_reg.fit(X_train,y_train)\n",
    "\n",
    "data = {'train':[X_train, y_train],'test':[X_test,y_test]}\n",
    "\n",
    "for stage in data.keys():\n",
    "    X_in, y_in = data.get(stage)\n",
    "    y_predict = pipeline_reg.predict(X_in)\n",
    "    rmse = math.sqrt(mean_squared_error(y_predict, y_in))\n",
    "    print(\"{0}: rmse={1}\".format(stage, rmse))\n"
   ]
  },
  {
   "cell_type": "code",
   "execution_count": 490,
   "metadata": {},
   "outputs": [
    {
     "ename": "FileNotFoundError",
     "evalue": "File b'notebook/y_predict_not_pay.csv' does not exist",
     "output_type": "error",
     "traceback": [
      "\u001b[1;31m---------------------------------------------------------------------------\u001b[0m",
      "\u001b[1;31mFileNotFoundError\u001b[0m                         Traceback (most recent call last)",
      "\u001b[1;32m<ipython-input-490-caca633084d2>\u001b[0m in \u001b[0;36m<module>\u001b[1;34m()\u001b[0m\n\u001b[0;32m      1\u001b[0m \u001b[0mX_test\u001b[0m \u001b[1;33m=\u001b[0m \u001b[0mdf_test\u001b[0m\u001b[1;33m[\u001b[0m\u001b[0mNUMERICAL_COLUMNS\u001b[0m\u001b[1;33m]\u001b[0m\u001b[1;33m\u001b[0m\u001b[0m\n\u001b[1;32m----> 2\u001b[1;33m \u001b[0my_predict_not_pay\u001b[0m \u001b[1;33m=\u001b[0m \u001b[0mpd\u001b[0m\u001b[1;33m.\u001b[0m\u001b[0mread_csv\u001b[0m\u001b[1;33m(\u001b[0m\u001b[1;34m'notebook/y_predict_not_pay.csv'\u001b[0m\u001b[1;33m)\u001b[0m\u001b[1;33m\u001b[0m\u001b[0m\n\u001b[0m\u001b[0;32m      3\u001b[0m \u001b[0msubmission\u001b[0m \u001b[1;33m=\u001b[0m \u001b[0mnp\u001b[0m\u001b[1;33m.\u001b[0m\u001b[0mexp\u001b[0m\u001b[1;33m(\u001b[0m\u001b[0mlgbm\u001b[0m\u001b[1;33m.\u001b[0m\u001b[0mpredict\u001b[0m\u001b[1;33m(\u001b[0m\u001b[0mX_test\u001b[0m\u001b[1;33m)\u001b[0m\u001b[1;33m)\u001b[0m\u001b[1;33m-\u001b[0m\u001b[1;36m1\u001b[0m\u001b[1;33m\u001b[0m\u001b[0m\n\u001b[0;32m      4\u001b[0m \u001b[0msubmission\u001b[0m\u001b[1;33m[\u001b[0m\u001b[0my_predict_not_pay\u001b[0m\u001b[1;33m==\u001b[0m\u001b[1;32mTrue\u001b[0m\u001b[1;33m]\u001b[0m\u001b[1;33m=\u001b[0m\u001b[1;36m0\u001b[0m\u001b[1;33m\u001b[0m\u001b[0m\n",
      "\u001b[1;32mD:\\Python27\\envs\\py36\\lib\\site-packages\\pandas\\io\\parsers.py\u001b[0m in \u001b[0;36mparser_f\u001b[1;34m(filepath_or_buffer, sep, delimiter, header, names, index_col, usecols, squeeze, prefix, mangle_dupe_cols, dtype, engine, converters, true_values, false_values, skipinitialspace, skiprows, nrows, na_values, keep_default_na, na_filter, verbose, skip_blank_lines, parse_dates, infer_datetime_format, keep_date_col, date_parser, dayfirst, iterator, chunksize, compression, thousands, decimal, lineterminator, quotechar, quoting, escapechar, comment, encoding, dialect, tupleize_cols, error_bad_lines, warn_bad_lines, skipfooter, doublequote, delim_whitespace, low_memory, memory_map, float_precision)\u001b[0m\n\u001b[0;32m    676\u001b[0m                     skip_blank_lines=skip_blank_lines)\n\u001b[0;32m    677\u001b[0m \u001b[1;33m\u001b[0m\u001b[0m\n\u001b[1;32m--> 678\u001b[1;33m         \u001b[1;32mreturn\u001b[0m \u001b[0m_read\u001b[0m\u001b[1;33m(\u001b[0m\u001b[0mfilepath_or_buffer\u001b[0m\u001b[1;33m,\u001b[0m \u001b[0mkwds\u001b[0m\u001b[1;33m)\u001b[0m\u001b[1;33m\u001b[0m\u001b[0m\n\u001b[0m\u001b[0;32m    679\u001b[0m \u001b[1;33m\u001b[0m\u001b[0m\n\u001b[0;32m    680\u001b[0m     \u001b[0mparser_f\u001b[0m\u001b[1;33m.\u001b[0m\u001b[0m__name__\u001b[0m \u001b[1;33m=\u001b[0m \u001b[0mname\u001b[0m\u001b[1;33m\u001b[0m\u001b[0m\n",
      "\u001b[1;32mD:\\Python27\\envs\\py36\\lib\\site-packages\\pandas\\io\\parsers.py\u001b[0m in \u001b[0;36m_read\u001b[1;34m(filepath_or_buffer, kwds)\u001b[0m\n\u001b[0;32m    438\u001b[0m \u001b[1;33m\u001b[0m\u001b[0m\n\u001b[0;32m    439\u001b[0m     \u001b[1;31m# Create the parser.\u001b[0m\u001b[1;33m\u001b[0m\u001b[1;33m\u001b[0m\u001b[0m\n\u001b[1;32m--> 440\u001b[1;33m     \u001b[0mparser\u001b[0m \u001b[1;33m=\u001b[0m \u001b[0mTextFileReader\u001b[0m\u001b[1;33m(\u001b[0m\u001b[0mfilepath_or_buffer\u001b[0m\u001b[1;33m,\u001b[0m \u001b[1;33m**\u001b[0m\u001b[0mkwds\u001b[0m\u001b[1;33m)\u001b[0m\u001b[1;33m\u001b[0m\u001b[0m\n\u001b[0m\u001b[0;32m    441\u001b[0m \u001b[1;33m\u001b[0m\u001b[0m\n\u001b[0;32m    442\u001b[0m     \u001b[1;32mif\u001b[0m \u001b[0mchunksize\u001b[0m \u001b[1;32mor\u001b[0m \u001b[0miterator\u001b[0m\u001b[1;33m:\u001b[0m\u001b[1;33m\u001b[0m\u001b[0m\n",
      "\u001b[1;32mD:\\Python27\\envs\\py36\\lib\\site-packages\\pandas\\io\\parsers.py\u001b[0m in \u001b[0;36m__init__\u001b[1;34m(self, f, engine, **kwds)\u001b[0m\n\u001b[0;32m    785\u001b[0m             \u001b[0mself\u001b[0m\u001b[1;33m.\u001b[0m\u001b[0moptions\u001b[0m\u001b[1;33m[\u001b[0m\u001b[1;34m'has_index_names'\u001b[0m\u001b[1;33m]\u001b[0m \u001b[1;33m=\u001b[0m \u001b[0mkwds\u001b[0m\u001b[1;33m[\u001b[0m\u001b[1;34m'has_index_names'\u001b[0m\u001b[1;33m]\u001b[0m\u001b[1;33m\u001b[0m\u001b[0m\n\u001b[0;32m    786\u001b[0m \u001b[1;33m\u001b[0m\u001b[0m\n\u001b[1;32m--> 787\u001b[1;33m         \u001b[0mself\u001b[0m\u001b[1;33m.\u001b[0m\u001b[0m_make_engine\u001b[0m\u001b[1;33m(\u001b[0m\u001b[0mself\u001b[0m\u001b[1;33m.\u001b[0m\u001b[0mengine\u001b[0m\u001b[1;33m)\u001b[0m\u001b[1;33m\u001b[0m\u001b[0m\n\u001b[0m\u001b[0;32m    788\u001b[0m \u001b[1;33m\u001b[0m\u001b[0m\n\u001b[0;32m    789\u001b[0m     \u001b[1;32mdef\u001b[0m \u001b[0mclose\u001b[0m\u001b[1;33m(\u001b[0m\u001b[0mself\u001b[0m\u001b[1;33m)\u001b[0m\u001b[1;33m:\u001b[0m\u001b[1;33m\u001b[0m\u001b[0m\n",
      "\u001b[1;32mD:\\Python27\\envs\\py36\\lib\\site-packages\\pandas\\io\\parsers.py\u001b[0m in \u001b[0;36m_make_engine\u001b[1;34m(self, engine)\u001b[0m\n\u001b[0;32m   1012\u001b[0m     \u001b[1;32mdef\u001b[0m \u001b[0m_make_engine\u001b[0m\u001b[1;33m(\u001b[0m\u001b[0mself\u001b[0m\u001b[1;33m,\u001b[0m \u001b[0mengine\u001b[0m\u001b[1;33m=\u001b[0m\u001b[1;34m'c'\u001b[0m\u001b[1;33m)\u001b[0m\u001b[1;33m:\u001b[0m\u001b[1;33m\u001b[0m\u001b[0m\n\u001b[0;32m   1013\u001b[0m         \u001b[1;32mif\u001b[0m \u001b[0mengine\u001b[0m \u001b[1;33m==\u001b[0m \u001b[1;34m'c'\u001b[0m\u001b[1;33m:\u001b[0m\u001b[1;33m\u001b[0m\u001b[0m\n\u001b[1;32m-> 1014\u001b[1;33m             \u001b[0mself\u001b[0m\u001b[1;33m.\u001b[0m\u001b[0m_engine\u001b[0m \u001b[1;33m=\u001b[0m \u001b[0mCParserWrapper\u001b[0m\u001b[1;33m(\u001b[0m\u001b[0mself\u001b[0m\u001b[1;33m.\u001b[0m\u001b[0mf\u001b[0m\u001b[1;33m,\u001b[0m \u001b[1;33m**\u001b[0m\u001b[0mself\u001b[0m\u001b[1;33m.\u001b[0m\u001b[0moptions\u001b[0m\u001b[1;33m)\u001b[0m\u001b[1;33m\u001b[0m\u001b[0m\n\u001b[0m\u001b[0;32m   1015\u001b[0m         \u001b[1;32melse\u001b[0m\u001b[1;33m:\u001b[0m\u001b[1;33m\u001b[0m\u001b[0m\n\u001b[0;32m   1016\u001b[0m             \u001b[1;32mif\u001b[0m \u001b[0mengine\u001b[0m \u001b[1;33m==\u001b[0m \u001b[1;34m'python'\u001b[0m\u001b[1;33m:\u001b[0m\u001b[1;33m\u001b[0m\u001b[0m\n",
      "\u001b[1;32mD:\\Python27\\envs\\py36\\lib\\site-packages\\pandas\\io\\parsers.py\u001b[0m in \u001b[0;36m__init__\u001b[1;34m(self, src, **kwds)\u001b[0m\n\u001b[0;32m   1706\u001b[0m         \u001b[0mkwds\u001b[0m\u001b[1;33m[\u001b[0m\u001b[1;34m'usecols'\u001b[0m\u001b[1;33m]\u001b[0m \u001b[1;33m=\u001b[0m \u001b[0mself\u001b[0m\u001b[1;33m.\u001b[0m\u001b[0musecols\u001b[0m\u001b[1;33m\u001b[0m\u001b[0m\n\u001b[0;32m   1707\u001b[0m \u001b[1;33m\u001b[0m\u001b[0m\n\u001b[1;32m-> 1708\u001b[1;33m         \u001b[0mself\u001b[0m\u001b[1;33m.\u001b[0m\u001b[0m_reader\u001b[0m \u001b[1;33m=\u001b[0m \u001b[0mparsers\u001b[0m\u001b[1;33m.\u001b[0m\u001b[0mTextReader\u001b[0m\u001b[1;33m(\u001b[0m\u001b[0msrc\u001b[0m\u001b[1;33m,\u001b[0m \u001b[1;33m**\u001b[0m\u001b[0mkwds\u001b[0m\u001b[1;33m)\u001b[0m\u001b[1;33m\u001b[0m\u001b[0m\n\u001b[0m\u001b[0;32m   1709\u001b[0m \u001b[1;33m\u001b[0m\u001b[0m\n\u001b[0;32m   1710\u001b[0m         \u001b[0mpassed_names\u001b[0m \u001b[1;33m=\u001b[0m \u001b[0mself\u001b[0m\u001b[1;33m.\u001b[0m\u001b[0mnames\u001b[0m \u001b[1;32mis\u001b[0m \u001b[1;32mNone\u001b[0m\u001b[1;33m\u001b[0m\u001b[0m\n",
      "\u001b[1;32mpandas/_libs/parsers.pyx\u001b[0m in \u001b[0;36mpandas._libs.parsers.TextReader.__cinit__\u001b[1;34m()\u001b[0m\n",
      "\u001b[1;32mpandas/_libs/parsers.pyx\u001b[0m in \u001b[0;36mpandas._libs.parsers.TextReader._setup_parser_source\u001b[1;34m()\u001b[0m\n",
      "\u001b[1;31mFileNotFoundError\u001b[0m: File b'notebook/y_predict_not_pay.csv' does not exist"
     ]
    }
   ],
   "source": [
    "X_test = df_test[NUMERICAL_COLUMNS]\n",
    "y_predict_not_pay = pd.read_csv('notebook/y_predict_not_pay.csv')\n",
    "submission = np.exp(lgbm.predict(X_test))-1\n",
    "submission[y_predict_not_pay==True]=0"
   ]
  },
  {
   "cell_type": "code",
   "execution_count": null,
   "metadata": {},
   "outputs": [],
   "source": [
    "plt.hist(submission)"
   ]
  },
  {
   "cell_type": "code",
   "execution_count": null,
   "metadata": {},
   "outputs": [],
   "source": [
    "df_sub = pd.DataFrame({'user_id':df_test['user_id'].values,'prediction_pay_price':submission})\n",
    "df_sub.to_csv('submission.csv', index=False)"
   ]
  },
  {
   "cell_type": "markdown",
   "metadata": {},
   "source": [
    "![](https://upload-images.jianshu.io/upload_images/4563513-885b0f7338a4af99.png?imageMogr2/auto-orient/strip%7CimageView2/2/w/396)"
   ]
  }
 ],
 "metadata": {
  "anaconda-cloud": {},
  "kernelspec": {
   "display_name": "Python [conda env:py36]",
   "language": "python",
   "name": "conda-env-py36-py"
  },
  "language_info": {
   "codemirror_mode": {
    "name": "ipython",
    "version": 3
   },
   "file_extension": ".py",
   "mimetype": "text/x-python",
   "name": "python",
   "nbconvert_exporter": "python",
   "pygments_lexer": "ipython3",
   "version": "3.6.5"
  },
  "nbpresent": {
   "slides": {
    "06e2a39b-3088-4770-bb43-9ce2ab43607b": {
     "id": "06e2a39b-3088-4770-bb43-9ce2ab43607b",
     "prev": "d682e02c-01b0-4ac5-9913-ea06b0c47d7b",
     "regions": {
      "96e2c7b1-b407-4e08-a297-9d76e2b9e867": {
       "attrs": {
        "height": 0.8,
        "width": 0.8,
        "x": 0.1,
        "y": 0.1
       },
       "content": {
        "cell": "4ec03b46-0550-4af0-8167-88d02871e489",
        "part": "whole"
       },
       "id": "96e2c7b1-b407-4e08-a297-9d76e2b9e867"
      }
     }
    },
    "155dce0d-4aa1-4fb4-a251-8a88d6fc2ed1": {
     "id": "155dce0d-4aa1-4fb4-a251-8a88d6fc2ed1",
     "prev": "6caf3660-d5b4-49e5-ae85-f7f3fb41d9cc",
     "regions": {
      "5be711ed-0913-483a-8634-8d1ca8b3a7a4": {
       "attrs": {
        "height": 0.8,
        "width": 0.8,
        "x": 0.1,
        "y": 0.1
       },
       "content": {
        "cell": "2554a735-6e4c-4e6f-8e55-03fe6dddf276",
        "part": "whole"
       },
       "id": "5be711ed-0913-483a-8634-8d1ca8b3a7a4"
      }
     }
    },
    "1acea520-22eb-4c8d-b725-f75e29726ef3": {
     "id": "1acea520-22eb-4c8d-b725-f75e29726ef3",
     "prev": "5cb0df00-b578-4701-8aa5-809686fcbbb4",
     "regions": {
      "db2bbe74-73c1-4f86-a4d3-c938d001490f": {
       "attrs": {
        "height": 0.8,
        "width": 0.8,
        "x": 0.1,
        "y": 0.1
       },
       "content": {
        "cell": "16e61ed9-a43c-4259-8c30-5d4399a762e2",
        "part": "whole"
       },
       "id": "db2bbe74-73c1-4f86-a4d3-c938d001490f"
      }
     }
    },
    "1e666791-596c-41f8-b73a-1cdbea63bdf6": {
     "id": "1e666791-596c-41f8-b73a-1cdbea63bdf6",
     "prev": "4507a7b0-7c0e-446f-81d8-49802f675485",
     "regions": {
      "c5717439-6951-4e46-9613-c0907bb16e48": {
       "attrs": {
        "height": 0.8,
        "width": 0.8,
        "x": 0.1,
        "y": 0.1
       },
       "content": {
        "cell": "9059fcc4-cbc5-4847-8e4d-7dd690176e3c",
        "part": "whole"
       },
       "id": "c5717439-6951-4e46-9613-c0907bb16e48"
      }
     }
    },
    "23e4be50-473b-43fc-bd50-a32acc642001": {
     "id": "23e4be50-473b-43fc-bd50-a32acc642001",
     "prev": "155dce0d-4aa1-4fb4-a251-8a88d6fc2ed1",
     "regions": {
      "c27ed864-d46c-4c89-86b4-7a8a650f33a0": {
       "attrs": {
        "height": 0.8,
        "width": 0.8,
        "x": 0.1,
        "y": 0.1
       },
       "content": {
        "cell": "d427d5f1-5fe8-4f5a-accb-8ca2e6839bfe",
        "part": "whole"
       },
       "id": "c27ed864-d46c-4c89-86b4-7a8a650f33a0"
      }
     }
    },
    "2f20840d-5c39-4de5-9085-030050eff696": {
     "id": "2f20840d-5c39-4de5-9085-030050eff696",
     "prev": "f63280d6-9c97-49f6-a496-6ee789928ee5",
     "regions": {
      "0a98f8c8-3ad5-4d94-a4ec-0bd6334f8ec8": {
       "attrs": {
        "height": 0.8,
        "width": 0.8,
        "x": 0.1,
        "y": 0.1
       },
       "content": {
        "cell": "bef2e871-9117-48ea-972b-a4dfd3e7ae65",
        "part": "whole"
       },
       "id": "0a98f8c8-3ad5-4d94-a4ec-0bd6334f8ec8"
      }
     }
    },
    "3060e86b-9098-4b76-b097-56408f8a7b9a": {
     "id": "3060e86b-9098-4b76-b097-56408f8a7b9a",
     "prev": "5daa011c-134f-4449-9a7d-a6cb218ab309",
     "regions": {
      "50593303-3ee1-4f50-af95-5b7fa913d2f8": {
       "attrs": {
        "height": 0.8,
        "width": 0.8,
        "x": 0.1,
        "y": 0.1
       },
       "content": {
        "cell": "dc2955b4-0926-48e1-a8f3-d09270d55f57",
        "part": "whole"
       },
       "id": "50593303-3ee1-4f50-af95-5b7fa913d2f8"
      }
     }
    },
    "3272dda7-eb6b-4193-8f61-fa4e3e95d6f2": {
     "id": "3272dda7-eb6b-4193-8f61-fa4e3e95d6f2",
     "prev": "84d31752-f286-4b2d-ab9b-74c9cd0d9cf8",
     "regions": {
      "8d8f8d99-e78b-4705-b71b-1d2435610648": {
       "attrs": {
        "height": 0.8,
        "width": 0.8,
        "x": 0.1,
        "y": 0.1
       },
       "content": {
        "cell": "83e123e9-90a5-4bb9-a4df-6ec15e77b646",
        "part": "whole"
       },
       "id": "8d8f8d99-e78b-4705-b71b-1d2435610648"
      }
     }
    },
    "38a58f5b-acb8-4571-b0c8-b6c12f41f5cc": {
     "id": "38a58f5b-acb8-4571-b0c8-b6c12f41f5cc",
     "prev": "c690df84-f6b1-4d3e-9132-59a5efb37fd6",
     "regions": {
      "e9013bd9-3946-4154-91b0-c81b9c8ab669": {
       "attrs": {
        "height": 0.8,
        "width": 0.8,
        "x": 0.1,
        "y": 0.1
       },
       "content": {
        "cell": "e45c0cbe-b455-46b8-8fc3-0ab0cc99cc85",
        "part": "whole"
       },
       "id": "e9013bd9-3946-4154-91b0-c81b9c8ab669"
      }
     }
    },
    "3d967ff1-bb59-4bc2-86ea-688ad779d42e": {
     "id": "3d967ff1-bb59-4bc2-86ea-688ad779d42e",
     "prev": "89b72808-0bcc-4c5c-8491-456d1f4d15bb",
     "regions": {
      "85046d76-db93-485b-9890-e6263127b5c3": {
       "attrs": {
        "height": 0.8,
        "width": 0.8,
        "x": 0.1,
        "y": 0.1
       },
       "content": {
        "cell": "cf326671-b769-4112-ad60-9338503b07b2",
        "part": "whole"
       },
       "id": "85046d76-db93-485b-9890-e6263127b5c3"
      }
     }
    },
    "4507a7b0-7c0e-446f-81d8-49802f675485": {
     "id": "4507a7b0-7c0e-446f-81d8-49802f675485",
     "prev": "3d967ff1-bb59-4bc2-86ea-688ad779d42e",
     "regions": {
      "47e00512-aac8-4e82-aca4-0cc28208044a": {
       "attrs": {
        "height": 0.8,
        "width": 0.8,
        "x": 0.1,
        "y": 0.1
       },
       "content": {
        "cell": "b145ec3a-1d83-4640-9e26-bb61360ae953",
        "part": "whole"
       },
       "id": "47e00512-aac8-4e82-aca4-0cc28208044a"
      }
     }
    },
    "48eab4e9-cb1d-4368-95d9-94fc2e8729ba": {
     "id": "48eab4e9-cb1d-4368-95d9-94fc2e8729ba",
     "prev": "3272dda7-eb6b-4193-8f61-fa4e3e95d6f2",
     "regions": {
      "72b0758e-bb14-46ce-be65-1740a3ae66ac": {
       "attrs": {
        "height": 0.8,
        "width": 0.8,
        "x": 0.1,
        "y": 0.1
       },
       "content": {
        "cell": "47f5289b-0edc-4558-93dc-c46291b6338b",
        "part": "whole"
       },
       "id": "72b0758e-bb14-46ce-be65-1740a3ae66ac"
      }
     }
    },
    "49044aea-b956-4511-b697-c2e7f3bb309b": {
     "id": "49044aea-b956-4511-b697-c2e7f3bb309b",
     "prev": "1e666791-596c-41f8-b73a-1cdbea63bdf6",
     "regions": {
      "add68d87-165d-4c4e-8c36-5988800c512a": {
       "attrs": {
        "height": 0.8,
        "width": 0.8,
        "x": 0.1,
        "y": 0.1
       },
       "content": {
        "cell": "6d387e21-ffaf-42e4-b298-9f0da6b7b608",
        "part": "whole"
       },
       "id": "add68d87-165d-4c4e-8c36-5988800c512a"
      }
     }
    },
    "5c3df914-8778-4a4e-8216-ba1054b2942c": {
     "id": "5c3df914-8778-4a4e-8216-ba1054b2942c",
     "prev": "a8f2f0e4-3f43-448e-b037-07388b880f24",
     "regions": {
      "a55cbdf8-8670-4824-98bf-6d28ee71537e": {
       "attrs": {
        "height": 0.8,
        "width": 0.8,
        "x": 0.1,
        "y": 0.1
       },
       "content": {
        "cell": "a668738a-2e6b-4953-9914-f0da00fc4803",
        "part": "whole"
       },
       "id": "a55cbdf8-8670-4824-98bf-6d28ee71537e"
      }
     }
    },
    "5cb0df00-b578-4701-8aa5-809686fcbbb4": {
     "id": "5cb0df00-b578-4701-8aa5-809686fcbbb4",
     "prev": "d9ad6ee8-3bc0-454b-ae41-171644c4aecf",
     "regions": {
      "9c96d84a-d478-4fc0-928a-3e7265b59104": {
       "attrs": {
        "height": 0.8,
        "width": 0.8,
        "x": 0.1,
        "y": 0.1
       },
       "content": {
        "cell": "6c58eac9-6b38-4875-a51d-349970bf66ba",
        "part": "whole"
       },
       "id": "9c96d84a-d478-4fc0-928a-3e7265b59104"
      }
     }
    },
    "5daa011c-134f-4449-9a7d-a6cb218ab309": {
     "id": "5daa011c-134f-4449-9a7d-a6cb218ab309",
     "prev": "ccc7d071-8f2e-4d74-ac81-000b3e3aa5c3",
     "regions": {
      "0f75d334-7b1c-42f7-8bb5-61bed0b5d54a": {
       "attrs": {
        "height": 0.8,
        "width": 0.8,
        "x": 0.1,
        "y": 0.1
       },
       "content": {
        "cell": "37341844-cc29-421c-8c55-055356b145cc",
        "part": "whole"
       },
       "id": "0f75d334-7b1c-42f7-8bb5-61bed0b5d54a"
      }
     }
    },
    "6598ebb8-be77-4db5-a5d0-b0a5177a0e12": {
     "id": "6598ebb8-be77-4db5-a5d0-b0a5177a0e12",
     "prev": "2f20840d-5c39-4de5-9085-030050eff696",
     "regions": {
      "8dea4a06-cceb-4ad0-854b-c688a91a3080": {
       "attrs": {
        "height": 0.8,
        "width": 0.8,
        "x": 0.1,
        "y": 0.1
       },
       "content": {
        "cell": "06316966-f33c-4be8-936c-51d7dd4543c1",
        "part": "whole"
       },
       "id": "8dea4a06-cceb-4ad0-854b-c688a91a3080"
      }
     }
    },
    "6caf3660-d5b4-49e5-ae85-f7f3fb41d9cc": {
     "id": "6caf3660-d5b4-49e5-ae85-f7f3fb41d9cc",
     "prev": "1acea520-22eb-4c8d-b725-f75e29726ef3",
     "regions": {
      "8ba9b7a9-c464-43d3-87a4-2f75e35619a9": {
       "attrs": {
        "height": 0.8,
        "width": 0.8,
        "x": 0.1,
        "y": 0.1
       },
       "content": {
        "cell": "11ffc63e-2499-4924-81a6-3a01ea6da28a",
        "part": "whole"
       },
       "id": "8ba9b7a9-c464-43d3-87a4-2f75e35619a9"
      }
     }
    },
    "6f29642e-ad10-4d95-8580-13259774b0dd": {
     "id": "6f29642e-ad10-4d95-8580-13259774b0dd",
     "prev": "48eab4e9-cb1d-4368-95d9-94fc2e8729ba",
     "regions": {
      "c0d36dcf-12bf-4eda-b885-b5c5b6f3854e": {
       "attrs": {
        "height": 0.8,
        "width": 0.8,
        "x": 0.1,
        "y": 0.1
       },
       "content": {
        "cell": "b896e8e6-433a-47c6-a4b8-1e97f49bd19f",
        "part": "whole"
       },
       "id": "c0d36dcf-12bf-4eda-b885-b5c5b6f3854e"
      }
     }
    },
    "73f93d7d-652d-4687-abb1-f9310f46e778": {
     "id": "73f93d7d-652d-4687-abb1-f9310f46e778",
     "prev": "d857587a-9a97-4383-94f0-54d417d135b0",
     "regions": {
      "ca1b83bb-fa17-4742-a6f6-7584b46dd3cf": {
       "attrs": {
        "height": 0.8,
        "width": 0.8,
        "x": 0.1,
        "y": 0.1
       },
       "content": {
        "cell": "87a180de-e1af-4923-a5e0-cccf96b7f883",
        "part": "whole"
       },
       "id": "ca1b83bb-fa17-4742-a6f6-7584b46dd3cf"
      }
     }
    },
    "84d31752-f286-4b2d-ab9b-74c9cd0d9cf8": {
     "id": "84d31752-f286-4b2d-ab9b-74c9cd0d9cf8",
     "prev": "ebd37d62-ce3c-40ac-8892-41fa7b313b38",
     "regions": {
      "e30d571f-25d5-47e6-9370-a4b9bf6e18c9": {
       "attrs": {
        "height": 0.8,
        "width": 0.8,
        "x": 0.1,
        "y": 0.1
       },
       "content": {
        "cell": "63c1b8da-14e8-424f-b393-031fee97535f",
        "part": "whole"
       },
       "id": "e30d571f-25d5-47e6-9370-a4b9bf6e18c9"
      }
     }
    },
    "89196030-e073-4867-96ac-82781036bd2d": {
     "id": "89196030-e073-4867-96ac-82781036bd2d",
     "prev": "6f29642e-ad10-4d95-8580-13259774b0dd",
     "regions": {
      "f70d436e-de8f-4bff-956b-ed47dd0e2ec7": {
       "attrs": {
        "height": 0.8,
        "width": 0.8,
        "x": 0.1,
        "y": 0.1
       },
       "content": {
        "cell": "5b4d8c2b-11d1-4772-80de-a8d7ed339909",
        "part": "whole"
       },
       "id": "f70d436e-de8f-4bff-956b-ed47dd0e2ec7"
      }
     }
    },
    "89b72808-0bcc-4c5c-8491-456d1f4d15bb": {
     "id": "89b72808-0bcc-4c5c-8491-456d1f4d15bb",
     "prev": "38a58f5b-acb8-4571-b0c8-b6c12f41f5cc",
     "regions": {
      "10275d8a-b7e3-43e8-b47e-ebcece35dc7a": {
       "attrs": {
        "height": 0.8,
        "width": 0.8,
        "x": 0.1,
        "y": 0.1
       },
       "content": {
        "cell": "0f084399-3e73-4525-b908-1709b1433b96",
        "part": "whole"
       },
       "id": "10275d8a-b7e3-43e8-b47e-ebcece35dc7a"
      }
     }
    },
    "a8f2f0e4-3f43-448e-b037-07388b880f24": {
     "id": "a8f2f0e4-3f43-448e-b037-07388b880f24",
     "prev": "d54c50f7-19a7-45a4-a790-48620724d82c",
     "regions": {
      "813d57c2-08b8-4078-810b-fb3766f2fbeb": {
       "attrs": {
        "height": 0.8,
        "width": 0.8,
        "x": 0.1,
        "y": 0.1
       },
       "content": {
        "cell": "c7a3fc61-2024-40ec-b5fd-91a9f631439d",
        "part": "whole"
       },
       "id": "813d57c2-08b8-4078-810b-fb3766f2fbeb"
      }
     }
    },
    "aa2dc83d-81f0-491a-93ac-ea33448e733f": {
     "id": "aa2dc83d-81f0-491a-93ac-ea33448e733f",
     "prev": "6598ebb8-be77-4db5-a5d0-b0a5177a0e12",
     "regions": {
      "602f6f9d-86bb-48d8-af0f-5559a25bf2bc": {
       "attrs": {
        "height": 0.8,
        "width": 0.8,
        "x": 0.1,
        "y": 0.1
       },
       "content": {
        "cell": "f4070362-5ce1-4cb1-938f-e1f10e01eef3",
        "part": "whole"
       },
       "id": "602f6f9d-86bb-48d8-af0f-5559a25bf2bc"
      }
     }
    },
    "c690df84-f6b1-4d3e-9132-59a5efb37fd6": {
     "id": "c690df84-f6b1-4d3e-9132-59a5efb37fd6",
     "prev": null,
     "regions": {
      "71b89878-d329-4bee-a0ce-4d80481e67a6": {
       "attrs": {
        "height": 0.8,
        "width": 0.8,
        "x": 0.1,
        "y": 0.1
       },
       "content": {
        "cell": "e45c0cbe-b455-46b8-8fc3-0ab0cc99cc85",
        "part": "source"
       },
       "id": "71b89878-d329-4bee-a0ce-4d80481e67a6"
      }
     }
    },
    "ccc7d071-8f2e-4d74-ac81-000b3e3aa5c3": {
     "id": "ccc7d071-8f2e-4d74-ac81-000b3e3aa5c3",
     "prev": "49044aea-b956-4511-b697-c2e7f3bb309b",
     "regions": {
      "9a4b0757-cd22-4d06-9781-3feb31f6c470": {
       "attrs": {
        "height": 0.8,
        "width": 0.8,
        "x": 0.1,
        "y": 0.1
       },
       "content": {
        "cell": "4f7c52ad-f616-40cf-b2ae-f42d7f1c1bbd",
        "part": "whole"
       },
       "id": "9a4b0757-cd22-4d06-9781-3feb31f6c470"
      }
     }
    },
    "d54c50f7-19a7-45a4-a790-48620724d82c": {
     "id": "d54c50f7-19a7-45a4-a790-48620724d82c",
     "prev": "dabf3b49-9959-44db-b6a8-afc5b21c5685",
     "regions": {
      "3f9d22a2-b7e0-4014-a0c2-dc5dc36333ce": {
       "attrs": {
        "height": 0.8,
        "width": 0.8,
        "x": 0.1,
        "y": 0.1
       },
       "content": {
        "cell": "e24eb67f-42fa-4b9f-91a9-048b4d3faeff",
        "part": "whole"
       },
       "id": "3f9d22a2-b7e0-4014-a0c2-dc5dc36333ce"
      }
     }
    },
    "d682e02c-01b0-4ac5-9913-ea06b0c47d7b": {
     "id": "d682e02c-01b0-4ac5-9913-ea06b0c47d7b",
     "prev": "aa2dc83d-81f0-491a-93ac-ea33448e733f",
     "regions": {
      "c2c268eb-5eba-4723-8c50-1a2dc5aa3e1a": {
       "attrs": {
        "height": 0.8,
        "width": 0.8,
        "x": 0.1,
        "y": 0.1
       },
       "content": {
        "cell": "f19393cd-e4aa-4350-a664-0f3b1f453296",
        "part": "whole"
       },
       "id": "c2c268eb-5eba-4723-8c50-1a2dc5aa3e1a"
      }
     }
    },
    "d857587a-9a97-4383-94f0-54d417d135b0": {
     "id": "d857587a-9a97-4383-94f0-54d417d135b0",
     "prev": "3060e86b-9098-4b76-b097-56408f8a7b9a",
     "regions": {
      "89b4021c-43f5-42c9-b11f-3a8311ba1fe7": {
       "attrs": {
        "height": 0.8,
        "width": 0.8,
        "x": 0.1,
        "y": 0.1
       },
       "content": {
        "cell": "13b4efcb-56fb-4a37-a003-a0b07a734e73",
        "part": "whole"
       },
       "id": "89b4021c-43f5-42c9-b11f-3a8311ba1fe7"
      }
     }
    },
    "d9ad6ee8-3bc0-454b-ae41-171644c4aecf": {
     "id": "d9ad6ee8-3bc0-454b-ae41-171644c4aecf",
     "prev": "5c3df914-8778-4a4e-8216-ba1054b2942c",
     "regions": {
      "f67e50c4-87ef-44b9-93ef-2868c02380da": {
       "attrs": {
        "height": 0.8,
        "width": 0.8,
        "x": 0.1,
        "y": 0.1
       },
       "content": {
        "cell": "16e61ed9-a43c-4259-8c30-5d4399a762e2",
        "part": "outputs"
       },
       "id": "f67e50c4-87ef-44b9-93ef-2868c02380da"
      }
     }
    },
    "dabf3b49-9959-44db-b6a8-afc5b21c5685": {
     "id": "dabf3b49-9959-44db-b6a8-afc5b21c5685",
     "prev": "73f93d7d-652d-4687-abb1-f9310f46e778",
     "regions": {
      "65de9a10-ece7-4d97-b8b0-fe05aa2df8c1": {
       "attrs": {
        "height": 0.8,
        "width": 0.8,
        "x": 0.1,
        "y": 0.1
       },
       "content": {
        "cell": "b484b839-f16f-498b-b7f3-dfe5e9558c87",
        "part": "whole"
       },
       "id": "65de9a10-ece7-4d97-b8b0-fe05aa2df8c1"
      }
     }
    },
    "ebd37d62-ce3c-40ac-8892-41fa7b313b38": {
     "id": "ebd37d62-ce3c-40ac-8892-41fa7b313b38",
     "prev": "06e2a39b-3088-4770-bb43-9ce2ab43607b",
     "regions": {
      "1d734f79-0018-41db-ba7f-ccd45c64d880": {
       "attrs": {
        "height": 0.8,
        "width": 0.8,
        "x": 0.1,
        "y": 0.1
       },
       "content": {
        "cell": "3bf966d6-cf45-4eec-94b1-b0a90b89f6b9",
        "part": "whole"
       },
       "id": "1d734f79-0018-41db-ba7f-ccd45c64d880"
      }
     }
    },
    "f63280d6-9c97-49f6-a496-6ee789928ee5": {
     "id": "f63280d6-9c97-49f6-a496-6ee789928ee5",
     "prev": "23e4be50-473b-43fc-bd50-a32acc642001",
     "regions": {
      "839e4afe-7fd3-48a6-a6ef-b65e4a5ad499": {
       "attrs": {
        "height": 0.8,
        "width": 0.8,
        "x": 0.1,
        "y": 0.1
       },
       "content": {
        "cell": "7f093917-6a5a-40dc-919e-448b7f4d38af",
        "part": "whole"
       },
       "id": "839e4afe-7fd3-48a6-a6ef-b65e4a5ad499"
      }
     }
    }
   },
   "themes": {
    "default": "13cd70fe-d170-40b1-8a07-9eb6ede440fc",
    "theme": {
     "13cd70fe-d170-40b1-8a07-9eb6ede440fc": {
      "id": "13cd70fe-d170-40b1-8a07-9eb6ede440fc",
      "palette": {
       "19cc588f-0593-49c9-9f4b-e4d7cc113b1c": {
        "id": "19cc588f-0593-49c9-9f4b-e4d7cc113b1c",
        "rgb": [
         252,
         252,
         252
        ]
       },
       "31af15d2-7e15-44c5-ab5e-e04b16a89eff": {
        "id": "31af15d2-7e15-44c5-ab5e-e04b16a89eff",
        "rgb": [
         68,
         68,
         68
        ]
       },
       "50f92c45-a630-455b-aec3-788680ec7410": {
        "id": "50f92c45-a630-455b-aec3-788680ec7410",
        "rgb": [
         155,
         177,
         192
        ]
       },
       "c5cc3653-2ee1-402a-aba2-7caae1da4f6c": {
        "id": "c5cc3653-2ee1-402a-aba2-7caae1da4f6c",
        "rgb": [
         43,
         126,
         184
        ]
       },
       "efa7f048-9acb-414c-8b04-a26811511a21": {
        "id": "efa7f048-9acb-414c-8b04-a26811511a21",
        "rgb": [
         25.118061674008803,
         73.60176211453744,
         107.4819383259912
        ]
       }
      },
      "rules": {
       "blockquote": {
        "color": "50f92c45-a630-455b-aec3-788680ec7410"
       },
       "code": {
        "font-family": "Anonymous Pro"
       },
       "h1": {
        "color": "c5cc3653-2ee1-402a-aba2-7caae1da4f6c",
        "font-family": "Lato",
        "font-size": 8
       },
       "h2": {
        "color": "c5cc3653-2ee1-402a-aba2-7caae1da4f6c",
        "font-family": "Lato",
        "font-size": 6
       },
       "h3": {
        "color": "50f92c45-a630-455b-aec3-788680ec7410",
        "font-family": "Lato",
        "font-size": 5.5
       },
       "h4": {
        "color": "c5cc3653-2ee1-402a-aba2-7caae1da4f6c",
        "font-family": "Lato",
        "font-size": 5
       },
       "h5": {
        "font-family": "Lato"
       },
       "h6": {
        "font-family": "Lato"
       },
       "h7": {
        "font-family": "Lato"
       },
       "pre": {
        "font-family": "Anonymous Pro",
        "font-size": 4
       }
      },
      "text-base": {
       "font-family": "Merriweather",
       "font-size": 4
      }
     },
     "1bf61d15-2381-4af7-b877-1ad810c1d003": {
      "backgrounds": {
       "dc7afa04-bf90-40b1-82a5-726e3cff5267": {
        "background-color": "31af15d2-7e15-44c5-ab5e-e04b16a89eff",
        "id": "dc7afa04-bf90-40b1-82a5-726e3cff5267"
       }
      },
      "id": "1bf61d15-2381-4af7-b877-1ad810c1d003",
      "palette": {
       "19cc588f-0593-49c9-9f4b-e4d7cc113b1c": {
        "id": "19cc588f-0593-49c9-9f4b-e4d7cc113b1c",
        "rgb": [
         252,
         252,
         252
        ]
       },
       "31af15d2-7e15-44c5-ab5e-e04b16a89eff": {
        "id": "31af15d2-7e15-44c5-ab5e-e04b16a89eff",
        "rgb": [
         68,
         68,
         68
        ]
       },
       "50f92c45-a630-455b-aec3-788680ec7410": {
        "id": "50f92c45-a630-455b-aec3-788680ec7410",
        "rgb": [
         197,
         226,
         245
        ]
       },
       "c5cc3653-2ee1-402a-aba2-7caae1da4f6c": {
        "id": "c5cc3653-2ee1-402a-aba2-7caae1da4f6c",
        "rgb": [
         43,
         126,
         184
        ]
       },
       "efa7f048-9acb-414c-8b04-a26811511a21": {
        "id": "efa7f048-9acb-414c-8b04-a26811511a21",
        "rgb": [
         25.118061674008803,
         73.60176211453744,
         107.4819383259912
        ]
       }
      },
      "rules": {
       "a": {
        "color": "19cc588f-0593-49c9-9f4b-e4d7cc113b1c"
       },
       "blockquote": {
        "color": "50f92c45-a630-455b-aec3-788680ec7410",
        "font-size": 3
       },
       "code": {
        "font-family": "Anonymous Pro"
       },
       "h1": {
        "color": "19cc588f-0593-49c9-9f4b-e4d7cc113b1c",
        "font-family": "Merriweather",
        "font-size": 8
       },
       "h2": {
        "color": "19cc588f-0593-49c9-9f4b-e4d7cc113b1c",
        "font-family": "Merriweather",
        "font-size": 6
       },
       "h3": {
        "color": "50f92c45-a630-455b-aec3-788680ec7410",
        "font-family": "Lato",
        "font-size": 5.5
       },
       "h4": {
        "color": "c5cc3653-2ee1-402a-aba2-7caae1da4f6c",
        "font-family": "Lato",
        "font-size": 5
       },
       "h5": {
        "font-family": "Lato"
       },
       "h6": {
        "font-family": "Lato"
       },
       "h7": {
        "font-family": "Lato"
       },
       "li": {
        "color": "50f92c45-a630-455b-aec3-788680ec7410",
        "font-size": 3.25
       },
       "pre": {
        "font-family": "Anonymous Pro",
        "font-size": 4
       }
      },
      "text-base": {
       "color": "19cc588f-0593-49c9-9f4b-e4d7cc113b1c",
       "font-family": "Lato",
       "font-size": 4
      }
     },
     "3f3e5c4c-f921-40b0-894c-e83f5884ebb6": {
      "backgrounds": {
       "backgroundColor": {
        "background-color": "backgroundColor",
        "id": "backgroundColor"
       }
      },
      "id": "3f3e5c4c-f921-40b0-894c-e83f5884ebb6",
      "palette": {
       "backgroundColor": {
        "id": "backgroundColor",
        "rgb": [
         247,
         243,
         222
        ]
       },
       "headingColor": {
        "id": "headingColor",
        "rgb": [
         51,
         51,
         51
        ]
       },
       "linkColor": {
        "id": "linkColor",
        "rgb": [
         139,
         116,
         61
        ]
       },
       "mainColor": {
        "id": "mainColor",
        "rgb": [
         51,
         51,
         51
        ]
       }
      },
      "rules": {
       "a": {
        "color": "linkColor"
       },
       "h1": {
        "color": "headingColor",
        "font-family": "Oswald",
        "font-size": 7
       },
       "h2": {
        "color": "headingColor",
        "font-family": "Oswald",
        "font-size": 5
       },
       "h3": {
        "color": "headingColor",
        "font-family": "Oswald",
        "font-size": 3.75
       },
       "h4": {
        "color": "headingColor",
        "font-family": "Oswald",
        "font-size": 3
       },
       "h5": {
        "color": "headingColor",
        "font-family": "Oswald"
       },
       "h6": {
        "color": "headingColor",
        "font-family": "Oswald"
       },
       "h7": {
        "color": "headingColor",
        "font-family": "Oswald"
       },
       "li": {
        "color": "mainColor",
        "font-family": "Lato",
        "font-size": 5
       },
       "p": {
        "color": "mainColor",
        "font-family": "Lato",
        "font-size": 5
       }
      },
      "text-base": {
       "color": "mainColor",
       "font-family": "Lato",
       "font-size": 5
      }
     }
    }
   }
  }
 },
 "nbformat": 4,
 "nbformat_minor": 2
}
