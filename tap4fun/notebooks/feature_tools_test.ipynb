{
 "cells": [
  {
   "cell_type": "code",
   "execution_count": 1,
   "metadata": {},
   "outputs": [],
   "source": [
    "import featuretools as ft\n",
    "es = ft.demo.load_mock_customer(return_entityset=True)"
   ]
  },
  {
   "cell_type": "code",
   "execution_count": 2,
   "metadata": {},
   "outputs": [],
   "source": [
    "ft.dfs?"
   ]
  },
  {
   "cell_type": "code",
   "execution_count": 2,
   "metadata": {},
   "outputs": [],
   "source": [
    "feature_matrix, features_defs = ft.dfs(entityset=es, target_entity=\"customers\")"
   ]
  },
  {
   "cell_type": "code",
   "execution_count": 4,
   "metadata": {},
   "outputs": [
    {
     "data": {
      "text/plain": [
       "Index(['zip_code', 'COUNT(sessions)', 'NUM_UNIQUE(sessions.device)',\n",
       "       'MODE(sessions.device)', 'SUM(transactions.amount)',\n",
       "       'STD(transactions.amount)', 'MAX(transactions.amount)',\n",
       "       'SKEW(transactions.amount)', 'MIN(transactions.amount)',\n",
       "       'MEAN(transactions.amount)', 'COUNT(transactions)',\n",
       "       'NUM_UNIQUE(transactions.product_id)', 'MODE(transactions.product_id)',\n",
       "       'DAY(join_date)', 'YEAR(join_date)', 'MONTH(join_date)',\n",
       "       'WEEKDAY(join_date)', 'SUM(sessions.STD(transactions.amount))',\n",
       "       'SUM(sessions.MAX(transactions.amount))',\n",
       "       'SUM(sessions.SKEW(transactions.amount))',\n",
       "       'SUM(sessions.MIN(transactions.amount))',\n",
       "       'SUM(sessions.MEAN(transactions.amount))',\n",
       "       'SUM(sessions.NUM_UNIQUE(transactions.product_id))',\n",
       "       'STD(sessions.SUM(transactions.amount))',\n",
       "       'STD(sessions.MAX(transactions.amount))',\n",
       "       'STD(sessions.SKEW(transactions.amount))',\n",
       "       'STD(sessions.MIN(transactions.amount))',\n",
       "       'STD(sessions.MEAN(transactions.amount))',\n",
       "       'STD(sessions.COUNT(transactions))',\n",
       "       'STD(sessions.NUM_UNIQUE(transactions.product_id))',\n",
       "       'MAX(sessions.SUM(transactions.amount))',\n",
       "       'MAX(sessions.STD(transactions.amount))',\n",
       "       'MAX(sessions.SKEW(transactions.amount))',\n",
       "       'MAX(sessions.MIN(transactions.amount))',\n",
       "       'MAX(sessions.MEAN(transactions.amount))',\n",
       "       'MAX(sessions.COUNT(transactions))',\n",
       "       'MAX(sessions.NUM_UNIQUE(transactions.product_id))',\n",
       "       'SKEW(sessions.SUM(transactions.amount))',\n",
       "       'SKEW(sessions.STD(transactions.amount))',\n",
       "       'SKEW(sessions.MAX(transactions.amount))',\n",
       "       'SKEW(sessions.MIN(transactions.amount))',\n",
       "       'SKEW(sessions.MEAN(transactions.amount))',\n",
       "       'SKEW(sessions.COUNT(transactions))',\n",
       "       'SKEW(sessions.NUM_UNIQUE(transactions.product_id))',\n",
       "       'MIN(sessions.SUM(transactions.amount))',\n",
       "       'MIN(sessions.STD(transactions.amount))',\n",
       "       'MIN(sessions.MAX(transactions.amount))',\n",
       "       'MIN(sessions.SKEW(transactions.amount))',\n",
       "       'MIN(sessions.MEAN(transactions.amount))',\n",
       "       'MIN(sessions.COUNT(transactions))',\n",
       "       'MIN(sessions.NUM_UNIQUE(transactions.product_id))',\n",
       "       'MEAN(sessions.SUM(transactions.amount))',\n",
       "       'MEAN(sessions.STD(transactions.amount))',\n",
       "       'MEAN(sessions.MAX(transactions.amount))',\n",
       "       'MEAN(sessions.SKEW(transactions.amount))',\n",
       "       'MEAN(sessions.MIN(transactions.amount))',\n",
       "       'MEAN(sessions.MEAN(transactions.amount))',\n",
       "       'MEAN(sessions.COUNT(transactions))',\n",
       "       'MEAN(sessions.NUM_UNIQUE(transactions.product_id))',\n",
       "       'NUM_UNIQUE(sessions.MODE(transactions.product_id))',\n",
       "       'NUM_UNIQUE(sessions.DAY(session_start))',\n",
       "       'NUM_UNIQUE(sessions.YEAR(session_start))',\n",
       "       'NUM_UNIQUE(sessions.MONTH(session_start))',\n",
       "       'NUM_UNIQUE(sessions.WEEKDAY(session_start))',\n",
       "       'MODE(sessions.MODE(transactions.product_id))',\n",
       "       'MODE(sessions.DAY(session_start))',\n",
       "       'MODE(sessions.YEAR(session_start))',\n",
       "       'MODE(sessions.MONTH(session_start))',\n",
       "       'MODE(sessions.WEEKDAY(session_start))'],\n",
       "      dtype='object')"
      ]
     },
     "execution_count": 4,
     "metadata": {},
     "output_type": "execute_result"
    }
   ],
   "source": [
    "feature_matrix.columns"
   ]
  }
 ],
 "metadata": {
  "kernelspec": {
   "display_name": "Python [conda env:py36]",
   "language": "python",
   "name": "conda-env-py36-py"
  },
  "language_info": {
   "codemirror_mode": {
    "name": "ipython",
    "version": 3
   },
   "file_extension": ".py",
   "mimetype": "text/x-python",
   "name": "python",
   "nbconvert_exporter": "python",
   "pygments_lexer": "ipython3",
   "version": "3.6.5"
  }
 },
 "nbformat": 4,
 "nbformat_minor": 2
}
