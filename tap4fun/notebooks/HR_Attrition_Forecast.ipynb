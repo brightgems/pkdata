{
 "cells": [
  {
   "cell_type": "code",
   "execution_count": 1,
   "metadata": {
    "collapsed": true
   },
   "outputs": [],
   "source": [
    "import warnings\n",
    "warnings.filterwarnings('ignore')\n",
    "\n",
    "import numpy as np\n",
    "import pandas as pd\n",
    "import matplotlib.pyplot as plt\n",
    "import matplotlib as mpl\n",
    "import seaborn as sns\n",
    "sns.set(style=\"whitegrid\")\n",
    "\n",
    "from pandas.tools.plotting import autocorrelation_plot\n",
    "import seaborn as sns\n",
    "% matplotlib inline\n",
    "cm_light = mpl.colors.ListedColormap(['#77E0A0', '#FF8080', '#A0A0FF'])\n",
    "cm_dark = mpl.colors.ListedColormap(['g', 'r', 'b'])\n"
   ]
  },
  {
   "cell_type": "code",
   "execution_count": 2,
   "metadata": {},
   "outputs": [
    {
     "name": "stdout",
     "output_type": "stream",
     "text": [
      "train set有 1100 行, 31 列, 正负例样本比例：1: 5.179775\n",
      "test set有 350 行, 31 列\n"
     ]
    }
   ],
   "source": [
    "import xgboost as xgb\n",
    "HR_train = pd.read_csv(\"data/pfm_train.csv\")\n",
    "train_size = HR_train.shape[0]\n",
    "HR_test = pd.read_csv('data/pfm_test.csv')\n",
    "HR_test['Attrition']= None\n",
    "obsAttr= HR_train.Attrition.value_counts()\n",
    "\n",
    "print(\"train set有 %d 行, %d 列, 正负例样本比例：1: %f\"  % (*HR_train.shape,obsAttr[0]/obsAttr[1]))\n",
    "print(\"test set有 %d 行, %d 列\"  % HR_test.shape)"
   ]
  },
  {
   "cell_type": "code",
   "execution_count": 3,
   "metadata": {},
   "outputs": [
    {
     "name": "stdout",
     "output_type": "stream",
     "text": [
      "samples# in test dataset: 350\n"
     ]
    }
   ],
   "source": [
    "HR_emp_att = pd.concat([HR_train,HR_test],axis=0)\n",
    "HR_emp_att = HR_emp_att.reset_index(drop=True)\n",
    "none_attr_cnt = HR_emp_att.Attrition.isnull().sum()\n",
    "print('samples# in test dataset: %d'%none_attr_cnt)"
   ]
  },
  {
   "cell_type": "code",
   "execution_count": 4,
   "metadata": {},
   "outputs": [
    {
     "name": "stdout",
     "output_type": "stream",
     "text": [
      "数据集有 1450 行, 31 列\n"
     ]
    }
   ],
   "source": [
    "dim = HR_emp_att.shape\n",
    "\n",
    "print(\"数据集有 %d 行, %d 列\"  % dim)"
   ]
  },
  {
   "cell_type": "markdown",
   "metadata": {},
   "source": [
    "## Check numeric data distribution are same between train/test dataset \n",
    "if any feature does not follow norm, create distritized feature"
   ]
  },
  {
   "cell_type": "code",
   "execution_count": 5,
   "metadata": {},
   "outputs": [
    {
     "data": {
      "text/html": [
       "<div>\n",
       "<style scoped>\n",
       "    .dataframe tbody tr th:only-of-type {\n",
       "        vertical-align: middle;\n",
       "    }\n",
       "\n",
       "    .dataframe tbody tr th {\n",
       "        vertical-align: top;\n",
       "    }\n",
       "\n",
       "    .dataframe thead th {\n",
       "        text-align: right;\n",
       "    }\n",
       "</style>\n",
       "<table border=\"1\" class=\"dataframe\">\n",
       "  <thead>\n",
       "    <tr style=\"text-align: right;\">\n",
       "      <th></th>\n",
       "      <th>col</th>\n",
       "      <th>kstest</th>\n",
       "      <th>ksvalue</th>\n",
       "      <th>pvalue</th>\n",
       "    </tr>\n",
       "  </thead>\n",
       "  <tbody>\n",
       "    <tr>\n",
       "      <th>1</th>\n",
       "      <td>DistanceFromHome</td>\n",
       "      <td>1.000000</td>\n",
       "      <td>0.068701</td>\n",
       "      <td>0.156783</td>\n",
       "    </tr>\n",
       "    <tr>\n",
       "      <th>20</th>\n",
       "      <td>YearsSinceLastPromotion</td>\n",
       "      <td>1.000000</td>\n",
       "      <td>0.047922</td>\n",
       "      <td>0.565514</td>\n",
       "    </tr>\n",
       "    <tr>\n",
       "      <th>17</th>\n",
       "      <td>WorkLifeBalance</td>\n",
       "      <td>0.999968</td>\n",
       "      <td>0.046364</td>\n",
       "      <td>0.608083</td>\n",
       "    </tr>\n",
       "    <tr>\n",
       "      <th>12</th>\n",
       "      <td>RelationshipSatisfaction</td>\n",
       "      <td>0.999968</td>\n",
       "      <td>0.045714</td>\n",
       "      <td>0.625997</td>\n",
       "    </tr>\n",
       "    <tr>\n",
       "      <th>16</th>\n",
       "      <td>TrainingTimesLastYear</td>\n",
       "      <td>1.000000</td>\n",
       "      <td>0.040260</td>\n",
       "      <td>0.774586</td>\n",
       "    </tr>\n",
       "  </tbody>\n",
       "</table>\n",
       "</div>"
      ],
      "text/plain": [
       "                         col    kstest   ksvalue    pvalue\n",
       "1           DistanceFromHome  1.000000  0.068701  0.156783\n",
       "20   YearsSinceLastPromotion  1.000000  0.047922  0.565514\n",
       "17           WorkLifeBalance  0.999968  0.046364  0.608083\n",
       "12  RelationshipSatisfaction  0.999968  0.045714  0.625997\n",
       "16     TrainingTimesLastYear  1.000000  0.040260  0.774586"
      ]
     },
     "execution_count": 5,
     "metadata": {},
     "output_type": "execute_result"
    }
   ],
   "source": [
    "from scipy.stats import kstest, ks_2samp\n",
    "ls_col= HR_test.select_dtypes(np.number).columns\n",
    "\n",
    "ls_pvalue = []\n",
    "ls_ksvalue = []\n",
    "ls_kstest = []\n",
    "for col in ls_col:\n",
    "    ksval,pvalue = ks_2samp(HR_train[col],HR_test[col])\n",
    "    ls_ksvalue.append(ksval)\n",
    "    ls_pvalue.append(pvalue)\n",
    "    kst = kstest(np.vstack([HR_train[col].values.reshape(-1,1),HR_test[col].values.reshape(-1,1)]),'norm')\n",
    "\n",
    "    ls_kstest.append(kst.statistic)\n",
    "\n",
    "df_ks2samp = pd.DataFrame({'col':ls_col,'pvalue':ls_pvalue,'ksvalue':ls_ksvalue,'kstest':ls_kstest}).sort_values('pvalue')\n",
    "df_ks2samp.head()\n"
   ]
  },
  {
   "cell_type": "markdown",
   "metadata": {},
   "source": [
    "above table show that DistanceFromHome and YearsSinceLastPromotion are not same prob distribution across train and test set, so that discritize is necessary \n",
    "\n",
    "----"
   ]
  },
  {
   "cell_type": "code",
   "execution_count": 6,
   "metadata": {},
   "outputs": [
    {
     "data": {
      "image/png": "[encoded data removed]",
      "text/plain": [
       "<matplotlib.figure.Figure at 0x4a61b38>"
      ]
     },
     "metadata": {},
     "output_type": "display_data"
    }
   ],
   "source": [
    "#  test transform feature to norm using box-cox\n",
    "col='YearsSinceLastPromotion'\n",
    "vals = np.vstack(HR_emp_att[col].values.reshape(-1,1))\n",
    "# pd.qcut(pd.Series(vals.reshape(-1)),4,duplicates='drop')\n",
    "\n",
    "from scipy import stats\n",
    "fig=plt.figure(figsize=(12,5))                                                                                                                            \n",
    "ax2 =plt.subplot(121)\n",
    "\n",
    "stats.probplot(stats.boxcox(vals.ravel()+0.01)[0],dist=stats.norm,plot=ax2)\n",
    "stats.boxcox(vals.ravel()+1)\n",
    "plt.subplot(122)\n",
    "sns.distplot(HR_emp_att[col]);\n"
   ]
  },
  {
   "cell_type": "code",
   "execution_count": 7,
   "metadata": {
    "scrolled": true
   },
   "outputs": [
    {
     "data": {
      "image/png": "[encoded data removed]",
      "text/plain": [
       "<matplotlib.figure.Figure at 0x9db0dd8>"
      ]
     },
     "metadata": {},
     "output_type": "display_data"
    }
   ],
   "source": [
    "plt.subplot(1,2,1)\n",
    "HR_test.DistanceFromHome.apply('log').plot(kind='kde',title='train - log')\n",
    "plt.subplot(1,2,2)\n",
    "HR_emp_att.DistanceFromHome.apply('log').plot(kind='kde',title='test - log');"
   ]
  },
  {
   "cell_type": "code",
   "execution_count": 8,
   "metadata": {},
   "outputs": [
    {
     "data": {
      "image/png": "[encoded data removed]",
      "text/plain": [
       "<matplotlib.figure.Figure at 0x9ffbda0>"
      ]
     },
     "metadata": {},
     "output_type": "display_data"
    }
   ],
   "source": [
    "sns.distplot(HR_emp_att.MonthlyIncome);"
   ]
  },
  {
   "cell_type": "markdown",
   "metadata": {},
   "source": [
    "## plot clustering group of option level\n",
    "> verify if StockOptionLevel has strong correlate with Income"
   ]
  },
  {
   "cell_type": "code",
   "execution_count": 9,
   "metadata": {},
   "outputs": [
    {
     "data": {
      "image/png": "[encoded data removed]",
      "text/plain": [
       "<matplotlib.figure.Figure at 0xb788fd0>"
      ]
     },
     "metadata": {},
     "output_type": "display_data"
    },
    {
     "data": {
      "image/png": "[encoded data removed]",
      "text/plain": [
       "<matplotlib.figure.Figure at 0xb82bba8>"
      ]
     },
     "metadata": {},
     "output_type": "display_data"
    }
   ],
   "source": [
    "g = sns.FacetGrid(HR_emp_att, col=\"Attrition\")\n",
    "g.map(plt.scatter, \"StockOptionLevel\", \"MonthlyIncome\", alpha=.7)\n",
    "g.add_legend();\n",
    "plt.figure()\n",
    "sns.pointplot(x ='StockOptionLevel' ,y ='MonthlyIncome', data=HR_emp_att, hue='Attrition' );\n",
    "\n"
   ]
  },
  {
   "cell_type": "markdown",
   "metadata": {},
   "source": [
    "## 删除没有实际含义的特征"
   ]
  },
  {
   "cell_type": "markdown",
   "metadata": {},
   "source": [
    "- 删除常数列\n",
    "- 删除员工编号\n",
    "- 根据员工编号按部门和岗位分组计算百分比（5段）"
   ]
  },
  {
   "cell_type": "code",
   "execution_count": 10,
   "metadata": {},
   "outputs": [
    {
     "name": "stdout",
     "output_type": "stream",
     "text": [
      "特征值相同的列：\n",
      "Index(['Over18', 'StandardHours'], dtype='object')\n"
     ]
    }
   ],
   "source": [
    "feature_unique_cnt = HR_emp_att.apply(lambda c : len(c.unique()))\n",
    "print('特征值相同的列：')\n",
    "features_has_same_val = feature_unique_cnt[feature_unique_cnt==1]\n",
    "print(features_has_same_val.index)\n"
   ]
  },
  {
   "cell_type": "code",
   "execution_count": 11,
   "metadata": {},
   "outputs": [
    {
     "name": "stdout",
     "output_type": "stream",
     "text": [
      "删除重复值列后，数据集有 1450 行, 29 列\n"
     ]
    }
   ],
   "source": [
    "# 删除Over18/ StandardHours\n",
    "if features_has_same_val.index.values[0] in HR_emp_att.columns:\n",
    "    HR_emp_att = HR_emp_att.drop(features_has_same_val.index, axis=1)\n",
    "dim = HR_emp_att.shape\n",
    "print(\"删除重复值列后，数据集有 %d 行, %d 列\"  % dim)"
   ]
  },
  {
   "cell_type": "code",
   "execution_count": 12,
   "metadata": {},
   "outputs": [
    {
     "name": "stdout",
     "output_type": "stream",
     "text": [
      "删除EmployeeNumber列后，数据集有 1450 行, 29 列\n"
     ]
    }
   ],
   "source": [
    "# 由于缺少员工编号的上下文背景，删除EmployeeNumber\n",
    "if 'EmployeeNumber' in HR_emp_att.columns:\n",
    "    HR_emp_att['EmpNumQauntile_In_DeptRole']= HR_emp_att.groupby(['Department','JobLevel'])['EmployeeNumber'].transform(lambda g: pd.qcut(g.rank(),5,labels=range(5)))\n",
    "    HR_emp_att = HR_emp_att.drop('EmployeeNumber', axis=1)\n",
    "dim = HR_emp_att.shape\n",
    "print(\"删除EmployeeNumber列后，数据集有 %d 行, %d 列\"  % dim)"
   ]
  },
  {
   "cell_type": "markdown",
   "metadata": {},
   "source": [
    "## 类别变量、数值变量类型重定义\n",
    "根据字段描述，下列字段需要转换成类别特征：\n",
    "- Education\n",
    "- EnvironmentSatisfaction\n",
    "- JobInvolvement\n",
    "- JobLevel\n",
    "- JobSatisfaction\n",
    "- PerformanceRating\n",
    "- RelationshipSatisfaction\n",
    "- StockOptionLevel\n",
    "- WorkLifeBalance\n",
    "- Attrition"
   ]
  },
  {
   "cell_type": "code",
   "execution_count": 13,
   "metadata": {
    "collapsed": true
   },
   "outputs": [],
   "source": [
    "HR_emp_att.Education = pd.Categorical(HR_emp_att.Education)\n",
    "HR_emp_att.JobLevel = pd.Categorical(HR_emp_att.JobLevel)\n",
    "HR_emp_att.StockOptionLevel = pd.Categorical(HR_emp_att.StockOptionLevel)\n",
    "HR_emp_att.Attrition = pd.Categorical(HR_emp_att.Attrition)\n",
    "\n",
    "\n",
    "for obj_var in HR_emp_att.select_dtypes(['object']).columns.values:\n",
    "    HR_emp_att[obj_var] = pd.Categorical(HR_emp_att[obj_var])"
   ]
  },
  {
   "cell_type": "markdown",
   "metadata": {},
   "source": [
    "## test linearcolnity with MonthlyIncome\n"
   ]
  },
  {
   "cell_type": "code",
   "execution_count": 1,
   "metadata": {},
   "outputs": [
    {
     "ename": "ImportError",
     "evalue": "cannot import name 'add_newdocs'",
     "output_type": "error",
     "traceback": [
      "\u001b[1;31m---------------------------------------------------------------------------\u001b[0m",
      "\u001b[1;31mImportError\u001b[0m                               Traceback (most recent call last)",
      "\u001b[1;32m<ipython-input-1-d3286fa468fa>\u001b[0m in \u001b[0;36m<module>\u001b[1;34m()\u001b[0m\n\u001b[1;32m----> 1\u001b[1;33m \u001b[1;32mfrom\u001b[0m \u001b[0msklearn\u001b[0m\u001b[1;33m.\u001b[0m\u001b[0mlinear_model\u001b[0m \u001b[1;32mimport\u001b[0m \u001b[0mRidge\u001b[0m\u001b[1;33m\u001b[0m\u001b[0m\n\u001b[0m\u001b[0;32m      2\u001b[0m \u001b[1;32mfrom\u001b[0m \u001b[0msklearn\u001b[0m\u001b[1;33m.\u001b[0m\u001b[0mmetrics\u001b[0m \u001b[1;32mimport\u001b[0m \u001b[0mr2_score\u001b[0m\u001b[1;33m\u001b[0m\u001b[0m\n\u001b[0;32m      3\u001b[0m \u001b[1;33m\u001b[0m\u001b[0m\n\u001b[0;32m      4\u001b[0m \u001b[0mX_train\u001b[0m \u001b[1;33m=\u001b[0m \u001b[0mHR_emp_att\u001b[0m\u001b[1;33m.\u001b[0m\u001b[0mdrop\u001b[0m\u001b[1;33m(\u001b[0m\u001b[1;33m[\u001b[0m\u001b[1;34m'Attrition'\u001b[0m\u001b[1;33m,\u001b[0m\u001b[1;34m'MonthlyIncome'\u001b[0m\u001b[1;33m]\u001b[0m\u001b[1;33m,\u001b[0m \u001b[0maxis\u001b[0m\u001b[1;33m=\u001b[0m\u001b[1;36m1\u001b[0m\u001b[1;33m)\u001b[0m\u001b[1;33m.\u001b[0m\u001b[0mcopy\u001b[0m\u001b[1;33m(\u001b[0m\u001b[1;33m)\u001b[0m\u001b[1;33m\u001b[0m\u001b[0m\n\u001b[0;32m      5\u001b[0m \u001b[0my_train\u001b[0m \u001b[1;33m=\u001b[0m \u001b[0mHR_emp_att\u001b[0m\u001b[1;33m.\u001b[0m\u001b[0mMonthlyIncome\u001b[0m\u001b[1;33m\u001b[0m\u001b[0m\n",
      "\u001b[1;32mD:\\Python27\\envs\\py36\\lib\\site-packages\\sklearn\\__init__.py\u001b[0m in \u001b[0;36m<module>\u001b[1;34m()\u001b[0m\n\u001b[0;32m    132\u001b[0m \u001b[1;32melse\u001b[0m\u001b[1;33m:\u001b[0m\u001b[1;33m\u001b[0m\u001b[0m\n\u001b[0;32m    133\u001b[0m     \u001b[1;32mfrom\u001b[0m \u001b[1;33m.\u001b[0m \u001b[1;32mimport\u001b[0m \u001b[0m__check_build\u001b[0m\u001b[1;33m\u001b[0m\u001b[0m\n\u001b[1;32m--> 134\u001b[1;33m     \u001b[1;32mfrom\u001b[0m \u001b[1;33m.\u001b[0m\u001b[0mbase\u001b[0m \u001b[1;32mimport\u001b[0m \u001b[0mclone\u001b[0m\u001b[1;33m\u001b[0m\u001b[0m\n\u001b[0m\u001b[0;32m    135\u001b[0m     \u001b[0m__check_build\u001b[0m  \u001b[1;31m# avoid flakes unused variable error\u001b[0m\u001b[1;33m\u001b[0m\u001b[0m\n\u001b[0;32m    136\u001b[0m \u001b[1;33m\u001b[0m\u001b[0m\n",
      "\u001b[1;32mD:\\Python27\\envs\\py36\\lib\\site-packages\\sklearn\\base.py\u001b[0m in \u001b[0;36m<module>\u001b[1;34m()\u001b[0m\n\u001b[0;32m      7\u001b[0m \u001b[1;32mimport\u001b[0m \u001b[0mwarnings\u001b[0m\u001b[1;33m\u001b[0m\u001b[0m\n\u001b[0;32m      8\u001b[0m \u001b[1;33m\u001b[0m\u001b[0m\n\u001b[1;32m----> 9\u001b[1;33m \u001b[1;32mimport\u001b[0m \u001b[0mnumpy\u001b[0m \u001b[1;32mas\u001b[0m \u001b[0mnp\u001b[0m\u001b[1;33m\u001b[0m\u001b[0m\n\u001b[0m\u001b[0;32m     10\u001b[0m \u001b[1;32mfrom\u001b[0m \u001b[0mscipy\u001b[0m \u001b[1;32mimport\u001b[0m \u001b[0msparse\u001b[0m\u001b[1;33m\u001b[0m\u001b[0m\n\u001b[0;32m     11\u001b[0m \u001b[1;32mfrom\u001b[0m \u001b[1;33m.\u001b[0m\u001b[0mexternals\u001b[0m \u001b[1;32mimport\u001b[0m \u001b[0msix\u001b[0m\u001b[1;33m\u001b[0m\u001b[0m\n",
      "\u001b[1;32mD:\\Python27\\envs\\py36\\lib\\site-packages\\numpy\\__init__.py\u001b[0m in \u001b[0;36m<module>\u001b[1;34m()\u001b[0m\n\u001b[0;32m    140\u001b[0m         \u001b[1;32mreturn\u001b[0m \u001b[0mloader\u001b[0m\u001b[1;33m(\u001b[0m\u001b[1;33m*\u001b[0m\u001b[0mpackages\u001b[0m\u001b[1;33m,\u001b[0m \u001b[1;33m**\u001b[0m\u001b[0moptions\u001b[0m\u001b[1;33m)\u001b[0m\u001b[1;33m\u001b[0m\u001b[0m\n\u001b[0;32m    141\u001b[0m \u001b[1;33m\u001b[0m\u001b[0m\n\u001b[1;32m--> 142\u001b[1;33m     \u001b[1;32mfrom\u001b[0m \u001b[1;33m.\u001b[0m \u001b[1;32mimport\u001b[0m \u001b[0madd_newdocs\u001b[0m\u001b[1;33m\u001b[0m\u001b[0m\n\u001b[0m\u001b[0;32m    143\u001b[0m     __all__ = ['add_newdocs',\n\u001b[0;32m    144\u001b[0m                \u001b[1;34m'ModuleDeprecationWarning'\u001b[0m\u001b[1;33m,\u001b[0m\u001b[1;33m\u001b[0m\u001b[0m\n",
      "\u001b[1;31mImportError\u001b[0m: cannot import name 'add_newdocs'"
     ]
    }
   ],
   "source": [
    "from sklearn.linear_model import Ridge\n",
    "from sklearn.metrics import r2_score\n",
    "\n",
    "X_train = HR_emp_att.drop(['Attrition','MonthlyIncome'], axis=1).copy()\n",
    "y_train = HR_emp_att.MonthlyIncome\n",
    "\n",
    "\n",
    "def factorize_dataframe(data,cols):\n",
    "    for col in cols:\n",
    "        if data[col].dropna().drop_duplicates().shape[0]>2:\n",
    "            df_dummy = pd.get_dummies(data[col],prefix=col) # factorize return 2 elements array, values and category index\n",
    "            data = pd.concat([data,df_dummy],axis=1)\n",
    "            data=data.drop(col,axis=1)\n",
    "        else:\n",
    "            data[col] = pd.factorize(data[col])[0]\n",
    "    return data\n",
    "     \n",
    "     \n",
    "cat_vars = X_train.dtypes.index[X_train.dtypes=='category']\n",
    "X_train = factorize_dataframe(X_train, cat_vars)\n",
    "# build ridge model\n",
    "model_ridge = Ridge(normalize=True,random_state=44,fit_intercept=True,alpha=.3)\n",
    "model_ridge.fit(X_train,y_train)\n",
    "df_eval = pd.DataFrame({'Feature':X_train.columns[(model_ridge.coef_>.01)],'Support':model_ridge.coef_[model_ridge.coef_>.01]},columns=['Feature','Support'])\n",
    "print(df_eval.sort_values('Support',ascending=False))\n",
    "print(model_ridge.intercept_)\n",
    "r_sqr = model_ridge.score(X_train,y_train)\n",
    "print('r2 square:%f'%r_sqr)"
   ]
  },
  {
   "cell_type": "markdown",
   "metadata": {},
   "source": [
    "## test feature importance"
   ]
  },
  {
   "cell_type": "code",
   "execution_count": 15,
   "metadata": {
    "scrolled": false
   },
   "outputs": [
    {
     "name": "stdout",
     "output_type": "stream",
     "text": [
      "                         Feature   Support\n",
      "0                            Age  0.068378\n",
      "8                       OverTime  0.060641\n",
      "6                  MonthlyIncome  0.058852\n",
      "11             TotalWorkingYears  0.051444\n",
      "1               DistanceFromHome  0.050102\n",
      "7             NumCompaniesWorked  0.047004\n",
      "14                YearsAtCompany  0.042542\n",
      "9              PercentSalaryHike  0.035934\n",
      "21            StockOptionLevel_0  0.034144\n",
      "17          YearsWithCurrManager  0.033113\n",
      "2        EnvironmentSatisfaction  0.030070\n",
      "5                JobSatisfaction  0.029610\n",
      "15            YearsInCurrentRole  0.028522\n",
      "4                 JobInvolvement  0.024859\n",
      "22            StockOptionLevel_1  0.024362\n",
      "20          MaritalStatus_Single  0.022815\n",
      "10      RelationshipSatisfaction  0.021560\n",
      "18                    JobLevel_1  0.019561\n",
      "16       YearsSinceLastPromotion  0.018642\n",
      "12         TrainingTimesLastYear  0.018569\n",
      "13               WorkLifeBalance  0.017184\n",
      "3                         Gender  0.011915\n",
      "23  EmpNumQauntile_In_DeptRole_4  0.011493\n",
      "19    JobRole_Research Scientist  0.010828\n",
      "             precision    recall  f1-score   support\n",
      "\n",
      "          0       0.98      1.00      0.99       922\n",
      "          1       1.00      0.91      0.95       178\n",
      "\n",
      "avg / total       0.99      0.99      0.99      1100\n",
      "\n"
     ]
    }
   ],
   "source": [
    "\"\"\"\n",
    "test feature importance\n",
    "\"\"\"\n",
    "from sklearn.ensemble import RandomForestClassifier\n",
    "from sklearn.metrics import r2_score, classification_report\n",
    "\n",
    "X_train = HR_emp_att[HR_emp_att.Attrition.isnull()==False].drop(['Attrition'], axis=1).copy()\n",
    "y_train = HR_emp_att[HR_emp_att.Attrition.isnull()==False].Attrition\n",
    "\n",
    "   \n",
    "cat_vars = X_train.dtypes.index[X_train.dtypes=='category']\n",
    "X_train = factorize_dataframe(X_train, cat_vars)\n",
    "# build ridge model\n",
    "model_rfc = RandomForestClassifier(random_state=40, class_weight='balanced',warm_start=True)\n",
    "model_rfc.fit(X_train,y_train)\n",
    "df_eval = pd.DataFrame({'Feature':X_train.columns[(model_rfc.feature_importances_>.01)],'Support':model_rfc.feature_importances_[model_rfc.feature_importances_>.01]},columns=['Feature','Support'])\n",
    "print(df_eval.sort_values('Support',ascending=False))\n",
    "y_hat = model_rfc.predict(X_train)\n",
    "clf_reprot = classification_report(y_train.ravel(),y_hat.ravel())\n",
    "print(clf_reprot)"
   ]
  },
  {
   "cell_type": "markdown",
   "metadata": {},
   "source": [
    "## plot distribution"
   ]
  },
  {
   "cell_type": "code",
   "execution_count": 16,
   "metadata": {
    "scrolled": false
   },
   "outputs": [
    {
     "data": {
      "image/png": "[encoded data removed]",
      "text/plain": [
       "<matplotlib.figure.Figure at 0xad960f0>"
      ]
     },
     "metadata": {},
     "output_type": "display_data"
    }
   ],
   "source": [
    "fig, axes = plt.subplots(10, 3, figsize=(18, 28))\n",
    "plt.subplots_adjust(wspace=0.3, hspace=0.5)\n",
    "numeric_features= HR_emp_att.dtypes.index[HR_emp_att.dtypes=='int64']\n",
    "cat_features= HR_emp_att.dtypes.index[(HR_emp_att.dtypes=='category') & (HR_emp_att.dtypes.index!= 'Attrition')]\n",
    "\n",
    "\n",
    "for i in range(len(numeric_features)):\n",
    "    i0=int(i/3); i1=i%3;\n",
    "    \n",
    "    feature_numeric = numeric_features[i]\n",
    "    HR_emp_att.groupby('Attrition')[feature_numeric].plot.hist(ax = axes[i0][i1],stacked=True); axes[i0][i1].set_title(feature_numeric)\n",
    "    \n",
    "for feature in cat_features:\n",
    "    i+=1\n",
    "    if i>=30:\n",
    "        break\n",
    "        \n",
    "    i0=int(i/3); i1=i%3;\n",
    "    df_grouped = HR_emp_att.groupby([feature,'Attrition'])[feature].count().unstack()\n",
    "    df_grouped.plot(kind='bar',stacked=True,ax=axes[i0][i1]);axes[i0][i1].set_title(feature)\n",
    "    \n",
    "fig.text(0.5,0.9,'variable distributed by attrition',fontsize=25,horizontalalignment='center') \n",
    "plt.show()"
   ]
  },
  {
   "cell_type": "code",
   "execution_count": 17,
   "metadata": {},
   "outputs": [
    {
     "data": {
      "application/vnd.jupyter.widget-view+json": {
       "model_id": "f02426c5469c40c892b92861ad555d7c"
      }
     },
     "metadata": {},
     "output_type": "display_data"
    }
   ],
   "source": [
    "from ipywidgets import interact, interactive, fixed, interact_manual\n",
    "import ipywidgets as widgets\n",
    "@interact(y=widgets.Dropdown(\n",
    "    options=numeric_features.tolist(),\n",
    "    description='Number:',\n",
    "    disabled=False,\n",
    "))\n",
    "def show_bar(y):\n",
    "    f, axarr = plt.subplots(1,2,figsize=(16,6))\n",
    "    sns.violinplot(data=HR_emp_att, palette=\"Set3\", x='Attrition', y=y, ax=axarr[0]);\n",
    "#     sns.swarmplot(data=HR_emp_att, palette=\"Set3\", x='Attrition', y=y, color=\"w\", alpha=.5, ax=axarr[0]);\n",
    "    \n",
    "    sns.boxplot(data=HR_emp_att, palette=\"Set3\", x='Attrition', y=y, ax=axarr[1]);\n",
    "    sns.despine(left=True, bottom=True)\n",
    "#     plt.tight_layout()\n",
    "    plt.show();"
   ]
  },
  {
   "cell_type": "markdown",
   "metadata": {},
   "source": [
    "## Exploratory analysis"
   ]
  },
  {
   "cell_type": "code",
   "execution_count": 18,
   "metadata": {},
   "outputs": [
    {
     "name": "stdout",
     "output_type": "stream",
     "text": [
      "more male than female for every job level?\n",
      "\n"
     ]
    },
    {
     "data": {
      "text/html": [
       "<div>\n",
       "<style scoped>\n",
       "    .dataframe tbody tr th:only-of-type {\n",
       "        vertical-align: middle;\n",
       "    }\n",
       "\n",
       "    .dataframe tbody tr th {\n",
       "        vertical-align: top;\n",
       "    }\n",
       "\n",
       "    .dataframe thead th {\n",
       "        text-align: right;\n",
       "    }\n",
       "</style>\n",
       "<table border=\"1\" class=\"dataframe\">\n",
       "  <thead>\n",
       "    <tr style=\"text-align: right;\">\n",
       "      <th></th>\n",
       "      <th>JobLevel</th>\n",
       "      <th>1</th>\n",
       "      <th>2</th>\n",
       "      <th>3</th>\n",
       "      <th>4</th>\n",
       "      <th>5</th>\n",
       "    </tr>\n",
       "    <tr>\n",
       "      <th>JobRole</th>\n",
       "      <th>Gender</th>\n",
       "      <th></th>\n",
       "      <th></th>\n",
       "      <th></th>\n",
       "      <th></th>\n",
       "      <th></th>\n",
       "    </tr>\n",
       "  </thead>\n",
       "  <tbody>\n",
       "    <tr>\n",
       "      <th rowspan=\"2\" valign=\"top\">Healthcare Representative</th>\n",
       "      <th>Female</th>\n",
       "      <td></td>\n",
       "      <td>40.79</td>\n",
       "      <td>37.21</td>\n",
       "      <td>37.5</td>\n",
       "      <td></td>\n",
       "    </tr>\n",
       "    <tr>\n",
       "      <th>Male</th>\n",
       "      <td></td>\n",
       "      <td>59.21</td>\n",
       "      <td>62.79</td>\n",
       "      <td>62.5</td>\n",
       "      <td></td>\n",
       "    </tr>\n",
       "    <tr>\n",
       "      <th rowspan=\"2\" valign=\"top\">Human Resources</th>\n",
       "      <th>Female</th>\n",
       "      <td>30.3</td>\n",
       "      <td>23.08</td>\n",
       "      <td>50</td>\n",
       "      <td></td>\n",
       "      <td></td>\n",
       "    </tr>\n",
       "    <tr>\n",
       "      <th>Male</th>\n",
       "      <td>69.7</td>\n",
       "      <td>76.92</td>\n",
       "      <td>50</td>\n",
       "      <td></td>\n",
       "      <td></td>\n",
       "    </tr>\n",
       "    <tr>\n",
       "      <th rowspan=\"2\" valign=\"top\">Laboratory Technician</th>\n",
       "      <th>Female</th>\n",
       "      <td>34.01</td>\n",
       "      <td>30.91</td>\n",
       "      <td>33.33</td>\n",
       "      <td></td>\n",
       "      <td></td>\n",
       "    </tr>\n",
       "    <tr>\n",
       "      <th>Male</th>\n",
       "      <td>65.99</td>\n",
       "      <td>69.09</td>\n",
       "      <td>66.67</td>\n",
       "      <td></td>\n",
       "      <td></td>\n",
       "    </tr>\n",
       "    <tr>\n",
       "      <th rowspan=\"2\" valign=\"top\">Manager</th>\n",
       "      <th>Female</th>\n",
       "      <td></td>\n",
       "      <td></td>\n",
       "      <td>58.33</td>\n",
       "      <td>47.83</td>\n",
       "      <td>38.1</td>\n",
       "    </tr>\n",
       "    <tr>\n",
       "      <th>Male</th>\n",
       "      <td></td>\n",
       "      <td></td>\n",
       "      <td>41.67</td>\n",
       "      <td>52.17</td>\n",
       "      <td>61.9</td>\n",
       "    </tr>\n",
       "    <tr>\n",
       "      <th rowspan=\"2\" valign=\"top\">Manufacturing Director</th>\n",
       "      <th>Female</th>\n",
       "      <td></td>\n",
       "      <td>46.07</td>\n",
       "      <td>48.84</td>\n",
       "      <td>80</td>\n",
       "      <td></td>\n",
       "    </tr>\n",
       "    <tr>\n",
       "      <th>Male</th>\n",
       "      <td></td>\n",
       "      <td>53.93</td>\n",
       "      <td>51.16</td>\n",
       "      <td>20</td>\n",
       "      <td></td>\n",
       "    </tr>\n",
       "    <tr>\n",
       "      <th rowspan=\"2\" valign=\"top\">Research Director</th>\n",
       "      <th>Female</th>\n",
       "      <td></td>\n",
       "      <td></td>\n",
       "      <td>57.14</td>\n",
       "      <td>40</td>\n",
       "      <td>28</td>\n",
       "    </tr>\n",
       "    <tr>\n",
       "      <th>Male</th>\n",
       "      <td></td>\n",
       "      <td></td>\n",
       "      <td>42.86</td>\n",
       "      <td>60</td>\n",
       "      <td>72</td>\n",
       "    </tr>\n",
       "    <tr>\n",
       "      <th rowspan=\"2\" valign=\"top\">Research Scientist</th>\n",
       "      <th>Female</th>\n",
       "      <td>37.07</td>\n",
       "      <td>47.37</td>\n",
       "      <td>0</td>\n",
       "      <td></td>\n",
       "      <td></td>\n",
       "    </tr>\n",
       "    <tr>\n",
       "      <th>Male</th>\n",
       "      <td>62.93</td>\n",
       "      <td>52.63</td>\n",
       "      <td>100</td>\n",
       "      <td></td>\n",
       "      <td></td>\n",
       "    </tr>\n",
       "    <tr>\n",
       "      <th rowspan=\"2\" valign=\"top\">Sales Executive</th>\n",
       "      <th>Female</th>\n",
       "      <td></td>\n",
       "      <td>41.74</td>\n",
       "      <td>34.18</td>\n",
       "      <td>50</td>\n",
       "      <td></td>\n",
       "    </tr>\n",
       "    <tr>\n",
       "      <th>Male</th>\n",
       "      <td></td>\n",
       "      <td>58.26</td>\n",
       "      <td>65.82</td>\n",
       "      <td>50</td>\n",
       "      <td></td>\n",
       "    </tr>\n",
       "    <tr>\n",
       "      <th rowspan=\"2\" valign=\"top\">Sales Representative</th>\n",
       "      <th>Female</th>\n",
       "      <td>46.05</td>\n",
       "      <td>42.86</td>\n",
       "      <td></td>\n",
       "      <td></td>\n",
       "      <td></td>\n",
       "    </tr>\n",
       "    <tr>\n",
       "      <th>Male</th>\n",
       "      <td>53.95</td>\n",
       "      <td>57.14</td>\n",
       "      <td></td>\n",
       "      <td></td>\n",
       "      <td></td>\n",
       "    </tr>\n",
       "  </tbody>\n",
       "</table>\n",
       "</div>"
      ],
      "text/plain": [
       "JobLevel                              1      2      3      4     5\n",
       "JobRole                   Gender                                  \n",
       "Healthcare Representative Female         40.79  37.21   37.5      \n",
       "                          Male           59.21  62.79   62.5      \n",
       "Human Resources           Female   30.3  23.08     50             \n",
       "                          Male     69.7  76.92     50             \n",
       "Laboratory Technician     Female  34.01  30.91  33.33             \n",
       "                          Male    65.99  69.09  66.67             \n",
       "Manager                   Female                58.33  47.83  38.1\n",
       "                          Male                  41.67  52.17  61.9\n",
       "Manufacturing Director    Female         46.07  48.84     80      \n",
       "                          Male           53.93  51.16     20      \n",
       "Research Director         Female                57.14     40    28\n",
       "                          Male                  42.86     60    72\n",
       "Research Scientist        Female  37.07  47.37      0             \n",
       "                          Male    62.93  52.63    100             \n",
       "Sales Executive           Female         41.74  34.18     50      \n",
       "                          Male           58.26  65.82     50      \n",
       "Sales Representative      Female  46.05  42.86                    \n",
       "                          Male    53.95  57.14                    "
      ]
     },
     "execution_count": 18,
     "metadata": {},
     "output_type": "execute_result"
    }
   ],
   "source": [
    "\"\"\"more male than female for every job level?\n",
    "\"\"\"\n",
    "print(__doc__)\n",
    "df_pivot = HR_emp_att.pivot_table(values='Age',index=['JobRole','Gender'],columns=['JobLevel'],aggfunc='count',fill_value=0)\n",
    "df_pivot\n",
    "for col in df_pivot.columns:\n",
    "    df_pivot[col] = df_pivot.groupby(level=0)[col].transform(lambda g: g.astype(np.float32)/g.sum()*100)\n",
    "df_pivot.round(2).fillna('')"
   ]
  },
  {
   "cell_type": "code",
   "execution_count": 19,
   "metadata": {},
   "outputs": [
    {
     "name": "stdout",
     "output_type": "stream",
     "text": [
      "avg salary hike looks like same across dept and level\n",
      "\n"
     ]
    },
    {
     "data": {
      "text/plain": [
       "Department              JobLevel\n",
       "Human Resources         1           14.666667\n",
       "                        2           14.769231\n",
       "                        3           15.666667\n",
       "                        4           14.500000\n",
       "                        5           14.571429\n",
       "Research & Development  1           15.340326\n",
       "                        2           15.270758\n",
       "                        3           15.476190\n",
       "                        4           15.818182\n",
       "                        5           14.187500\n",
       "Sales                   1           15.513158\n",
       "                        2           15.164557\n",
       "                        3           14.771084\n",
       "                        4           14.515152\n",
       "                        5           15.416667\n",
       "Name: PercentSalaryHike, dtype: float64"
      ]
     },
     "execution_count": 19,
     "metadata": {},
     "output_type": "execute_result"
    }
   ],
   "source": [
    "\"\"\"avg salary hike looks like same across dept and level\n",
    "\"\"\"\n",
    "print(__doc__)\n",
    "HR_emp_att.groupby(['Department','JobLevel'])['PercentSalaryHike'].mean()"
   ]
  },
  {
   "cell_type": "code",
   "execution_count": 20,
   "metadata": {},
   "outputs": [
    {
     "data": {
      "image/png": "[encoded data removed]",
      "text/plain": [
       "<matplotlib.figure.Figure at 0xeae62e8>"
      ]
     },
     "metadata": {},
     "output_type": "display_data"
    }
   ],
   "source": [
    "# Set up the matplotlib figure\n",
    "f, ax = plt.subplots(figsize=(11, 9))\n",
    "\n",
    "corr = HR_emp_att.corr()\n",
    "# Generate a mask for the upper triangle\n",
    "mask = np.zeros_like(corr, dtype=np.bool)\n",
    "mask[np.triu_indices_from(mask)] = True\n",
    "\n",
    "# Generate a custom diverging colormap\n",
    "cmap = sns.diverging_palette(220, 10, as_cmap=True)\n",
    "\n",
    "# Draw the heatmap with the mask and correct aspect ratio\n",
    "sns.heatmap(corr, mask=mask, cmap=cmap, vmax=1, center=0,\n",
    "            square=True, linewidths=.5, cbar_kws={\"shrink\": .5})\n",
    "plt.title('correlate between variables')\n",
    "plt.show()"
   ]
  },
  {
   "cell_type": "markdown",
   "metadata": {
    "collapsed": true
   },
   "source": [
    "## feature Generation\n",
    "- Age -> AgeGroup: [young <30,middle <40, adult]\n",
    "- DistanceFromHome -> HomeDistanceGroup: [nearby <10, faraway]\n",
    "- Discritize number features\n",
    "\n",
    "```\n",
    "HR_transform is new feature dataset\n",
    "\n",
    "```"
   ]
  },
  {
   "cell_type": "code",
   "execution_count": 21,
   "metadata": {
    "collapsed": true
   },
   "outputs": [],
   "source": [
    "from sklearn import cluster\n",
    "# AgeGroup\n",
    "HR_emp_att['AgeGroup']= pd.cut(HR_emp_att.Age,[18,25,35,45,65],labels=['young','middle','adult','old'],include_lowest=True)\n",
    "# KMeans group\n",
    "HR_emp_att['Satisfaction'] = HR_emp_att.apply(lambda x: (x.EnvironmentSatisfaction+x.JobInvolvement+x.JobSatisfaction+x.RelationshipSatisfaction+x.WorkLifeBalance)/5.0,axis=1)\n",
    "avg_satisfaction = HR_emp_att['Satisfaction'].mode()\n",
    "income_avg = HR_emp_att.groupby(['Department','JobLevel','JobRole'])['MonthlyIncome'].mean()\n",
    "\n",
    "HR_emp_att['IncomeCompareAvg']=[p.MonthlyIncome / income_avg[p.Department,p.JobLevel,p.JobRole] -1 for p in HR_emp_att.itertuples()]\n",
    "\n",
    "HR_emp_att = HR_emp_att.assign(IncomeRiseEachYear=lambda x: x.MonthlyIncome/(x.TotalWorkingYears+1))\n",
    "HR_emp_att['Satisfied'] = HR_emp_att['Satisfaction']>=HR_emp_att['Satisfaction'].median()\n",
    "HR_emp_att['JobSatisfied'] = HR_emp_att['JobSatisfaction']>=HR_emp_att['JobSatisfaction'].median()\n",
    "HR_emp_att['WorkLifeBalanceSatisfied'] = HR_emp_att['WorkLifeBalance']>=HR_emp_att['WorkLifeBalance'].median()\n",
    "HR_emp_att['EnvironmentSatisfied'] = HR_emp_att['EnvironmentSatisfaction']>=HR_emp_att['EnvironmentSatisfaction'].median()\n",
    "HR_emp_att['PerformanceRatingGroup'] = HR_emp_att['PerformanceRating']>=HR_emp_att['PerformanceRating'].median()\n",
    "HR_emp_att['WorkBeginAge'] = HR_emp_att['Age']-HR_emp_att['TotalWorkingYears']\n",
    "HR_emp_att['WorkBeginAge'] = HR_emp_att['WorkBeginAge']/HR_emp_att['WorkBeginAge'].median()\n",
    "HR_emp_att['WorkingYearsPct'] = HR_emp_att['YearsAtCompany']/(HR_emp_att['TotalWorkingYears']+1)\n",
    "\n",
    "qcut_cols = ['DistanceFromHome','IncomeCompareAvg','TotalWorkingYears', \\\n",
    "             'PercentSalaryHike','YearsInCurrentRole', 'WorkBeginAge',\\\n",
    "             'YearsWithCurrManager','NumCompaniesWorked','YearsAtCompany','IncomeRiseEachYear','WorkingYearsPct']\n",
    "for col in qcut_cols:\n",
    "    vals = HR_emp_att[col].values\n",
    "    \n",
    "    HR_emp_att[col+'Group'] = pd.qcut(pd.Series(vals),4,duplicates='drop', labels=['bad','soso','good','awesome'])\n",
    "#     md_km = cluster.KMeans(n_clusters=4)\n",
    "#     md_km.fit(vals)\n",
    "#     HR_emp_att[col+'Group'] = pd.Categorical.from_codes(md_km.predict(vals),['bad','soso','good','awesome'])\n",
    "# remove temp feature\n",
    "#HR_emp_att.drop(['Satisfaction','LastPromoteCompareAvg','IncomeCompareAvg'],axis=1,inplace=True)\n",
    "HR_transform = HR_emp_att.drop(qcut_cols \\\n",
    "                + ['Age','EnvironmentSatisfaction','JobSatisfaction','WorkLifeBalance','PerformanceRating','RelationshipSatisfaction','MonthlyIncome'],axis=1)"
   ]
  },
  {
   "cell_type": "markdown",
   "metadata": {},
   "source": [
    "## find association rules across features"
   ]
  },
  {
   "cell_type": "code",
   "execution_count": 22,
   "metadata": {},
   "outputs": [
    {
     "data": {
      "text/plain": [
       "[RelationRecord(items=frozenset({'JobRole:Sales Executive', 'Department:Sales'}), support=0.22275862068965518, ordered_statistics=[OrderedStatistic(items_base=frozenset({'JobRole:Sales Executive'}), items_add=frozenset({'Department:Sales'}), confidence=1.0, lift=3.2879818594104306)]),\n",
       " RelationRecord(items=frozenset({'MaritalStatus:Single', 'StockOptionLevel:0'}), support=0.32, ordered_statistics=[OrderedStatistic(items_base=frozenset({'MaritalStatus:Single'}), items_add=frozenset({'StockOptionLevel:0'}), confidence=1.0, lift=2.327447833065811)]),\n",
       " RelationRecord(items=frozenset({'YearsInCurrentRoleGroup:bad', 'YearsAtCompanyGroup:bad'}), support=0.3213793103448276, ordered_statistics=[OrderedStatistic(items_base=frozenset({'YearsAtCompanyGroup:bad'}), items_add=frozenset({'YearsInCurrentRoleGroup:bad'}), confidence=1.0, lift=2.183734939759036)]),\n",
       " RelationRecord(items=frozenset({'YearsAtCompanyGroup:bad', 'YearsWithCurrManagerGroup:bad'}), support=0.3213793103448276, ordered_statistics=[OrderedStatistic(items_base=frozenset({'YearsAtCompanyGroup:bad'}), items_add=frozenset({'YearsWithCurrManagerGroup:bad'}), confidence=1.0, lift=2.1386430678466075)]),\n",
       " RelationRecord(items=frozenset({'MaritalStatus:Single', 'BusinessTravel:Travel_Rarely', 'StockOptionLevel:0'}), support=0.22413793103448276, ordered_statistics=[OrderedStatistic(items_base=frozenset({'MaritalStatus:Single', 'BusinessTravel:Travel_Rarely'}), items_add=frozenset({'StockOptionLevel:0'}), confidence=1.0, lift=2.327447833065811)]),\n",
       " RelationRecord(items=frozenset({'YearsInCurrentRoleGroup:bad', 'YearsAtCompanyGroup:bad', 'BusinessTravel:Travel_Rarely'}), support=0.23103448275862068, ordered_statistics=[OrderedStatistic(items_base=frozenset({'YearsAtCompanyGroup:bad', 'BusinessTravel:Travel_Rarely'}), items_add=frozenset({'YearsInCurrentRoleGroup:bad'}), confidence=1.0, lift=2.183734939759036)]),\n",
       " RelationRecord(items=frozenset({'YearsAtCompanyGroup:bad', 'BusinessTravel:Travel_Rarely', 'YearsWithCurrManagerGroup:bad'}), support=0.23103448275862068, ordered_statistics=[OrderedStatistic(items_base=frozenset({'YearsAtCompanyGroup:bad', 'BusinessTravel:Travel_Rarely'}), items_add=frozenset({'YearsWithCurrManagerGroup:bad'}), confidence=1.0, lift=2.1386430678466075)]),\n",
       " RelationRecord(items=frozenset({'Department:Research & Development', 'StockOptionLevel:0', 'MaritalStatus:Single'}), support=0.20620689655172414, ordered_statistics=[OrderedStatistic(items_base=frozenset({'Department:Research & Development', 'MaritalStatus:Single'}), items_add=frozenset({'StockOptionLevel:0'}), confidence=1.0, lift=2.327447833065811)]),\n",
       " RelationRecord(items=frozenset({'Department:Research & Development', 'YearsInCurrentRoleGroup:bad', 'YearsAtCompanyGroup:bad'}), support=0.21172413793103448, ordered_statistics=[OrderedStatistic(items_base=frozenset({'Department:Research & Development', 'YearsAtCompanyGroup:bad'}), items_add=frozenset({'YearsInCurrentRoleGroup:bad'}), confidence=1.0, lift=2.183734939759036)]),\n",
       " RelationRecord(items=frozenset({'Department:Research & Development', 'YearsAtCompanyGroup:bad', 'YearsWithCurrManagerGroup:bad'}), support=0.21172413793103448, ordered_statistics=[OrderedStatistic(items_base=frozenset({'Department:Research & Development', 'YearsAtCompanyGroup:bad'}), items_add=frozenset({'YearsWithCurrManagerGroup:bad'}), confidence=1.0, lift=2.1386430678466075)]),\n",
       " RelationRecord(items=frozenset({'MaritalStatus:Single', 'OverTime:No', 'StockOptionLevel:0'}), support=0.2296551724137931, ordered_statistics=[OrderedStatistic(items_base=frozenset({'MaritalStatus:Single', 'OverTime:No'}), items_add=frozenset({'StockOptionLevel:0'}), confidence=1.0, lift=2.327447833065811)]),\n",
       " RelationRecord(items=frozenset({'YearsInCurrentRoleGroup:bad', 'YearsAtCompanyGroup:bad', 'OverTime:No'}), support=0.22206896551724137, ordered_statistics=[OrderedStatistic(items_base=frozenset({'YearsAtCompanyGroup:bad', 'OverTime:No'}), items_add=frozenset({'YearsInCurrentRoleGroup:bad'}), confidence=1.0, lift=2.183734939759036)]),\n",
       " RelationRecord(items=frozenset({'YearsAtCompanyGroup:bad', 'OverTime:No', 'YearsWithCurrManagerGroup:bad'}), support=0.22206896551724137, ordered_statistics=[OrderedStatistic(items_base=frozenset({'YearsAtCompanyGroup:bad', 'OverTime:No'}), items_add=frozenset({'YearsWithCurrManagerGroup:bad'}), confidence=1.0, lift=2.1386430678466075)]),\n",
       " RelationRecord(items=frozenset({'YearsInCurrentRoleGroup:bad', 'YearsAtCompanyGroup:bad', 'YearsWithCurrManagerGroup:bad'}), support=0.3213793103448276, ordered_statistics=[OrderedStatistic(items_base=frozenset({'YearsInCurrentRoleGroup:bad', 'YearsAtCompanyGroup:bad'}), items_add=frozenset({'YearsWithCurrManagerGroup:bad'}), confidence=1.0, lift=2.1386430678466075), OrderedStatistic(items_base=frozenset({'YearsAtCompanyGroup:bad', 'YearsWithCurrManagerGroup:bad'}), items_add=frozenset({'YearsInCurrentRoleGroup:bad'}), confidence=1.0, lift=2.183734939759036), OrderedStatistic(items_base=frozenset({'YearsInCurrentRoleGroup:bad', 'YearsWithCurrManagerGroup:bad'}), items_add=frozenset({'YearsAtCompanyGroup:bad'}), confidence=0.879245283018868, lift=2.7358490566037736)]),\n",
       " RelationRecord(items=frozenset({'YearsInCurrentRoleGroup:bad', 'YearsAtCompanyGroup:bad', 'BusinessTravel:Travel_Rarely', 'YearsWithCurrManagerGroup:bad'}), support=0.23103448275862068, ordered_statistics=[OrderedStatistic(items_base=frozenset({'YearsInCurrentRoleGroup:bad', 'YearsAtCompanyGroup:bad', 'BusinessTravel:Travel_Rarely'}), items_add=frozenset({'YearsWithCurrManagerGroup:bad'}), confidence=1.0, lift=2.1386430678466075), OrderedStatistic(items_base=frozenset({'YearsAtCompanyGroup:bad', 'BusinessTravel:Travel_Rarely', 'YearsWithCurrManagerGroup:bad'}), items_add=frozenset({'YearsInCurrentRoleGroup:bad'}), confidence=1.0, lift=2.183734939759036), OrderedStatistic(items_base=frozenset({'YearsInCurrentRoleGroup:bad', 'BusinessTravel:Travel_Rarely', 'YearsWithCurrManagerGroup:bad'}), items_add=frozenset({'YearsAtCompanyGroup:bad'}), confidence=0.8815789473684209, lift=2.7431104585498076)]),\n",
       " RelationRecord(items=frozenset({'Department:Research & Development', 'YearsInCurrentRoleGroup:bad', 'YearsAtCompanyGroup:bad', 'YearsWithCurrManagerGroup:bad'}), support=0.21172413793103448, ordered_statistics=[OrderedStatistic(items_base=frozenset({'Department:Research & Development', 'YearsInCurrentRoleGroup:bad', 'YearsAtCompanyGroup:bad'}), items_add=frozenset({'YearsWithCurrManagerGroup:bad'}), confidence=1.0, lift=2.1386430678466075), OrderedStatistic(items_base=frozenset({'Department:Research & Development', 'YearsAtCompanyGroup:bad', 'YearsWithCurrManagerGroup:bad'}), items_add=frozenset({'YearsInCurrentRoleGroup:bad'}), confidence=1.0, lift=2.183734939759036), OrderedStatistic(items_base=frozenset({'Department:Research & Development', 'YearsInCurrentRoleGroup:bad', 'YearsWithCurrManagerGroup:bad'}), items_add=frozenset({'YearsAtCompanyGroup:bad'}), confidence=0.8696883852691218, lift=2.7061119284125037)]),\n",
       " RelationRecord(items=frozenset({'YearsInCurrentRoleGroup:bad', 'YearsAtCompanyGroup:bad', 'OverTime:No', 'YearsWithCurrManagerGroup:bad'}), support=0.22206896551724137, ordered_statistics=[OrderedStatistic(items_base=frozenset({'YearsInCurrentRoleGroup:bad', 'YearsAtCompanyGroup:bad', 'OverTime:No'}), items_add=frozenset({'YearsWithCurrManagerGroup:bad'}), confidence=1.0, lift=2.1386430678466075), OrderedStatistic(items_base=frozenset({'YearsAtCompanyGroup:bad', 'OverTime:No', 'YearsWithCurrManagerGroup:bad'}), items_add=frozenset({'YearsInCurrentRoleGroup:bad'}), confidence=1.0, lift=2.183734939759036), OrderedStatistic(items_base=frozenset({'YearsInCurrentRoleGroup:bad', 'OverTime:No', 'YearsWithCurrManagerGroup:bad'}), items_add=frozenset({'YearsAtCompanyGroup:bad'}), confidence=0.8749999999999999, lift=2.7226394849785405)])]"
      ]
     },
     "execution_count": 22,
     "metadata": {},
     "output_type": "execute_result"
    }
   ],
   "source": [
    "from apyori import apriori\n",
    "features_cat = HR_transform.select_dtypes(pd.Categorical)\n",
    "data = []\n",
    "for i in range(features_cat.shape[0]):\n",
    "    row = []\n",
    "    for j in range(features_cat.shape[1]):\n",
    "        row.append(features_cat.columns[j]+':'+ str(features_cat.iloc[i,j]))\n",
    "    data.append(row)\n",
    "results = list(apriori(data,min_support = 0.2, min_lift=2,min_confidence =.8))\n",
    "\n",
    "results"
   ]
  },
  {
   "cell_type": "code",
   "execution_count": 23,
   "metadata": {
    "scrolled": true
   },
   "outputs": [
    {
     "data": {
      "text/html": [
       "<div>\n",
       "<style scoped>\n",
       "    .dataframe tbody tr th:only-of-type {\n",
       "        vertical-align: middle;\n",
       "    }\n",
       "\n",
       "    .dataframe tbody tr th {\n",
       "        vertical-align: top;\n",
       "    }\n",
       "\n",
       "    .dataframe thead th {\n",
       "        text-align: right;\n",
       "    }\n",
       "</style>\n",
       "<table border=\"1\" class=\"dataframe\">\n",
       "  <thead>\n",
       "    <tr style=\"text-align: right;\">\n",
       "      <th></th>\n",
       "      <th>Attrition</th>\n",
       "      <th>BusinessTravel</th>\n",
       "      <th>Department</th>\n",
       "      <th>Education</th>\n",
       "      <th>EducationField</th>\n",
       "      <th>Gender</th>\n",
       "      <th>JobInvolvement</th>\n",
       "      <th>JobLevel</th>\n",
       "      <th>JobRole</th>\n",
       "      <th>MaritalStatus</th>\n",
       "      <th>...</th>\n",
       "      <th>IncomeCompareAvgGroup</th>\n",
       "      <th>TotalWorkingYearsGroup</th>\n",
       "      <th>PercentSalaryHikeGroup</th>\n",
       "      <th>YearsInCurrentRoleGroup</th>\n",
       "      <th>WorkBeginAgeGroup</th>\n",
       "      <th>YearsWithCurrManagerGroup</th>\n",
       "      <th>NumCompaniesWorkedGroup</th>\n",
       "      <th>YearsAtCompanyGroup</th>\n",
       "      <th>IncomeRiseEachYearGroup</th>\n",
       "      <th>WorkingYearsPctGroup</th>\n",
       "    </tr>\n",
       "  </thead>\n",
       "  <tbody>\n",
       "    <tr>\n",
       "      <th>0</th>\n",
       "      <td>0</td>\n",
       "      <td>Travel_Rarely</td>\n",
       "      <td>Research &amp; Development</td>\n",
       "      <td>4</td>\n",
       "      <td>Life Sciences</td>\n",
       "      <td>Male</td>\n",
       "      <td>2</td>\n",
       "      <td>2</td>\n",
       "      <td>Manufacturing Director</td>\n",
       "      <td>Divorced</td>\n",
       "      <td>...</td>\n",
       "      <td>good</td>\n",
       "      <td>soso</td>\n",
       "      <td>good</td>\n",
       "      <td>good</td>\n",
       "      <td>good</td>\n",
       "      <td>good</td>\n",
       "      <td>bad</td>\n",
       "      <td>good</td>\n",
       "      <td>awesome</td>\n",
       "      <td>awesome</td>\n",
       "    </tr>\n",
       "    <tr>\n",
       "      <th>1</th>\n",
       "      <td>0</td>\n",
       "      <td>Travel_Frequently</td>\n",
       "      <td>Research &amp; Development</td>\n",
       "      <td>4</td>\n",
       "      <td>Life Sciences</td>\n",
       "      <td>Female</td>\n",
       "      <td>3</td>\n",
       "      <td>3</td>\n",
       "      <td>Manufacturing Director</td>\n",
       "      <td>Divorced</td>\n",
       "      <td>...</td>\n",
       "      <td>awesome</td>\n",
       "      <td>awesome</td>\n",
       "      <td>good</td>\n",
       "      <td>good</td>\n",
       "      <td>soso</td>\n",
       "      <td>good</td>\n",
       "      <td>awesome</td>\n",
       "      <td>soso</td>\n",
       "      <td>bad</td>\n",
       "      <td>bad</td>\n",
       "    </tr>\n",
       "    <tr>\n",
       "      <th>2</th>\n",
       "      <td>1</td>\n",
       "      <td>Travel_Frequently</td>\n",
       "      <td>Research &amp; Development</td>\n",
       "      <td>3</td>\n",
       "      <td>Life Sciences</td>\n",
       "      <td>Male</td>\n",
       "      <td>1</td>\n",
       "      <td>2</td>\n",
       "      <td>Laboratory Technician</td>\n",
       "      <td>Single</td>\n",
       "      <td>...</td>\n",
       "      <td>awesome</td>\n",
       "      <td>soso</td>\n",
       "      <td>awesome</td>\n",
       "      <td>good</td>\n",
       "      <td>good</td>\n",
       "      <td>good</td>\n",
       "      <td>bad</td>\n",
       "      <td>good</td>\n",
       "      <td>good</td>\n",
       "      <td>awesome</td>\n",
       "    </tr>\n",
       "    <tr>\n",
       "      <th>3</th>\n",
       "      <td>0</td>\n",
       "      <td>Travel_Rarely</td>\n",
       "      <td>Research &amp; Development</td>\n",
       "      <td>1</td>\n",
       "      <td>Life Sciences</td>\n",
       "      <td>Female</td>\n",
       "      <td>2</td>\n",
       "      <td>4</td>\n",
       "      <td>Manufacturing Director</td>\n",
       "      <td>Married</td>\n",
       "      <td>...</td>\n",
       "      <td>soso</td>\n",
       "      <td>awesome</td>\n",
       "      <td>good</td>\n",
       "      <td>good</td>\n",
       "      <td>bad</td>\n",
       "      <td>awesome</td>\n",
       "      <td>bad</td>\n",
       "      <td>awesome</td>\n",
       "      <td>good</td>\n",
       "      <td>awesome</td>\n",
       "    </tr>\n",
       "    <tr>\n",
       "      <th>4</th>\n",
       "      <td>1</td>\n",
       "      <td>Travel_Frequently</td>\n",
       "      <td>Research &amp; Development</td>\n",
       "      <td>3</td>\n",
       "      <td>Medical</td>\n",
       "      <td>Male</td>\n",
       "      <td>2</td>\n",
       "      <td>1</td>\n",
       "      <td>Laboratory Technician</td>\n",
       "      <td>Divorced</td>\n",
       "      <td>...</td>\n",
       "      <td>soso</td>\n",
       "      <td>bad</td>\n",
       "      <td>good</td>\n",
       "      <td>bad</td>\n",
       "      <td>good</td>\n",
       "      <td>bad</td>\n",
       "      <td>bad</td>\n",
       "      <td>bad</td>\n",
       "      <td>awesome</td>\n",
       "      <td>soso</td>\n",
       "    </tr>\n",
       "  </tbody>\n",
       "</table>\n",
       "<p>5 rows × 33 columns</p>\n",
       "</div>"
      ],
      "text/plain": [
       "  Attrition     BusinessTravel              Department Education  \\\n",
       "0         0      Travel_Rarely  Research & Development         4   \n",
       "1         0  Travel_Frequently  Research & Development         4   \n",
       "2         1  Travel_Frequently  Research & Development         3   \n",
       "3         0      Travel_Rarely  Research & Development         1   \n",
       "4         1  Travel_Frequently  Research & Development         3   \n",
       "\n",
       "  EducationField  Gender  JobInvolvement JobLevel                 JobRole  \\\n",
       "0  Life Sciences    Male               2        2  Manufacturing Director   \n",
       "1  Life Sciences  Female               3        3  Manufacturing Director   \n",
       "2  Life Sciences    Male               1        2   Laboratory Technician   \n",
       "3  Life Sciences  Female               2        4  Manufacturing Director   \n",
       "4        Medical    Male               2        1   Laboratory Technician   \n",
       "\n",
       "  MaritalStatus          ...          IncomeCompareAvgGroup  \\\n",
       "0      Divorced          ...                           good   \n",
       "1      Divorced          ...                        awesome   \n",
       "2        Single          ...                        awesome   \n",
       "3       Married          ...                           soso   \n",
       "4      Divorced          ...                           soso   \n",
       "\n",
       "  TotalWorkingYearsGroup  PercentSalaryHikeGroup  YearsInCurrentRoleGroup  \\\n",
       "0                   soso                    good                     good   \n",
       "1                awesome                    good                     good   \n",
       "2                   soso                 awesome                     good   \n",
       "3                awesome                    good                     good   \n",
       "4                    bad                    good                      bad   \n",
       "\n",
       "  WorkBeginAgeGroup YearsWithCurrManagerGroup  NumCompaniesWorkedGroup  \\\n",
       "0              good                      good                      bad   \n",
       "1              soso                      good                  awesome   \n",
       "2              good                      good                      bad   \n",
       "3               bad                   awesome                      bad   \n",
       "4              good                       bad                      bad   \n",
       "\n",
       "   YearsAtCompanyGroup  IncomeRiseEachYearGroup  WorkingYearsPctGroup  \n",
       "0                 good                  awesome               awesome  \n",
       "1                 soso                      bad                   bad  \n",
       "2                 good                     good               awesome  \n",
       "3              awesome                     good               awesome  \n",
       "4                  bad                  awesome                  soso  \n",
       "\n",
       "[5 rows x 33 columns]"
      ]
     },
     "execution_count": 23,
     "metadata": {},
     "output_type": "execute_result"
    }
   ],
   "source": [
    "HR_transform.head()"
   ]
  },
  {
   "cell_type": "markdown",
   "metadata": {},
   "source": [
    "remove feature that are highly correlated"
   ]
  },
  {
   "cell_type": "markdown",
   "metadata": {
    "collapsed": true
   },
   "source": [
    "## Variable Transformations"
   ]
  },
  {
   "cell_type": "code",
   "execution_count": 24,
   "metadata": {
    "scrolled": true
   },
   "outputs": [
    {
     "data": {
      "text/plain": [
       "Index(['Age', 'DistanceFromHome', 'EnvironmentSatisfaction', 'Gender',\n",
       "       'JobInvolvement', 'JobSatisfaction', 'MonthlyIncome',\n",
       "       'NumCompaniesWorked', 'OverTime', 'PercentSalaryHike',\n",
       "       ...\n",
       "       'YearsAtCompanyGroup_good', 'YearsAtCompanyGroup_awesome',\n",
       "       'IncomeRiseEachYearGroup_bad', 'IncomeRiseEachYearGroup_soso',\n",
       "       'IncomeRiseEachYearGroup_good', 'IncomeRiseEachYearGroup_awesome',\n",
       "       'WorkingYearsPctGroup_bad', 'WorkingYearsPctGroup_soso',\n",
       "       'WorkingYearsPctGroup_good', 'WorkingYearsPctGroup_awesome'],\n",
       "      dtype='object', length=120)"
      ]
     },
     "execution_count": 24,
     "metadata": {},
     "output_type": "execute_result"
    }
   ],
   "source": [
    "\n",
    "X_trainset = HR_emp_att.drop(['Attrition'], axis=1).copy()[:train_size]\n",
    "y_trainset = HR_emp_att.Attrition[:train_size]\n",
    "X_test = HR_emp_att.drop(['Attrition'], axis=1).copy()[train_size:]\n",
    "y_test = HR_emp_att.Attrition[train_size:]\n",
    "\n",
    "from sklearn.feature_extraction import DictVectorizer\n",
    "\n",
    "def factorize_dataframe(data,cols):\n",
    "    for col in cols:\n",
    "        if data[col].dropna().drop_duplicates().shape[0]>2:\n",
    "            df_dummy = pd.get_dummies(data[col],prefix=col) # factorize return 2 elements array, values and category index\n",
    "            data = pd.concat([data,df_dummy],axis=1)\n",
    "            data=data.drop(col,axis=1)\n",
    "        else:\n",
    "            data[col] = pd.factorize(data[col])[0]\n",
    "    return data\n",
    "\n",
    "cat_vars = X_trainset.dtypes.index[X_trainset.dtypes=='category']\n",
    "X_trainset = factorize_dataframe(X_trainset, cat_vars)\n",
    "X_test =  factorize_dataframe(X_test, cat_vars)\n",
    "X_trainset.columns"
   ]
  },
  {
   "cell_type": "markdown",
   "metadata": {},
   "source": [
    "## classification model selection + feature selection\n",
    "- RandomForecast\n",
    "- adaboost\n",
    "- SVM"
   ]
  },
  {
   "cell_type": "code",
   "execution_count": 137,
   "metadata": {},
   "outputs": [
    {
     "name": "stdout",
     "output_type": "stream",
     "text": [
      "LogisticRegression(C=3, class_weight=None, dual=False, fit_intercept=True,\n",
      "          intercept_scaling=1, max_iter=100, multi_class='ovr', n_jobs=1,\n",
      "          penalty='l2', random_state=17, solver='liblinear', tol=0.0001,\n",
      "          verbose=0, warm_start=True)\n",
      "<xgboostwrapper.XGBoostClassifier object at 0x0000000014BA6A20>\n"
     ]
    },
    {
     "data": {
      "text/html": [
       "<div>\n",
       "<style scoped>\n",
       "    .dataframe tbody tr th:only-of-type {\n",
       "        vertical-align: middle;\n",
       "    }\n",
       "\n",
       "    .dataframe tbody tr th {\n",
       "        vertical-align: top;\n",
       "    }\n",
       "\n",
       "    .dataframe thead th {\n",
       "        text-align: right;\n",
       "    }\n",
       "</style>\n",
       "<table border=\"1\" class=\"dataframe\">\n",
       "  <thead>\n",
       "    <tr style=\"text-align: right;\">\n",
       "      <th></th>\n",
       "      <th>LogisticRegression</th>\n",
       "      <th>XGBoostClassifier</th>\n",
       "    </tr>\n",
       "  </thead>\n",
       "  <tbody>\n",
       "    <tr>\n",
       "      <th>mean</th>\n",
       "      <td>0.865447</td>\n",
       "      <td>0.853628</td>\n",
       "    </tr>\n",
       "    <tr>\n",
       "      <th>std</th>\n",
       "      <td>0.009387</td>\n",
       "      <td>0.009402</td>\n",
       "    </tr>\n",
       "  </tbody>\n",
       "</table>\n",
       "</div>"
      ],
      "text/plain": [
       "      LogisticRegression  XGBoostClassifier\n",
       "mean            0.865447           0.853628\n",
       "std             0.009387           0.009402"
      ]
     },
     "execution_count": 137,
     "metadata": {},
     "output_type": "execute_result"
    }
   ],
   "source": [
    "# select model\n",
    "from sklearn.model_selection import train_test_split   # cross_validation\n",
    "from sklearn.model_selection import RandomizedSearchCV,GridSearchCV, StratifiedKFold\n",
    "from sklearn.linear_model import LogisticRegression\n",
    "from sklearn.ensemble import RandomForestClassifier, ExtraTreesClassifier, GradientBoostingClassifier\n",
    "from sklearn.metrics import accuracy_score, f1_score, make_scorer\n",
    "from sklearn.preprocessing import MinMaxScaler, StandardScaler, RobustScaler\n",
    "from sklearn.feature_selection import RFECV,SelectKBest, RFE\n",
    "from sklearn.svm import SVC\n",
    "from sklearn.naive_bayes import MultinomialNB  \n",
    "from sklearn.gaussian_process import GaussianProcessClassifier\n",
    "from sklearn.mixture import GaussianMixture\n",
    "\n",
    "from sklearn.metrics import roc_curve,confusion_matrix\n",
    "from sklearn.metrics import roc_auc_score  \n",
    "from sklearn.metrics import classification_report \n",
    "from sklearn.pipeline import make_pipeline, Pipeline, FeatureUnion\n",
    "from sklearn.model_selection import StratifiedKFold, cross_val_score\n",
    "\n",
    "\n",
    "from sklearn.decomposition import PCA\n",
    "from tempfile import mkdtemp\n",
    "from shutil import rmtree\n",
    "from sklearn.kernel_ridge import KernelRidge\n",
    "from sklearn.ensemble import  AdaBoostClassifier, GradientBoostingClassifier\n",
    "from xgboostwrapper import XGBoostClassifier\n",
    "# resample train dataset\n",
    "from imblearn.over_sampling import RandomOverSampler, SMOTE\n",
    "from imblearn.combine import SMOTETomek\n",
    "from imblearn import pipeline as pl\n",
    "\n",
    "\n",
    "X_train, X_val, y_train, y_val = train_test_split(X_trainset,y_trainset ,shuffle=True,test_size=0.2)\n",
    "# X_train = X_train.reset_index()\n",
    "# y_train = y_train.reset_index()\n",
    "\n",
    "smt = SMOTE(random_state=44, kind = 'borderline2')\n",
    "\n",
    "# parameter_space = {  \n",
    "#     \"clf__n_estimators\": [10, 15, 20],  \n",
    "# #     \"clf__criterion\": [\"gini\", \"entropy\"],  \n",
    "#     \"clf__min_samples_leaf\": [2, 4, 6], \n",
    "#     \"clf__max_depth\" : [2,3,4],\n",
    "#      \"clf__min_samples_split\" : [5,10,15]\n",
    "# }  \n",
    "#  Create a logistic regression estimator \n",
    "\n",
    "rfc_model = RandomForestClassifier(warm_start=False, class_weight='balanced',max_features = 'log2',max_depth=4)\n",
    "lrc_model = LogisticRegression(penalty='l2',C=3,warm_start=True,random_state=17)\n",
    "xgb_model = XGBoostClassifier(\n",
    "        weight = [5,1],\n",
    "        eval_metric = 'auc',\n",
    "        num_class = 2,\n",
    "        nthread = 4,\n",
    "        silent = 1,\n",
    "        )\n",
    "adb_model =AdaBoostClassifier(n_estimators=100, learning_rate=.05)\n",
    "gmx_model = GaussianMixture()\n",
    "\n",
    "\n",
    "# Use RFECV to pick best features, using Stratified Kfold\n",
    "rfecv =   RFECV(estimator=lrc_model,step=2, scoring='accuracy',n_jobs=4, verbose=1)\n",
    "rfe = RFE(rfc_model, n_features_to_select=12)\n",
    "# This dataset is way too high-dimensional. Better do PCA:\n",
    "pca = PCA(n_components=2)\n",
    "\n",
    "# Build estimator from PCA and Univariate selection:\n",
    "\n",
    "combined_features = FeatureUnion([(\"pca\", pca)]) #,(\"univ_select\", selection),\n",
    "\n",
    "mdsel_out = {}\n",
    "for md in [ lrc_model,xgb_model  ]: #adb_model, gmx_model,rfc_model,\n",
    "    md_name = str(md.__class__).split('.')[-1][:-2]\n",
    "    print(md)\n",
    "    pipe = pl.Pipeline([('scale',StandardScaler()),('rfe',rfe),('clf',md)])\n",
    "    scores = cross_val_score(pipe, X_trainset, y_trainset,scoring= 'accuracy', n_jobs=4, cv =3)\n",
    "    \n",
    "    mdsel_out[md_name]= [np.mean(scores), np.std(scores)]\n",
    "pd.DataFrame(mdsel_out, index=['mean','std'])"
   ]
  },
  {
   "cell_type": "code",
   "execution_count": 126,
   "metadata": {
    "scrolled": false
   },
   "outputs": [
    {
     "name": "stdout",
     "output_type": "stream",
     "text": [
      "Fitting 3 folds for each of 4 candidates, totalling 12 fits\n"
     ]
    },
    {
     "name": "stderr",
     "output_type": "stream",
     "text": [
      "[Parallel(n_jobs=4)]: Done  12 out of  12 | elapsed:    8.2s finished\n"
     ]
    },
    {
     "name": "stdout",
     "output_type": "stream",
     "text": [
      "Best score: 0.435\n",
      "best param: {'rfe__n_features_to_select': 16}\n"
     ]
    }
   ],
   "source": [
    "\n",
    "\n",
    "# Define a range of hyper parameters for grid search\n",
    "C_range = list(np.linspace(.5,1,5))\n",
    "\n",
    "# xgb_parameters = {\n",
    "#         'clf__num_boost_round': [100, 250, 500],\n",
    "#         'clf__eta': [0.05, 0.1, 0.3],\n",
    "#         'clf__max_depth': [6, 9, 12],\n",
    "#         'clf__subsample': [0.9, 1.0],\n",
    "#         'clf__colsample_bytree': [0.9, 1.0],\n",
    "#     }    \n",
    "\n",
    "parameter_space = dict( #features__rfecv__estimator__penalty = penalty_options,\n",
    "                #    features__rfecv__estimator__C=[1,0.5,0.1],\n",
    "                  #features__pca__n_components=[2],\n",
    "                  #features__univ_select__k=[1,2,5,10],\n",
    "#                   clf__learning_rate=(1, 0.1, 0.01),\n",
    "#                     clf__C=(10,1, 0.1),\n",
    "#                   clf__solver = ['newton-cg', 'linear', 'saga' ],\n",
    "#                   clf__max_iter = [100, 200, 500],\n",
    "#                     clf__max_features = ['sqrt','log2'],\n",
    "#                     clf__min_samples_split = [3,5],\n",
    "#                     resample__kind = ['regular', 'borderline1', 'borderline2'],\n",
    "#                     clf__random_state = np.random.randint(1,100,3)\n",
    "                        rfe__n_features_to_select=[5,8,11,16]\n",
    "                    )\n",
    "# parameter_space.update(xgb_parameters)\n",
    "                  \n",
    "pipe = pl.Pipeline([('scale',StandardScaler()),('rfe',rfe),('clf',lrc_model)])\n",
    "grid_search = GridSearchCV(pipe , parameter_space,cv= StratifiedKFold(n_splits=3), n_jobs=4,verbose=1,scoring='f1')\n",
    "grid_search.fit(X_trainset,y_trainset)\n",
    "print(\"Best score: %0.3f\" % grid_search.best_score_)\n",
    "\n",
    "print('best param:', grid_search.best_params_)"
   ]
  },
  {
   "cell_type": "code",
   "execution_count": 127,
   "metadata": {},
   "outputs": [
    {
     "name": "stdout",
     "output_type": "stream",
     "text": [
      "random forecast - f1:0.431373\n",
      "             precision    recall  f1-score   support\n",
      "\n",
      "          0       0.89      0.97      0.93       186\n",
      "          1       0.65      0.32      0.43        34\n",
      "\n",
      "avg / total       0.85      0.87      0.85       220\n",
      "\n"
     ]
    }
   ],
   "source": [
    "y_hat = grid_search.predict(X_val)\n",
    "print('random forecast - f1:%f'% f1_score(y_val, y_hat))\n",
    "# X_train.columns[(rfc_model.feature_importances_>.01).ravel()]\n",
    "print(classification_report(y_val, y_hat))"
   ]
  },
  {
   "cell_type": "code",
   "execution_count": 134,
   "metadata": {},
   "outputs": [
    {
     "name": "stdout",
     "output_type": "stream",
     "text": [
      "Pipeline(memory=None,\n",
      "     steps=[('scale', StandardScaler(copy=True, with_mean=True, with_std=True)), ('rfe', RFE(estimator=LogisticRegression(C=3, class_weight=None, dual=False, fit_intercept=True,\n",
      "          intercept_scaling=1, max_iter=100, multi_class='ovr', n_jobs=1,\n",
      "          penalty='l2', random_state=17, solver='libl...nalty='l2', random_state=17, solver='liblinear', tol=0.0001,\n",
      "          verbose=0, warm_start=True))])\n"
     ]
    },
    {
     "data": {
      "image/png": "[encoded data removed]",
      "text/plain": [
       "<matplotlib.figure.Figure at 0x11423e80>"
      ]
     },
     "metadata": {},
     "output_type": "display_data"
    },
    {
     "data": {
      "text/plain": [
       "array([[180,   6],\n",
       "       [ 23,  11]], dtype=int64)"
      ]
     },
     "execution_count": 134,
     "metadata": {},
     "output_type": "execute_result"
    }
   ],
   "source": [
    "bclf = grid_search.best_estimator_  \n",
    "print(bclf)\n",
    "y_pred = bclf.predict(X_val)\n",
    "y_pred_pro = bclf.predict_proba(X_val)  \n",
    "y_scores = pd.DataFrame(y_pred_pro)[1].values  \n",
    "auc_value = roc_auc_score(y_val, y_scores)  \n",
    "#绘制ROC曲线  \n",
    "fpr, tpr, thresholds = roc_curve(y_val, y_scores, pos_label=1.0)  \n",
    "plt.figure()  \n",
    "lw = 2  \n",
    "plt.plot(fpr, tpr, color='darkorange', linewidth=lw, label='ROC curve (area = %0.4f)' % auc_value)  \n",
    "plt.plot([0, 1], [0, 1], color='navy', linewidth=lw, linestyle='--')  \n",
    "plt.xlim([0.0, 1.0])  \n",
    "plt.ylim([0.0, 1.05])  \n",
    "plt.xlabel('False Positive Rate') \n",
    "plt.ylabel('True Positive Rate')  \n",
    "plt.title('Receiver operating characteristic example')  \n",
    "plt.legend(loc=\"lower right\")  \n",
    "plt.show()\n",
    "confusion_matrix(y_val, y_pred)\n",
    "\n"
   ]
  },
  {
   "cell_type": "code",
   "execution_count": 135,
   "metadata": {},
   "outputs": [
    {
     "name": "stdout",
     "output_type": "stream",
     "text": [
      "[(315, <itertools._grouper object at 0x0000000011449400>), (35, <itertools._grouper object at 0x0000000011449080>)]\n"
     ]
    }
   ],
   "source": [
    "\n",
    "y_pred = bclf.predict(X_test)\n",
    "import itertools as it\n",
    "print(list(it.groupby([0,1], lambda x: np.sum(y_pred==x))))\n",
    "\n",
    "y_pred = y_pred.reshape([-1,1])\n",
    "\n",
    "np.savetxt('data/test_result.csv',y_pred,fmt='%s',header='result')"
   ]
  },
  {
   "cell_type": "markdown",
   "metadata": {},
   "source": [
    "## fit model using auto_ml"
   ]
  },
  {
   "cell_type": "code",
   "execution_count": 147,
   "metadata": {
    "scrolled": false
   },
   "outputs": [
    {
     "name": "stdout",
     "output_type": "stream",
     "text": [
      "Welcome to auto_ml! We're about to go through and make sense of your data using machine learning, and give you a production-ready pipeline to get predictions with.\n",
      "\n",
      "If you have any issues, or new feature ideas, let us know at http://auto.ml\n",
      "You are running on version 2.9.10\n",
      "Now using the model training_params that you passed in:\n",
      "{}\n",
      "After overwriting our defaults with your values, here are the final params that will be used to initialize the model:\n",
      "{}\n",
      "Running basic data cleaning\n",
      "could not convert string to float: 'young'\n",
      "could not convert string to float: 'adult'\n",
      "could not convert string to float: 'adult'\n",
      "could not convert string to float: 'middle'\n",
      "could not convert string to float: 'middle'\n",
      "could not convert string to float: 'adult'\n",
      "could not convert string to float: 'adult'\n",
      "could not convert string to float: 'young'\n",
      "could not convert string to float: 'adult'\n",
      "could not convert string to float: 'old'\n",
      "\n",
      "\n",
      "Encountered a column that is not marked as categorical, but is an \"object\" pandas type, which typically indicates a categorical column.\n",
      "The name of this columns is: \"AgeGroup\"\n",
      "Some example features in this column are: ['young', 'middle', 'middle', 'middle', 'middle']\n",
      "If this is a categorical column, please mark it as `AgeGroup: \"categorical\"` as part of your column_descriptions\n",
      "If this is not a categorical column, please consider converting its dtype before passing data into auto_ml\n",
      "\n",
      "\n",
      "could not convert string to float: 'good'\n",
      "could not convert string to float: 'good'\n",
      "could not convert string to float: 'bad'\n",
      "could not convert string to float: 'awesome'\n",
      "could not convert string to float: 'good'\n",
      "could not convert string to float: 'soso'\n",
      "could not convert string to float: 'soso'\n",
      "could not convert string to float: 'soso'\n",
      "could not convert string to float: 'good'\n",
      "could not convert string to float: 'soso'\n",
      "\n",
      "\n",
      "Encountered a column that is not marked as categorical, but is an \"object\" pandas type, which typically indicates a categorical column.\n",
      "The name of this columns is: \"DistanceFromHomeGroup\"\n",
      "Some example features in this column are: ['awesome', 'good', 'soso', 'awesome', 'awesome']\n",
      "If this is a categorical column, please mark it as `DistanceFromHomeGroup: \"categorical\"` as part of your column_descriptions\n",
      "If this is not a categorical column, please consider converting its dtype before passing data into auto_ml\n",
      "\n",
      "\n",
      "could not convert string to float: 'soso'\n",
      "could not convert string to float: 'good'\n",
      "could not convert string to float: 'awesome'\n",
      "could not convert string to float: 'bad'\n",
      "could not convert string to float: 'good'\n",
      "could not convert string to float: 'soso'\n",
      "could not convert string to float: 'soso'\n",
      "could not convert string to float: 'awesome'\n",
      "could not convert string to float: 'soso'\n",
      "could not convert string to float: 'awesome'\n",
      "\n",
      "\n",
      "Encountered a column that is not marked as categorical, but is an \"object\" pandas type, which typically indicates a categorical column.\n",
      "The name of this columns is: \"IncomeCompareAvgGroup\"\n",
      "Some example features in this column are: ['bad', 'soso', 'awesome', 'bad', 'good']\n",
      "If this is a categorical column, please mark it as `IncomeCompareAvgGroup: \"categorical\"` as part of your column_descriptions\n",
      "If this is not a categorical column, please consider converting its dtype before passing data into auto_ml\n",
      "\n",
      "\n",
      "could not convert string to float: 'soso'\n",
      "could not convert string to float: 'soso'\n",
      "could not convert string to float: 'soso'\n",
      "could not convert string to float: 'bad'\n",
      "could not convert string to float: 'bad'\n",
      "could not convert string to float: 'bad'\n",
      "could not convert string to float: 'soso'\n",
      "could not convert string to float: 'good'\n",
      "could not convert string to float: 'bad'\n",
      "could not convert string to float: 'awesome'\n",
      "\n",
      "\n",
      "Encountered a column that is not marked as categorical, but is an \"object\" pandas type, which typically indicates a categorical column.\n",
      "The name of this columns is: \"TotalWorkingYearsGroup\"\n",
      "Some example features in this column are: ['soso', 'awesome', 'good', 'soso', 'awesome']\n",
      "If this is a categorical column, please mark it as `TotalWorkingYearsGroup: \"categorical\"` as part of your column_descriptions\n",
      "If this is not a categorical column, please consider converting its dtype before passing data into auto_ml\n",
      "\n",
      "\n",
      "could not convert string to float: 'soso'\n",
      "could not convert string to float: 'bad'\n",
      "could not convert string to float: 'good'\n",
      "could not convert string to float: 'bad'\n",
      "could not convert string to float: 'soso'\n",
      "could not convert string to float: 'soso'\n",
      "could not convert string to float: 'good'\n",
      "could not convert string to float: 'awesome'\n",
      "could not convert string to float: 'bad'\n",
      "could not convert string to float: 'awesome'\n",
      "\n",
      "\n",
      "Encountered a column that is not marked as categorical, but is an \"object\" pandas type, which typically indicates a categorical column.\n",
      "The name of this columns is: \"PercentSalaryHikeGroup\"\n",
      "Some example features in this column are: ['good', 'soso', 'bad', 'good', 'bad']\n",
      "If this is a categorical column, please mark it as `PercentSalaryHikeGroup: \"categorical\"` as part of your column_descriptions\n",
      "If this is not a categorical column, please consider converting its dtype before passing data into auto_ml\n",
      "\n",
      "\n",
      "could not convert string to float: 'awesome'\n",
      "could not convert string to float: 'bad'\n",
      "could not convert string to float: 'good'\n",
      "could not convert string to float: 'awesome'\n",
      "could not convert string to float: 'awesome'\n",
      "could not convert string to float: 'good'\n",
      "could not convert string to float: 'bad'\n",
      "could not convert string to float: 'bad'\n",
      "could not convert string to float: 'bad'\n",
      "could not convert string to float: 'bad'\n",
      "\n",
      "\n",
      "Encountered a column that is not marked as categorical, but is an \"object\" pandas type, which typically indicates a categorical column.\n",
      "The name of this columns is: \"YearsInCurrentRoleGroup\"\n",
      "Some example features in this column are: ['awesome', 'good', 'awesome', 'soso', 'good']\n",
      "If this is a categorical column, please mark it as `YearsInCurrentRoleGroup: \"categorical\"` as part of your column_descriptions\n",
      "If this is not a categorical column, please consider converting its dtype before passing data into auto_ml\n",
      "\n",
      "\n",
      "could not convert string to float: 'good'\n",
      "could not convert string to float: 'good'\n",
      "could not convert string to float: 'soso'\n",
      "could not convert string to float: 'good'\n",
      "could not convert string to float: 'bad'\n",
      "could not convert string to float: 'awesome'\n",
      "could not convert string to float: 'bad'\n",
      "could not convert string to float: 'bad'\n",
      "could not convert string to float: 'awesome'\n",
      "could not convert string to float: 'bad'\n",
      "\n",
      "\n",
      "Encountered a column that is not marked as categorical, but is an \"object\" pandas type, which typically indicates a categorical column.\n",
      "The name of this columns is: \"WorkBeginAgeGroup\"\n",
      "Some example features in this column are: ['good', 'bad', 'soso', 'bad', 'good']\n",
      "If this is a categorical column, please mark it as `WorkBeginAgeGroup: \"categorical\"` as part of your column_descriptions\n",
      "If this is not a categorical column, please consider converting its dtype before passing data into auto_ml\n",
      "\n",
      "\n",
      "could not convert string to float: 'bad'\n",
      "could not convert string to float: 'good'\n",
      "could not convert string to float: 'good'\n",
      "could not convert string to float: 'bad'\n",
      "could not convert string to float: 'awesome'\n",
      "could not convert string to float: 'bad'\n",
      "could not convert string to float: 'bad'\n",
      "could not convert string to float: 'bad'\n",
      "could not convert string to float: 'bad'\n",
      "could not convert string to float: 'bad'\n",
      "\n",
      "\n",
      "Encountered a column that is not marked as categorical, but is an \"object\" pandas type, which typically indicates a categorical column.\n",
      "The name of this columns is: \"YearsWithCurrManagerGroup\"\n",
      "Some example features in this column are: ['awesome', 'awesome', 'bad', 'awesome', 'awesome']\n",
      "If this is a categorical column, please mark it as `YearsWithCurrManagerGroup: \"categorical\"` as part of your column_descriptions\n",
      "If this is not a categorical column, please consider converting its dtype before passing data into auto_ml\n",
      "\n",
      "\n",
      "could not convert string to float: 'awesome'\n",
      "could not convert string to float: 'good'\n",
      "could not convert string to float: 'bad'\n",
      "could not convert string to float: 'bad'\n",
      "could not convert string to float: 'bad'\n",
      "could not convert string to float: 'soso'\n",
      "could not convert string to float: 'good'\n",
      "could not convert string to float: 'good'\n",
      "could not convert string to float: 'good'\n",
      "could not convert string to float: 'bad'\n",
      "\n",
      "\n",
      "Encountered a column that is not marked as categorical, but is an \"object\" pandas type, which typically indicates a categorical column.\n",
      "The name of this columns is: \"NumCompaniesWorkedGroup\"\n",
      "Some example features in this column are: ['good', 'good', 'good', 'awesome', 'bad']\n",
      "If this is a categorical column, please mark it as `NumCompaniesWorkedGroup: \"categorical\"` as part of your column_descriptions\n",
      "If this is not a categorical column, please consider converting its dtype before passing data into auto_ml\n",
      "\n",
      "\n",
      "could not convert string to float: 'soso'\n",
      "could not convert string to float: 'awesome'\n",
      "could not convert string to float: 'soso'\n",
      "could not convert string to float: 'soso'\n",
      "could not convert string to float: 'soso'\n",
      "could not convert string to float: 'awesome'\n",
      "could not convert string to float: 'soso'\n",
      "could not convert string to float: 'good'\n",
      "could not convert string to float: 'good'\n",
      "could not convert string to float: 'bad'\n",
      "\n",
      "\n",
      "Encountered a column that is not marked as categorical, but is an \"object\" pandas type, which typically indicates a categorical column.\n",
      "The name of this columns is: \"YearsAtCompanyGroup\"\n",
      "Some example features in this column are: ['awesome', 'bad', 'soso', 'good', 'awesome']\n",
      "If this is a categorical column, please mark it as `YearsAtCompanyGroup: \"categorical\"` as part of your column_descriptions\n",
      "If this is not a categorical column, please consider converting its dtype before passing data into auto_ml\n",
      "\n",
      "\n",
      "could not convert string to float: 'soso'\n",
      "could not convert string to float: 'awesome'\n",
      "could not convert string to float: 'good'\n",
      "could not convert string to float: 'bad'\n",
      "could not convert string to float: 'awesome'\n",
      "could not convert string to float: 'awesome'\n",
      "could not convert string to float: 'awesome'\n",
      "could not convert string to float: 'bad'\n",
      "could not convert string to float: 'good'\n",
      "could not convert string to float: 'soso'\n",
      "\n",
      "\n",
      "Encountered a column that is not marked as categorical, but is an \"object\" pandas type, which typically indicates a categorical column.\n",
      "The name of this columns is: \"IncomeRiseEachYearGroup\"\n",
      "Some example features in this column are: ['bad', 'good', 'awesome', 'soso', 'awesome']\n",
      "If this is a categorical column, please mark it as `IncomeRiseEachYearGroup: \"categorical\"` as part of your column_descriptions\n",
      "If this is not a categorical column, please consider converting its dtype before passing data into auto_ml\n",
      "\n",
      "\n",
      "could not convert string to float: 'bad'\n",
      "could not convert string to float: 'awesome'\n",
      "could not convert string to float: 'awesome'\n",
      "could not convert string to float: 'soso'\n",
      "could not convert string to float: 'soso'\n",
      "could not convert string to float: 'bad'\n",
      "could not convert string to float: 'soso'\n",
      "could not convert string to float: 'awesome'\n",
      "could not convert string to float: 'soso'\n",
      "could not convert string to float: 'awesome'\n",
      "\n",
      "\n",
      "Encountered a column that is not marked as categorical, but is an \"object\" pandas type, which typically indicates a categorical column.\n",
      "The name of this columns is: \"WorkingYearsPctGroup\"\n",
      "Some example features in this column are: ['soso', 'soso', 'good', 'good', 'awesome']\n",
      "If this is a categorical column, please mark it as `WorkingYearsPctGroup: \"categorical\"` as part of your column_descriptions\n",
      "If this is not a categorical column, please consider converting its dtype before passing data into auto_ml\n",
      "\n",
      "\n",
      "Performing feature scaling\n",
      "Fitting DataFrameVectorizer\n"
     ]
    },
    {
     "name": "stdout",
     "output_type": "stream",
     "text": [
      "Performing feature selection\n",
      "Now using the model training_params that you passed in:\n",
      "{}\n",
      "After overwriting our defaults with your values, here are the final params that will be used to initialize the model:\n",
      "{}\n",
      "\n",
      "\n",
      "********************************************************************************************\n",
      "About to fit the pipeline for the model XGBClassifier to predict Attrition\n",
      "Started at:\n",
      "2018-04-03 23:27:47\n",
      "Finished training the pipeline!\n",
      "Total training time:\n",
      "0:00:01\n",
      "\n",
      "\n",
      "Here are the results from our XGBClassifier\n",
      "predicting Attrition\n",
      "Calculating feature responses, for advanced analytics.\n",
      "The printed list will only contain at most the top 100 features.\n",
      "+----+-----------------------------------+--------------+----------+-------------------+-------------------+-----------+-----------+-----------+-----------+\n",
      "|    | Feature Name                      |   Importance |    Delta |   FR_Decrementing |   FR_Incrementing |   FRD_abs |   FRI_abs |   FRD_MAD |   FRI_MAD |\n",
      "|----+-----------------------------------+--------------+----------+-------------------+-------------------+-----------+-----------+-----------+-----------|\n",
      "| 42 | JobRole=Human Resources           |       0.0000 | nan      |          nan      |          nan      |  nan      |  nan      |  nan      |  nan      |\n",
      "| 50 | StockOptionLevel=2                |       0.0000 | nan      |          nan      |          nan      |  nan      |  nan      |  nan      |  nan      |\n",
      "| 49 | OverTime=Yes                      |       0.0000 | nan      |          nan      |          nan      |  nan      |  nan      |  nan      |  nan      |\n",
      "| 40 | JobRole=Manufacturing Director    |       0.0000 | nan      |          nan      |          nan      |  nan      |  nan      |  nan      |  nan      |\n",
      "| 32 | JobLevel=5                        |       0.0000 | nan      |          nan      |          nan      |  nan      |  nan      |  nan      |  nan      |\n",
      "|  6 | Satisfied                         |       0.0000 |   0.2492 |            0.0000 |            0.0000 |    0.0000 |    0.0000 |    0.0000 |    0.0000 |\n",
      "| 29 | EmpNumQauntile_In_DeptRole=3      |       0.0000 | nan      |          nan      |          nan      |  nan      |  nan      |  nan      |  nan      |\n",
      "| 43 | JobRole=Research Director         |       0.0000 | nan      |          nan      |          nan      |  nan      |  nan      |  nan      |  nan      |\n",
      "| 12 | Department=Human Resources        |       0.0000 | nan      |          nan      |          nan      |  nan      |  nan      |  nan      |  nan      |\n",
      "| 31 | Gender=Female                     |       0.0000 | nan      |          nan      |          nan      |  nan      |  nan      |  nan      |  nan      |\n",
      "| 34 | JobLevel=2                        |       0.0031 | nan      |          nan      |          nan      |  nan      |  nan      |  nan      |  nan      |\n",
      "| 37 | JobRole=Manager                   |       0.0031 | nan      |          nan      |          nan      |  nan      |  nan      |  nan      |  nan      |\n",
      "| 25 | EmpNumQauntile_In_DeptRole=1      |       0.0031 | nan      |          nan      |          nan      |  nan      |  nan      |  nan      |  nan      |\n",
      "| 35 | JobLevel=3                        |       0.0046 | nan      |          nan      |          nan      |  nan      |  nan      |  nan      |  nan      |\n",
      "|  7 | WorkLifeBalanceSatisfied          |       0.0046 |   0.2260 |            0.0000 |            0.0000 |    0.0000 |    0.0000 |    0.0000 |    0.0000 |\n",
      "| 44 | JobRole=Laboratory Technician     |       0.0046 | nan      |          nan      |          nan      |  nan      |  nan      |  nan      |  nan      |\n",
      "| 46 | MaritalStatus=Divorced            |       0.0046 | nan      |          nan      |          nan      |  nan      |  nan      |  nan      |  nan      |\n",
      "| 22 | EducationField=Other              |       0.0061 | nan      |          nan      |          nan      |  nan      |  nan      |  nan      |  nan      |\n",
      "| 27 | EmpNumQauntile_In_DeptRole=4      |       0.0061 | nan      |          nan      |          nan      |  nan      |  nan      |  nan      |  nan      |\n",
      "| 26 | EmpNumQauntile_In_DeptRole=2      |       0.0077 | nan      |          nan      |          nan      |  nan      |  nan      |  nan      |  nan      |\n",
      "| 39 | JobRole=Research Scientist        |       0.0077 | nan      |          nan      |          nan      |  nan      |  nan      |  nan      |  nan      |\n",
      "| 10 | BusinessTravel=Travel_Rarely      |       0.0077 | nan      |          nan      |          nan      |  nan      |  nan      |  nan      |  nan      |\n",
      "| 23 | EducationField=Human Resources    |       0.0092 | nan      |          nan      |          nan      |  nan      |  nan      |  nan      |  nan      |\n",
      "|  5 | JobSatisfied                      |       0.0092 |   0.2421 |            0.0279 |            0.0000 |    0.0279 |    0.0000 |    0.0000 |    0.0000 |\n",
      "| 17 | Education=2                       |       0.0092 | nan      |          nan      |          nan      |  nan      |  nan      |  nan      |  nan      |\n",
      "| 11 | Department=Research & Development |       0.0107 | nan      |          nan      |          nan      |  nan      |  nan      |  nan      |  nan      |\n",
      "| 13 | Department=Sales                  |       0.0107 | nan      |          nan      |          nan      |  nan      |  nan      |  nan      |  nan      |\n",
      "| 41 | JobRole=Healthcare Representative |       0.0123 | nan      |          nan      |          nan      |  nan      |  nan      |  nan      |  nan      |\n",
      "| 53 | StockOptionLevel=3                |       0.0123 | nan      |          nan      |          nan      |  nan      |  nan      |  nan      |  nan      |\n",
      "| 14 | Education=5                       |       0.0123 | nan      |          nan      |          nan      |  nan      |  nan      |  nan      |  nan      |\n",
      "|  8 | BusinessTravel=Non-Travel         |       0.0123 | nan      |          nan      |          nan      |  nan      |  nan      |  nan      |  nan      |\n",
      "| 20 | EducationField=Life Sciences      |       0.0123 | nan      |          nan      |          nan      |  nan      |  nan      |  nan      |  nan      |\n",
      "| 18 | Education=3                       |       0.0123 | nan      |          nan      |          nan      |  nan      |  nan      |  nan      |  nan      |\n",
      "| 47 | MaritalStatus=Single              |       0.0138 | nan      |          nan      |          nan      |  nan      |  nan      |  nan      |  nan      |\n",
      "| 15 | Education=1                       |       0.0138 | nan      |          nan      |          nan      |  nan      |  nan      |  nan      |  nan      |\n",
      "| 21 | EducationField=Marketing          |       0.0138 | nan      |          nan      |          nan      |  nan      |  nan      |  nan      |  nan      |\n",
      "| 19 | EducationField=Medical            |       0.0184 | nan      |          nan      |          nan      |  nan      |  nan      |  nan      |  nan      |\n",
      "| 28 | EmpNumQauntile_In_DeptRole=0      |       0.0199 | nan      |          nan      |          nan      |  nan      |  nan      |  nan      |  nan      |\n",
      "| 45 | MaritalStatus=Married             |       0.0199 | nan      |          nan      |          nan      |  nan      |  nan      |  nan      |  nan      |\n",
      "| 24 | EducationField=Technical Degree   |       0.0214 | nan      |          nan      |          nan      |  nan      |  nan      |  nan      |  nan      |\n",
      "| 36 | JobRole=Sales Executive           |       0.0214 | nan      |          nan      |          nan      |  nan      |  nan      |  nan      |  nan      |\n",
      "| 16 | Education=4                       |       0.0214 | nan      |          nan      |          nan      |  nan      |  nan      |  nan      |  nan      |\n",
      "|  4 | EnvironmentSatisfied              |       0.0230 |   0.2446 |            0.0174 |            0.0000 |    0.0174 |    0.0000 |    0.0000 |    0.0000 |\n",
      "| 30 | Gender=Male                       |       0.0230 | nan      |          nan      |          nan      |  nan      |  nan      |  nan      |  nan      |\n",
      "| 38 | JobRole=Sales Representative      |       0.0245 | nan      |          nan      |          nan      |  nan      |  nan      |  nan      |  nan      |\n",
      "|  9 | BusinessTravel=Travel_Frequently  |       0.0276 | nan      |          nan      |          nan      |  nan      |  nan      |  nan      |  nan      |\n",
      "|  0 | JobInvolvement                    |       0.0306 |   0.3558 |            0.0000 |            0.0000 |    0.0000 |    0.0000 |    0.0000 |    0.0000 |\n",
      "| 51 | StockOptionLevel=1                |       0.0322 | nan      |          nan      |          nan      |  nan      |  nan      |  nan      |  nan      |\n",
      "| 52 | StockOptionLevel=0                |       0.0352 | nan      |          nan      |          nan      |  nan      |  nan      |  nan      |  nan      |\n",
      "|  1 | TrainingTimesLastYear             |       0.0505 |   0.6490 |           -0.0135 |            0.0118 |    0.0286 |    0.0262 |    0.0247 |    0.0193 |\n",
      "| 33 | JobLevel=1                        |       0.0567 | nan      |          nan      |          nan      |  nan      |  nan      |  nan      |  nan      |\n",
      "| 48 | OverTime=No                       |       0.0750 | nan      |          nan      |          nan      |  nan      |  nan      |  nan      |  nan      |\n",
      "|  2 | YearsSinceLastPromotion           |       0.1164 |   1.6827 |            0.0014 |           -0.0105 |    0.0095 |    0.0235 |    0.0000 |    0.0156 |\n",
      "|  3 | Satisfaction                      |       0.1562 |   0.1553 |            0.0846 |           -0.0751 |    0.0864 |    0.0786 |    0.0738 |    0.0714 |\n",
      "+----+-----------------------------------+--------------+----------+-------------------+-------------------+-----------+-----------+-----------+-----------+\n",
      "\n",
      "\n",
      "*******\n",
      "Legend:\n",
      "Importance = Feature Importance\n",
      "     Explanation: A weighted measure of how much of the variance the model is able to explain is due to this column\n",
      "FR_delta = Feature Response Delta Amount\n",
      "     Explanation: Amount this column was incremented or decremented by to calculate the feature reponses\n",
      "FR_Decrementing = Feature Response From Decrementing Values In This Column By One FR_delta\n",
      "     Explanation: Represents how much the predicted output values respond to subtracting one FR_delta amount from every value in this column\n",
      "FR_Incrementing = Feature Response From Incrementing Values In This Column By One FR_delta\n",
      "     Explanation: Represents how much the predicted output values respond to adding one FR_delta amount to every value in this column\n",
      "FRD_MAD = Feature Response From Decrementing- Median Absolute Delta\n",
      "     Explanation: Takes the absolute value of all changes in predictions, then takes the median of those. Useful for seeing if decrementing this feature provokes strong changes that are both positive and negative\n",
      "FRI_MAD = Feature Response From Incrementing- Median Absolute Delta\n",
      "     Explanation: Takes the absolute value of all changes in predictions, then takes the median of those. Useful for seeing if incrementing this feature provokes strong changes that are both positive and negative\n",
      "FRD_abs = Feature Response From Decrementing Avg Absolute Change\n",
      "     Explanation: What is the average absolute change in predicted output values to subtracting one FR_delta amount to every value in this column. Useful for seeing if output is sensitive to a feature, but not in a uniformly positive or negative way\n",
      "FRI_abs = Feature Response From Incrementing Avg Absolute Change\n",
      "     Explanation: What is the average absolute change in predicted output values to adding one FR_delta amount to every value in this column. Useful for seeing if output is sensitive to a feature, but not in a uniformly positive or negative way\n",
      "*******\n",
      "\n"
     ]
    },
    {
     "data": {
      "text/plain": [
       "0.8545454545454545"
      ]
     },
     "execution_count": 147,
     "metadata": {},
     "output_type": "execute_result"
    }
   ],
   "source": [
    "from auto_ml import Predictor\n",
    "from sklearn.model_selection import train_test_split\n",
    "from sklearn.metrics import f1_score, accuracy_score\n",
    "\n",
    "X_trainset = HR_transform.drop(['Attrition'], axis=1).copy()[:train_size]\n",
    "y_trainset = HR_transform.Attrition[:train_size]\n",
    "for cat in cat_vars:\n",
    "    X_trainset[cat] = X_trainset[cat].astype(str)\n",
    "\n",
    "# X_resampled, y_resampled =smt.fit_sample(X_trainset, y_trainset)\n",
    "df_resampled = pd.DataFrame(X_trainset,columns=X_trainset.columns)\n",
    "df_resampled['Attrition'] = y_trainset\n",
    "\n",
    "HR_auto = df_resampled.copy()\n",
    "\n",
    "\n",
    "df_train, df_test = train_test_split(HR_auto,shuffle=True,test_size=0.2)\n",
    "\n",
    "column_descriptions = {'Attrition':'output'}\n",
    "column_descriptions.update(dict(zip(cat_features,['categorical']*cat_features.shape[0])))\n",
    "\n",
    "ml_predictor = Predictor(type_of_estimator='classifier', column_descriptions=column_descriptions)\n",
    "\n",
    "# ml_predictor.train_categorical_ensemble(df_train,categorical_column='Department', model_names = ['XGBClassifier'], perform_feature_selection= True)\n",
    "ml_predictor.train(df_train, model_names = ['XGBClassifier'], perform_feature_selection= True, perform_feature_scaling=True)\n",
    "test_result = ml_predictor.predict(df_test)\n",
    "accuracy_score(test_result, df_test['Attrition'])"
   ]
  },
  {
   "cell_type": "code",
   "execution_count": 148,
   "metadata": {},
   "outputs": [
    {
     "name": "stdout",
     "output_type": "stream",
     "text": [
      "             precision    recall  f1-score   support\n",
      "\n",
      "          0       0.85      0.87      0.86       180\n",
      "          1       0.36      0.33      0.34        40\n",
      "\n",
      "avg / total       0.76      0.77      0.77       220\n",
      "\n"
     ]
    }
   ],
   "source": [
    "y_hat = ml_predictor.predict(X_val)\n",
    "print(classification_report(y_val, y_hat))"
   ]
  },
  {
   "cell_type": "code",
   "execution_count": 149,
   "metadata": {},
   "outputs": [
    {
     "name": "stdout",
     "output_type": "stream",
     "text": [
      "[(306, <itertools._grouper object at 0x00000000127F1E48>), (44, <itertools._grouper object at 0x00000000112F8198>)]\n"
     ]
    }
   ],
   "source": [
    "\n",
    "y_pred = np.array(ml_predictor.predict(X_test))\n",
    "import itertools as it\n",
    "print(list(it.groupby([0,1], lambda x: np.sum(y_pred==x))))\n",
    "\n",
    "\n",
    "np.savetxt('data/test_result_automl.csv',y_pred,fmt='%s',header='result');"
   ]
  },
  {
   "cell_type": "code",
   "execution_count": null,
   "metadata": {
    "collapsed": true
   },
   "outputs": [],
   "source": []
  }
 ],
 "metadata": {
  "kernelspec": {
   "display_name": "Python [conda env:py36]",
   "language": "python",
   "name": "conda-env-py36-py"
  },
  "language_info": {
   "codemirror_mode": {
    "name": "ipython",
    "version": 3
   },
   "file_extension": ".py",
   "mimetype": "text/x-python",
   "name": "python",
   "nbconvert_exporter": "python",
   "pygments_lexer": "ipython3",
   "version": "3.6.5"
  }
 },
 "nbformat": 4,
 "nbformat_minor": 2
}
