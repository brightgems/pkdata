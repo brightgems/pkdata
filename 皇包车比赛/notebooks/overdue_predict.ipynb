{
 "cells": [
  {
   "cell_type": "code",
   "execution_count": 19,
   "metadata": {},
   "outputs": [
    {
     "name": "stdout",
     "output_type": "stream",
     "text": [
      "Using matplotlib backend: TkAgg\n",
      "Populating the interactive namespace from numpy and matplotlib\n"
     ]
    }
   ],
   "source": [
    "import numpy as np\n",
    "import pandas as pd\n",
    "import xgboost as xgb\n",
    "import scipy.sparse\n",
    "from sklearn.model_selection import train_test_split\n",
    "from sklearn.linear_model import LogisticRegression\n",
    "from sklearn.metrics import accuracy_score\n",
    "\n",
    "import time\n",
    "%matplotlib inline\n",
    "%pylab"
   ]
  },
  {
   "cell_type": "code",
   "execution_count": 5,
   "metadata": {},
   "outputs": [],
   "source": [
    "df_prj = pd.read_csv('../data/raw/jm/prjdt.csv',delimiter=';')"
   ]
  },
  {
   "cell_type": "code",
   "execution_count": 6,
   "metadata": {},
   "outputs": [
    {
     "data": {
      "text/html": [
       "<div>\n",
       "<style scoped>\n",
       "    .dataframe tbody tr th:only-of-type {\n",
       "        vertical-align: middle;\n",
       "    }\n",
       "\n",
       "    .dataframe tbody tr th {\n",
       "        vertical-align: top;\n",
       "    }\n",
       "\n",
       "    .dataframe thead th {\n",
       "        text-align: right;\n",
       "    }\n",
       "</style>\n",
       "<table border=\"1\" class=\"dataframe\">\n",
       "  <thead>\n",
       "    <tr style=\"text-align: right;\">\n",
       "      <th></th>\n",
       "      <th>projectID</th>\n",
       "      <th>projectName</th>\n",
       "      <th>userName</th>\n",
       "      <th>borrowerName</th>\n",
       "      <th>borrowerType</th>\n",
       "      <th>borrowerGender</th>\n",
       "      <th>borrowerAge</th>\n",
       "      <th>workCity</th>\n",
       "      <th>cardNum</th>\n",
       "      <th>education</th>\n",
       "      <th>...</th>\n",
       "      <th>loanApplyCity</th>\n",
       "      <th>incomeRange</th>\n",
       "      <th>employerType</th>\n",
       "      <th>repaymentMethod</th>\n",
       "      <th>loanAmount</th>\n",
       "      <th>loanMonth</th>\n",
       "      <th>overdueCount</th>\n",
       "      <th>currentOverdueAmount</th>\n",
       "      <th>historyOverdueAmount</th>\n",
       "      <th>loanStDt</th>\n",
       "    </tr>\n",
       "  </thead>\n",
       "  <tbody>\n",
       "    <tr>\n",
       "      <th>0</th>\n",
       "      <td>28483</td>\n",
       "      <td>个人消费贷   54920-1-1</td>\n",
       "      <td>h****0</td>\n",
       "      <td>黄****</td>\n",
       "      <td>自然人</td>\n",
       "      <td>女</td>\n",
       "      <td>41</td>\n",
       "      <td>广西</td>\n",
       "      <td>NaN</td>\n",
       "      <td>NaN</td>\n",
       "      <td>...</td>\n",
       "      <td>NaN</td>\n",
       "      <td>NaN</td>\n",
       "      <td>NaN</td>\n",
       "      <td>\\n        等额本息</td>\n",
       "      <td>56500</td>\n",
       "      <td>36</td>\n",
       "      <td>0</td>\n",
       "      <td>0.0</td>\n",
       "      <td>0.0</td>\n",
       "      <td>2015-02-16 09:23:03</td>\n",
       "    </tr>\n",
       "    <tr>\n",
       "      <th>1</th>\n",
       "      <td>32544</td>\n",
       "      <td>个人消费贷   63972-1-1</td>\n",
       "      <td>j****2</td>\n",
       "      <td>刘****</td>\n",
       "      <td>自然人</td>\n",
       "      <td>女</td>\n",
       "      <td>52</td>\n",
       "      <td>湖北</td>\n",
       "      <td>NaN</td>\n",
       "      <td>NaN</td>\n",
       "      <td>...</td>\n",
       "      <td>NaN</td>\n",
       "      <td>NaN</td>\n",
       "      <td>NaN</td>\n",
       "      <td>\\n        等额本息</td>\n",
       "      <td>70600</td>\n",
       "      <td>36</td>\n",
       "      <td>0</td>\n",
       "      <td>0.0</td>\n",
       "      <td>0.0</td>\n",
       "      <td>2015-03-23 19:03:46</td>\n",
       "    </tr>\n",
       "    <tr>\n",
       "      <th>2</th>\n",
       "      <td>33082</td>\n",
       "      <td>个人消费贷   64918-1-1</td>\n",
       "      <td>a****8</td>\n",
       "      <td>谢****</td>\n",
       "      <td>自然人</td>\n",
       "      <td>女</td>\n",
       "      <td>48</td>\n",
       "      <td>广西</td>\n",
       "      <td>NaN</td>\n",
       "      <td>NaN</td>\n",
       "      <td>...</td>\n",
       "      <td>NaN</td>\n",
       "      <td>NaN</td>\n",
       "      <td>NaN</td>\n",
       "      <td>\\n        等额本息</td>\n",
       "      <td>70600</td>\n",
       "      <td>36</td>\n",
       "      <td>0</td>\n",
       "      <td>0.0</td>\n",
       "      <td>0.0</td>\n",
       "      <td>2015-03-25 16:22:35</td>\n",
       "    </tr>\n",
       "    <tr>\n",
       "      <th>3</th>\n",
       "      <td>34015</td>\n",
       "      <td>个人消费贷   66897-1-1</td>\n",
       "      <td>w****7</td>\n",
       "      <td>王****</td>\n",
       "      <td>自然人</td>\n",
       "      <td>男</td>\n",
       "      <td>27</td>\n",
       "      <td>重庆</td>\n",
       "      <td>NaN</td>\n",
       "      <td>NaN</td>\n",
       "      <td>...</td>\n",
       "      <td>NaN</td>\n",
       "      <td>NaN</td>\n",
       "      <td>NaN</td>\n",
       "      <td>\\n        等额本息</td>\n",
       "      <td>70600</td>\n",
       "      <td>36</td>\n",
       "      <td>0</td>\n",
       "      <td>0.0</td>\n",
       "      <td>0.0</td>\n",
       "      <td>2015-03-27 18:35:33</td>\n",
       "    </tr>\n",
       "    <tr>\n",
       "      <th>4</th>\n",
       "      <td>36689</td>\n",
       "      <td>个人消费贷   72079-1-1</td>\n",
       "      <td>m****9</td>\n",
       "      <td>魏****</td>\n",
       "      <td>自然人</td>\n",
       "      <td>男</td>\n",
       "      <td>45</td>\n",
       "      <td>湖北</td>\n",
       "      <td>NaN</td>\n",
       "      <td>NaN</td>\n",
       "      <td>...</td>\n",
       "      <td>NaN</td>\n",
       "      <td>NaN</td>\n",
       "      <td>NaN</td>\n",
       "      <td>\\n        等额本息</td>\n",
       "      <td>70600</td>\n",
       "      <td>36</td>\n",
       "      <td>0</td>\n",
       "      <td>0.0</td>\n",
       "      <td>0.0</td>\n",
       "      <td>2015-04-10 16:13:57</td>\n",
       "    </tr>\n",
       "  </tbody>\n",
       "</table>\n",
       "<p>5 rows × 21 columns</p>\n",
       "</div>"
      ],
      "text/plain": [
       "   projectID        projectName userName borrowerName borrowerType  \\\n",
       "0      28483  个人消费贷   54920-1-1   h****0        黄****          自然人   \n",
       "1      32544  个人消费贷   63972-1-1   j****2        刘****          自然人   \n",
       "2      33082  个人消费贷   64918-1-1   a****8        谢****          自然人   \n",
       "3      34015  个人消费贷   66897-1-1   w****7        王****          自然人   \n",
       "4      36689  个人消费贷   72079-1-1   m****9        魏****          自然人   \n",
       "\n",
       "  borrowerGender  borrowerAge workCity cardNum education         ...           \\\n",
       "0              女           41       广西     NaN       NaN         ...            \n",
       "1              女           52       湖北     NaN       NaN         ...            \n",
       "2              女           48       广西     NaN       NaN         ...            \n",
       "3              男           27       重庆     NaN       NaN         ...            \n",
       "4              男           45       湖北     NaN       NaN         ...            \n",
       "\n",
       "  loanApplyCity incomeRange employerType repaymentMethod loanAmount  \\\n",
       "0           NaN         NaN          NaN  \\n        等额本息      56500   \n",
       "1           NaN         NaN          NaN  \\n        等额本息      70600   \n",
       "2           NaN         NaN          NaN  \\n        等额本息      70600   \n",
       "3           NaN         NaN          NaN  \\n        等额本息      70600   \n",
       "4           NaN         NaN          NaN  \\n        等额本息      70600   \n",
       "\n",
       "   loanMonth  overdueCount  currentOverdueAmount  historyOverdueAmount  \\\n",
       "0         36             0                   0.0                   0.0   \n",
       "1         36             0                   0.0                   0.0   \n",
       "2         36             0                   0.0                   0.0   \n",
       "3         36             0                   0.0                   0.0   \n",
       "4         36             0                   0.0                   0.0   \n",
       "\n",
       "              loanStDt  \n",
       "0  2015-02-16 09:23:03  \n",
       "1  2015-03-23 19:03:46  \n",
       "2  2015-03-25 16:22:35  \n",
       "3  2015-03-27 18:35:33  \n",
       "4  2015-04-10 16:13:57  \n",
       "\n",
       "[5 rows x 21 columns]"
      ]
     },
     "execution_count": 6,
     "metadata": {},
     "output_type": "execute_result"
    }
   ],
   "source": [
    "df_prj.head()"
   ]
  },
  {
   "cell_type": "code",
   "execution_count": 8,
   "metadata": {},
   "outputs": [
    {
     "data": {
      "text/plain": [
       "projectID                 int64\n",
       "projectName              object\n",
       "userName                 object\n",
       "borrowerName             object\n",
       "borrowerType             object\n",
       "borrowerGender           object\n",
       "borrowerAge               int64\n",
       "workCity                 object\n",
       "cardNum                  object\n",
       "education                object\n",
       "marriageStatus           object\n",
       "loanApplyCity            object\n",
       "incomeRange              object\n",
       "employerType             object\n",
       "repaymentMethod          object\n",
       "loanAmount                int64\n",
       "loanMonth                 int64\n",
       "overdueCount              int64\n",
       "currentOverdueAmount    float64\n",
       "historyOverdueAmount    float64\n",
       "loanStDt                 object\n",
       "dtype: object"
      ]
     },
     "execution_count": 8,
     "metadata": {},
     "output_type": "execute_result"
    }
   ],
   "source": [
    "df_prj.dtypes"
   ]
  },
  {
   "cell_type": "code",
   "execution_count": 40,
   "metadata": {},
   "outputs": [
    {
     "data": {
      "text/plain": [
       "上海市浦东新区       35\n",
       "北京市市辖区朝阳区     34\n",
       "广东省深圳市南山区     17\n",
       "广东省惠州市惠城区     13\n",
       "北京市市辖区丰台区     11\n",
       "北京市市辖区海淀区     10\n",
       "北京市市辖区通州区      9\n",
       "广东省深圳市宝安区      8\n",
       "北京市市辖区大兴区      7\n",
       "江苏省无锡市崇安区      7\n",
       "上海市闵行区         7\n",
       "上海市宝山区         6\n",
       "上海市嘉定区         5\n",
       "湖南省长沙市芙蓉区      5\n",
       "广东省深圳市市辖区      4\n",
       "北京市市辖区石景山区     4\n",
       "上海市长宁区         4\n",
       "上海市松江区         4\n",
       "广东省茂名市茂南区      4\n",
       "北京市市辖区昌平区      4\n",
       "Name: loanApplyCity, dtype: int64"
      ]
     },
     "execution_count": 40,
     "metadata": {},
     "output_type": "execute_result"
    },
    {
     "data": {
      "image/png": "[encoded data removed]",
      "text/plain": [
       "<matplotlib.figure.Figure at 0x1bcc4fd0>"
      ]
     },
     "metadata": {},
     "output_type": "display_data"
    }
   ],
   "source": [
    "%matplotlib inline\n",
    "df_prj.loanAmount.plot(kind='kde');\n",
    "df_prj.loanApplyCity.value_counts().head(20)"
   ]
  },
  {
   "cell_type": "code",
   "execution_count": 38,
   "metadata": {},
   "outputs": [
    {
     "data": {
      "text/plain": [
       "405   2017-01-06 06:32:20\n",
       "406   2017-01-04 21:02:19\n",
       "407   2017-01-05 20:02:20\n",
       "411   2017-01-01 11:02:19\n",
       "414   2017-01-01 22:02:35\n",
       "415   2017-01-05 17:17:20\n",
       "416   2017-01-03 12:32:19\n",
       "417   2017-01-05 08:47:40\n",
       "418   2017-01-04 21:32:26\n",
       "419   2017-01-06 11:51:25\n",
       "420   2017-01-07 10:32:19\n",
       "421   2017-01-10 21:47:20\n",
       "422   2017-01-10 23:17:32\n",
       "423   2017-01-11 18:32:40\n",
       "424   2017-01-13 12:19:19\n",
       "425   2017-01-13 16:47:32\n",
       "426   2017-01-13 16:47:43\n",
       "427   2017-01-18 20:17:51\n",
       "428   2017-01-20 12:17:33\n",
       "429   2017-01-21 22:32:19\n",
       "430   2017-01-21 22:32:19\n",
       "431   2017-01-22 11:47:36\n",
       "432   2017-01-23 12:32:25\n",
       "433   2017-01-23 12:32:34\n",
       "434   2017-01-23 16:47:31\n",
       "435   2017-01-24 16:32:20\n",
       "436   2017-02-13 10:02:30\n",
       "437   2017-02-22 16:05:28\n",
       "438   2017-02-27 12:20:52\n",
       "439   2017-02-27 15:06:06\n",
       "              ...        \n",
       "801   2017-10-24 21:54:59\n",
       "802   2017-10-26 10:25:13\n",
       "803   2017-10-26 16:09:59\n",
       "804   2017-10-28 12:15:20\n",
       "805   2017-10-28 21:09:59\n",
       "806   2017-10-29 19:54:59\n",
       "807   2017-11-02 00:14:59\n",
       "808   2017-11-02 09:29:59\n",
       "809   2017-11-02 09:29:59\n",
       "810   2017-11-03 20:15:02\n",
       "811   2017-11-09 21:19:59\n",
       "812   2017-11-10 09:55:04\n",
       "813   2017-11-10 11:25:01\n",
       "814   2017-11-10 11:25:37\n",
       "815   2017-11-10 11:25:45\n",
       "816   2017-11-10 11:25:53\n",
       "817   2017-11-10 21:50:54\n",
       "818   2017-11-10 21:50:55\n",
       "819   2017-11-10 21:50:55\n",
       "820   2017-11-12 20:05:30\n",
       "821   2017-11-12 22:35:04\n",
       "822   2017-11-13 19:09:59\n",
       "823   2017-11-14 15:05:32\n",
       "824   2017-11-14 15:05:33\n",
       "825   2017-12-04 14:39:59\n",
       "826   2017-12-04 14:39:59\n",
       "827   2017-12-04 14:40:05\n",
       "828   2017-12-04 14:40:06\n",
       "829   2017-12-15 12:37:21\n",
       "830   2017-12-15 12:37:22\n",
       "Name: loanStDt, Length: 421, dtype: datetime64[ns]"
      ]
     },
     "execution_count": 38,
     "metadata": {},
     "output_type": "execute_result"
    }
   ],
   "source": [
    "df_prj['year'] = df_prj.loanStDt.apply(lambda x: pd.to_datetime(x).year)\n",
    "\n",
    "df_prj[df_prj.year==2017].loanStDt.apply(lambda x: pd.to_datetime(x))"
   ]
  },
  {
   "cell_type": "code",
   "execution_count": 47,
   "metadata": {},
   "outputs": [
    {
     "data": {
      "text/plain": [
       "831    17579483\n",
       "832    17580868\n",
       "833    17580989\n",
       "834    17581178\n",
       "835    17581264\n",
       "Name: projectID, dtype: int64"
      ]
     },
     "execution_count": 47,
     "metadata": {},
     "output_type": "execute_result"
    }
   ],
   "source": [
    "# 2018年的项目没有借款人详细信息\n",
    "df_prj[df_prj.year==2018].projectID.head(5)"
   ]
  },
  {
   "cell_type": "code",
   "execution_count": 66,
   "metadata": {},
   "outputs": [
    {
     "data": {
      "text/plain": [
       "<matplotlib.axes._subplots.AxesSubplot at 0x1be07b70>"
      ]
     },
     "execution_count": 66,
     "metadata": {},
     "output_type": "execute_result"
    },
    {
     "data": {
      "image/png": "[encoded data removed]",
      "text/plain": [
       "<matplotlib.figure.Figure at 0x1b9c4048>"
      ]
     },
     "metadata": {},
     "output_type": "display_data"
    }
   ],
   "source": [
    "df_prj['ageGroup'] = pd.cut(df_prj.borrowerAge,[18,24,35,45,70])\n",
    "df_prj['loanAmtGroup'] =  pd.cut(df_prj.loanAmount,[400, 5000, 15000, 40000, 1000000])\n",
    "df_prj['loanMonth'] = pd.Categorical(df_prj.loanMonth)\n",
    "df_prj['loanAmtGroup'].value_counts().plot(kind='bar')"
   ]
  },
  {
   "cell_type": "code",
   "execution_count": 69,
   "metadata": {},
   "outputs": [],
   "source": [
    "df_X = df_prj.loc[df_prj.year!=2018,['borrowerGender', 'ageGroup', 'workCity','education',\n",
    "       'marriageStatus', 'incomeRange', 'employerType','loanAmtGroup',\n",
    "        'loanMonth']]\n",
    "df_y = df_prj.loc[df_prj.year!=2018 ,'overdueCount']>0"
   ]
  },
  {
   "cell_type": "code",
   "execution_count": 77,
   "metadata": {},
   "outputs": [],
   "source": [
    "df_X_dummies = pd.get_dummies(df_X, df_X.columns)"
   ]
  },
  {
   "cell_type": "code",
   "execution_count": 79,
   "metadata": {},
   "outputs": [
    {
     "data": {
      "text/html": [
       "<div>\n",
       "<style scoped>\n",
       "    .dataframe tbody tr th:only-of-type {\n",
       "        vertical-align: middle;\n",
       "    }\n",
       "\n",
       "    .dataframe tbody tr th {\n",
       "        vertical-align: top;\n",
       "    }\n",
       "\n",
       "    .dataframe thead th {\n",
       "        text-align: right;\n",
       "    }\n",
       "</style>\n",
       "<table border=\"1\" class=\"dataframe\">\n",
       "  <thead>\n",
       "    <tr style=\"text-align: right;\">\n",
       "      <th></th>\n",
       "      <th>support</th>\n",
       "      <th>itemsets</th>\n",
       "    </tr>\n",
       "  </thead>\n",
       "  <tbody>\n",
       "    <tr>\n",
       "      <th>0</th>\n",
       "      <td>0.337900</td>\n",
       "      <td>[borrowerGender_女]</td>\n",
       "    </tr>\n",
       "    <tr>\n",
       "      <th>1</th>\n",
       "      <td>0.662100</td>\n",
       "      <td>[borrowerGender_男]</td>\n",
       "    </tr>\n",
       "    <tr>\n",
       "      <th>2</th>\n",
       "      <td>0.109589</td>\n",
       "      <td>[ageGroup_(18, 24]]</td>\n",
       "    </tr>\n",
       "    <tr>\n",
       "      <th>3</th>\n",
       "      <td>0.591324</td>\n",
       "      <td>[ageGroup_(24, 35]]</td>\n",
       "    </tr>\n",
       "    <tr>\n",
       "      <th>4</th>\n",
       "      <td>0.196347</td>\n",
       "      <td>[ageGroup_(35, 45]]</td>\n",
       "    </tr>\n",
       "    <tr>\n",
       "      <th>5</th>\n",
       "      <td>0.102740</td>\n",
       "      <td>[ageGroup_(45, 70]]</td>\n",
       "    </tr>\n",
       "    <tr>\n",
       "      <th>6</th>\n",
       "      <td>0.146119</td>\n",
       "      <td>[workCity_上海]</td>\n",
       "    </tr>\n",
       "    <tr>\n",
       "      <th>7</th>\n",
       "      <td>0.235160</td>\n",
       "      <td>[workCity_北京]</td>\n",
       "    </tr>\n",
       "    <tr>\n",
       "      <th>8</th>\n",
       "      <td>0.109589</td>\n",
       "      <td>[workCity_广东]</td>\n",
       "    </tr>\n",
       "    <tr>\n",
       "      <th>9</th>\n",
       "      <td>0.054795</td>\n",
       "      <td>[workCity_江苏]</td>\n",
       "    </tr>\n",
       "    <tr>\n",
       "      <th>10</th>\n",
       "      <td>0.066210</td>\n",
       "      <td>[workCity_福建]</td>\n",
       "    </tr>\n",
       "    <tr>\n",
       "      <th>11</th>\n",
       "      <td>0.050228</td>\n",
       "      <td>[education_大学专科和专科学校]</td>\n",
       "    </tr>\n",
       "    <tr>\n",
       "      <th>12</th>\n",
       "      <td>0.246575</td>\n",
       "      <td>[marriageStatus_已婚]</td>\n",
       "    </tr>\n",
       "    <tr>\n",
       "      <th>13</th>\n",
       "      <td>0.098174</td>\n",
       "      <td>[marriageStatus_未婚]</td>\n",
       "    </tr>\n",
       "    <tr>\n",
       "      <th>14</th>\n",
       "      <td>0.098174</td>\n",
       "      <td>[incomeRange_15000元以上]</td>\n",
       "    </tr>\n",
       "    <tr>\n",
       "      <th>15</th>\n",
       "      <td>0.061644</td>\n",
       "      <td>[incomeRange_3000元-5000元]</td>\n",
       "    </tr>\n",
       "    <tr>\n",
       "      <th>16</th>\n",
       "      <td>0.093607</td>\n",
       "      <td>[incomeRange_5000元-8000元]</td>\n",
       "    </tr>\n",
       "    <tr>\n",
       "      <th>17</th>\n",
       "      <td>0.105023</td>\n",
       "      <td>[incomeRange_8000元-15000元]</td>\n",
       "    </tr>\n",
       "    <tr>\n",
       "      <th>18</th>\n",
       "      <td>0.057078</td>\n",
       "      <td>[employerType_国有企业]</td>\n",
       "    </tr>\n",
       "    <tr>\n",
       "      <th>19</th>\n",
       "      <td>0.061644</td>\n",
       "      <td>[employerType_外企/合资企业]</td>\n",
       "    </tr>\n",
       "  </tbody>\n",
       "</table>\n",
       "</div>"
      ],
      "text/plain": [
       "     support                    itemsets\n",
       "0   0.337900          [borrowerGender_女]\n",
       "1   0.662100          [borrowerGender_男]\n",
       "2   0.109589         [ageGroup_(18, 24]]\n",
       "3   0.591324         [ageGroup_(24, 35]]\n",
       "4   0.196347         [ageGroup_(35, 45]]\n",
       "5   0.102740         [ageGroup_(45, 70]]\n",
       "6   0.146119               [workCity_上海]\n",
       "7   0.235160               [workCity_北京]\n",
       "8   0.109589               [workCity_广东]\n",
       "9   0.054795               [workCity_江苏]\n",
       "10  0.066210               [workCity_福建]\n",
       "11  0.050228       [education_大学专科和专科学校]\n",
       "12  0.246575         [marriageStatus_已婚]\n",
       "13  0.098174         [marriageStatus_未婚]\n",
       "14  0.098174      [incomeRange_15000元以上]\n",
       "15  0.061644   [incomeRange_3000元-5000元]\n",
       "16  0.093607   [incomeRange_5000元-8000元]\n",
       "17  0.105023  [incomeRange_8000元-15000元]\n",
       "18  0.057078         [employerType_国有企业]\n",
       "19  0.061644      [employerType_外企/合资企业]"
      ]
     },
     "execution_count": 79,
     "metadata": {},
     "output_type": "execute_result"
    }
   ],
   "source": [
    "from mlxtend.frequent_patterns import apriori\n",
    "apriori(df_X_dummies[df_y==True],0.05, use_colnames= True).head(20)"
   ]
  },
  {
   "cell_type": "code",
   "execution_count": 105,
   "metadata": {
    "collapsed": true
   },
   "outputs": [],
   "source": [
    "X_train, X_test, y_train, y_test = train_test_split(df_X_dummies, df_y, test_size=0.3)"
   ]
  },
  {
   "cell_type": "code",
   "execution_count": 111,
   "metadata": {},
   "outputs": [
    {
     "data": {
      "text/plain": [
       "0.59896729776247848"
      ]
     },
     "execution_count": 111,
     "metadata": {},
     "output_type": "execute_result"
    }
   ],
   "source": [
    "import xgboost as xgb\n",
    "from sklearn.model_selection import train_test_split\n",
    "from sklearn.tree import DecisionTreeClassifier\n",
    "from sklearn.metrics import accuracy_score\n",
    "# 决策树\n",
    "\n",
    "md_clf = DecisionTreeClassifier(max_depth= 3, min_samples_split=3,min_samples_leaf=1)\n",
    "md_clf.fit(X_train, y_train)\n",
    "md_clf.score(X_train, y_train)"
   ]
  },
  {
   "cell_type": "code",
   "execution_count": 112,
   "metadata": {},
   "outputs": [
    {
     "data": {
      "text/plain": [
       "0.63339070567986233"
      ]
     },
     "execution_count": 112,
     "metadata": {},
     "output_type": "execute_result"
    }
   ],
   "source": [
    "from sklearn.ensemble import RandomForestClassifier\n",
    "md_clf = RandomForestClassifier(max_depth= 3, min_samples_split=3,min_samples_leaf=1)\n",
    "md_clf.fit(X_train, y_train)\n",
    "md_clf.score(X_train, y_train)"
   ]
  },
  {
   "cell_type": "code",
   "execution_count": 134,
   "metadata": {},
   "outputs": [
    {
     "name": "stdout",
     "output_type": "stream",
     "text": [
      "fit score: 0.679862, test score: 0.544000\n"
     ]
    }
   ],
   "source": [
    "from sklearn.ensemble import  AdaBoostClassifier\n",
    "md_clf = AdaBoostClassifier(learning_rate=1)\n",
    "md_clf.fit(X_train, y_train)\n",
    "fit_score  = md_clf.score(X_train, y_train)\n",
    "test_score = accuracy_score(y_test, md_clf.predict(X_test))\n",
    "print('fit score: %f, test score: %f'%(fit_score,test_score))"
   ]
  },
  {
   "cell_type": "code",
   "execution_count": 145,
   "metadata": {},
   "outputs": [],
   "source": [
    "#import lightgbm \n",
    "import lightgbm as lgb \n",
    "train_data=lgb.Dataset(X_train,label=y_train)\n",
    "\n",
    "#setting parameters for lightgbm\n",
    "param = {'num_leaves':150, 'objective':'binary','max_depth':7,'learning_rate':.05,'max_bin':200}\n",
    "param['metric'] = ['auc', 'binary_logloss']\n"
   ]
  },
  {
   "cell_type": "code",
   "execution_count": 151,
   "metadata": {},
   "outputs": [
    {
     "name": "stdout",
     "output_type": "stream",
     "text": [
      "Wall time: 182 ms\n"
     ]
    }
   ],
   "source": [
    "#training our model using light gbm\n",
    "num_round=50\n",
    "\n",
    "%time lgbm=lgb.train(param,train_data,num_round)\n"
   ]
  },
  {
   "cell_type": "code",
   "execution_count": 153,
   "metadata": {},
   "outputs": [
    {
     "data": {
      "text/plain": [
       "array([ 0.51070423,  0.5600471 ,  0.28177884,  0.52698135,  0.55677811])"
      ]
     },
     "execution_count": 153,
     "metadata": {},
     "output_type": "execute_result"
    }
   ],
   "source": [
    "#predicting on test set\n",
    "ypred2=lgbm.predict(X_test)\n",
    "ypred2[0:5]  # showing first 5 predictions"
   ]
  },
  {
   "cell_type": "code",
   "execution_count": 155,
   "metadata": {},
   "outputs": [],
   "source": [
    "#converting probabilities into 0 or 1\n",
    "for i in range(0,len(y_test)):\n",
    "    if ypred2[i]>=.5:       # setting threshold to .5\n",
    "       ypred2[i]=1\n",
    "    else:  \n",
    "       ypred2[i]=0"
   ]
  },
  {
   "cell_type": "code",
   "execution_count": 156,
   "metadata": {},
   "outputs": [
    {
     "name": "stdout",
     "output_type": "stream",
     "text": [
      "lgbm: 0.520000\n"
     ]
    },
    {
     "data": {
      "text/plain": [
       "False    126\n",
       "True     124\n",
       "Name: overdueCount, dtype: int64"
      ]
     },
     "execution_count": 156,
     "metadata": {},
     "output_type": "execute_result"
    }
   ],
   "source": [
    "#calculating accuracy\n",
    "accuracy_lgbm = accuracy_score(ypred2,y_test)\n",
    "print('lgbm: %f' % accuracy_lgbm)\n",
    "y_test.value_counts()"
   ]
  },
  {
   "cell_type": "code",
   "execution_count": 160,
   "metadata": {},
   "outputs": [
    {
     "data": {
      "text/plain": [
       "0.520673323092678"
      ]
     },
     "execution_count": 160,
     "metadata": {},
     "output_type": "execute_result"
    }
   ],
   "source": [
    "from sklearn.metrics import roc_auc_score\n",
    "#calculating roc_auc_score for light gbm. \n",
    "auc_lgbm = roc_auc_score(y_test,ypred2)\n",
    "auc_lgbm"
   ]
  },
  {
   "cell_type": "code",
   "execution_count": 163,
   "metadata": {},
   "outputs": [
    {
     "data": {
      "text/plain": [
       "False    126\n",
       "True     124\n",
       "Name: overdueCount, dtype: int64"
      ]
     },
     "execution_count": 163,
     "metadata": {},
     "output_type": "execute_result"
    }
   ],
   "source": [
    "y_test.value_counts()"
   ]
  }
 ],
 "metadata": {
  "kernelspec": {
   "display_name": "Python 3",
   "language": "python",
   "name": "python3"
  },
  "language_info": {
   "codemirror_mode": {
    "name": "ipython",
    "version": 3
   },
   "file_extension": ".py",
   "mimetype": "text/x-python",
   "name": "python",
   "nbconvert_exporter": "python",
   "pygments_lexer": "ipython3",
   "version": "3.5.0"
  }
 },
 "nbformat": 4,
 "nbformat_minor": 2
}
