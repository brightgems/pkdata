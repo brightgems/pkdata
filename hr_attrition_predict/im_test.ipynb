{
 "cells": [
  {
   "cell_type": "code",
   "execution_count": 117,
   "metadata": {
    "collapsed": true
   },
   "outputs": [],
   "source": [
    "pl.make_pipeline?"
   ]
  },
  {
   "cell_type": "code",
   "execution_count": 119,
   "metadata": {},
   "outputs": [
    {
     "name": "stdout",
     "output_type": "stream",
     "text": [
      "Automatically created module for IPython interactive environment\n",
      "             precision    recall  f1-score   support\n",
      "\n",
      "          0       0.90      0.71      0.79       374\n",
      "          1       0.99      1.00      0.99     12126\n",
      "\n",
      "avg / total       0.99      0.99      0.99     12500\n",
      "\n"
     ]
    }
   ],
   "source": [
    "from sklearn.model_selection import train_test_split as tts\n",
    "from sklearn.datasets import make_classification\n",
    "from sklearn.decomposition import PCA\n",
    "from sklearn.metrics import classification_report\n",
    "from sklearn.neighbors import KNeighborsClassifier as KNN\n",
    "\n",
    "\n",
    "from imblearn.under_sampling import (EditedNearestNeighbours,\n",
    "                                     RepeatedEditedNearestNeighbours)\n",
    "from imblearn.over_sampling import SMOTE, ADASYN\n",
    "from imblearn.combine import SMOTETomek\n",
    "from sklearn.kernel_ridge import KernelRidge\n",
    "from imblearn import over_sampling as os\n",
    "from imblearn import pipeline as pl\n",
    "import numpy  as np\n",
    "print(__doc__)\n",
    "\n",
    "# Generate the dataset\n",
    "X, y = make_classification(n_classes=2, class_sep=1.25, weights=[0.03, 0.97],\n",
    "                           n_informative=3, n_redundant=1, flip_y=0,\n",
    "                           n_features=5, n_clusters_per_class=3,\n",
    "                           n_samples=50000, random_state=20)\n",
    "\n",
    "# Instanciate a PCA object for the sake of easy visualisation\n",
    "pca = PCA(n_components=3)\n",
    "# Make the splits\n",
    "X_train, X_test, y_train, y_test = tts(X, y, random_state=42)\n",
    "\n",
    "# Create the samplers\n",
    "enn = EditedNearestNeighbours()\n",
    "renn = RepeatedEditedNearestNeighbours()\n",
    "ros = SMOTE(k_neighbors=3,kind='borderline1', random_state=0)\n",
    "smote_enn = SMOTETomek(random_state=0)\n",
    "# Create the classifier\n",
    "knn = KNN(5)\n",
    "clf = LinearSVC()\n",
    "\n",
    "\n",
    "# Add one transformers and two samplers in the pipeline object\n",
    "pipeline = pl.make_pipeline( enn,pca, knn)\n",
    "\n",
    "pipeline.fit(X_train, y_train)\n",
    "y_hat = pipeline.predict(X_test)\n",
    "\n",
    "print(classification_report(y_test, y_hat))"
   ]
  },
  {
   "cell_type": "code",
   "execution_count": 100,
   "metadata": {},
   "outputs": [
    {
     "name": "stdout",
     "output_type": "stream",
     "text": [
      "Automatically created module for IPython interactive environment\n"
     ]
    },
    {
     "data": {
      "image/png": "[encoded data removed]",
      "text/plain": [
       "<matplotlib.figure.Figure at 0x4a7cc50>"
      ]
     },
     "metadata": {},
     "output_type": "display_data"
    }
   ],
   "source": [
    "\n",
    "import matplotlib.pyplot as plt\n",
    "import numpy as np\n",
    "from sklearn import model_selection as ms\n",
    "from sklearn import datasets, metrics, tree\n",
    "\n",
    "from imblearn import over_sampling as os\n",
    "from imblearn import pipeline as pl\n",
    "\n",
    "print(__doc__)\n",
    "\n",
    "RANDOM_STATE = 42\n",
    "\n",
    "scorer = metrics.make_scorer(metrics.cohen_kappa_score)\n",
    "\n",
    "# Generate the dataset\n",
    "X, y = datasets.make_classification(n_classes=2, class_sep=2,\n",
    "                                    weights=[0.1, 0.9], n_informative=10,\n",
    "                                    n_redundant=1, flip_y=0, n_features=20,\n",
    "                                    n_clusters_per_class=4, n_samples=5000,\n",
    "                                    random_state=RANDOM_STATE)\n",
    "smote = os.SMOTE(random_state=RANDOM_STATE)\n",
    "cart = tree.DecisionTreeClassifier(random_state=RANDOM_STATE)\n",
    "pipeline = pl.make_pipeline(smote, cart)\n",
    "\n",
    "param_range = range(1, 11)\n",
    "train_scores, test_scores = ms.validation_curve(\n",
    "    pipeline, X, y, param_name=\"smote__k_neighbors\", param_range=param_range,\n",
    "    cv=3, scoring=scorer, n_jobs=1)\n",
    "train_scores_mean = np.mean(train_scores, axis=1)\n",
    "train_scores_std = np.std(train_scores, axis=1)\n",
    "test_scores_mean = np.mean(test_scores, axis=1)\n",
    "test_scores_std = np.std(test_scores, axis=1)\n",
    "\n",
    "fig = plt.figure()\n",
    "ax = fig.add_subplot(1, 1, 1)\n",
    "\n",
    "plt.plot(param_range, test_scores_mean, label='SMOTE')\n",
    "ax.fill_between(param_range, test_scores_mean + test_scores_std,\n",
    "                test_scores_mean - test_scores_std, alpha=0.2)\n",
    "idx_max = np.argmax(test_scores_mean)\n",
    "plt.scatter(param_range[idx_max], test_scores_mean[idx_max],\n",
    "            label=r'Cohen Kappa: ${0:.2f}\\pm{1:.2f}$'.format(\n",
    "                test_scores_mean[idx_max], test_scores_std[idx_max]))\n",
    "\n",
    "plt.title(\"Validation Curve with SMOTE-CART\")\n",
    "plt.xlabel(\"k_neighbors\")\n",
    "plt.ylabel(\"Cohen's kappa\")\n",
    "\n",
    "# make nice plotting\n",
    "ax.spines['top'].set_visible(False)\n",
    "ax.spines['right'].set_visible(False)\n",
    "ax.get_xaxis().tick_bottom()\n",
    "ax.get_yaxis().tick_left()\n",
    "ax.spines['left'].set_position(('outward', 10))\n",
    "ax.spines['bottom'].set_position(('outward', 10))\n",
    "plt.xlim([1, 10])\n",
    "plt.ylim([0.4, 0.8])\n",
    "\n",
    "plt.legend(loc=\"best\")\n",
    "plt.show()"
   ]
  }
 ],
 "metadata": {
  "kernelspec": {
   "display_name": "Python 3",
   "language": "python",
   "name": "python3"
  },
  "language_info": {
   "codemirror_mode": {
    "name": "ipython",
    "version": 3
   },
   "file_extension": ".py",
   "mimetype": "text/x-python",
   "name": "python",
   "nbconvert_exporter": "python",
   "pygments_lexer": "ipython3",
   "version": "3.5.0"
  }
 },
 "nbformat": 4,
 "nbformat_minor": 2
}
