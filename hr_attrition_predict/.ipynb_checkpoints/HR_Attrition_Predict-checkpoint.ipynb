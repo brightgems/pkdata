{
 "cells": [
  {
   "cell_type": "code",
   "execution_count": 34,
   "metadata": {
    "collapsed": true
   },
   "outputs": [],
   "source": [
    "import warnings\n",
    "warnings.filterwarnings('ignore')\n",
    "\n",
    "import numpy as np\n",
    "import pandas as pd\n",
    "import matplotlib.pyplot as plt\n",
    "import matplotlib as mpl\n",
    "import seaborn as sns\n",
    "sns.set(style=\"whitegrid\")\n",
    "\n",
    "from pandas.tools.plotting import autocorrelation_plot\n",
    "import seaborn as sns\n",
    "% matplotlib inline\n",
    "cm_light = mpl.colors.ListedColormap(['#77E0A0', '#FF8080', '#A0A0FF'])\n",
    "cm_dark = mpl.colors.ListedColormap(['g', 'r', 'b'])\n"
   ]
  },
  {
   "cell_type": "code",
   "execution_count": 35,
   "metadata": {},
   "outputs": [
    {
     "name": "stdout",
     "output_type": "stream",
     "text": [
      "train set有 1100 行, 31 列\n",
      "test set有 350 行, 31 列\n"
     ]
    }
   ],
   "source": [
    "import xgboost as xgb\n",
    "HR_train = pd.read_csv(\"data/pfm_train.csv\")\n",
    "train_size = HR_train.shape[0]\n",
    "HR_test = pd.read_csv('data/pfm_test.csv')\n",
    "HR_test['Attrition']= None\n",
    "print(\"train set有 %d 行, %d 列\"  % HR_train.shape)\n",
    "print(\"test set有 %d 行, %d 列\"  % HR_test.shape)"
   ]
  },
  {
   "cell_type": "code",
   "execution_count": 36,
   "metadata": {},
   "outputs": [
    {
     "name": "stdout",
     "output_type": "stream",
     "text": [
      "samples# in test dataset: 350\n"
     ]
    }
   ],
   "source": [
    "HR_emp_att = pd.concat([HR_train,HR_test],axis=0)\n",
    "HR_emp_att = HR_emp_att.reset_index(drop=True)\n",
    "none_attr_cnt = HR_emp_att.Attrition.isnull().sum()\n",
    "print('samples# in test dataset: %d'%none_attr_cnt)"
   ]
  },
  {
   "cell_type": "code",
   "execution_count": 37,
   "metadata": {},
   "outputs": [
    {
     "name": "stdout",
     "output_type": "stream",
     "text": [
      "数据集有 1450 行, 31 列\n"
     ]
    }
   ],
   "source": [
    "dim = HR_emp_att.shape\n",
    "\n",
    "print(\"数据集有 %d 行, %d 列\"  % dim)"
   ]
  },
  {
   "cell_type": "markdown",
   "metadata": {},
   "source": [
    "## Check numeric data distribution are same between train/test dataset \n",
    "if any feature does not follow norm, create distritized feature"
   ]
  },
  {
   "cell_type": "code",
   "execution_count": 38,
   "metadata": {},
   "outputs": [
    {
     "data": {
      "text/html": [
       "<div>\n",
       "<style scoped>\n",
       "    .dataframe tbody tr th:only-of-type {\n",
       "        vertical-align: middle;\n",
       "    }\n",
       "\n",
       "    .dataframe tbody tr th {\n",
       "        vertical-align: top;\n",
       "    }\n",
       "\n",
       "    .dataframe thead th {\n",
       "        text-align: right;\n",
       "    }\n",
       "</style>\n",
       "<table border=\"1\" class=\"dataframe\">\n",
       "  <thead>\n",
       "    <tr style=\"text-align: right;\">\n",
       "      <th></th>\n",
       "      <th>col</th>\n",
       "      <th>kstest</th>\n",
       "      <th>ksvalue</th>\n",
       "      <th>pvalue</th>\n",
       "    </tr>\n",
       "  </thead>\n",
       "  <tbody>\n",
       "    <tr>\n",
       "      <th>1</th>\n",
       "      <td>DistanceFromHome</td>\n",
       "      <td>1.000000</td>\n",
       "      <td>0.068701</td>\n",
       "      <td>0.156783</td>\n",
       "    </tr>\n",
       "    <tr>\n",
       "      <th>20</th>\n",
       "      <td>YearsSinceLastPromotion</td>\n",
       "      <td>1.000000</td>\n",
       "      <td>0.047922</td>\n",
       "      <td>0.565514</td>\n",
       "    </tr>\n",
       "    <tr>\n",
       "      <th>17</th>\n",
       "      <td>WorkLifeBalance</td>\n",
       "      <td>0.999968</td>\n",
       "      <td>0.046364</td>\n",
       "      <td>0.608083</td>\n",
       "    </tr>\n",
       "    <tr>\n",
       "      <th>12</th>\n",
       "      <td>RelationshipSatisfaction</td>\n",
       "      <td>0.999968</td>\n",
       "      <td>0.045714</td>\n",
       "      <td>0.625997</td>\n",
       "    </tr>\n",
       "    <tr>\n",
       "      <th>16</th>\n",
       "      <td>TrainingTimesLastYear</td>\n",
       "      <td>1.000000</td>\n",
       "      <td>0.040260</td>\n",
       "      <td>0.774586</td>\n",
       "    </tr>\n",
       "  </tbody>\n",
       "</table>\n",
       "</div>"
      ],
      "text/plain": [
       "                         col    kstest   ksvalue    pvalue\n",
       "1           DistanceFromHome  1.000000  0.068701  0.156783\n",
       "20   YearsSinceLastPromotion  1.000000  0.047922  0.565514\n",
       "17           WorkLifeBalance  0.999968  0.046364  0.608083\n",
       "12  RelationshipSatisfaction  0.999968  0.045714  0.625997\n",
       "16     TrainingTimesLastYear  1.000000  0.040260  0.774586"
      ]
     },
     "execution_count": 38,
     "metadata": {},
     "output_type": "execute_result"
    }
   ],
   "source": [
    "from scipy.stats import kstest, ks_2samp\n",
    "ls_col= HR_test.select_dtypes(np.number).columns\n",
    "\n",
    "ls_pvalue = []\n",
    "ls_ksvalue = []\n",
    "ls_kstest = []\n",
    "for col in ls_col:\n",
    "    ksval,pvalue = ks_2samp(HR_train[col],HR_test[col])\n",
    "    ls_ksvalue.append(ksval)\n",
    "    ls_pvalue.append(pvalue)\n",
    "    kst = kstest(np.vstack([HR_train[col].values.reshape(-1,1),HR_test[col].values.reshape(-1,1)]),'norm')\n",
    "\n",
    "    ls_kstest.append(kst.statistic)\n",
    "\n",
    "df_ks2samp = pd.DataFrame({'col':ls_col,'pvalue':ls_pvalue,'ksvalue':ls_ksvalue,'kstest':ls_kstest}).sort_values('pvalue')\n",
    "df_ks2samp.head()\n"
   ]
  },
  {
   "cell_type": "markdown",
   "metadata": {},
   "source": [
    "above table show that DistanceFromHome and YearsSinceLastPromotion are not same prob distribution across train and test set, so that discritize is necessary \n",
    "\n",
    "----"
   ]
  },
  {
   "cell_type": "code",
   "execution_count": 39,
   "metadata": {},
   "outputs": [
    {
     "data": {
      "text/plain": [
       "(array([ 0.        ,  0.57457309,  0.        , ...,  0.        ,\n",
       "         0.57457309,  0.96447069]), -0.55939514593473039)"
      ]
     },
     "execution_count": 39,
     "metadata": {},
     "output_type": "execute_result"
    },
    {
     "data": {
      "image/png": "[encoded data removed]",
      "text/plain": [
       "<matplotlib.figure.Figure at 0xda132e8>"
      ]
     },
     "metadata": {},
     "output_type": "display_data"
    }
   ],
   "source": [
    "#  test transform feature to norm using box-cox\n",
    "col='YearsSinceLastPromotion'\n",
    "vals = np.vstack([HR_emp_att[col].values.reshape(-1,1),HR_test[col].values.reshape(-1,1)])\n",
    "# pd.qcut(pd.Series(vals.reshape(-1)),4,duplicates='drop')\n",
    "\n",
    "from scipy import stats\n",
    "fig=plt.figure(                                                                                                                               )\n",
    "ax2 = fig.add_subplot(212)\n",
    "\n",
    "stats.probplot(stats.boxcox(vals.ravel()+0.01)[0],dist=stats.norm,plot=ax2)\n",
    "stats.boxcox(vals.ravel()+1)\n"
   ]
  },
  {
   "cell_type": "code",
   "execution_count": 40,
   "metadata": {
    "scrolled": true
   },
   "outputs": [
    {
     "data": {
      "text/plain": [
       "<matplotlib.axes._subplots.AxesSubplot at 0xea84d30>"
      ]
     },
     "execution_count": 40,
     "metadata": {},
     "output_type": "execute_result"
    },
    {
     "data": {
      "image/png": "[encoded data removed]",
      "text/plain": [
       "<matplotlib.figure.Figure at 0xcaa5198>"
      ]
     },
     "metadata": {},
     "output_type": "display_data"
    }
   ],
   "source": [
    "plt.subplot(1,2,1)\n",
    "HR_test.DistanceFromHome.apply('log').plot(kind='kde',title='train - log')\n",
    "plt.subplot(1,2,2)\n",
    "HR_emp_att.DistanceFromHome.apply('log').plot(kind='kde',title='test - log')"
   ]
  },
  {
   "cell_type": "code",
   "execution_count": 41,
   "metadata": {},
   "outputs": [
    {
     "data": {
      "text/plain": [
       "<matplotlib.axes._subplots.AxesSubplot at 0xeacc438>"
      ]
     },
     "execution_count": 41,
     "metadata": {},
     "output_type": "execute_result"
    },
    {
     "data": {
      "image/png": "[encoded data removed]",
      "text/plain": [
       "<matplotlib.figure.Figure at 0x80f7c18>"
      ]
     },
     "metadata": {},
     "output_type": "display_data"
    }
   ],
   "source": [
    "HR_emp_att.MonthlyIncome.plot.kde()"
   ]
  },
  {
   "cell_type": "markdown",
   "metadata": {},
   "source": [
    "## plot clustering group of option level\n",
    "> verify if StockOptionLevel has strong correlate with Income"
   ]
  },
  {
   "cell_type": "code",
   "execution_count": 42,
   "metadata": {},
   "outputs": [
    {
     "data": {
      "image/png": "[encoded data removed]",
      "text/plain": [
       "<matplotlib.figure.Figure at 0xeb1e198>"
      ]
     },
     "metadata": {},
     "output_type": "display_data"
    },
    {
     "data": {
      "image/png": "[encoded data removed]",
      "text/plain": [
       "<matplotlib.figure.Figure at 0xcc45518>"
      ]
     },
     "metadata": {},
     "output_type": "display_data"
    }
   ],
   "source": [
    "g = sns.FacetGrid(HR_emp_att, col=\"Attrition\")\n",
    "g.map(plt.scatter, \"StockOptionLevel\", \"MonthlyIncome\", alpha=.7)\n",
    "g.add_legend();\n",
    "plt.figure()\n",
    "sns.pointplot(x ='StockOptionLevel' ,y ='MonthlyIncome', data=HR_emp_att, hue='Attrition' );\n",
    "\n"
   ]
  },
  {
   "cell_type": "markdown",
   "metadata": {},
   "source": [
    "## 删除没有实际含义的特征"
   ]
  },
  {
   "cell_type": "markdown",
   "metadata": {},
   "source": [
    "- 删除常数列\n",
    "- 删除员工编号\n",
    "- 根据员工编号按部门和岗位分组计算百分比（5段）"
   ]
  },
  {
   "cell_type": "code",
   "execution_count": 43,
   "metadata": {},
   "outputs": [
    {
     "name": "stdout",
     "output_type": "stream",
     "text": [
      "特征值相同的列：\n",
      "Index(['Over18', 'StandardHours'], dtype='object')\n"
     ]
    }
   ],
   "source": [
    "feature_unique_cnt = HR_emp_att.apply(lambda c : len(c.unique()))\n",
    "print('特征值相同的列：')\n",
    "features_has_same_val = feature_unique_cnt[feature_unique_cnt==1]\n",
    "print(features_has_same_val.index)\n"
   ]
  },
  {
   "cell_type": "code",
   "execution_count": 44,
   "metadata": {},
   "outputs": [
    {
     "name": "stdout",
     "output_type": "stream",
     "text": [
      "删除重复值列后，数据集有 1450 行, 29 列\n"
     ]
    }
   ],
   "source": [
    "# 删除Over18/ StandardHours\n",
    "if features_has_same_val.index.values[0] in HR_emp_att.columns:\n",
    "    HR_emp_att = HR_emp_att.drop(features_has_same_val.index, axis=1)\n",
    "dim = HR_emp_att.shape\n",
    "print(\"删除重复值列后，数据集有 %d 行, %d 列\"  % dim)"
   ]
  },
  {
   "cell_type": "code",
   "execution_count": 58,
   "metadata": {},
   "outputs": [
    {
     "name": "stdout",
     "output_type": "stream",
     "text": [
      "删除EmployeeNumber列后，数据集有 1450 行, 29 列\n"
     ]
    }
   ],
   "source": [
    "# 由于缺少员工编号的上下文背景，删除EmployeeNumber\n",
    "if 'EmployeeNumber' in HR_emp_att.columns:\n",
    "    HR_emp_att['EmpNumQauntile_In_DeptRole']= HR_emp_att.groupby(['Department','JobRole'])['EmployeeNumber'].transform(lambda g: pd.qcut(g.rank(),5,labels=range(5)))\n",
    "    HR_emp_att = HR_emp_att.drop('EmployeeNumber', axis=1)\n",
    "dim = HR_emp_att.shape\n",
    "print(\"删除EmployeeNumber列后，数据集有 %d 行, %d 列\"  % dim)"
   ]
  },
  {
   "cell_type": "markdown",
   "metadata": {},
   "source": [
    "## 类别变量、数值变量类型重定义\n",
    "根据字段描述，下列字段需要转换成类别特征：\n",
    "- Education\n",
    "- EnvironmentSatisfaction\n",
    "- JobInvolvement\n",
    "- JobLevel\n",
    "- JobSatisfaction\n",
    "- PerformanceRating\n",
    "- RelationshipSatisfaction\n",
    "- StockOptionLevel\n",
    "- WorkLifeBalance\n",
    "- Attrition"
   ]
  },
  {
   "cell_type": "code",
   "execution_count": 60,
   "metadata": {
    "collapsed": true
   },
   "outputs": [],
   "source": [
    "HR_emp_att.Education = pd.Categorical(HR_emp_att.Education)\n",
    "HR_emp_att.JobLevel = pd.Categorical(HR_emp_att.JobLevel)\n",
    "HR_emp_att.StockOptionLevel = pd.Categorical(HR_emp_att.StockOptionLevel)\n",
    "HR_emp_att.Attrition = pd.Categorical(HR_emp_att.Attrition)\n",
    "\n",
    "for obj_var in HR_emp_att.select_dtypes(['object']).columns.values:\n",
    "    HR_emp_att[obj_var] = pd.Categorical(HR_emp_att[obj_var])"
   ]
  },
  {
   "cell_type": "code",
   "execution_count": 61,
   "metadata": {
    "scrolled": true
   },
   "outputs": [
    {
     "name": "stdout",
     "output_type": "stream",
     "text": [
      "Age                              int64\n",
      "Attrition                     category\n",
      "BusinessTravel                category\n",
      "Department                    category\n",
      "DistanceFromHome                 int64\n",
      "Education                     category\n",
      "EducationField                category\n",
      "EnvironmentSatisfaction          int64\n",
      "Gender                        category\n",
      "JobInvolvement                   int64\n",
      "JobLevel                      category\n",
      "JobRole                       category\n",
      "JobSatisfaction                  int64\n",
      "MaritalStatus                 category\n",
      "MonthlyIncome                    int64\n",
      "NumCompaniesWorked               int64\n",
      "OverTime                      category\n",
      "PercentSalaryHike                int64\n",
      "PerformanceRating                int64\n",
      "RelationshipSatisfaction         int64\n",
      "StockOptionLevel              category\n",
      "TotalWorkingYears                int64\n",
      "TrainingTimesLastYear            int64\n",
      "WorkLifeBalance                  int64\n",
      "YearsAtCompany                   int64\n",
      "YearsInCurrentRole               int64\n",
      "YearsSinceLastPromotion          int64\n",
      "YearsWithCurrManager             int64\n",
      "EmpNumQauntile_In_DeptRole    category\n",
      "dtype: object\n"
     ]
    }
   ],
   "source": [
    "print(HR_emp_att.dtypes)\n"
   ]
  },
  {
   "cell_type": "markdown",
   "metadata": {},
   "source": [
    "## test linearcolnity with MonthlyIncome\n"
   ]
  },
  {
   "cell_type": "code",
   "execution_count": 112,
   "metadata": {},
   "outputs": [
    {
     "name": "stdout",
     "output_type": "stream",
     "text": [
      "                              Feature      Support\n",
      "21                         JobLevel_5  5345.812331\n",
      "23                    JobRole_Manager  3725.075845\n",
      "25          JobRole_Research Director  3692.142931\n",
      "20                         JobLevel_4  3488.747562\n",
      "19                         JobLevel_3  1380.318504\n",
      "16     EducationField_Human Resources   191.378880\n",
      "22  JobRole_Healthcare Representative   167.324439\n",
      "24     JobRole_Manufacturing Director   164.063858\n",
      "26            JobRole_Sales Executive   123.126923\n",
      "13                        Education_1    95.446663\n",
      "28                 StockOptionLevel_1    81.946786\n",
      "6                   TotalWorkingYears    81.347941\n",
      "12                   Department_Sales    55.133867\n",
      "30       EmpNumQauntile_In_DeptRole_3    51.677384\n",
      "17           EducationField_Marketing    42.532126\n",
      "11       BusinessTravel_Travel_Rarely    39.530541\n",
      "3                            OverTime    38.048716\n",
      "2                  NumCompaniesWorked    31.383698\n",
      "8                      YearsAtCompany    28.711577\n",
      "29       EmpNumQauntile_In_DeptRole_2    23.876505\n",
      "10            YearsSinceLastPromotion    23.408088\n",
      "7                     WorkLifeBalance    22.779092\n",
      "18               EducationField_Other    18.733982\n",
      "15                        Education_5    17.624353\n",
      "0                                 Age    14.990561\n",
      "5            RelationshipSatisfaction    14.919740\n",
      "31       EmpNumQauntile_In_DeptRole_4    14.563074\n",
      "27              MaritalStatus_Married    13.893828\n",
      "9                  YearsInCurrentRole    11.121243\n",
      "4                   PercentSalaryHike     4.088210\n",
      "1                     JobSatisfaction     2.486844\n",
      "14                        Education_4     1.492952\n",
      "5501.82560582\n",
      "r2 square:0.932755\n"
     ]
    }
   ],
   "source": [
    "from sklearn.linear_model import Ridge\n",
    "from sklearn.metrics import r2_score\n",
    "\n",
    "X_train = HR_emp_att.drop(['Attrition','MonthlyIncome'], axis=1).copy()\n",
    "y_train = HR_emp_att.MonthlyIncome\n",
    "\n",
    "\n",
    "def factorize_dataframe(data,cols):\n",
    "    for col in cols:\n",
    "        if data[col].dropna().drop_duplicates().shape[0]>2:\n",
    "            df_dummy = pd.get_dummies(data[col],prefix=col) # factorize return 2 elements array, values and category index\n",
    "            data = pd.concat([data,df_dummy],axis=1)\n",
    "            data=data.drop(col,axis=1)\n",
    "        else:\n",
    "            data[col] = pd.factorize(data[col])[0]\n",
    "    return data\n",
    "     \n",
    "     \n",
    "cat_vars = X_train.dtypes.index[X_train.dtypes=='category']\n",
    "X_train = factorize_dataframe(X_train, cat_vars)\n",
    "# build ridge model\n",
    "model_ridge = Ridge(normalize=True,random_state=44,fit_intercept=True,alpha=.3)\n",
    "model_ridge.fit(X_train,y_train)\n",
    "df_eval = pd.DataFrame({'Feature':X_train.columns[(model_ridge.coef_>.01)],'Support':model_ridge.coef_[model_ridge.coef_>.01]},columns=['Feature','Support'])\n",
    "print(df_eval.sort_values('Support',ascending=False))\n",
    "print(model_ridge.intercept_)\n",
    "r_sqr = model_ridge.score(X_train,y_train)\n",
    "print('r2 square:%f'%r_sqr)"
   ]
  },
  {
   "cell_type": "markdown",
   "metadata": {},
   "source": [
    "## test feature importance"
   ]
  },
  {
   "cell_type": "code",
   "execution_count": 265,
   "metadata": {
    "scrolled": false
   },
   "outputs": [
    {
     "name": "stdout",
     "output_type": "stream",
     "text": [
      "                        Feature   Support\n",
      "5                 MonthlyIncome  0.048277\n",
      "17                 Satisfaction  0.046030\n",
      "20           IncomeRiseEachYear  0.043508\n",
      "18             IncomeCompareAvg  0.039094\n",
      "0                           Age  0.034364\n",
      "7                      OverTime  0.033325\n",
      "13               YearsAtCompany  0.030384\n",
      "21                 WorkBeginAge  0.029990\n",
      "16         YearsWithCurrManager  0.025126\n",
      "1              DistanceFromHome  0.022500\n",
      "22              WorkingYearsPct  0.021062\n",
      "10            TotalWorkingYears  0.020356\n",
      "6            NumCompaniesWorked  0.018997\n",
      "11        TrainingTimesLastYear  0.018642\n",
      "14           YearsInCurrentRole  0.018421\n",
      "26           StockOptionLevel_0  0.016949\n",
      "23       EducationField_Medical  0.016871\n",
      "2       EnvironmentSatisfaction  0.016225\n",
      "4               JobSatisfaction  0.016026\n",
      "3                JobInvolvement  0.015606\n",
      "12              WorkLifeBalance  0.014340\n",
      "8             PercentSalaryHike  0.014003\n",
      "19        LastPromoteCompareAvg  0.013677\n",
      "9      RelationshipSatisfaction  0.011724\n",
      "15      YearsSinceLastPromotion  0.011541\n",
      "27           StockOptionLevel_1  0.011357\n",
      "24                   JobLevel_1  0.011141\n",
      "25         MaritalStatus_Single  0.010558\n",
      "28  TotalWorkingYearsGroup_good  0.010445\n",
      "             precision    recall  f1-score   support\n",
      "\n",
      "          0       0.98      1.00      0.99       922\n",
      "          1       1.00      0.90      0.95       178\n",
      "\n",
      "avg / total       0.98      0.98      0.98      1100\n",
      "\n"
     ]
    }
   ],
   "source": [
    "\"\"\"\n",
    "test feature importance\n",
    "\"\"\"\n",
    "from sklearn.ensemble import RandomForestClassifier\n",
    "from sklearn.metrics import r2_score, classification_report\n",
    "\n",
    "X_train = HR_emp_att[HR_emp_att.Attrition.isnull()==False].drop(['Attrition'], axis=1).copy()\n",
    "y_train = HR_emp_att[HR_emp_att.Attrition.isnull()==False].Attrition\n",
    "\n",
    "   \n",
    "cat_vars = X_train.dtypes.index[X_train.dtypes=='category']\n",
    "X_train = factorize_dataframe(X_train, cat_vars)\n",
    "# build ridge model\n",
    "model_rfc = RandomForestClassifier(random_state=44)\n",
    "model_rfc.fit(X_train,y_train)\n",
    "df_eval = pd.DataFrame({'Feature':X_train.columns[(model_rfc.feature_importances_>.01)],'Support':model_rfc.feature_importances_[model_rfc.feature_importances_>.01]},columns=['Feature','Support'])\n",
    "print(df_eval.sort_values('Support',ascending=False))\n",
    "y_hat = model_rfc.predict(X_train)\n",
    "clf_reprot = classification_report(y_train.ravel(),y_hat.ravel())\n",
    "print(clf_reprot)"
   ]
  },
  {
   "cell_type": "markdown",
   "metadata": {},
   "source": [
    "## plot distribution"
   ]
  },
  {
   "cell_type": "code",
   "execution_count": 113,
   "metadata": {
    "scrolled": false
   },
   "outputs": [
    {
     "data": {
      "image/png": "[encoded data removed]",
      "text/plain": [
       "<matplotlib.figure.Figure at 0xd791748>"
      ]
     },
     "metadata": {},
     "output_type": "display_data"
    }
   ],
   "source": [
    "fig, axes = plt.subplots(10, 3, figsize=(18, 28))\n",
    "plt.subplots_adjust(wspace=0.3, hspace=0.5)\n",
    "numeric_features= HR_emp_att.dtypes.index[HR_emp_att.dtypes=='int64']\n",
    "cat_features= HR_emp_att.dtypes.index[(HR_emp_att.dtypes=='category') & (HR_emp_att.dtypes.index!= 'Attrition')]\n",
    "\n",
    "\n",
    "for i in range(len(numeric_features)):\n",
    "    i0=int(i/3); i1=i%3;\n",
    "    \n",
    "    feature_numeric = numeric_features[i]\n",
    "    HR_emp_att.groupby('Attrition')[feature_numeric].plot.hist(ax = axes[i0][i1],stacked=True); axes[i0][i1].set_title(feature_numeric)\n",
    "    \n",
    "for feature in cat_features:\n",
    "    i+=1\n",
    "    if i>=30:\n",
    "        break\n",
    "        \n",
    "    i0=int(i/3); i1=i%3;\n",
    "    df_grouped = HR_emp_att.groupby([feature,'Attrition'])[feature].count().unstack()\n",
    "    df_grouped.plot(kind='bar',stacked=True,ax=axes[i0][i1]);axes[i0][i1].set_title(feature)\n",
    "    \n",
    "fig.text(0.5,0.9,'variable distributed by attrition',fontsize=25,horizontalalignment='center') \n",
    "plt.show()"
   ]
  },
  {
   "cell_type": "code",
   "execution_count": 116,
   "metadata": {},
   "outputs": [
    {
     "data": {
      "application/vnd.jupyter.widget-view+json": {
       "model_id": "6efc229ae21e466994036247288d8eef"
      }
     },
     "metadata": {},
     "output_type": "display_data"
    }
   ],
   "source": [
    "from ipywidgets import interact, interactive, fixed, interact_manual\n",
    "import ipywidgets as widgets\n",
    "@interact(y=widgets.Dropdown(\n",
    "    options=numeric_features.tolist(),\n",
    "    description='Number:',\n",
    "    disabled=False,\n",
    "))\n",
    "def show_bar(y):\n",
    "    f, axarr = plt.subplots(1,2,figsize=(16,6))\n",
    "    sns.violinplot(data=HR_emp_att, palette=\"Set3\", x='Attrition', y=y, ax=axarr[0]);\n",
    "#     sns.swarmplot(data=HR_emp_att, palette=\"Set3\", x='Attrition', y=y, color=\"w\", alpha=.5, ax=axarr[0]);\n",
    "    \n",
    "    sns.boxplot(data=HR_emp_att, palette=\"Set3\", x='Attrition', y=y, ax=axarr[1]);\n",
    "    sns.despine(left=True, bottom=True)\n",
    "#     plt.tight_layout()\n",
    "    plt.show();"
   ]
  },
  {
   "cell_type": "markdown",
   "metadata": {},
   "source": [
    "## Exploratory analysis"
   ]
  },
  {
   "cell_type": "code",
   "execution_count": 257,
   "metadata": {},
   "outputs": [
    {
     "name": "stdout",
     "output_type": "stream",
     "text": [
      "male are more than female accross job level\n",
      "\n"
     ]
    },
    {
     "data": {
      "text/html": [
       "<div>\n",
       "<style scoped>\n",
       "    .dataframe tbody tr th:only-of-type {\n",
       "        vertical-align: middle;\n",
       "    }\n",
       "\n",
       "    .dataframe tbody tr th {\n",
       "        vertical-align: top;\n",
       "    }\n",
       "\n",
       "    .dataframe thead th {\n",
       "        text-align: right;\n",
       "    }\n",
       "</style>\n",
       "<table border=\"1\" class=\"dataframe\">\n",
       "  <thead>\n",
       "    <tr style=\"text-align: right;\">\n",
       "      <th></th>\n",
       "      <th>JobLevel</th>\n",
       "      <th>1</th>\n",
       "      <th>2</th>\n",
       "      <th>3</th>\n",
       "      <th>4</th>\n",
       "      <th>5</th>\n",
       "    </tr>\n",
       "    <tr>\n",
       "      <th>JobRole</th>\n",
       "      <th>Gender</th>\n",
       "      <th></th>\n",
       "      <th></th>\n",
       "      <th></th>\n",
       "      <th></th>\n",
       "      <th></th>\n",
       "    </tr>\n",
       "  </thead>\n",
       "  <tbody>\n",
       "    <tr>\n",
       "      <th rowspan=\"2\" valign=\"top\">Healthcare Representative</th>\n",
       "      <th>Female</th>\n",
       "      <td></td>\n",
       "      <td>40.79</td>\n",
       "      <td>37.21</td>\n",
       "      <td>37.5</td>\n",
       "      <td></td>\n",
       "    </tr>\n",
       "    <tr>\n",
       "      <th>Male</th>\n",
       "      <td></td>\n",
       "      <td>59.21</td>\n",
       "      <td>62.79</td>\n",
       "      <td>62.5</td>\n",
       "      <td></td>\n",
       "    </tr>\n",
       "    <tr>\n",
       "      <th rowspan=\"2\" valign=\"top\">Human Resources</th>\n",
       "      <th>Female</th>\n",
       "      <td>30.3</td>\n",
       "      <td>23.08</td>\n",
       "      <td>50</td>\n",
       "      <td></td>\n",
       "      <td></td>\n",
       "    </tr>\n",
       "    <tr>\n",
       "      <th>Male</th>\n",
       "      <td>69.7</td>\n",
       "      <td>76.92</td>\n",
       "      <td>50</td>\n",
       "      <td></td>\n",
       "      <td></td>\n",
       "    </tr>\n",
       "    <tr>\n",
       "      <th rowspan=\"2\" valign=\"top\">Laboratory Technician</th>\n",
       "      <th>Female</th>\n",
       "      <td>34.01</td>\n",
       "      <td>30.91</td>\n",
       "      <td>33.33</td>\n",
       "      <td></td>\n",
       "      <td></td>\n",
       "    </tr>\n",
       "    <tr>\n",
       "      <th>Male</th>\n",
       "      <td>65.99</td>\n",
       "      <td>69.09</td>\n",
       "      <td>66.67</td>\n",
       "      <td></td>\n",
       "      <td></td>\n",
       "    </tr>\n",
       "    <tr>\n",
       "      <th rowspan=\"2\" valign=\"top\">Manager</th>\n",
       "      <th>Female</th>\n",
       "      <td></td>\n",
       "      <td></td>\n",
       "      <td>58.33</td>\n",
       "      <td>47.83</td>\n",
       "      <td>38.1</td>\n",
       "    </tr>\n",
       "    <tr>\n",
       "      <th>Male</th>\n",
       "      <td></td>\n",
       "      <td></td>\n",
       "      <td>41.67</td>\n",
       "      <td>52.17</td>\n",
       "      <td>61.9</td>\n",
       "    </tr>\n",
       "    <tr>\n",
       "      <th rowspan=\"2\" valign=\"top\">Manufacturing Director</th>\n",
       "      <th>Female</th>\n",
       "      <td></td>\n",
       "      <td>46.07</td>\n",
       "      <td>48.84</td>\n",
       "      <td>80</td>\n",
       "      <td></td>\n",
       "    </tr>\n",
       "    <tr>\n",
       "      <th>Male</th>\n",
       "      <td></td>\n",
       "      <td>53.93</td>\n",
       "      <td>51.16</td>\n",
       "      <td>20</td>\n",
       "      <td></td>\n",
       "    </tr>\n",
       "    <tr>\n",
       "      <th rowspan=\"2\" valign=\"top\">Research Director</th>\n",
       "      <th>Female</th>\n",
       "      <td></td>\n",
       "      <td></td>\n",
       "      <td>57.14</td>\n",
       "      <td>40</td>\n",
       "      <td>28</td>\n",
       "    </tr>\n",
       "    <tr>\n",
       "      <th>Male</th>\n",
       "      <td></td>\n",
       "      <td></td>\n",
       "      <td>42.86</td>\n",
       "      <td>60</td>\n",
       "      <td>72</td>\n",
       "    </tr>\n",
       "    <tr>\n",
       "      <th rowspan=\"2\" valign=\"top\">Research Scientist</th>\n",
       "      <th>Female</th>\n",
       "      <td>37.07</td>\n",
       "      <td>47.37</td>\n",
       "      <td>0</td>\n",
       "      <td></td>\n",
       "      <td></td>\n",
       "    </tr>\n",
       "    <tr>\n",
       "      <th>Male</th>\n",
       "      <td>62.93</td>\n",
       "      <td>52.63</td>\n",
       "      <td>100</td>\n",
       "      <td></td>\n",
       "      <td></td>\n",
       "    </tr>\n",
       "    <tr>\n",
       "      <th rowspan=\"2\" valign=\"top\">Sales Executive</th>\n",
       "      <th>Female</th>\n",
       "      <td></td>\n",
       "      <td>41.74</td>\n",
       "      <td>34.18</td>\n",
       "      <td>50</td>\n",
       "      <td></td>\n",
       "    </tr>\n",
       "    <tr>\n",
       "      <th>Male</th>\n",
       "      <td></td>\n",
       "      <td>58.26</td>\n",
       "      <td>65.82</td>\n",
       "      <td>50</td>\n",
       "      <td></td>\n",
       "    </tr>\n",
       "    <tr>\n",
       "      <th rowspan=\"2\" valign=\"top\">Sales Representative</th>\n",
       "      <th>Female</th>\n",
       "      <td>46.05</td>\n",
       "      <td>42.86</td>\n",
       "      <td></td>\n",
       "      <td></td>\n",
       "      <td></td>\n",
       "    </tr>\n",
       "    <tr>\n",
       "      <th>Male</th>\n",
       "      <td>53.95</td>\n",
       "      <td>57.14</td>\n",
       "      <td></td>\n",
       "      <td></td>\n",
       "      <td></td>\n",
       "    </tr>\n",
       "  </tbody>\n",
       "</table>\n",
       "</div>"
      ],
      "text/plain": [
       "JobLevel                              1      2      3      4     5\n",
       "JobRole                   Gender                                  \n",
       "Healthcare Representative Female         40.79  37.21   37.5      \n",
       "                          Male           59.21  62.79   62.5      \n",
       "Human Resources           Female   30.3  23.08     50             \n",
       "                          Male     69.7  76.92     50             \n",
       "Laboratory Technician     Female  34.01  30.91  33.33             \n",
       "                          Male    65.99  69.09  66.67             \n",
       "Manager                   Female                58.33  47.83  38.1\n",
       "                          Male                  41.67  52.17  61.9\n",
       "Manufacturing Director    Female         46.07  48.84     80      \n",
       "                          Male           53.93  51.16     20      \n",
       "Research Director         Female                57.14     40    28\n",
       "                          Male                  42.86     60    72\n",
       "Research Scientist        Female  37.07  47.37      0             \n",
       "                          Male    62.93  52.63    100             \n",
       "Sales Executive           Female         41.74  34.18     50      \n",
       "                          Male           58.26  65.82     50      \n",
       "Sales Representative      Female  46.05  42.86                    \n",
       "                          Male    53.95  57.14                    "
      ]
     },
     "execution_count": 257,
     "metadata": {},
     "output_type": "execute_result"
    }
   ],
   "source": [
    "\"\"\"male are more than female accross job level\n",
    "\"\"\"\n",
    "print(__doc__)\n",
    "df_pivot = HR_emp_att.pivot_table(values='Age',index=['JobRole','Gender'],columns=['JobLevel'],aggfunc='count',fill_value=0)\n",
    "df_pivot\n",
    "for col in df_pivot.columns:\n",
    "    df_pivot[col] = df_pivot.groupby(level=0)[col].transform(lambda g: g.astype(np.float32)/g.sum()*100)\n",
    "df_pivot.round(2).fillna('')"
   ]
  },
  {
   "cell_type": "code",
   "execution_count": 258,
   "metadata": {},
   "outputs": [
    {
     "name": "stdout",
     "output_type": "stream",
     "text": [
      "avg salary hike looks like same across dept and level\n",
      "\n"
     ]
    },
    {
     "data": {
      "text/plain": [
       "Department              JobLevel\n",
       "Human Resources         1           14.666667\n",
       "                        2           14.769231\n",
       "                        3           15.666667\n",
       "                        4           14.500000\n",
       "                        5           14.571429\n",
       "Research & Development  1           15.340326\n",
       "                        2           15.270758\n",
       "                        3           15.476190\n",
       "                        4           15.818182\n",
       "                        5           14.187500\n",
       "Sales                   1           15.513158\n",
       "                        2           15.164557\n",
       "                        3           14.771084\n",
       "                        4           14.515152\n",
       "                        5           15.416667\n",
       "Name: PercentSalaryHike, dtype: float64"
      ]
     },
     "execution_count": 258,
     "metadata": {},
     "output_type": "execute_result"
    }
   ],
   "source": [
    "\"\"\"avg salary hike looks like same across dept and level\n",
    "\"\"\"\n",
    "print(__doc__)\n",
    "HR_emp_att.groupby(['Department','JobLevel'])['PercentSalaryHike'].mean()"
   ]
  },
  {
   "cell_type": "code",
   "execution_count": 115,
   "metadata": {},
   "outputs": [
    {
     "data": {
      "image/png": "[encoded data removed]",
      "text/plain": [
       "<matplotlib.figure.Figure at 0xd8618d0>"
      ]
     },
     "metadata": {},
     "output_type": "display_data"
    }
   ],
   "source": [
    "# Set up the matplotlib figure\n",
    "f, ax = plt.subplots(figsize=(11, 9))\n",
    "\n",
    "corr = HR_emp_att.corr()\n",
    "# Generate a mask for the upper triangle\n",
    "mask = np.zeros_like(corr, dtype=np.bool)\n",
    "mask[np.triu_indices_from(mask)] = True\n",
    "\n",
    "# Generate a custom diverging colormap\n",
    "cmap = sns.diverging_palette(220, 10, as_cmap=True)\n",
    "\n",
    "# Draw the heatmap with the mask and correct aspect ratio\n",
    "sns.heatmap(corr, mask=mask, cmap=cmap, vmax=1, center=0,\n",
    "            square=True, linewidths=.5, cbar_kws={\"shrink\": .5})\n",
    "plt.title('correlate between variables')\n",
    "plt.show()"
   ]
  },
  {
   "cell_type": "markdown",
   "metadata": {
    "collapsed": true
   },
   "source": [
    "## feature Generation\n",
    "- Age -> AgeGroup: [young <30,middle <40, adult]\n",
    "- DistanceFromHome -> HomeDistanceGroup: [nearby <10, faraway]\n",
    "- Discritize number features\n",
    "\n",
    "```\n",
    "HR_transform is new feature dataset\n",
    "\n",
    "```"
   ]
  },
  {
   "cell_type": "code",
   "execution_count": 260,
   "metadata": {
    "collapsed": true
   },
   "outputs": [],
   "source": [
    "from sklearn import cluster\n",
    "# AgeGroup\n",
    "HR_emp_att['AgeGroup']= pd.cut(HR_emp_att.Age,[18,25,35,45,65],labels=['young','middle','adult','old'],include_lowest=True)\n",
    "# KMeans group\n",
    "HR_emp_att['Satisfaction'] = HR_emp_att.apply(lambda x: (x.EnvironmentSatisfaction+x.JobInvolvement+x.JobSatisfaction+x.RelationshipSatisfaction+x.WorkLifeBalance)/5.0,axis=1)\n",
    "avg_satisfaction = HR_emp_att['Satisfaction'].mode()\n",
    "income_avg = HR_emp_att.groupby(['Department','JobLevel','JobRole'])['MonthlyIncome'].mean()\n",
    "\n",
    "HR_emp_att['IncomeCompareAvg']=[p.MonthlyIncome / income_avg[p.Department,p.JobLevel,p.JobRole] for p in HR_emp_att.itertuples()]\n",
    "\n",
    "last_prom_avg = HR_emp_att.groupby(['Department','JobLevel'])['YearsSinceLastPromotion'].mean()\n",
    "HR_emp_att['LastPromoteCompareAvg']=[p.YearsSinceLastPromotion / last_prom_avg[p.Department,p.JobLevel] for p in HR_emp_att.itertuples()]\n",
    "HR_emp_att = HR_emp_att.assign(IncomeRiseEachYear=lambda x: x.MonthlyIncome/(x.TotalWorkingYears+1))\n",
    "HR_emp_att['Satisfied'] = HR_emp_att['Satisfaction']>=HR_emp_att['Satisfaction'].median()\n",
    "HR_emp_att['JobSatisfied'] = HR_emp_att['JobSatisfaction']>=HR_emp_att['JobSatisfaction'].median()\n",
    "HR_emp_att['WorkLifeBalanceSatisfied'] = HR_emp_att['WorkLifeBalance']>=HR_emp_att['WorkLifeBalance'].median()\n",
    "HR_emp_att['EnvironmentSatisfied'] = HR_emp_att['EnvironmentSatisfaction']>=HR_emp_att['EnvironmentSatisfaction'].median()\n",
    "HR_emp_att['PerformanceRatingGroup'] = HR_emp_att['PerformanceRating']>=HR_emp_att['PerformanceRating'].median()\n",
    "HR_emp_att['WorkBeginAge'] = HR_emp_att['Age']-HR_emp_att['TotalWorkingYears']\n",
    "HR_emp_att['WorkBeginAge'] = HR_emp_att['WorkBeginAge']/HR_emp_att['WorkBeginAge'].median()\n",
    "HR_emp_att['WorkingYearsPct'] = HR_emp_att['YearsAtCompany']/(HR_emp_att['TotalWorkingYears']+1)\n",
    "\n",
    "qcut_cols = ['DistanceFromHome','IncomeCompareAvg','TotalWorkingYears','LastPromoteCompareAvg', \\\n",
    "             'PercentSalaryHike','TrainingTimesLastYear','YearsInCurrentRole', 'WorkBeginAge',\\\n",
    "             'YearsWithCurrManager','NumCompaniesWorked','YearsAtCompany','IncomeRiseEachYear','WorkingYearsPct']\n",
    "for col in qcut_cols:\n",
    "    vals = HR_emp_att[col].values.reshape(-1,1)\n",
    "#     HR_emp_att[col+'Group'] = pd.qcut(pd.Series(vals.reshape(-1)),4,duplicates='drop')\n",
    "    md_km = cluster.KMeans(n_clusters=4)\n",
    "    md_km.fit(vals)\n",
    "    HR_emp_att[col+'Group'] = pd.Categorical.from_codes(md_km.predict(vals),['bad','soso','good','awesome'])\n",
    "# remove temp feature\n",
    "#HR_emp_att.drop(['Satisfaction','LastPromoteCompareAvg','IncomeCompareAvg'],axis=1,inplace=True)\n",
    "HR_transform = HR_emp_att.drop(qcut_cols \\\n",
    "                + ['Age','EnvironmentSatisfaction','JobSatisfaction','WorkLifeBalance','PerformanceRating','YearsSinceLastPromotion','RelationshipSatisfaction','MonthlyIncome'],axis=1)"
   ]
  },
  {
   "cell_type": "code",
   "execution_count": 261,
   "metadata": {},
   "outputs": [
    {
     "data": {
      "text/html": [
       "<div>\n",
       "<style scoped>\n",
       "    .dataframe tbody tr th:only-of-type {\n",
       "        vertical-align: middle;\n",
       "    }\n",
       "\n",
       "    .dataframe tbody tr th {\n",
       "        vertical-align: top;\n",
       "    }\n",
       "\n",
       "    .dataframe thead th {\n",
       "        text-align: right;\n",
       "    }\n",
       "</style>\n",
       "<table border=\"1\" class=\"dataframe\">\n",
       "  <thead>\n",
       "    <tr style=\"text-align: right;\">\n",
       "      <th></th>\n",
       "      <th>Attrition</th>\n",
       "      <th>BusinessTravel</th>\n",
       "      <th>Department</th>\n",
       "      <th>Education</th>\n",
       "      <th>EducationField</th>\n",
       "      <th>Gender</th>\n",
       "      <th>JobInvolvement</th>\n",
       "      <th>JobLevel</th>\n",
       "      <th>JobRole</th>\n",
       "      <th>MaritalStatus</th>\n",
       "      <th>...</th>\n",
       "      <th>LastPromoteCompareAvgGroup</th>\n",
       "      <th>PercentSalaryHikeGroup</th>\n",
       "      <th>TrainingTimesLastYearGroup</th>\n",
       "      <th>YearsInCurrentRoleGroup</th>\n",
       "      <th>WorkBeginAgeGroup</th>\n",
       "      <th>YearsWithCurrManagerGroup</th>\n",
       "      <th>NumCompaniesWorkedGroup</th>\n",
       "      <th>YearsAtCompanyGroup</th>\n",
       "      <th>IncomeRiseEachYearGroup</th>\n",
       "      <th>WorkingYearsPctGroup</th>\n",
       "    </tr>\n",
       "  </thead>\n",
       "  <tbody>\n",
       "    <tr>\n",
       "      <th>0</th>\n",
       "      <td>0</td>\n",
       "      <td>Travel_Rarely</td>\n",
       "      <td>Research &amp; Development</td>\n",
       "      <td>4</td>\n",
       "      <td>Life Sciences</td>\n",
       "      <td>Male</td>\n",
       "      <td>2</td>\n",
       "      <td>2</td>\n",
       "      <td>Manufacturing Director</td>\n",
       "      <td>Divorced</td>\n",
       "      <td>...</td>\n",
       "      <td>bad</td>\n",
       "      <td>soso</td>\n",
       "      <td>good</td>\n",
       "      <td>soso</td>\n",
       "      <td>bad</td>\n",
       "      <td>soso</td>\n",
       "      <td>bad</td>\n",
       "      <td>soso</td>\n",
       "      <td>good</td>\n",
       "      <td>soso</td>\n",
       "    </tr>\n",
       "    <tr>\n",
       "      <th>1</th>\n",
       "      <td>0</td>\n",
       "      <td>Travel_Frequently</td>\n",
       "      <td>Research &amp; Development</td>\n",
       "      <td>4</td>\n",
       "      <td>Life Sciences</td>\n",
       "      <td>Female</td>\n",
       "      <td>3</td>\n",
       "      <td>3</td>\n",
       "      <td>Manufacturing Director</td>\n",
       "      <td>Divorced</td>\n",
       "      <td>...</td>\n",
       "      <td>bad</td>\n",
       "      <td>soso</td>\n",
       "      <td>good</td>\n",
       "      <td>soso</td>\n",
       "      <td>soso</td>\n",
       "      <td>bad</td>\n",
       "      <td>good</td>\n",
       "      <td>bad</td>\n",
       "      <td>awesome</td>\n",
       "      <td>good</td>\n",
       "    </tr>\n",
       "    <tr>\n",
       "      <th>2</th>\n",
       "      <td>1</td>\n",
       "      <td>Travel_Frequently</td>\n",
       "      <td>Research &amp; Development</td>\n",
       "      <td>3</td>\n",
       "      <td>Life Sciences</td>\n",
       "      <td>Male</td>\n",
       "      <td>1</td>\n",
       "      <td>2</td>\n",
       "      <td>Laboratory Technician</td>\n",
       "      <td>Single</td>\n",
       "      <td>...</td>\n",
       "      <td>bad</td>\n",
       "      <td>good</td>\n",
       "      <td>bad</td>\n",
       "      <td>bad</td>\n",
       "      <td>bad</td>\n",
       "      <td>soso</td>\n",
       "      <td>bad</td>\n",
       "      <td>soso</td>\n",
       "      <td>bad</td>\n",
       "      <td>soso</td>\n",
       "    </tr>\n",
       "    <tr>\n",
       "      <th>3</th>\n",
       "      <td>0</td>\n",
       "      <td>Travel_Rarely</td>\n",
       "      <td>Research &amp; Development</td>\n",
       "      <td>1</td>\n",
       "      <td>Life Sciences</td>\n",
       "      <td>Female</td>\n",
       "      <td>2</td>\n",
       "      <td>4</td>\n",
       "      <td>Manufacturing Director</td>\n",
       "      <td>Married</td>\n",
       "      <td>...</td>\n",
       "      <td>soso</td>\n",
       "      <td>awesome</td>\n",
       "      <td>bad</td>\n",
       "      <td>bad</td>\n",
       "      <td>soso</td>\n",
       "      <td>soso</td>\n",
       "      <td>bad</td>\n",
       "      <td>good</td>\n",
       "      <td>bad</td>\n",
       "      <td>soso</td>\n",
       "    </tr>\n",
       "    <tr>\n",
       "      <th>4</th>\n",
       "      <td>1</td>\n",
       "      <td>Travel_Frequently</td>\n",
       "      <td>Research &amp; Development</td>\n",
       "      <td>3</td>\n",
       "      <td>Medical</td>\n",
       "      <td>Male</td>\n",
       "      <td>2</td>\n",
       "      <td>1</td>\n",
       "      <td>Laboratory Technician</td>\n",
       "      <td>Divorced</td>\n",
       "      <td>...</td>\n",
       "      <td>bad</td>\n",
       "      <td>awesome</td>\n",
       "      <td>good</td>\n",
       "      <td>awesome</td>\n",
       "      <td>bad</td>\n",
       "      <td>awesome</td>\n",
       "      <td>bad</td>\n",
       "      <td>bad</td>\n",
       "      <td>soso</td>\n",
       "      <td>bad</td>\n",
       "    </tr>\n",
       "  </tbody>\n",
       "</table>\n",
       "<p>5 rows × 33 columns</p>\n",
       "</div>"
      ],
      "text/plain": [
       "  Attrition     BusinessTravel              Department Education  \\\n",
       "0         0      Travel_Rarely  Research & Development         4   \n",
       "1         0  Travel_Frequently  Research & Development         4   \n",
       "2         1  Travel_Frequently  Research & Development         3   \n",
       "3         0      Travel_Rarely  Research & Development         1   \n",
       "4         1  Travel_Frequently  Research & Development         3   \n",
       "\n",
       "  EducationField  Gender  JobInvolvement JobLevel                 JobRole  \\\n",
       "0  Life Sciences    Male               2        2  Manufacturing Director   \n",
       "1  Life Sciences  Female               3        3  Manufacturing Director   \n",
       "2  Life Sciences    Male               1        2   Laboratory Technician   \n",
       "3  Life Sciences  Female               2        4  Manufacturing Director   \n",
       "4        Medical    Male               2        1   Laboratory Technician   \n",
       "\n",
       "  MaritalStatus          ...          LastPromoteCompareAvgGroup  \\\n",
       "0      Divorced          ...                                 bad   \n",
       "1      Divorced          ...                                 bad   \n",
       "2        Single          ...                                 bad   \n",
       "3       Married          ...                                soso   \n",
       "4      Divorced          ...                                 bad   \n",
       "\n",
       "  PercentSalaryHikeGroup TrainingTimesLastYearGroup YearsInCurrentRoleGroup  \\\n",
       "0                   soso                       good                    soso   \n",
       "1                   soso                       good                    soso   \n",
       "2                   good                        bad                     bad   \n",
       "3                awesome                        bad                     bad   \n",
       "4                awesome                       good                 awesome   \n",
       "\n",
       "   WorkBeginAgeGroup  YearsWithCurrManagerGroup  NumCompaniesWorkedGroup  \\\n",
       "0                bad                       soso                      bad   \n",
       "1               soso                        bad                     good   \n",
       "2                bad                       soso                      bad   \n",
       "3               soso                       soso                      bad   \n",
       "4                bad                    awesome                      bad   \n",
       "\n",
       "   YearsAtCompanyGroup  IncomeRiseEachYearGroup  WorkingYearsPctGroup  \n",
       "0                 soso                     good                  soso  \n",
       "1                  bad                  awesome                  good  \n",
       "2                 soso                      bad                  soso  \n",
       "3                 good                      bad                  soso  \n",
       "4                  bad                     soso                   bad  \n",
       "\n",
       "[5 rows x 33 columns]"
      ]
     },
     "execution_count": 261,
     "metadata": {},
     "output_type": "execute_result"
    }
   ],
   "source": [
    "HR_transform.head()"
   ]
  },
  {
   "cell_type": "markdown",
   "metadata": {},
   "source": [
    "## find association rules across features"
   ]
  },
  {
   "cell_type": "code",
   "execution_count": 264,
   "metadata": {},
   "outputs": [
    {
     "data": {
      "text/plain": [
       "[RelationRecord(items=frozenset({'Department:Sales', 'JobRole:Sales Executive'}), support=0.22275862068965518, ordered_statistics=[OrderedStatistic(items_base=frozenset({'JobRole:Sales Executive'}), items_add=frozenset({'Department:Sales'}), confidence=1.0, lift=3.2879818594104306)]),\n",
       " RelationRecord(items=frozenset({'StockOptionLevel:0', 'MaritalStatus:Single'}), support=0.32, ordered_statistics=[OrderedStatistic(items_base=frozenset({'MaritalStatus:Single'}), items_add=frozenset({'StockOptionLevel:0'}), confidence=1.0, lift=2.327447833065811)]),\n",
       " RelationRecord(items=frozenset({'YearsWithCurrManagerGroup:soso', 'YearsAtCompanyGroup:soso'}), support=0.2289655172413793, ordered_statistics=[OrderedStatistic(items_base=frozenset({'YearsWithCurrManagerGroup:soso'}), items_add=frozenset({'YearsAtCompanyGroup:soso'}), confidence=0.8117359413202935, lift=2.2988615525672373)]),\n",
       " RelationRecord(items=frozenset({'StockOptionLevel:0', 'BusinessTravel:Travel_Rarely', 'MaritalStatus:Single'}), support=0.22413793103448276, ordered_statistics=[OrderedStatistic(items_base=frozenset({'BusinessTravel:Travel_Rarely', 'MaritalStatus:Single'}), items_add=frozenset({'StockOptionLevel:0'}), confidence=1.0, lift=2.327447833065811)]),\n",
       " RelationRecord(items=frozenset({'StockOptionLevel:0', 'MaritalStatus:Single', 'Department:Research & Development'}), support=0.20620689655172414, ordered_statistics=[OrderedStatistic(items_base=frozenset({'MaritalStatus:Single', 'Department:Research & Development'}), items_add=frozenset({'StockOptionLevel:0'}), confidence=1.0, lift=2.327447833065811)]),\n",
       " RelationRecord(items=frozenset({'StockOptionLevel:0', 'OverTime:No', 'MaritalStatus:Single'}), support=0.2296551724137931, ordered_statistics=[OrderedStatistic(items_base=frozenset({'OverTime:No', 'MaritalStatus:Single'}), items_add=frozenset({'StockOptionLevel:0'}), confidence=1.0, lift=2.327447833065811)]),\n",
       " RelationRecord(items=frozenset({'TotalWorkingYearsGroup:good', 'YearsAtCompanyGroup:bad', 'NumCompaniesWorkedGroup:bad'}), support=0.21172413793103448, ordered_statistics=[OrderedStatistic(items_base=frozenset({'YearsAtCompanyGroup:bad', 'NumCompaniesWorkedGroup:bad'}), items_add=frozenset({'TotalWorkingYearsGroup:good'}), confidence=1.0, lift=3.3105022831050226)]),\n",
       " RelationRecord(items=frozenset({'YearsWithCurrManagerGroup:bad', 'YearsAtCompanyGroup:bad', 'YearsInCurrentRoleGroup:soso'}), support=0.30551724137931036, ordered_statistics=[OrderedStatistic(items_base=frozenset({'YearsAtCompanyGroup:bad', 'YearsInCurrentRoleGroup:soso'}), items_add=frozenset({'YearsWithCurrManagerGroup:bad'}), confidence=0.8720472440944882, lift=2.0797179341069207), OrderedStatistic(items_base=frozenset({'YearsAtCompanyGroup:bad', 'YearsWithCurrManagerGroup:bad'}), items_add=frozenset({'YearsInCurrentRoleGroup:soso'}), confidence=0.911522633744856, lift=2.068400342613523)]),\n",
       " RelationRecord(items=frozenset({'YearsWithCurrManagerGroup:bad', 'YearsAtCompanyGroup:bad', 'YearsInCurrentRoleGroup:soso', 'BusinessTravel:Travel_Rarely'}), support=0.22206896551724137, ordered_statistics=[OrderedStatistic(items_base=frozenset({'YearsAtCompanyGroup:bad', 'YearsInCurrentRoleGroup:soso', 'BusinessTravel:Travel_Rarely'}), items_add=frozenset({'YearsWithCurrManagerGroup:bad'}), confidence=0.8655913978494623, lift=2.0643215902659873), OrderedStatistic(items_base=frozenset({'YearsAtCompanyGroup:bad', 'YearsWithCurrManagerGroup:bad', 'BusinessTravel:Travel_Rarely'}), items_add=frozenset({'YearsInCurrentRoleGroup:soso'}), confidence=0.9096045197740112, lift=2.064047814823656)]),\n",
       " RelationRecord(items=frozenset({'YearsWithCurrManagerGroup:bad', 'YearsAtCompanyGroup:bad', 'YearsInCurrentRoleGroup:soso', 'Department:Research & Development'}), support=0.20344827586206896, ordered_statistics=[OrderedStatistic(items_base=frozenset({'YearsAtCompanyGroup:bad', 'YearsInCurrentRoleGroup:soso', 'Department:Research & Development'}), items_add=frozenset({'YearsWithCurrManagerGroup:bad'}), confidence=0.8805970149253731, lift=2.100108012568735), OrderedStatistic(items_base=frozenset({'YearsAtCompanyGroup:bad', 'YearsWithCurrManagerGroup:bad', 'Department:Research & Development'}), items_add=frozenset({'YearsInCurrentRoleGroup:soso'}), confidence=0.9133126934984519, lift=2.072462293541088)]),\n",
       " RelationRecord(items=frozenset({'YearsWithCurrManagerGroup:bad', 'YearsAtCompanyGroup:bad', 'YearsInCurrentRoleGroup:soso', 'OverTime:No'}), support=0.21310344827586206, ordered_statistics=[OrderedStatistic(items_base=frozenset({'YearsAtCompanyGroup:bad', 'YearsInCurrentRoleGroup:soso', 'OverTime:No'}), items_add=frozenset({'YearsWithCurrManagerGroup:bad'}), confidence=0.8607242339832869, lift=2.052714044861457), OrderedStatistic(items_base=frozenset({'YearsAtCompanyGroup:bad', 'YearsWithCurrManagerGroup:bad', 'OverTime:No'}), items_add=frozenset({'YearsInCurrentRoleGroup:soso'}), confidence=0.906158357771261, lift=2.056227885396445)])]"
      ]
     },
     "execution_count": 264,
     "metadata": {},
     "output_type": "execute_result"
    }
   ],
   "source": [
    "from apyori import apriori\n",
    "features_cat = HR_transform.select_dtypes(pd.Categorical)\n",
    "data = []\n",
    "for i in range(features_cat.shape[0]):\n",
    "    row = []\n",
    "    for j in range(features_cat.shape[1]):\n",
    "        row.append(features_cat.columns[j]+':'+ str(features_cat.iloc[i,j]))\n",
    "    data.append(row)\n",
    "results = list(apriori(data,min_support = 0.2, min_lift=2,min_confidence =.8))\n",
    "\n",
    "results"
   ]
  },
  {
   "cell_type": "code",
   "execution_count": 45,
   "metadata": {
    "scrolled": true
   },
   "outputs": [
    {
     "data": {
      "text/html": [
       "<div>\n",
       "<style scoped>\n",
       "    .dataframe tbody tr th:only-of-type {\n",
       "        vertical-align: middle;\n",
       "    }\n",
       "\n",
       "    .dataframe tbody tr th {\n",
       "        vertical-align: top;\n",
       "    }\n",
       "\n",
       "    .dataframe thead th {\n",
       "        text-align: right;\n",
       "    }\n",
       "</style>\n",
       "<table border=\"1\" class=\"dataframe\">\n",
       "  <thead>\n",
       "    <tr style=\"text-align: right;\">\n",
       "      <th></th>\n",
       "      <th>Attrition</th>\n",
       "      <th>BusinessTravel</th>\n",
       "      <th>Department</th>\n",
       "      <th>Education</th>\n",
       "      <th>EducationField</th>\n",
       "      <th>Gender</th>\n",
       "      <th>JobInvolvement</th>\n",
       "      <th>JobLevel</th>\n",
       "      <th>JobRole</th>\n",
       "      <th>MaritalStatus</th>\n",
       "      <th>...</th>\n",
       "      <th>LastPromoteCompareAvgGroup</th>\n",
       "      <th>PercentSalaryHikeGroup</th>\n",
       "      <th>TrainingTimesLastYearGroup</th>\n",
       "      <th>YearsInCurrentRoleGroup</th>\n",
       "      <th>WorkBeginAgeGroup</th>\n",
       "      <th>YearsWithCurrManagerGroup</th>\n",
       "      <th>NumCompaniesWorkedGroup</th>\n",
       "      <th>YearsAtCompanyGroup</th>\n",
       "      <th>IncomeRiseEachYearGroup</th>\n",
       "      <th>WorkingYearsPctGroup</th>\n",
       "    </tr>\n",
       "  </thead>\n",
       "  <tbody>\n",
       "    <tr>\n",
       "      <th>0</th>\n",
       "      <td>0</td>\n",
       "      <td>Travel_Rarely</td>\n",
       "      <td>Research &amp; Development</td>\n",
       "      <td>4</td>\n",
       "      <td>Life Sciences</td>\n",
       "      <td>Male</td>\n",
       "      <td>2</td>\n",
       "      <td>2</td>\n",
       "      <td>Manufacturing Director</td>\n",
       "      <td>Divorced</td>\n",
       "      <td>...</td>\n",
       "      <td>bad</td>\n",
       "      <td>bad</td>\n",
       "      <td>soso</td>\n",
       "      <td>bad</td>\n",
       "      <td>good</td>\n",
       "      <td>good</td>\n",
       "      <td>awesome</td>\n",
       "      <td>bad</td>\n",
       "      <td>soso</td>\n",
       "      <td>awesome</td>\n",
       "    </tr>\n",
       "    <tr>\n",
       "      <th>1</th>\n",
       "      <td>0</td>\n",
       "      <td>Travel_Frequently</td>\n",
       "      <td>Research &amp; Development</td>\n",
       "      <td>4</td>\n",
       "      <td>Life Sciences</td>\n",
       "      <td>Female</td>\n",
       "      <td>3</td>\n",
       "      <td>3</td>\n",
       "      <td>Manufacturing Director</td>\n",
       "      <td>Divorced</td>\n",
       "      <td>...</td>\n",
       "      <td>bad</td>\n",
       "      <td>bad</td>\n",
       "      <td>soso</td>\n",
       "      <td>bad</td>\n",
       "      <td>bad</td>\n",
       "      <td>bad</td>\n",
       "      <td>soso</td>\n",
       "      <td>good</td>\n",
       "      <td>good</td>\n",
       "      <td>bad</td>\n",
       "    </tr>\n",
       "    <tr>\n",
       "      <th>2</th>\n",
       "      <td>1</td>\n",
       "      <td>Travel_Frequently</td>\n",
       "      <td>Research &amp; Development</td>\n",
       "      <td>3</td>\n",
       "      <td>Life Sciences</td>\n",
       "      <td>Male</td>\n",
       "      <td>1</td>\n",
       "      <td>2</td>\n",
       "      <td>Laboratory Technician</td>\n",
       "      <td>Single</td>\n",
       "      <td>...</td>\n",
       "      <td>bad</td>\n",
       "      <td>good</td>\n",
       "      <td>bad</td>\n",
       "      <td>soso</td>\n",
       "      <td>good</td>\n",
       "      <td>good</td>\n",
       "      <td>awesome</td>\n",
       "      <td>bad</td>\n",
       "      <td>bad</td>\n",
       "      <td>awesome</td>\n",
       "    </tr>\n",
       "    <tr>\n",
       "      <th>3</th>\n",
       "      <td>0</td>\n",
       "      <td>Travel_Rarely</td>\n",
       "      <td>Research &amp; Development</td>\n",
       "      <td>1</td>\n",
       "      <td>Life Sciences</td>\n",
       "      <td>Female</td>\n",
       "      <td>2</td>\n",
       "      <td>4</td>\n",
       "      <td>Manufacturing Director</td>\n",
       "      <td>Married</td>\n",
       "      <td>...</td>\n",
       "      <td>soso</td>\n",
       "      <td>awesome</td>\n",
       "      <td>bad</td>\n",
       "      <td>soso</td>\n",
       "      <td>bad</td>\n",
       "      <td>good</td>\n",
       "      <td>awesome</td>\n",
       "      <td>soso</td>\n",
       "      <td>bad</td>\n",
       "      <td>awesome</td>\n",
       "    </tr>\n",
       "    <tr>\n",
       "      <th>4</th>\n",
       "      <td>1</td>\n",
       "      <td>Travel_Frequently</td>\n",
       "      <td>Research &amp; Development</td>\n",
       "      <td>3</td>\n",
       "      <td>Medical</td>\n",
       "      <td>Male</td>\n",
       "      <td>2</td>\n",
       "      <td>1</td>\n",
       "      <td>Laboratory Technician</td>\n",
       "      <td>Divorced</td>\n",
       "      <td>...</td>\n",
       "      <td>bad</td>\n",
       "      <td>awesome</td>\n",
       "      <td>soso</td>\n",
       "      <td>good</td>\n",
       "      <td>good</td>\n",
       "      <td>awesome</td>\n",
       "      <td>awesome</td>\n",
       "      <td>good</td>\n",
       "      <td>awesome</td>\n",
       "      <td>good</td>\n",
       "    </tr>\n",
       "  </tbody>\n",
       "</table>\n",
       "<p>5 rows × 32 columns</p>\n",
       "</div>"
      ],
      "text/plain": [
       "  Attrition     BusinessTravel              Department Education  \\\n",
       "0         0      Travel_Rarely  Research & Development         4   \n",
       "1         0  Travel_Frequently  Research & Development         4   \n",
       "2         1  Travel_Frequently  Research & Development         3   \n",
       "3         0      Travel_Rarely  Research & Development         1   \n",
       "4         1  Travel_Frequently  Research & Development         3   \n",
       "\n",
       "  EducationField  Gender  JobInvolvement JobLevel                 JobRole  \\\n",
       "0  Life Sciences    Male               2        2  Manufacturing Director   \n",
       "1  Life Sciences  Female               3        3  Manufacturing Director   \n",
       "2  Life Sciences    Male               1        2   Laboratory Technician   \n",
       "3  Life Sciences  Female               2        4  Manufacturing Director   \n",
       "4        Medical    Male               2        1   Laboratory Technician   \n",
       "\n",
       "  MaritalStatus         ...          LastPromoteCompareAvgGroup  \\\n",
       "0      Divorced         ...                                 bad   \n",
       "1      Divorced         ...                                 bad   \n",
       "2        Single         ...                                 bad   \n",
       "3       Married         ...                                soso   \n",
       "4      Divorced         ...                                 bad   \n",
       "\n",
       "  PercentSalaryHikeGroup TrainingTimesLastYearGroup  YearsInCurrentRoleGroup  \\\n",
       "0                    bad                       soso                      bad   \n",
       "1                    bad                       soso                      bad   \n",
       "2                   good                        bad                     soso   \n",
       "3                awesome                        bad                     soso   \n",
       "4                awesome                       soso                     good   \n",
       "\n",
       "   WorkBeginAgeGroup  YearsWithCurrManagerGroup  NumCompaniesWorkedGroup  \\\n",
       "0               good                       good                  awesome   \n",
       "1                bad                        bad                     soso   \n",
       "2               good                       good                  awesome   \n",
       "3                bad                       good                  awesome   \n",
       "4               good                    awesome                  awesome   \n",
       "\n",
       "   YearsAtCompanyGroup  IncomeRiseEachYearGroup WorkingYearsPctGroup  \n",
       "0                  bad                     soso              awesome  \n",
       "1                 good                     good                  bad  \n",
       "2                  bad                      bad              awesome  \n",
       "3                 soso                      bad              awesome  \n",
       "4                 good                  awesome                 good  \n",
       "\n",
       "[5 rows x 32 columns]"
      ]
     },
     "execution_count": 45,
     "metadata": {},
     "output_type": "execute_result"
    }
   ],
   "source": [
    "HR_transform.head()"
   ]
  },
  {
   "cell_type": "markdown",
   "metadata": {},
   "source": [
    "remove feature that are highly correlated"
   ]
  },
  {
   "cell_type": "markdown",
   "metadata": {
    "collapsed": true
   },
   "source": [
    "## Variable Transformations"
   ]
  },
  {
   "cell_type": "code",
   "execution_count": 326,
   "metadata": {
    "scrolled": true
   },
   "outputs": [
    {
     "data": {
      "text/plain": [
       "Index(['Gender', 'JobInvolvement', 'OverTime', 'Satisfaction', 'Satisfied',\n",
       "       'JobSatisfied', 'WorkLifeBalanceSatisfied', 'EnvironmentSatisfied',\n",
       "       'PerformanceRatingGroup', 'BusinessTravel_Non-Travel',\n",
       "       ...\n",
       "       'YearsAtCompanyGroup_good', 'YearsAtCompanyGroup_awesome',\n",
       "       'IncomeRiseEachYearGroup_bad', 'IncomeRiseEachYearGroup_soso',\n",
       "       'IncomeRiseEachYearGroup_good', 'IncomeRiseEachYearGroup_awesome',\n",
       "       'WorkingYearsPctGroup_bad', 'WorkingYearsPctGroup_soso',\n",
       "       'WorkingYearsPctGroup_good', 'WorkingYearsPctGroup_awesome'],\n",
       "      dtype='object', length=108)"
      ]
     },
     "execution_count": 326,
     "metadata": {},
     "output_type": "execute_result"
    }
   ],
   "source": [
    "\n",
    "X_trainset = HR_transform.drop(['Attrition'], axis=1).copy()[:train_size]\n",
    "y_trainset = HR_transform.Attrition[:train_size]\n",
    "X_test = HR_transform.drop(['Attrition'], axis=1).copy()[train_size:]\n",
    "y_test = HR_transform.Attrition[train_size:]\n",
    "\n",
    "from sklearn.feature_extraction import DictVectorizer\n",
    "\n",
    "def one_hot_dataframe(data, cols, replace=True):\n",
    "    vec = DictVectorizer()\n",
    "    mkdict = lambda row: dict((col, row[col]) for col in cols)\n",
    "    \n",
    "    vecData = pd.DataFrame(vec.fit_transform(data[cols].apply(mkdict, axis=1)).toarray())\n",
    "    vecData.columns = vec.get_feature_names()\n",
    "    vecData.index = data.index\n",
    "    \n",
    "    if replace is True:\n",
    "        data = data.drop(cols, axis=1)\n",
    "    data = data.join(vecData)\n",
    "    return (data, vecData, vec)  \n",
    "\n",
    "\n",
    "cat_vars = X_trainset.dtypes.index[X_trainset.dtypes=='category']\n",
    "X_trainset = factorize_dataframe(X_trainset, cat_vars)\n",
    "X_test =  factorize_dataframe(X_test, cat_vars)\n",
    "X_trainset.columns"
   ]
  },
  {
   "cell_type": "markdown",
   "metadata": {},
   "source": [
    "## classification model selection + feature selection\n",
    "- RandomForecast\n",
    "- adaboost\n",
    "- SVM"
   ]
  },
  {
   "cell_type": "code",
   "execution_count": 353,
   "metadata": {},
   "outputs": [],
   "source": [
    "HR_emp_att.TotalWorkingYearsGroup.unique()\n",
    "LogisticRegression?"
   ]
  },
  {
   "cell_type": "code",
   "execution_count": 403,
   "metadata": {
    "scrolled": true
   },
   "outputs": [
    {
     "name": "stdout",
     "output_type": "stream",
     "text": [
      "Fitting 3 folds for each of 3 candidates, totalling 9 fits\n"
     ]
    },
    {
     "name": "stderr",
     "output_type": "stream",
     "text": [
      "[Parallel(n_jobs=4)]: Done   9 out of   9 | elapsed:    3.9s finished\n"
     ]
    },
    {
     "name": "stdout",
     "output_type": "stream",
     "text": [
      "Best score: 0.500\n",
      "best param: {'resample__random_state': 24}\n"
     ]
    }
   ],
   "source": [
    "\n",
    "from sklearn.model_selection import train_test_split   # cross_validation\n",
    "from sklearn.model_selection import RandomizedSearchCV,GridSearchCV\n",
    "from sklearn.linear_model import LogisticRegression\n",
    "from sklearn.ensemble import RandomForestClassifier\n",
    "from sklearn.metrics import accuracy_score, f1_score, make_scorer\n",
    "from sklearn.preprocessing import MinMaxScaler, StandardScaler, RobustScaler\n",
    "from sklearn.feature_selection import RFECV,SelectKBest\n",
    "from sklearn.svm import SVC\n",
    "from sklearn.naive_bayes import MultinomialNB  \n",
    "from sklearn.metrics import roc_curve,confusion_matrix\n",
    "from sklearn.metrics import roc_auc_score  \n",
    "from sklearn.metrics import classification_report \n",
    "from sklearn.pipeline import make_pipeline, Pipeline, FeatureUnion\n",
    "from sklearn.model_selection import StratifiedKFold\n",
    "from sklearn.decomposition import PCA\n",
    "from tempfile import mkdtemp\n",
    "from shutil import rmtree\n",
    "\n",
    "from sklearn.ensemble import  AdaBoostClassifier, GradientBoostingClassifier\n",
    "from xgboostwrapper import XGBoostClassifier\n",
    "# resample train dataset\n",
    "from imblearn.over_sampling import RandomOverSampler, SMOTE\n",
    "from imblearn.combine import SMOTETomek\n",
    "from imblearn import pipeline as pl\n",
    "\n",
    "X_train, X_val, y_train, y_val = train_test_split(X_trainset,y_trainset ,shuffle=True,test_size=0.2)\n",
    "\n",
    "smt = SMOTE(random_state=44, kind = 'borderline2')\n",
    "\n",
    "# parameter_space = {  \n",
    "#     \"clf__n_estimators\": [10, 15, 20],  \n",
    "# #     \"clf__criterion\": [\"gini\", \"entropy\"],  \n",
    "#     \"clf__min_samples_leaf\": [2, 4, 6], \n",
    "#     \"clf__max_depth\" : [2,3,4],\n",
    "#      \"clf__min_samples_split\" : [5,10,15]\n",
    "# }  \n",
    "#  Create a logistic regression estimator \n",
    "cachedir = mkdtemp()\n",
    "\n",
    "\n",
    "rfc_model = RandomForestClassifier()\n",
    "lrc_model = LogisticRegression(penalty='l2',C=0.1,random_state=17)\n",
    "xgb_model = XGBoostClassifier(\n",
    "        eval_metric = 'auc',\n",
    "        num_class = 2,\n",
    "        nthread = 4,\n",
    "        silent = 1,\n",
    "        )\n",
    "adb_model =AdaBoostClassifier()\n",
    "# xgb_parameters = {\n",
    "#         'clf__num_boost_round': [100, 250, 500],\n",
    "#         'clf__eta': [0.05, 0.1, 0.3],\n",
    "#         'clf__max_depth': [6, 9, 12],\n",
    "#         'clf__subsample': [0.9, 1.0],\n",
    "#         'clf__colsample_bytree': [0.9, 1.0],\n",
    "#     }    \n",
    "\n",
    "# Use RFECV to pick best features, using Stratified Kfold\n",
    "rfecv =   RFECV(estimator=lrc_model,step=2,cv=3, scoring='f1',n_jobs=4)\n",
    "\n",
    "\n",
    "# This dataset is way too high-dimensional. Better do PCA:\n",
    "pca = PCA(n_components=2)\n",
    "\n",
    "# Maybe some original features where good, too?\n",
    "selection = SelectKBest(k=1)\n",
    "\n",
    "# Build estimator from PCA and Univariate selection:\n",
    "\n",
    "combined_features = FeatureUnion([(\"pca\", pca),('rfecv',rfecv)]) #,(\"univ_select\", selection),(\"pca\", pca)\n",
    "\n",
    "pipe = pl.Pipeline([('scale',StandardScaler()),('resample',smt),(\"features\", combined_features),('clf',adb_model)])\n",
    "# Define a range of hyper parameters for grid search\n",
    "C_range = list(np.linspace(.5,1,5))\n",
    "\n",
    "parameter_space = dict( #features__rfecv__estimator__penalty = penalty_options,\n",
    "                #    features__rfecv__estimator__C=[1,0.5,0.1],\n",
    "                  #features__pca__n_components=[2],\n",
    "                  #features__univ_select__k=[1,2,5,10],\n",
    "#                   clf__learning_rate=(1, 0.1, 0.01),\n",
    "#                     clf__C=(1, 0.1),\n",
    "#                   clf__solver = ['newton-cg', 'lbfgs', 'liblinear' ],\n",
    "#                     resample__kind = ['regular', 'borderline1', 'borderline2'],\n",
    "                    resample__random_state = np.random.randint(1,100,3)\n",
    "                    )\n",
    "# parameter_space.update(xgb_parameters)\n",
    "                  \n",
    "\n",
    "grid_search = GridSearchCV(pipe , parameter_space, n_jobs=4,verbose=1,scoring='f1')\n",
    "grid_search.fit(X_train,y_train)\n",
    "print(\"Best score: %0.3f\" % grid_search.best_score_)\n",
    "\n",
    "# Clear the cache directory when you don't need it anymore\n",
    "rmtree(cachedir)\n",
    "\n",
    "print('best param:', grid_search.best_params_)"
   ]
  },
  {
   "cell_type": "code",
   "execution_count": 380,
   "metadata": {},
   "outputs": [
    {
     "name": "stdout",
     "output_type": "stream",
     "text": [
      "random forecast - f1:0.492308\n",
      "             precision    recall  f1-score   support\n",
      "\n",
      "          0       0.90      0.93      0.91       184\n",
      "          1       0.55      0.44      0.49        36\n",
      "\n",
      "avg / total       0.84      0.85      0.84       220\n",
      "\n"
     ]
    }
   ],
   "source": [
    "y_hat = grid_search.predict(X_val)\n",
    "print('random forecast - f1:%f'% f1_score(y_val, y_hat))\n",
    "# X_train.columns[(rfc_model.feature_importances_>.01).ravel()]\n",
    "print(classification_report(y_val, y_hat))"
   ]
  },
  {
   "cell_type": "code",
   "execution_count": 381,
   "metadata": {},
   "outputs": [
    {
     "data": {
      "text/plain": [
       "Index(['OverTime', 'PerformanceRatingGroup',\n",
       "       'BusinessTravel_Travel_Frequently', 'BusinessTravel_Travel_Rarely',\n",
       "       'Department_Human Resources', 'Department_Sales', 'Education_2',\n",
       "       'Education_3', 'EducationField_Human Resources',\n",
       "       'EducationField_Marketing', 'EducationField_Technical Degree',\n",
       "       'JobLevel_1', 'JobLevel_5', 'JobRole_Human Resources',\n",
       "       'JobRole_Laboratory Technician', 'JobRole_Sales Executive',\n",
       "       'JobRole_Sales Representative', 'MaritalStatus_Single',\n",
       "       'StockOptionLevel_0', 'StockOptionLevel_3',\n",
       "       'EmpNumQauntile_In_DeptRole_0', 'EmpNumQauntile_In_DeptRole_1',\n",
       "       'EmpNumQauntile_In_DeptRole_2', 'AgeGroup_young', 'AgeGroup_middle',\n",
       "       'DistanceFromHomeGroup_soso', 'DistanceFromHomeGroup_awesome',\n",
       "       'IncomeCompareAvgGroup_bad', 'IncomeCompareAvgGroup_awesome',\n",
       "       'TotalWorkingYearsGroup_bad', 'TotalWorkingYearsGroup_good',\n",
       "       'LastPromoteCompareAvgGroup_soso', 'LastPromoteCompareAvgGroup_good',\n",
       "       'LastPromoteCompareAvgGroup_awesome', 'PercentSalaryHikeGroup_bad',\n",
       "       'PercentSalaryHikeGroup_good', 'TrainingTimesLastYearGroup_bad',\n",
       "       'TrainingTimesLastYearGroup_good', 'TrainingTimesLastYearGroup_awesome',\n",
       "       'YearsInCurrentRoleGroup_soso', 'YearsInCurrentRoleGroup_awesome',\n",
       "       'WorkBeginAgeGroup_soso', 'WorkBeginAgeGroup_good',\n",
       "       'YearsWithCurrManagerGroup_soso', 'YearsWithCurrManagerGroup_awesome',\n",
       "       'NumCompaniesWorkedGroup_soso', 'NumCompaniesWorkedGroup_good',\n",
       "       'YearsAtCompanyGroup_bad', 'YearsAtCompanyGroup_awesome',\n",
       "       'IncomeRiseEachYearGroup_soso', 'IncomeRiseEachYearGroup_good',\n",
       "       'WorkingYearsPctGroup_bad', 'WorkingYearsPctGroup_awesome'],\n",
       "      dtype='object')"
      ]
     },
     "execution_count": 381,
     "metadata": {},
     "output_type": "execute_result"
    }
   ],
   "source": [
    "lrc_model.fit(X_train, y_train)\n",
    "X_train.columns[(lrc_model.coef_>.01).ravel()]"
   ]
  },
  {
   "cell_type": "code",
   "execution_count": 382,
   "metadata": {},
   "outputs": [
    {
     "name": "stdout",
     "output_type": "stream",
     "text": [
      "Pipeline(memory=None,\n",
      "     steps=[('scale', StandardScaler(copy=True, with_mean=True, with_std=True)), ('resample', SMOTE(k=None, k_neighbors=5, kind='borderline2', m=None, m_neighbors=10,\n",
      "   n_jobs=1, out_step=0.5, random_state=66, ratio='auto',\n",
      "   svm_estimator=None)), ('features', FeatureUnion(n_jobs=1,\n",
      "       transformer_...m='SAMME.R', base_estimator=None,\n",
      "          learning_rate=1.0, n_estimators=50, random_state=None))])\n"
     ]
    },
    {
     "data": {
      "image/png": "[encoded data removed]",
      "text/plain": [
       "<matplotlib.figure.Figure at 0x11b0bb00>"
      ]
     },
     "metadata": {},
     "output_type": "display_data"
    },
    {
     "data": {
      "text/plain": [
       "array([[171,  13],\n",
       "       [ 20,  16]], dtype=int64)"
      ]
     },
     "execution_count": 382,
     "metadata": {},
     "output_type": "execute_result"
    }
   ],
   "source": [
    "bclf = grid_search.best_estimator_  \n",
    "print(bclf)\n",
    "y_pred = bclf.predict(X_val)\n",
    "y_pred_pro = bclf.predict_proba(X_val)  \n",
    "y_scores = pd.DataFrame(y_pred_pro)[1].values  \n",
    "auc_value = roc_auc_score(y_val, y_scores)  \n",
    "#绘制ROC曲线  \n",
    "fpr, tpr, thresholds = roc_curve(y_val, y_scores, pos_label=1.0)  \n",
    "plt.figure()  \n",
    "lw = 2  \n",
    "plt.plot(fpr, tpr, color='darkorange', linewidth=lw, label='ROC curve (area = %0.4f)' % auc_value)  \n",
    "plt.plot([0, 1], [0, 1], color='navy', linewidth=lw, linestyle='--')  \n",
    "plt.xlim([0.0, 1.0])  \n",
    "plt.ylim([0.0, 1.05])  \n",
    "plt.xlabel('False Positive Rate') \n",
    "plt.ylabel('True Positive Rate')  \n",
    "plt.title('Receiver operating characteristic example')  \n",
    "plt.legend(loc=\"lower right\")  \n",
    "plt.show()\n",
    "confusion_matrix(y_val, y_pred)\n",
    "\n"
   ]
  },
  {
   "cell_type": "code",
   "execution_count": 383,
   "metadata": {},
   "outputs": [
    {
     "name": "stdout",
     "output_type": "stream",
     "text": [
      "[(291, <itertools._grouper object at 0x0000000012D3F6A0>), (59, <itertools._grouper object at 0x0000000012D3FC88>)]\n"
     ]
    }
   ],
   "source": [
    "\n",
    "y_pred = bclf.predict(X_test)\n",
    "import itertools as it\n",
    "print(list(it.groupby([0,1], lambda x: np.sum(y_pred==x))))\n",
    "\n",
    "y_pred = y_pred.reshape([-1,1])\n",
    "\n",
    "np.savetxt('data/test_result.csv',y_pred,fmt='%s',header='result')"
   ]
  },
  {
   "cell_type": "markdown",
   "metadata": {},
   "source": [
    "## fit model using auto_ml"
   ]
  },
  {
   "cell_type": "code",
   "execution_count": 400,
   "metadata": {},
   "outputs": [
    {
     "name": "stdout",
     "output_type": "stream",
     "text": [
      "Welcome to auto_ml! We're about to go through and make sense of your data using machine learning, and give you a production-ready pipeline to get predictions with.\n",
      "\n",
      "If you have any issues, or new feature ideas, let us know at http://auto.ml\n",
      "You are running on version 2.9.10\n",
      "Now using the model training_params that you passed in:\n",
      "{}\n",
      "After overwriting our defaults with your values, here are the final params that will be used to initialize the model:\n",
      "{}\n",
      "Running basic data cleaning\n",
      "Fitting DataFrameVectorizer\n",
      "Performing feature selection\n",
      "Now using the model training_params that you passed in:\n",
      "{}\n",
      "After overwriting our defaults with your values, here are the final params that will be used to initialize the model:\n",
      "{}\n",
      "\n",
      "\n",
      "********************************************************************************************\n",
      "About to fit the pipeline for the model XGBClassifier to predict Attrition\n",
      "Started at:\n",
      "2018-04-01 23:39:11\n",
      "Finished training the pipeline!\n",
      "Total training time:\n",
      "0:00:01\n",
      "\n",
      "\n",
      "Here are the results from our XGBClassifier\n",
      "predicting Attrition\n",
      "Calculating feature responses, for advanced analytics.\n",
      "The printed list will only contain at most the top 100 features.\n",
      "+----+------------------------------------------------+--------------+----------+-------------------+-------------------+-----------+-----------+-----------+-----------+\n",
      "|    | Feature Name                                   |   Importance |    Delta |   FR_Decrementing |   FR_Incrementing |   FRD_abs |   FRI_abs |   FRD_MAD |   FRI_MAD |\n",
      "|----+------------------------------------------------+--------------+----------+-------------------+-------------------+-----------+-----------+-----------+-----------|\n",
      "| 49 | EducationField=2.241126952566207               |       0.0000 | nan      |          nan      |          nan      |  nan      |  nan      |  nan      |  nan      |\n",
      "| 63 | JobLevel=2.910220242554526                     |       0.0000 | nan      |          nan      |          nan      |  nan      |  nan      |  nan      |  nan      |\n",
      "| 62 | JobLevel=0.3236527960506266                    |       0.0000 | nan      |          nan      |          nan      |  nan      |  nan      |  nan      |  nan      |\n",
      "| 61 | JobLevel=1.0                                   |       0.0000 | nan      |          nan      |          nan      |  nan      |  nan      |  nan      |  nan      |\n",
      "| 57 | Gender=0.02812785731896872                     |       0.0000 | nan      |          nan      |          nan      |  nan      |  nan      |  nan      |  nan      |\n",
      "| 56 | Gender=0.4890517299555496                      |       0.0000 | nan      |          nan      |          nan      |  nan      |  nan      |  nan      |  nan      |\n",
      "| 55 | Gender=0.6780543091570579                      |       0.0000 | nan      |          nan      |          nan      |  nan      |  nan      |  nan      |  nan      |\n",
      "| 52 | EducationField=1.8300271789328493              |       0.0000 | nan      |          nan      |          nan      |  nan      |  nan      |  nan      |  nan      |\n",
      "| 51 | EducationField=1.533846647854199               |       0.0000 | nan      |          nan      |          nan      |  nan      |  nan      |  nan      |  nan      |\n",
      "| 50 | EducationField=0.2649509292156218              |       0.0000 | nan      |          nan      |          nan      |  nan      |  nan      |  nan      |  nan      |\n",
      "| 98 | EmpNumQauntile_In_DeptRole=3.20430315863012    |       0.0000 | nan      |          nan      |          nan      |  nan      |  nan      |  nan      |  nan      |\n",
      "| 48 | EducationField=3.385960103111894               |       0.0000 | nan      |          nan      |          nan      |  nan      |  nan      |  nan      |  nan      |\n",
      "| 47 | EducationField=5.0                             |       0.0000 | nan      |          nan      |          nan      |  nan      |  nan      |  nan      |  nan      |\n",
      "| 46 | EducationField=4.0                             |       0.0000 | nan      |          nan      |          nan      |  nan      |  nan      |  nan      |  nan      |\n",
      "| 41 | Education=1.4160102789995108                   |       0.0000 | nan      |          nan      |          nan      |  nan      |  nan      |  nan      |  nan      |\n",
      "| 40 | Education=0.3726067454464137                   |       0.0000 | nan      |          nan      |          nan      |  nan      |  nan      |  nan      |  nan      |\n",
      "| 64 | JobLevel=0.19125990908471335                   |       0.0000 | nan      |          nan      |          nan      |  nan      |  nan      |  nan      |  nan      |\n",
      "| 39 | Education=1.7168667987856931                   |       0.0000 | nan      |          nan      |          nan      |  nan      |  nan      |  nan      |  nan      |\n",
      "| 65 | JobRole=0.0                                    |       0.0000 | nan      |          nan      |          nan      |  nan      |  nan      |  nan      |  nan      |\n",
      "| 69 | JobRole=7.0                                    |       0.0000 | nan      |          nan      |          nan      |  nan      |  nan      |  nan      |  nan      |\n",
      "| 97 | EmpNumQauntile_In_DeptRole=2.1308830301324604  |       0.0000 | nan      |          nan      |          nan      |  nan      |  nan      |  nan      |  nan      |\n",
      "| 96 | EmpNumQauntile_In_DeptRole=2.166432507793151   |       0.0000 | nan      |          nan      |          nan      |  nan      |  nan      |  nan      |  nan      |\n",
      "| 95 | EmpNumQauntile_In_DeptRole=2.9376467700147533  |       0.0000 | nan      |          nan      |          nan      |  nan      |  nan      |  nan      |  nan      |\n",
      "| 94 | EmpNumQauntile_In_DeptRole=2.7600307195078817  |       0.0000 | nan      |          nan      |          nan      |  nan      |  nan      |  nan      |  nan      |\n",
      "| 93 | EmpNumQauntile_In_DeptRole=2.0145676169982343  |       0.0000 | nan      |          nan      |          nan      |  nan      |  nan      |  nan      |  nan      |\n",
      "| 92 | EmpNumQauntile_In_DeptRole=0.7713343956986491  |       0.0000 | nan      |          nan      |          nan      |  nan      |  nan      |  nan      |  nan      |\n",
      "| 91 | EmpNumQauntile_In_DeptRole=1.4081240104266848  |       0.0000 | nan      |          nan      |          nan      |  nan      |  nan      |  nan      |  nan      |\n",
      "| 90 | EmpNumQauntile_In_DeptRole=0.14768569397387782 |       0.0000 | nan      |          nan      |          nan      |  nan      |  nan      |  nan      |  nan      |\n",
      "| 89 | EmpNumQauntile_In_DeptRole=2.641704396097104   |       0.0000 | nan      |          nan      |          nan      |  nan      |  nan      |  nan      |  nan      |\n",
      "| 88 | EmpNumQauntile_In_DeptRole=3.1817629228399     |       0.0000 | nan      |          nan      |          nan      |  nan      |  nan      |  nan      |  nan      |\n",
      "| 85 | EmpNumQauntile_In_DeptRole=2.0                 |       0.0000 | nan      |          nan      |          nan      |  nan      |  nan      |  nan      |  nan      |\n",
      "| 82 | StockOptionLevel=1.6763078344664408            |       0.0000 | nan      |          nan      |          nan      |  nan      |  nan      |  nan      |  nan      |\n",
      "| 81 | StockOptionLevel=1.4237444620588822            |       0.0000 | nan      |          nan      |          nan      |  nan      |  nan      |  nan      |  nan      |\n",
      "| 80 | StockOptionLevel=0.4952241454894163            |       0.0000 | nan      |          nan      |          nan      |  nan      |  nan      |  nan      |  nan      |\n",
      "| 79 | StockOptionLevel=0.7100857693813151            |       0.0000 | nan      |          nan      |          nan      |  nan      |  nan      |  nan      |  nan      |\n",
      "| 67 | JobRole=2.0                                    |       0.0000 | nan      |          nan      |          nan      |  nan      |  nan      |  nan      |  nan      |\n",
      "| 38 | Education=2.466153352145801                    |       0.0000 | nan      |          nan      |          nan      |  nan      |  nan      |  nan      |  nan      |\n",
      "| 99 | EmpNumQauntile_In_DeptRole=2.111067220960334   |       0.0000 | nan      |          nan      |          nan      |  nan      |  nan      |  nan      |  nan      |\n",
      "| 35 | Education=4.0                                  |       0.0000 | nan      |          nan      |          nan      |  nan      |  nan      |  nan      |  nan      |\n",
      "| 34 | Education=1.0                                  |       0.0000 | nan      |          nan      |          nan      |  nan      |  nan      |  nan      |  nan      |\n",
      "| 33 | Education=2.0                                  |       0.0000 | nan      |          nan      |          nan      |  nan      |  nan      |  nan      |  nan      |\n",
      "| 23 | BusinessTravel=0.5369946041177311              |       0.0000 | nan      |          nan      |          nan      |  nan      |  nan      |  nan      |  nan      |\n",
      "| 24 | BusinessTravel=0.3035869959263393              |       0.0000 | nan      |          nan      |          nan      |  nan      |  nan      |  nan      |  nan      |\n",
      "| 31 | Department=0.41224872631581544                 |       0.0000 | nan      |          nan      |          nan      |  nan      |  nan      |  nan      |  nan      |\n",
      "| 30 | Department=0.6879754057597501                  |       0.0000 | nan      |          nan      |          nan      |  nan      |  nan      |  nan      |  nan      |\n",
      "| 29 | Department=0.6150775599024476                  |       0.0000 | nan      |          nan      |          nan      |  nan      |  nan      |  nan      |  nan      |\n",
      "| 28 | Department=0.17789230073713685                 |       0.0000 | nan      |          nan      |          nan      |  nan      |  nan      |  nan      |  nan      |\n",
      "| 37 | Education=0.7904199569761393                   |       0.0000 | nan      |          nan      |          nan      |  nan      |  nan      |  nan      |  nan      |\n",
      "| 25 | BusinessTravel=0.5913919618771051              |       0.0000 | nan      |          nan      |          nan      |  nan      |  nan      |  nan      |  nan      |\n",
      "| 36 | Education=3.0                                  |       0.0020 | nan      |          nan      |          nan      |  nan      |  nan      |  nan      |  nan      |\n",
      "| 70 | JobRole=8.0                                    |       0.0020 | nan      |          nan      |          nan      |  nan      |  nan      |  nan      |  nan      |\n",
      "| 22 | BusinessTravel=1.0                             |       0.0020 | nan      |          nan      |          nan      |  nan      |  nan      |  nan      |  nan      |\n",
      "| 73 | MaritalStatus=1.0                              |       0.0020 | nan      |          nan      |          nan      |  nan      |  nan      |  nan      |  nan      |\n",
      "| 54 | Gender=0.0                                     |       0.0020 | nan      |          nan      |          nan      |  nan      |  nan      |  nan      |  nan      |\n",
      "| 27 | Department=1.0                                 |       0.0020 | nan      |          nan      |          nan      |  nan      |  nan      |  nan      |  nan      |\n",
      "| 83 | EmpNumQauntile_In_DeptRole=0.0                 |       0.0020 | nan      |          nan      |          nan      |  nan      |  nan      |  nan      |  nan      |\n",
      "| 84 | EmpNumQauntile_In_DeptRole=1.0                 |       0.0020 | nan      |          nan      |          nan      |  nan      |  nan      |  nan      |  nan      |\n",
      "| 86 | EmpNumQauntile_In_DeptRole=3.0                 |       0.0040 | nan      |          nan      |          nan      |  nan      |  nan      |  nan      |  nan      |\n",
      "| 44 | EducationField=2.0                             |       0.0040 | nan      |          nan      |          nan      |  nan      |  nan      |  nan      |  nan      |\n",
      "| 59 | JobLevel=2.0                                   |       0.0040 | nan      |          nan      |          nan      |  nan      |  nan      |  nan      |  nan      |\n",
      "| 43 | EducationField=1.0                             |       0.0040 | nan      |          nan      |          nan      |  nan      |  nan      |  nan      |  nan      |\n",
      "| 42 | EducationField=0.0                             |       0.0060 | nan      |          nan      |          nan      |  nan      |  nan      |  nan      |  nan      |\n",
      "| 66 | JobRole=1.0                                    |       0.0060 | nan      |          nan      |          nan      |  nan      |  nan      |  nan      |  nan      |\n",
      "| 72 | MaritalStatus=2.0                              |       0.0080 | nan      |          nan      |          nan      |  nan      |  nan      |  nan      |  nan      |\n",
      "| 76 | StockOptionLevel=1.0                           |       0.0080 | nan      |          nan      |          nan      |  nan      |  nan      |  nan      |  nan      |\n",
      "| 68 | JobRole=4.0                                    |       0.0080 | nan      |          nan      |          nan      |  nan      |  nan      |  nan      |  nan      |\n",
      "| 32 | Education=0.0                                  |       0.0080 | nan      |          nan      |          nan      |  nan      |  nan      |  nan      |  nan      |\n",
      "| 71 | MaritalStatus=0.0                              |       0.0099 | nan      |          nan      |          nan      |  nan      |  nan      |  nan      |  nan      |\n",
      "|  9 | TotalWorkingYearsGroup                         |       0.0099 |   0.6308 |            0.0004 |            0.0002 |    0.0005 |    0.0007 |    0.0000 |    0.0000 |\n",
      "| 75 | OverTime=1.0                                   |       0.0099 | nan      |          nan      |          nan      |  nan      |  nan      |  nan      |  nan      |\n",
      "| 45 | EducationField=3.0                             |       0.0119 | nan      |          nan      |          nan      |  nan      |  nan      |  nan      |  nan      |\n",
      "| 87 | EmpNumQauntile_In_DeptRole=4.0                 |       0.0119 | nan      |          nan      |          nan      |  nan      |  nan      |  nan      |  nan      |\n",
      "| 77 | StockOptionLevel=2.0                           |       0.0139 | nan      |          nan      |          nan      |  nan      |  nan      |  nan      |  nan      |\n",
      "| 20 | BusinessTravel=0.0                             |       0.0139 | nan      |          nan      |          nan      |  nan      |  nan      |  nan      |  nan      |\n",
      "| 21 | BusinessTravel=2.0                             |       0.0139 | nan      |          nan      |          nan      |  nan      |  nan      |  nan      |  nan      |\n",
      "| 58 | JobLevel=0.0                                   |       0.0139 | nan      |          nan      |          nan      |  nan      |  nan      |  nan      |  nan      |\n",
      "| 53 | Gender=1.0                                     |       0.0139 | nan      |          nan      |          nan      |  nan      |  nan      |  nan      |  nan      |\n",
      "| 11 | PercentSalaryHikeGroup                         |       0.0159 |   0.5500 |           -0.0007 |            0.0010 |    0.0033 |    0.0012 |    0.0000 |    0.0000 |\n",
      "| 13 | YearsInCurrentRoleGroup                        |       0.0159 |   0.4312 |           -0.0001 |            0.0029 |    0.0001 |    0.0029 |    0.0000 |    0.0000 |\n",
      "|  8 | IncomeCompareAvgGroup                          |       0.0179 |   0.5305 |            0.0054 |            0.0001 |    0.0054 |    0.0008 |    0.0000 |    0.0000 |\n",
      "| 60 | JobLevel=3.0                                   |       0.0199 | nan      |          nan      |          nan      |  nan      |  nan      |  nan      |  nan      |\n",
      "| 26 | Department=0.0                                 |       0.0239 | nan      |          nan      |          nan      |  nan      |  nan      |  nan      |  nan      |\n",
      "| 15 | YearsWithCurrManagerGroup                      |       0.0258 |   0.4082 |            0.0032 |            0.0105 |    0.0041 |    0.0106 |    0.0000 |    0.0000 |\n",
      "| 17 | YearsAtCompanyGroup                            |       0.0278 |   0.3191 |            0.0320 |           -0.0019 |    0.0320 |    0.0019 |    0.0012 |    0.0000 |\n",
      "| 18 | IncomeRiseEachYearGroup                        |       0.0278 |   0.4296 |            0.0198 |            0.0000 |    0.0201 |    0.0028 |    0.0000 |    0.0000 |\n",
      "| 10 | LastPromoteCompareAvgGroup                     |       0.0278 |   0.4639 |            0.0056 |           -0.0009 |    0.0056 |    0.0009 |    0.0000 |    0.0000 |\n",
      "|  4 | JobSatisfied                                   |       0.0298 |   0.2294 |            0.0751 |           -0.0011 |    0.0751 |    0.0011 |    0.0000 |    0.0000 |\n",
      "| 78 | StockOptionLevel=0.0                           |       0.0298 | nan      |          nan      |          nan      |  nan      |  nan      |  nan      |  nan      |\n",
      "|  5 | WorkLifeBalanceSatisfied                       |       0.0318 |   0.2125 |            0.0836 |           -0.0017 |    0.0836 |    0.0017 |    0.0063 |    0.0000 |\n",
      "|  6 | EnvironmentSatisfied                           |       0.0338 |   0.2286 |            0.0737 |           -0.0007 |    0.0737 |    0.0007 |    0.0000 |    0.0000 |\n",
      "| 16 | NumCompaniesWorkedGroup                        |       0.0338 |   0.5553 |            0.0047 |           -0.0002 |    0.0051 |    0.0002 |    0.0000 |    0.0000 |\n",
      "| 12 | TrainingTimesLastYearGroup                     |       0.0358 |   0.4054 |            0.0382 |           -0.0004 |    0.0382 |    0.0028 |    0.0000 |    0.0000 |\n",
      "|  3 | Satisfied                                      |       0.0378 |   0.2324 |            0.1132 |           -0.0022 |    0.1132 |    0.0022 |    0.0000 |    0.0000 |\n",
      "| 19 | WorkingYearsPctGroup                           |       0.0378 |   0.5318 |            0.0036 |            0.0025 |    0.0047 |    0.0038 |    0.0000 |    0.0000 |\n",
      "|  7 | DistanceFromHomeGroup                          |       0.0457 |   0.5134 |            0.0196 |           -0.0027 |    0.0224 |    0.0036 |    0.0000 |    0.0000 |\n",
      "| 14 | WorkBeginAgeGroup                              |       0.0477 |   0.3719 |            0.0311 |            0.0045 |    0.0311 |    0.0094 |    0.0000 |    0.0000 |\n",
      "|  0 | JobInvolvement                                 |       0.0557 |   0.3348 |            0.0060 |            0.0010 |    0.0072 |    0.0015 |    0.0000 |    0.0000 |\n",
      "|  1 | AgeGroup                                       |       0.0577 |   0.4718 |            0.0041 |            0.0206 |    0.0062 |    0.0221 |    0.0000 |    0.0010 |\n",
      "| 74 | OverTime=0.0                                   |       0.0596 | nan      |          nan      |          nan      |  nan      |  nan      |  nan      |  nan      |\n",
      "|  2 | Satisfaction                                   |       0.0616 |   0.2077 |            0.0071 |           -0.0036 |    0.0081 |    0.0048 |    0.0022 |    0.0009 |\n",
      "+----+------------------------------------------------+--------------+----------+-------------------+-------------------+-----------+-----------+-----------+-----------+\n",
      "\n",
      "\n",
      "*******\n",
      "Legend:\n",
      "Importance = Feature Importance\n",
      "     Explanation: A weighted measure of how much of the variance the model is able to explain is due to this column\n",
      "FR_delta = Feature Response Delta Amount\n",
      "     Explanation: Amount this column was incremented or decremented by to calculate the feature reponses\n",
      "FR_Decrementing = Feature Response From Decrementing Values In This Column By One FR_delta\n",
      "     Explanation: Represents how much the predicted output values respond to subtracting one FR_delta amount from every value in this column\n",
      "FR_Incrementing = Feature Response From Incrementing Values In This Column By One FR_delta\n",
      "     Explanation: Represents how much the predicted output values respond to adding one FR_delta amount to every value in this column\n",
      "FRD_MAD = Feature Response From Decrementing- Median Absolute Delta\n",
      "     Explanation: Takes the absolute value of all changes in predictions, then takes the median of those. Useful for seeing if decrementing this feature provokes strong changes that are both positive and negative\n",
      "FRI_MAD = Feature Response From Incrementing- Median Absolute Delta\n",
      "     Explanation: Takes the absolute value of all changes in predictions, then takes the median of those. Useful for seeing if incrementing this feature provokes strong changes that are both positive and negative\n",
      "FRD_abs = Feature Response From Decrementing Avg Absolute Change\n",
      "     Explanation: What is the average absolute change in predicted output values to subtracting one FR_delta amount to every value in this column. Useful for seeing if output is sensitive to a feature, but not in a uniformly positive or negative way\n",
      "FRI_abs = Feature Response From Incrementing Avg Absolute Change\n",
      "     Explanation: What is the average absolute change in predicted output values to adding one FR_delta amount to every value in this column. Useful for seeing if output is sensitive to a feature, but not in a uniformly positive or negative way\n",
      "*******\n",
      "\n"
     ]
    },
    {
     "data": {
      "text/plain": [
       "0.88760806916426516"
      ]
     },
     "execution_count": 400,
     "metadata": {},
     "output_type": "execute_result"
    }
   ],
   "source": [
    "from auto_ml import Predictor\n",
    "from sklearn.model_selection import train_test_split\n",
    "from sklearn.metrics import f1_score\n",
    "\n",
    "X_trainset = HR_transform.drop(['Attrition'], axis=1).copy()[:train_size]\n",
    "y_trainset = HR_transform.Attrition[:train_size]\n",
    "for cat in cat_vars:\n",
    "    X_trainset[cat] = pd.factorize(X_trainset[cat])[0]\n",
    "\n",
    "X_resampled, y_resampled =smt.fit_sample(X_trainset, y_trainset)\n",
    "df_resampled = pd.DataFrame(X_resampled,columns=X_trainset.columns)\n",
    "df_resampled['Attrition'] = y_resampled\n",
    "\n",
    "HR_auto = df_resampled.copy()\n",
    "\n",
    "\n",
    "df_train, df_test = train_test_split(HR_auto,shuffle=True,test_size=0.2)\n",
    "\n",
    "column_descriptions = {'Attrition':'output'}\n",
    "column_descriptions.update(dict(zip(cat_features,['categorical']*cat_features.shape[0])))\n",
    "\n",
    "ml_predictor = Predictor(type_of_estimator='classifier', column_descriptions=column_descriptions)\n",
    "\n",
    "# ml_predictor.train_categorical_ensemble(df_train,categorical_column='Department', model_names = ['XGBClassifier'], perform_feature_selection= True)\n",
    "ml_predictor.train(df_train, model_names = ['XGBClassifier'], perform_feature_selection= True)\n",
    "test_result = ml_predictor.predict(df_test)\n",
    "f1_score(test_result, df_test['Attrition'])"
   ]
  },
  {
   "cell_type": "code",
   "execution_count": 401,
   "metadata": {},
   "outputs": [
    {
     "name": "stdout",
     "output_type": "stream",
     "text": [
      "             precision    recall  f1-score   support\n",
      "\n",
      "          0       0.88      0.33      0.48       184\n",
      "          1       0.18      0.78      0.30        36\n",
      "\n",
      "avg / total       0.77      0.40      0.45       220\n",
      "\n"
     ]
    }
   ],
   "source": [
    "y_hat = ml_predictor.predict(X_val)\n",
    "print(classification_report(y_val, y_hat))"
   ]
  },
  {
   "cell_type": "code",
   "execution_count": 402,
   "metadata": {},
   "outputs": [
    {
     "name": "stdout",
     "output_type": "stream",
     "text": [
      "[(116, <itertools._grouper object at 0x0000000012E267B8>), (234, <itertools._grouper object at 0x0000000012D95828>)]\n"
     ]
    }
   ],
   "source": [
    "\n",
    "y_pred = np.array(ml_predictor.predict(X_test))\n",
    "import itertools as it\n",
    "print(list(it.groupby([0,1], lambda x: np.sum(y_pred==x))))\n",
    "\n",
    "\n",
    "np.savetxt('data/test_result_automl.csv',y_pred,fmt='%s',header='result');"
   ]
  }
 ],
 "metadata": {
  "kernelspec": {
   "display_name": "Python 3",
   "language": "python",
   "name": "python3"
  },
  "language_info": {
   "codemirror_mode": {
    "name": "ipython",
    "version": 3
   },
   "file_extension": ".py",
   "mimetype": "text/x-python",
   "name": "python",
   "nbconvert_exporter": "python",
   "pygments_lexer": "ipython3",
   "version": "3.5.0"
  }
 },
 "nbformat": 4,
 "nbformat_minor": 2
}
