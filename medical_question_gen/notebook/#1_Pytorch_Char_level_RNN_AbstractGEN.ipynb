{
  "nbformat": 4,
  "nbformat_minor": 0,
  "metadata": {
    "colab": {
      "name": "AbstractGEN: Pytorch_Char-level RNN.ipynb",
      "provenance": [],
      "collapsed_sections": []
    },
    "kernelspec": {
      "name": "python3",
      "display_name": "Python 3"
    },
    "accelerator": "GPU"
  },
  "cells": [
    {
      "cell_type": "markdown",
      "metadata": {
        "id": "ty-Ib50tmKnf",
        "colab_type": "text"
      },
      "source": [
        "# AbstractGEN: Char-level RNNLM\n",
        "\n",
        "이 포스트는 6개로 이루어진 \"AbstractGEN\"의 2번째 포스트입니다. 첫번째 포스트에서는 우리가 사용할 데이터를 분석하고 시각화해보았습니다.\n",
        "\n",
        "이번에는 분석한 내용을 바탕으로 초록 생성기를 만들어보겠습니다. 논문의 초록을 생성하기 위한 가장 기초적인 모델은 역시 순환신경망(RNN)입니다. \n",
        "\n",
        "순환신경망(RNN)은 시퀀셜 데이터를 처리하는데 최적화된 신경망 모델로, 시간 정보를 고려하기 위해 현재의 hidden_state를 결정하는 작업을 여러 time-step에 겇려 수행합니다. \n",
        "\n",
        "$y = f(x_t, h_{t-1}: \\theta)$\n",
        "\n",
        "자세한 내용은 [link]를 참조하세요. \n",
        "\n",
        "</br>\n",
        "\n",
        "앞으로의 포스트는 다음과 같습니다:\n",
        "- #0. AbstractGEN: DataAnalysis\n",
        "- **#1. AbstractGEN: Char-level RNN**\n",
        "- #2. AbstractGEN: Word-level RNN\n",
        "- #3. AbstractGEN: Seq2seq\n",
        "- #4. AbstractGEN: Seq2seq with attention+teaching force\n",
        "- #5. AbstractGEN: Applying gpt-2 "
      ]
    },
    {
      "cell_type": "code",
      "metadata": {
        "id": "YBpJzQyQtNnG",
        "colab_type": "code",
        "colab": {}
      },
      "source": [
        "import torch\n",
        "from torch import nn, optim\n",
        "from torch.utils.data import TensorDataset, DataLoader, Dataset\n",
        "\n",
        "import pandas as pd\n",
        "import numpy as np\n",
        "\n",
        "import re\n",
        "import collections\n",
        "import itertools\n",
        "\n",
        "import tqdm"
      ],
      "execution_count": 0,
      "outputs": []
    },
    {
      "cell_type": "markdown",
      "metadata": {
        "id": "uagzHLcOtGuf",
        "colab_type": "text"
      },
      "source": [
        "## 데이터 준비"
      ]
    },
    {
      "cell_type": "code",
      "metadata": {
        "id": "C3Ps_PwRtgJ3",
        "colab_type": "code",
        "colab": {}
      },
      "source": [
        "# re 모듈을 통해 삭제할 목록들을 정리\n",
        "\n",
        "FILTERS = \"([#@~,!?\\\"':;)(])\"\n",
        "SHIFTS = re.compile(\"([?!.])\")\n",
        "CHANGE_FILTER = re.compile(FILTERS)"
      ],
      "execution_count": 0,
      "outputs": []
    },
    {
      "cell_type": "markdown",
      "metadata": {
        "id": "F1npMKKSuHmD",
        "colab_type": "text"
      },
      "source": [
        "Filter는 데이터에서 삭제할 목록들, Shifts는 단어와 해당 목록 사이에 띄어쓰기를 할 목록을 의미한다. 후에 ' '를 삽입함으로써 \"do.\"와 \"do\"가 별개의 단어로 취급되는 것을 막고, Shifts의 목록을 개별 단어로 여기게 한다. "
      ]
    },
    {
      "cell_type": "code",
      "metadata": {
        "id": "TwSezobXtpTm",
        "colab_type": "code",
        "colab": {}
      },
      "source": [
        "def normalize(text):\n",
        "  text = text.lower()\n",
        "  text = CHANGE_FILTER.sub(\"\", text)\n",
        "  text = re.sub('[0-9]+', \"\", text)\n",
        "  text = SHIFTS.sub(r\" \\1\", text)\n",
        "  return text"
      ],
      "execution_count": 0,
      "outputs": []
    },
    {
      "cell_type": "code",
      "metadata": {
        "id": "yP5r45vIl_ga",
        "colab_type": "code",
        "colab": {}
      },
      "source": [
        "# 파일을 불러와서 원하는 만큼 잘라, 새로 파일을 만들기 \n",
        "\n",
        "with open('/content/titles_and_abstracts.txt','r') as f:\n",
        "  data = f.read()\n",
        "\n",
        "data = [normalize(i) for i in data.split('\\n') if i != '']\n",
        "\n",
        "data_f = []\n",
        "for i in range(0,len(data),2):\n",
        "    data_f.append(data[i] + \" \" + data[i+1])"
      ],
      "execution_count": 0,
      "outputs": []
    },
    {
      "cell_type": "markdown",
      "metadata": {
        "id": "n7PyGE31t1Vu",
        "colab_type": "text"
      },
      "source": [
        "Raw data의 각 논문은 두 번의 enter('\\n\\n') , 제목과 초록은 한 번의 enter('\\n')를 기준으로 나누어져 있었다. \n",
        "\n",
        "이를 각 논문은 별개의 데이터로, 제목과 초록은 하나의 데이터로 묶이되 한 번의 enter('\\n')로 구분되도록 바꾸었다. \n",
        "\n",
        "이는 RNNLM의 원리를 생각해보면 된다. \n",
        "------출력이 다음 문자의 확률로 해석되기 때문이다. \n"
      ]
    },
    {
      "cell_type": "code",
      "metadata": {
        "id": "PAjquVwGtd7L",
        "colab_type": "code",
        "outputId": "f606f269-c425-4944-906c-35345fea0256",
        "colab": {
          "base_uri": "https://localhost:8080/",
          "height": 34
        }
      },
      "source": [
        "# cuda gpu 환경이 사용 가능한지 체크\n",
        "\n",
        "print(torch.cuda.is_available())\n",
        "\n",
        "device = torch.device(\"cuda\" if torch.cuda.is_available() else \"cpu\")"
      ],
      "execution_count": 5,
      "outputs": [
        {
          "output_type": "stream",
          "text": [
            "True\n"
          ],
          "name": "stdout"
        }
      ]
    },
    {
      "cell_type": "markdown",
      "metadata": {
        "id": "KE7Sv5UZFTvy",
        "colab_type": "text"
      },
      "source": [
        "- 문자 집합 생성 및 인코딩"
      ]
    },
    {
      "cell_type": "code",
      "metadata": {
        "id": "J-H_3DjYFRJQ",
        "colab_type": "code",
        "colab": {}
      },
      "source": [
        "# 문자 집합 생성\n",
        "char_set = []\n",
        "for data in data_f:\n",
        "    char_set += list(data)\n",
        "\n",
        "char_set = sorted(list(set(char_set)))\n",
        "char_dic = {c:i for i,c in enumerate(char_set)}"
      ],
      "execution_count": 0,
      "outputs": []
    },
    {
      "cell_type": "code",
      "metadata": {
        "id": "rdq6uP59Fbil",
        "colab_type": "code",
        "colab": {
          "base_uri": "https://localhost:8080/",
          "height": 89
        },
        "outputId": "1a892d25-b0d4-40bb-c306-0b8efe7276b6"
      },
      "source": [
        "print(char_dic, \"\\n\")\n",
        "\n",
        "print(\"문자 집합의 크기:\" , len(char_dic))"
      ],
      "execution_count": 7,
      "outputs": [
        {
          "output_type": "stream",
          "text": [
            "{'\\x0c': 0, ' ': 1, '$': 2, '%': 3, '&': 4, '*': 5, '+': 6, '-': 7, '.': 8, '/': 9, '<': 10, '=': 11, '>': 12, '[': 13, '\\\\': 14, ']': 15, '_': 16, '`': 17, 'a': 18, 'b': 19, 'c': 20, 'd': 21, 'e': 22, 'f': 23, 'g': 24, 'h': 25, 'i': 26, 'j': 27, 'k': 28, 'l': 29, 'm': 30, 'n': 31, 'o': 32, 'p': 33, 'q': 34, 'r': 35, 's': 36, 't': 37, 'u': 38, 'v': 39, 'w': 40, 'x': 41, 'y': 42, 'z': 43, '{': 44, '|': 45, '}': 46, '—': 47, '\\u3000': 48} \n",
            "\n",
            "문자 집합의 크기: 49\n"
          ],
          "name": "stdout"
        }
      ]
    },
    {
      "cell_type": "markdown",
      "metadata": {
        "id": "l6MgAS6lK15y",
        "colab_type": "text"
      },
      "source": [
        "위의 문자 집합의 크기는 나중에 순환신경망에서 사용할 input_size의 하이퍼파라미터이기도 합니다. \n",
        "\n",
        "밑에서 선언한 sequence length는 끊어서 학습할 문장의 길이입니다. 제목이 인풋으로 들어갔을 때 초록을 생성하는 것이 목적이므로, sequence length 변수는 제목의 평균 char 단위 길이인: 62로 설정해주었습니다. \n"
      ]
    },
    {
      "cell_type": "code",
      "metadata": {
        "id": "Gwi_I--WKqKR",
        "colab_type": "code",
        "colab": {}
      },
      "source": [
        "# 하이퍼파라미터 설정\n",
        "hidden_size = len(char_dic)\n",
        "sequence_length = 62  # 제목의 평균 길이로 지정\n",
        "learning_rate = 0.1"
      ],
      "execution_count": 0,
      "outputs": []
    },
    {
      "cell_type": "markdown",
      "metadata": {
        "id": "B5otCf3k-z_7",
        "colab_type": "text"
      },
      "source": [
        "입력으로 들어갈 X_data와 정답값이 될 Y_data를 구성해보겠습니다. \n",
        "\n",
        "Y_data는 X_data에서 한 칸씩 쉬프트된 시퀀스입니다. 다음 캐릭터를 예측하는 것이기 때문이죠!"
      ]
    },
    {
      "cell_type": "code",
      "metadata": {
        "id": "R35fC2VrLuRw",
        "colab_type": "code",
        "colab": {}
      },
      "source": [
        "# 데이터 구성\n",
        "\n",
        "X_data = []\n",
        "Y_data = []\n",
        "\n",
        "for data in data_f[:50]:\n",
        "    for i in range(0, len(data) - sequence_length):\n",
        "        x_str = data[i:i+sequence_length]\n",
        "        y_str = data[i+1:i+1+sequence_length]\n",
        "        X_data.append([char_dic[c] for c in x_str])\n",
        "        Y_data.append([char_dic[c] for c in y_str])    "
      ],
      "execution_count": 0,
      "outputs": []
    },
    {
      "cell_type": "code",
      "metadata": {
        "id": "EnDP1jiFMaVu",
        "colab_type": "code",
        "colab": {
          "base_uri": "https://localhost:8080/",
          "height": 72
        },
        "outputId": "860de91c-06c4-4c7b-9a7b-050c2a8b6de5"
      },
      "source": [
        "print(X_data[0])\n",
        "print(Y_data[0])"
      ],
      "execution_count": 10,
      "outputs": [
        {
          "output_type": "stream",
          "text": [
            "[22, 39, 18, 29, 38, 18, 37, 26, 32, 31, 1, 37, 22, 20, 25, 31, 32, 29, 32, 24, 42, 1, 23, 35, 32, 30, 1, 36, 33, 22, 18, 28, 22, 35, 1, 26, 21, 22, 31, 37, 26, 23, 26, 20, 18, 37, 26, 32, 31, 1, 37, 32, 1, 18, 23, 23, 22, 20, 37, 26, 39, 22]\n",
            "[39, 18, 29, 38, 18, 37, 26, 32, 31, 1, 37, 22, 20, 25, 31, 32, 29, 32, 24, 42, 1, 23, 35, 32, 30, 1, 36, 33, 22, 18, 28, 22, 35, 1, 26, 21, 22, 31, 37, 26, 23, 26, 20, 18, 37, 26, 32, 31, 1, 37, 32, 1, 18, 23, 23, 22, 20, 37, 26, 39, 22, 1]\n"
          ],
          "name": "stdout"
        }
      ]
    },
    {
      "cell_type": "markdown",
      "metadata": {
        "id": "43Tf4MY8Cq3A",
        "colab_type": "text"
      },
      "source": [
        "한 칸씩 쉬프트된 시퀀스가 정상적으로 출력되었습니다. 이제 입력 시퀀스에 대해 one-hot encoding을 수행하고, 입력 데이터와 레이블 데이터를 텐서로 변환합니다. "
      ]
    },
    {
      "cell_type": "code",
      "metadata": {
        "id": "DZsRrq6uAPEY",
        "colab_type": "code",
        "colab": {}
      },
      "source": [
        "X_oneHot = [np.eye(len(char_dic))[x] for x in X_data]\n",
        "\n",
        "X = torch.FloatTensor(X_oneHot) # (data_size, sequence_length, len(char_dic))\n",
        "Y = torch.LongTensor(Y_data)"
      ],
      "execution_count": 0,
      "outputs": []
    },
    {
      "cell_type": "code",
      "metadata": {
        "id": "rI8BwTvaD2Jr",
        "colab_type": "code",
        "colab": {
          "base_uri": "https://localhost:8080/",
          "height": 52
        },
        "outputId": "0a07d351-e3d9-40dd-df19-5fa8f8e97a08"
      },
      "source": [
        "print('훈련 데이터의 모양 : {}'.format(X.shape))\n",
        "print('정답 데이터의 모양 : {}'.format(Y.shape))"
      ],
      "execution_count": 12,
      "outputs": [
        {
          "output_type": "stream",
          "text": [
            "훈련 데이터의 모양 : torch.Size([33765, 62, 49])\n",
            "정답 데이터의 모양 : torch.Size([33765, 62])\n"
          ],
          "name": "stdout"
        }
      ]
    },
    {
      "cell_type": "code",
      "metadata": {
        "id": "q-2QH8uNENTe",
        "colab_type": "code",
        "colab": {
          "base_uri": "https://localhost:8080/",
          "height": 139
        },
        "outputId": "7090af27-39d6-4455-bacd-b0faf788a7c3"
      },
      "source": [
        "print(X[1])"
      ],
      "execution_count": 13,
      "outputs": [
        {
          "output_type": "stream",
          "text": [
            "tensor([[0., 0., 0.,  ..., 0., 0., 0.],\n",
            "        [0., 0., 0.,  ..., 0., 0., 0.],\n",
            "        [0., 0., 0.,  ..., 0., 0., 0.],\n",
            "        ...,\n",
            "        [0., 0., 0.,  ..., 0., 0., 0.],\n",
            "        [0., 0., 0.,  ..., 0., 0., 0.],\n",
            "        [0., 1., 0.,  ..., 0., 0., 0.]])\n"
          ],
          "name": "stdout"
        }
      ]
    },
    {
      "cell_type": "code",
      "metadata": {
        "id": "QiBKMvohEcI7",
        "colab_type": "code",
        "colab": {
          "base_uri": "https://localhost:8080/",
          "height": 86
        },
        "outputId": "c12dcc3e-7b6c-4e5e-fdb0-70158eba1641"
      },
      "source": [
        "print(Y[1])"
      ],
      "execution_count": 14,
      "outputs": [
        {
          "output_type": "stream",
          "text": [
            "tensor([18, 29, 38, 18, 37, 26, 32, 31,  1, 37, 22, 20, 25, 31, 32, 29, 32, 24,\n",
            "        42,  1, 23, 35, 32, 30,  1, 36, 33, 22, 18, 28, 22, 35,  1, 26, 21, 22,\n",
            "        31, 37, 26, 23, 26, 20, 18, 37, 26, 32, 31,  1, 37, 32,  1, 18, 23, 23,\n",
            "        22, 20, 37, 26, 39, 22,  1, 18])\n"
          ],
          "name": "stdout"
        }
      ]
    },
    {
      "cell_type": "markdown",
      "metadata": {
        "id": "yrtHdzkGO9jq",
        "colab_type": "text"
      },
      "source": [
        "## DataLoader\n",
        "\n",
        "파이토치에서는 데이터를 좀 더 쉽게 다루고, 학습을 용이하게 하기 위해 Dataset과 DataLoader를 제공합니다. 이를 사용하면 미니 배치학습과 데이터 셔플 등을 쉽게 수행할 수 있습니다. \n",
        "\n",
        "\n",
        "Dataset을 정의하고 이를 DataLoader에 전달하는 방식으로 사용됩니다. "
      ]
    },
    {
      "cell_type": "code",
      "metadata": {
        "id": "xIsXTQxHPXG2",
        "colab_type": "code",
        "colab": {}
      },
      "source": [
        "dataset = TensorDataset(X, Y)\n",
        "dataloader = DataLoader(dataset, batch_size=64, shuffle=False)"
      ],
      "execution_count": 0,
      "outputs": []
    },
    {
      "cell_type": "markdown",
      "metadata": {
        "id": "lIJGsaMgFI2k",
        "colab_type": "text"
      },
      "source": [
        "## 모델 정의"
      ]
    },
    {
      "cell_type": "code",
      "metadata": {
        "id": "38cd0h1gEmGq",
        "colab_type": "code",
        "colab": {}
      },
      "source": [
        "class RNNLM(nn.Module):\n",
        "    def __init__(self, input_size, hidden_size, n_layers):\n",
        "        \n",
        "        super().__init__()\n",
        "\n",
        "        self.rnn = nn.RNN(input_size, \n",
        "                          hidden_size, \n",
        "                          num_layers = n_layers, \n",
        "                          batch_first=True)\n",
        "        self.out = nn.Linear(hidden_size, hidden_size)\n",
        "\n",
        "    def forward(self, x):\n",
        "        x, _ = self.rnn(x)\n",
        "        x = self.out(x)\n",
        "        return x"
      ],
      "execution_count": 0,
      "outputs": []
    },
    {
      "cell_type": "code",
      "metadata": {
        "id": "iIsRMNNCFciN",
        "colab_type": "code",
        "colab": {}
      },
      "source": [
        "model = RNNLM(len(char_dic), hidden_size, 2) # 은닉층 4개"
      ],
      "execution_count": 0,
      "outputs": []
    },
    {
      "cell_type": "markdown",
      "metadata": {
        "id": "comsmgsRGqDh",
        "colab_type": "text"
      },
      "source": [
        "- 비용 함수와 옵티마이저 선언"
      ]
    },
    {
      "cell_type": "code",
      "metadata": {
        "id": "spRLuIQMGkH3",
        "colab_type": "code",
        "colab": {}
      },
      "source": [
        "criterion = nn.CrossEntropyLoss()\n",
        "optimizer = optim.Adam(model.parameters(), learning_rate)"
      ],
      "execution_count": 0,
      "outputs": []
    },
    {
      "cell_type": "markdown",
      "metadata": {
        "id": "KZs54KaIGxKO",
        "colab_type": "text"
      },
      "source": [
        "- 모델에 입력을 넣어서 출력 크기 확인해보기!"
      ]
    },
    {
      "cell_type": "code",
      "metadata": {
        "id": "c-MNIb6vGu7F",
        "colab_type": "code",
        "colab": {
          "base_uri": "https://localhost:8080/",
          "height": 34
        },
        "outputId": "af601f73-73b7-4449-8198-225f70149fe7"
      },
      "source": [
        "output = model(X)\n",
        "print(output.shape) "
      ],
      "execution_count": 19,
      "outputs": [
        {
          "output_type": "stream",
          "text": [
            "torch.Size([33765, 62, 49])\n"
          ],
          "name": "stdout"
        }
      ]
    },
    {
      "cell_type": "markdown",
      "metadata": {
        "id": "_CyWsAVDHQq1",
        "colab_type": "text"
      },
      "source": [
        "위의 크기는 각각 배치 차원, timestep, 출력의 크기. \n",
        "\n",
        "Y 데이터와의 비교를 위해서는 X와 Y 모두를 펼쳐야 합니다. 따라서 view를 이용해서 배치차원과 시점 차원을 하나로 만들겠습니다. "
      ]
    },
    {
      "cell_type": "code",
      "metadata": {
        "id": "BPr6s_K_G4uo",
        "colab_type": "code",
        "colab": {
          "base_uri": "https://localhost:8080/",
          "height": 69
        },
        "outputId": "21aef0e9-bf8f-48aa-a43a-cb53f8dddeb9"
      },
      "source": [
        "print(output.view(-1, len(char_dic)).shape) # 2차원 텐서로 변환.\n",
        "print(Y.shape)\n",
        "print(Y.view(-1).shape)"
      ],
      "execution_count": 20,
      "outputs": [
        {
          "output_type": "stream",
          "text": [
            "torch.Size([2093430, 49])\n",
            "torch.Size([33765, 62])\n",
            "torch.Size([2093430])\n"
          ],
          "name": "stdout"
        }
      ]
    },
    {
      "cell_type": "markdown",
      "metadata": {
        "id": "dgGcxtYhH8s2",
        "colab_type": "text"
      },
      "source": [
        "## 모델 학습"
      ]
    },
    {
      "cell_type": "code",
      "metadata": {
        "id": "scWXFgL6Hw97",
        "colab_type": "code",
        "colab": {}
      },
      "source": [
        "n_epoch = 100\n",
        "\n",
        "for epoch in range(n_epoch):\n",
        " 
        "\n",
        "    for batch_idx, data in enumerate(dataloader):\n",
        "        x_train, y_train = data\n",
        "        outputs = model(x_train) \n",
        "\n",
        "        loss = criterion(outputs.view(-1, len(char_dic)), y_train.view(-1))\n",
        "        \n",
        "        optimizer.zero_grad()\n",
        "        loss.backward()\n",
        "        optimizer.step()\n",
        "\n",
        "    print('Epoch {:4d}/{} Cost: {:.6f}'.format(epoch, n_epoch, loss.item()))\n",
        "\n",
        "        # results = outputs.argmax(dim=2)\n",
        "        # predict_str = \"\"\n",
        "        # for j, result in enumerate(results):\n",
        "        #     if j == 0: # 처음에는 예측 결과를 전부 가져오지만\n",
        "        #         predict_str += ''.join([char_set[t] for t in result])\n",
        "        #     else: # 그 다음에는 마지막 글자만 반복 추가\n",
        "        #         predict_str += char_set[result[-1]]\n",
        "\n",
        "    # print(\"{}번째 반복중\".format(i))\n",
        "    # print(predict_str)"
      ],
      "execution_count": 0,
      "outputs": []
    },
    {
      "cell_type": "code",
      "metadata": {
        "id": "-k5-SJBTIJrn",
        "colab_type": "code",
        "colab": {}
      },
      "source": [
        ""
      ],
      "execution_count": 0,
      "outputs": []
    }
  ]
}
