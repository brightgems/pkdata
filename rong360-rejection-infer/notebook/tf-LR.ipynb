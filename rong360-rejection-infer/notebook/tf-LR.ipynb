{
 "cells": [
  {
   "cell_type": "markdown",
   "metadata": {},
   "source": [
    "# 拒绝推断\n",
    "> 使用tensorflow 建立回归模型， 并使用拒绝推断方法对无标签数据打分\n",
    "## 分配法\n",
    "此方法是依据每一个分数区间的好坏重新分配好坏客户，并将拒绝件分配到每一个分数区间中，以下是具体步骤：\n",
    "\n",
    "1） 已知好坏样本，建立初步模型；\n",
    "\n",
    "2） 使用初步模型对所有被拒绝件进行评分，并预测他们的预期违约率；\n",
    "\n",
    "3） 将已知的好坏样本依评分分数高低进行分组，计算各分组内实际违约率；\n",
    "\n",
    "4） 将被拒件依照3）步的分数进行分组，以各分组的实际违约率做为抽样比例，随机抽取该分组下的被拒件，并指定其为坏，其余为好；\n",
    "\n",
    "5） 将这些推论的有标签的数据新增加到原有的数据集中，重新建模。"
   ]
  },
  {
   "cell_type": "code",
   "execution_count": 2,
   "metadata": {},
   "outputs": [],
   "source": [
    "import pickle as pkl\n",
    "import numpy as np\n",
    "import tensorflow as tf\n",
    "import numpy as np\n",
    "import matplotlib.pyplot as plt\n",
    "import seaborn as sns\n",
    "import pandas as pd\n",
    "import multiprocess\n",
    "import warnings\n",
    "warnings.filterwarnings('ignore')\n",
    "sns.set_style('whitegrid')"
   ]
  },
  {
   "cell_type": "code",
   "execution_count": 3,
   "metadata": {},
   "outputs": [],
   "source": [
    "train = pd.read_pickle('../data/feature-selected/train.pkl')"
   ]
  },
  {
   "cell_type": "code",
   "execution_count": 4,
   "metadata": {},
   "outputs": [],
   "source": [
    "eval = pd.read_pickle('../data/feature-selected/eval.pkl')"
   ]
  },
  {
   "cell_type": "code",
   "execution_count": 5,
   "metadata": {},
   "outputs": [
    {
     "data": {
      "text/html": [
       "<div>\n",
       "<style scoped>\n",
       "    .dataframe tbody tr th:only-of-type {\n",
       "        vertical-align: middle;\n",
       "    }\n",
       "\n",
       "    .dataframe tbody tr th {\n",
       "        vertical-align: top;\n",
       "    }\n",
       "\n",
       "    .dataframe thead th {\n",
       "        text-align: right;\n",
       "    }\n",
       "</style>\n",
       "<table border=\"1\" class=\"dataframe\">\n",
       "  <thead>\n",
       "    <tr style=\"text-align: right;\">\n",
       "      <th></th>\n",
       "      <th>loan_dt</th>\n",
       "      <th>f1</th>\n",
       "      <th>f2</th>\n",
       "      <th>f5</th>\n",
       "      <th>f14</th>\n",
       "      <th>f15</th>\n",
       "      <th>f18</th>\n",
       "      <th>f20</th>\n",
       "      <th>f21</th>\n",
       "      <th>f28</th>\n",
       "      <th>...</th>\n",
       "      <th>f6725</th>\n",
       "      <th>f6728</th>\n",
       "      <th>f6734</th>\n",
       "      <th>f6735</th>\n",
       "      <th>f6737</th>\n",
       "      <th>f6742</th>\n",
       "      <th>f6743</th>\n",
       "      <th>f6745</th>\n",
       "      <th>label</th>\n",
       "      <th>tag</th>\n",
       "    </tr>\n",
       "    <tr>\n",
       "      <th>id</th>\n",
       "      <th></th>\n",
       "      <th></th>\n",
       "      <th></th>\n",
       "      <th></th>\n",
       "      <th></th>\n",
       "      <th></th>\n",
       "      <th></th>\n",
       "      <th></th>\n",
       "      <th></th>\n",
       "      <th></th>\n",
       "      <th></th>\n",
       "      <th></th>\n",
       "      <th></th>\n",
       "      <th></th>\n",
       "      <th></th>\n",
       "      <th></th>\n",
       "      <th></th>\n",
       "      <th></th>\n",
       "      <th></th>\n",
       "      <th></th>\n",
       "      <th></th>\n",
       "    </tr>\n",
       "  </thead>\n",
       "  <tbody>\n",
       "    <tr>\n",
       "      <th>100001</th>\n",
       "      <td>2018-03-07</td>\n",
       "      <td>57.0</td>\n",
       "      <td>0.0</td>\n",
       "      <td>442.180084</td>\n",
       "      <td>NaN</td>\n",
       "      <td>5.0000</td>\n",
       "      <td>0</td>\n",
       "      <td>0.024681</td>\n",
       "      <td>1.0</td>\n",
       "      <td>0.033447</td>\n",
       "      <td>...</td>\n",
       "      <td>27.620493</td>\n",
       "      <td>0.200</td>\n",
       "      <td>450.100006</td>\n",
       "      <td>0.000851</td>\n",
       "      <td>20293.0</td>\n",
       "      <td>0</td>\n",
       "      <td>0.0</td>\n",
       "      <td>49.197765</td>\n",
       "      <td>0</td>\n",
       "      <td>0</td>\n",
       "    </tr>\n",
       "    <tr>\n",
       "      <th>100002</th>\n",
       "      <td>2018-03-07</td>\n",
       "      <td>0.0</td>\n",
       "      <td>NaN</td>\n",
       "      <td>0.000000</td>\n",
       "      <td>0.000039</td>\n",
       "      <td>5.3333</td>\n",
       "      <td>0</td>\n",
       "      <td>0.000000</td>\n",
       "      <td>NaN</td>\n",
       "      <td>0.000000</td>\n",
       "      <td>...</td>\n",
       "      <td>14.480687</td>\n",
       "      <td>0.000</td>\n",
       "      <td>NaN</td>\n",
       "      <td>0.000000</td>\n",
       "      <td>6638.0</td>\n",
       "      <td>0</td>\n",
       "      <td>0.0</td>\n",
       "      <td>0.000000</td>\n",
       "      <td>0</td>\n",
       "      <td>0</td>\n",
       "    </tr>\n",
       "    <tr>\n",
       "      <th>100003</th>\n",
       "      <td>2018-01-27</td>\n",
       "      <td>0.0</td>\n",
       "      <td>NaN</td>\n",
       "      <td>21.197485</td>\n",
       "      <td>NaN</td>\n",
       "      <td>3.5000</td>\n",
       "      <td>0</td>\n",
       "      <td>0.013158</td>\n",
       "      <td>NaN</td>\n",
       "      <td>0.327245</td>\n",
       "      <td>...</td>\n",
       "      <td>11.838667</td>\n",
       "      <td>0.000</td>\n",
       "      <td>3893.979980</td>\n",
       "      <td>0.002193</td>\n",
       "      <td>32251.0</td>\n",
       "      <td>0</td>\n",
       "      <td>0.0</td>\n",
       "      <td>27.341463</td>\n",
       "      <td>0</td>\n",
       "      <td>0</td>\n",
       "    </tr>\n",
       "    <tr>\n",
       "      <th>100004</th>\n",
       "      <td>2018-03-29</td>\n",
       "      <td>0.0</td>\n",
       "      <td>NaN</td>\n",
       "      <td>0.000000</td>\n",
       "      <td>NaN</td>\n",
       "      <td>5.2727</td>\n",
       "      <td>0</td>\n",
       "      <td>0.006873</td>\n",
       "      <td>NaN</td>\n",
       "      <td>0.000000</td>\n",
       "      <td>...</td>\n",
       "      <td>24.462925</td>\n",
       "      <td>0.000</td>\n",
       "      <td>NaN</td>\n",
       "      <td>0.004009</td>\n",
       "      <td>36614.0</td>\n",
       "      <td>0</td>\n",
       "      <td>0.0</td>\n",
       "      <td>0.000000</td>\n",
       "      <td>0</td>\n",
       "      <td>0</td>\n",
       "    </tr>\n",
       "    <tr>\n",
       "      <th>100005</th>\n",
       "      <td>2018-01-23</td>\n",
       "      <td>0.0</td>\n",
       "      <td>41.0</td>\n",
       "      <td>43.675888</td>\n",
       "      <td>0.000208</td>\n",
       "      <td>23.0000</td>\n",
       "      <td>0</td>\n",
       "      <td>0.096890</td>\n",
       "      <td>99.0</td>\n",
       "      <td>0.007577</td>\n",
       "      <td>...</td>\n",
       "      <td>8.279123</td>\n",
       "      <td>0.125</td>\n",
       "      <td>NaN</td>\n",
       "      <td>0.000000</td>\n",
       "      <td>16384.0</td>\n",
       "      <td>0</td>\n",
       "      <td>0.0</td>\n",
       "      <td>15.253415</td>\n",
       "      <td>0</td>\n",
       "      <td>0</td>\n",
       "    </tr>\n",
       "  </tbody>\n",
       "</table>\n",
       "<p>5 rows × 2940 columns</p>\n",
       "</div>"
      ],
      "text/plain": [
       "          loan_dt    f1    f2          f5       f14      f15  f18       f20  \\\n",
       "id                                                                            \n",
       "100001 2018-03-07  57.0   0.0  442.180084       NaN   5.0000    0  0.024681   \n",
       "100002 2018-03-07   0.0   NaN    0.000000  0.000039   5.3333    0  0.000000   \n",
       "100003 2018-01-27   0.0   NaN   21.197485       NaN   3.5000    0  0.013158   \n",
       "100004 2018-03-29   0.0   NaN    0.000000       NaN   5.2727    0  0.006873   \n",
       "100005 2018-01-23   0.0  41.0   43.675888  0.000208  23.0000    0  0.096890   \n",
       "\n",
       "         f21       f28 ...       f6725  f6728        f6734     f6735    f6737  \\\n",
       "id                     ...                                                      \n",
       "100001   1.0  0.033447 ...   27.620493  0.200   450.100006  0.000851  20293.0   \n",
       "100002   NaN  0.000000 ...   14.480687  0.000          NaN  0.000000   6638.0   \n",
       "100003   NaN  0.327245 ...   11.838667  0.000  3893.979980  0.002193  32251.0   \n",
       "100004   NaN  0.000000 ...   24.462925  0.000          NaN  0.004009  36614.0   \n",
       "100005  99.0  0.007577 ...    8.279123  0.125          NaN  0.000000  16384.0   \n",
       "\n",
       "        f6742  f6743      f6745  label  tag  \n",
       "id                                           \n",
       "100001      0    0.0  49.197765      0    0  \n",
       "100002      0    0.0   0.000000      0    0  \n",
       "100003      0    0.0  27.341463      0    0  \n",
       "100004      0    0.0   0.000000      0    0  \n",
       "100005      0    0.0  15.253415      0    0  \n",
       "\n",
       "[5 rows x 2940 columns]"
      ]
     },
     "execution_count": 5,
     "metadata": {},
     "output_type": "execute_result"
    }
   ],
   "source": [
    "valid = pd.read_pickle('../data/feature-selected/valid.pkl')\n",
    "valid['label']=0\n",
    "valid['tag']=0\n",
    "valid.head()"
   ]
  },
  {
   "cell_type": "code",
   "execution_count": 6,
   "metadata": {},
   "outputs": [],
   "source": [
    "# 数据乱序\n",
    "def c(data):\n",
    "    X, y = data\n",
    "    ind = np.arange(X.shape[0])\n",
    "    for i in range(7):\n",
    "        np.random.shuffle(ind)\n",
    "    return X[ind], y[ind]"
   ]
  },
  {
   "cell_type": "code",
   "execution_count": 7,
   "metadata": {},
   "outputs": [],
   "source": [
    "# 数据切片\n",
    "def slice(csr_data, start=0, size=-1):\n",
    "    if not isinstance(csr_data[0], list):\n",
    "        if size == -1 or start + size >= csr_data[0].shape[0]:\n",
    "            slc_data = csr_data[0][start:]\n",
    "            slc_labels = csr_data[1][start:]\n",
    "        else:\n",
    "            slc_data = csr_data[0][start:start + size]\n",
    "            slc_labels = csr_data[1][start:start + size]\n",
    "    else:\n",
    "        if size == -1 or start + size >= csr_data[0][0].shape[0]:\n",
    "            slc_data = []\n",
    "            for d_i in csr_data[0]:\n",
    "                slc_data.append(d_i[start:])\n",
    "            slc_labels = csr_data[1][start:]\n",
    "        else:\n",
    "            slc_data = []\n",
    "            for d_i in csr_data[0]:\n",
    "                slc_data.append(d_i[start:start + size])\n",
    "            slc_labels = csr_data[1][start:start + size]\n",
    "    return slc_data, slc_labels"
   ]
  },
  {
   "cell_type": "code",
   "execution_count": 8,
   "metadata": {},
   "outputs": [],
   "source": [
    "# 数据切分\n",
    "def split_data(data, skip_empty=True):\n",
    "    fields = []\n",
    "    for i in range(len(FIELD_OFFSETS) - 1):\n",
    "        start_ind = FIELD_OFFSETS[i]\n",
    "        end_ind = FIELD_OFFSETS[i + 1]\n",
    "        if skip_empty and start_ind == end_ind:\n",
    "            continue\n",
    "        field_i = data[0][:, start_ind:end_ind]\n",
    "        fields.append(field_i)\n",
    "    fields.append(data[0][:, FIELD_OFFSETS[-1]:])\n",
    "    return fields, data[1]"
   ]
  },
  {
   "cell_type": "code",
   "execution_count": 9,
   "metadata": {},
   "outputs": [],
   "source": [
    "# 在tensorflow中初始化各种参数变量\n",
    "def init_var_map(init_vars, init_path=None):\n",
    "    if init_path is not None:\n",
    "        load_var_map = pkl.load(open(init_path, 'rb'))\n",
    "        print('load variable map from', init_path, load_var_map.keys())\n",
    "    var_map = {}\n",
    "    for var_name, var_shape, init_method, dtype in init_vars:\n",
    "        if init_method == 'zero':\n",
    "            var_map[var_name] = tf.Variable(tf.zeros(var_shape, dtype=dtype), name=var_name, dtype=dtype)\n",
    "        elif init_method == 'one':\n",
    "            var_map[var_name] = tf.Variable(tf.ones(var_shape, dtype=dtype), name=var_name, dtype=dtype)\n",
    "        elif init_method == 'normal':\n",
    "            var_map[var_name] = tf.Variable(tf.random_normal(var_shape, mean=0.0, stddev=STDDEV, dtype=dtype),\n",
    "                                            name=var_name, dtype=dtype)\n",
    "        elif init_method == 'tnormal':\n",
    "            var_map[var_name] = tf.Variable(tf.truncated_normal(var_shape, mean=0.0, stddev=STDDEV, dtype=dtype),\n",
    "                                            name=var_name, dtype=dtype)\n",
    "        elif init_method == 'uniform':\n",
    "            var_map[var_name] = tf.Variable(tf.random_uniform(var_shape, minval=MINVAL, maxval=MAXVAL, dtype=dtype),\n",
    "                                            name=var_name, dtype=dtype)\n",
    "        elif init_method == 'xavier':\n",
    "            maxval = np.sqrt(6. / np.sum(var_shape))\n",
    "            minval = -maxval\n",
    "            var_map[var_name] = tf.Variable(tf.random_uniform(var_shape, minval=minval, maxval=maxval, dtype=dtype),\n",
    "                                            name=var_name, dtype=dtype)\n",
    "        elif isinstance(init_method, int) or isinstance(init_method, float):\n",
    "            var_map[var_name] = tf.Variable(tf.ones(var_shape, dtype=dtype) * init_method, name=var_name, dtype=dtype)\n",
    "        elif init_method in load_var_map:\n",
    "            if load_var_map[init_method].shape == tuple(var_shape):\n",
    "                var_map[var_name] = tf.Variable(load_var_map[init_method], name=var_name, dtype=dtype)\n",
    "            else:\n",
    "                print('BadParam: init method', init_method, 'shape', var_shape, load_var_map[init_method].shape)\n",
    "        else:\n",
    "            print('BadParam: init method', init_method)\n",
    "    return var_map"
   ]
  },
  {
   "cell_type": "code",
   "execution_count": 10,
   "metadata": {},
   "outputs": [],
   "source": [
    "# 不同的激活函数选择\n",
    "def activate(weights, activation_function):\n",
    "    if activation_function == 'sigmoid':\n",
    "        return tf.nn.sigmoid(weights)\n",
    "    elif activation_function == 'softmax':\n",
    "        return tf.nn.softmax(weights)\n",
    "    elif activation_function == 'relu':\n",
    "        return tf.nn.relu(weights)\n",
    "    elif activation_function == 'tanh':\n",
    "        return tf.nn.tanh(weights)\n",
    "    elif activation_function == 'elu':\n",
    "        return tf.nn.elu(weights)\n",
    "    elif activation_function == 'none':\n",
    "        return weights\n",
    "    else:\n",
    "        return weights"
   ]
  },
  {
   "cell_type": "code",
   "execution_count": 11,
   "metadata": {},
   "outputs": [],
   "source": [
    "# 不同的优化器选择\n",
    "def get_optimizer(opt_algo, learning_rate, loss):\n",
    "    if opt_algo == 'adaldeta':\n",
    "        return tf.train.AdadeltaOptimizer(learning_rate).minimize(loss)\n",
    "    elif opt_algo == 'adagrad':\n",
    "        return tf.train.AdagradOptimizer(learning_rate).minimize(loss)\n",
    "    elif opt_algo == 'adam':\n",
    "        return tf.train.AdamOptimizer(learning_rate).minimize(loss)\n",
    "    elif opt_algo == 'ftrl':\n",
    "        return tf.train.FtrlOptimizer(learning_rate).minimize(loss)\n",
    "    elif opt_algo == 'gd':\n",
    "        return tf.train.GradientDescentOptimizer(learning_rate).minimize(loss)\n",
    "    elif opt_algo == 'padagrad':\n",
    "        return tf.train.ProximalAdagradOptimizer(learning_rate).minimize(loss)\n",
    "    elif opt_algo == 'pgd':\n",
    "        return tf.train.ProximalGradientDescentOptimizer(learning_rate).minimize(loss)\n",
    "    elif opt_algo == 'rmsprop':\n",
    "        return tf.train.RMSPropOptimizer(learning_rate).minimize(loss)\n",
    "    else:\n",
    "        return tf.train.GradientDescentOptimizer(learning_rate).minimize(loss)"
   ]
  },
  {
   "cell_type": "code",
   "execution_count": 12,
   "metadata": {},
   "outputs": [],
   "source": [
    "# 工具函数\n",
    "# 提示：tf.slice(input_, begin, size, name=None)：按照指定的下标范围抽取连续区域的子集\n",
    "#   tf.gather(params, indices, validate_indices=None, name=None)：按照指定的下标集合从axis=0中抽取子集，适合抽取不连续区域的子集\n",
    "def gather_2d(params, indices):\n",
    "    shape = tf.shape(params)\n",
    "    flat = tf.reshape(params, [-1])\n",
    "    flat_idx = indices[:, 0] * shape[1] + indices[:, 1]\n",
    "    flat_idx = tf.reshape(flat_idx, [-1])\n",
    "    return tf.gather(flat, flat_idx)"
   ]
  },
  {
   "cell_type": "code",
   "execution_count": 13,
   "metadata": {},
   "outputs": [],
   "source": [
    "# 池化2d\n",
    "def max_pool_2d(params, k):\n",
    "    _, indices = tf.nn.top_k(params, k, sorted=False)\n",
    "    shape = tf.shape(indices)\n",
    "    r1 = tf.reshape(tf.range(shape[0]), [-1, 1])\n",
    "    r1 = tf.tile(r1, [1, k])\n",
    "    r1 = tf.reshape(r1, [-1, 1])\n",
    "    indices = tf.concat([r1, tf.reshape(indices, [-1, 1])], 1)\n",
    "    return tf.reshape(gather_2d(params, indices), [-1, k])"
   ]
  },
  {
   "cell_type": "code",
   "execution_count": 14,
   "metadata": {},
   "outputs": [],
   "source": [
    "# 定义基类模型\n",
    "dtype = tf.float32\n",
    "STDDEV = 1e-3\n",
    "MINVAL = -1e-3\n",
    "MAXVAL = 1e-3\n",
    "class Model:\n",
    "    def __init__(self):\n",
    "        self.sess = None\n",
    "        self.X = None\n",
    "        self.y = None\n",
    "        self.layer_keeps = None\n",
    "        self.vars = None\n",
    "        self.keep_prob_train = None\n",
    "        self.keep_prob_test = None\n",
    "\n",
    "    # run model\n",
    "    def run(self, fetches, X=None, y=None, mode='train'):\n",
    "            # 通过feed_dict传入数据\n",
    "            feed_dict = {}\n",
    "            if type(self.X) is list:\n",
    "                for i in range(len(X)):\n",
    "                    feed_dict[self.X[i]] = X[i]\n",
    "            else:\n",
    "                feed_dict[self.X] = X\n",
    "            if y is not None:\n",
    "                feed_dict[self.y] = y\n",
    "            if self.layer_keeps is not None:\n",
    "                if mode == 'train':\n",
    "                    feed_dict[self.layer_keeps] = self.keep_prob_train\n",
    "                elif mode == 'test':\n",
    "                    feed_dict[self.layer_keeps] = self.keep_prob_test\n",
    "            #通过session.run去执行op\n",
    "            return self.sess.run(fetches, feed_dict)      \n",
    "        \n",
    "    # 模型参数持久化\n",
    "    def dump(self, model_path):\n",
    "        var_map = {}\n",
    "        for name, var in self.vars.iteritems():\n",
    "            var_map[name] = self.run(var)\n",
    "        pkl.dump(var_map, open(model_path, 'wb'))\n",
    "        print('model dumped at', model_path)"
   ]
  },
  {
   "cell_type": "markdown",
   "metadata": {},
   "source": [
    "### 1.LR逻辑回归\n",
    "![](https://pic3.zhimg.com/80/v2-09c0c9a25fa46886f92404fef41bbb82_hd.jpg)\n",
    "输入输出:{X,y}<br>\n",
    "映射函数f(x)：单层单节点的“DNN”, 宽而不深，sigmoid(wx+b)输出概率，需要大量的人工特征工程，非线性来源于特征处理<br>\n",
    "损失函数：logloss/... + L1/L2/...<br>\n",
    "优化方法：sgd/...<br>\n",
    "评估：logloss/auc/...<br>"
   ]
  },
  {
   "cell_type": "code",
   "execution_count": 15,
   "metadata": {},
   "outputs": [],
   "source": [
    "class LR(Model):\n",
    "    def __init__(self, input_dim=None, output_dim=1, init_path=None, opt_algo='gd', learning_rate=1e-2, l2_weight=0,\n",
    "                 random_seed=None):\n",
    "        Model.__init__(self)\n",
    "        # 声明参数\n",
    "        init_vars = [('w', [input_dim, output_dim], 'xavier', dtype),\n",
    "                     ('b', [output_dim], 'zero', dtype)]\n",
    "        self.graph = tf.Graph()\n",
    "        with self.graph.as_default():\n",
    "            if random_seed is not None:\n",
    "                tf.set_random_seed(random_seed)\n",
    "            # 用稀疏的placeholder\n",
    "            self.X = tf.placeholder(dtype)\n",
    "            self.y = tf.placeholder(dtype)\n",
    "            # init参数\n",
    "            self.vars = init_var_map(init_vars, init_path)\n",
    "\n",
    "            w = self.vars['w']\n",
    "            b = self.vars['b']\n",
    "            # sigmoid(wx+b)\n",
    "            xw = tf.matmul(self.X, w)\n",
    "            logits = tf.reshape(xw + b, [-1])\n",
    "            self.y_prob = tf.sigmoid(logits)\n",
    "\n",
    "            self.loss = tf.reduce_mean(\n",
    "                tf.nn.sigmoid_cross_entropy_with_logits(labels=self.y, logits=logits)) + \\\n",
    "                        l2_weight * tf.nn.l2_loss(xw)\n",
    "            self.optimizer = get_optimizer(opt_algo, learning_rate, self.loss)\n",
    "            # GPU设定\n",
    "            config = tf.ConfigProto()\n",
    "            config.gpu_options.allow_growth = True\n",
    "            self.sess = tf.Session(config=config)\n",
    "            # 初始化图里的参数\n",
    "            tf.global_variables_initializer().run(session=self.sess)"
   ]
  },
  {
   "cell_type": "code",
   "execution_count": 20,
   "metadata": {},
   "outputs": [],
   "source": [
    "# 对数值型特征，normalize处理\n",
    "from sklearn.preprocessing  import MinMaxScaler\n",
    "from sklearn.preprocessing.imputation import Imputer\n",
    "from sklearn.pipeline import make_pipeline\n",
    "\n",
    "train = train.fillna(0)\n",
    "tdata = train.drop(['label', 'tag', 'loan_dt'],axis=1)\n",
    "scaler = MinMaxScaler()\n",
    "scaler.fit(tdata)\n",
    "\n",
    "def read_data(data):\n",
    "    X= data.drop(['label', 'tag', 'loan_dt'],axis=1)\n",
    "    X = X.fillna(0)\n",
    "    y = data.label\n",
    "    X= scaler.transform(X)\n",
    "    return X,y"
   ]
  },
  {
   "cell_type": "code",
   "execution_count": 21,
   "metadata": {
    "scrolled": true
   },
   "outputs": [
    {
     "name": "stdout",
     "output_type": "stream",
     "text": [
      "read finish\n",
      "train data size: (22420, 2937)\n",
      "test data size: (11044, 2937)\n",
      "{'random_seed': 0, 'l2_weight': 1e-05, 'input_dim': 2937, 'learning_rate': 0.001, 'opt_algo': 'rmsprop'}\n"
     ]
    },
    {
     "name": "stderr",
     "output_type": "stream",
     "text": [
      "  0% |                                                                        |\r"
     ]
    },
    {
     "name": "stdout",
     "output_type": "stream",
     "text": [
      "training LR...\n",
      "[0]\ttraining...\n"
     ]
    },
    {
     "name": "stderr",
     "output_type": "stream",
     "text": [
      "100% |########################################################################|\n",
      "  0% |                                                                        |\r"
     ]
    },
    {
     "name": "stdout",
     "output_type": "stream",
     "text": [
      "[0]\tevaluating...\n"
     ]
    },
    {
     "name": "stderr",
     "output_type": "stream",
     "text": [
      "100% |########################################################################|\n",
      "100% |########################################################################|\n",
      "  6% |####                                                                    |\r"
     ]
    },
    {
     "name": "stdout",
     "output_type": "stream",
     "text": [
      "[0]6.99s\tloss (with l2 norm):0.371433\ttrain-auc: 0.441085\teval-auc: 0.435063\ttrain-acc:0.935772\teval-acc:0.931365\n",
      "[1]\ttraining...\n"
     ]
    },
    {
     "name": "stderr",
     "output_type": "stream",
     "text": [
      "100% |########################################################################|\n",
      "  0% |                                                                        |\r"
     ]
    },
    {
     "name": "stdout",
     "output_type": "stream",
     "text": [
      "[1]\tevaluating...\n"
     ]
    },
    {
     "name": "stderr",
     "output_type": "stream",
     "text": [
      "100% |########################################################################|\n",
      "100% |########################################################################|\n",
      "  6% |####                                                                    |\r"
     ]
    },
    {
     "name": "stdout",
     "output_type": "stream",
     "text": [
      "[1]5.95s\tloss (with l2 norm):0.260457\ttrain-auc: 0.544154\teval-auc: 0.544105\ttrain-acc:0.935772\teval-acc:0.931365\n",
      "[2]\ttraining...\n"
     ]
    },
    {
     "name": "stderr",
     "output_type": "stream",
     "text": [
      "100% |########################################################################|\n",
      "  0% |                                                                        |\r"
     ]
    },
    {
     "name": "stdout",
     "output_type": "stream",
     "text": [
      "[2]\tevaluating...\n"
     ]
    },
    {
     "name": "stderr",
     "output_type": "stream",
     "text": [
      "100% |########################################################################|\n",
      "100% |########################################################################|\n",
      "  6% |####                                                                    |\r"
     ]
    },
    {
     "name": "stdout",
     "output_type": "stream",
     "text": [
      "[2]6.25s\tloss (with l2 norm):0.248680\ttrain-auc: 0.739546\teval-auc: 0.740447\ttrain-acc:0.935772\teval-acc:0.931365\n",
      "[3]\ttraining...\n"
     ]
    },
    {
     "name": "stderr",
     "output_type": "stream",
     "text": [
      "100% |########################################################################|\n",
      "  0% |                                                                        |\r"
     ]
    },
    {
     "name": "stdout",
     "output_type": "stream",
     "text": [
      "[3]\tevaluating...\n"
     ]
    },
    {
     "name": "stderr",
     "output_type": "stream",
     "text": [
      "100% |########################################################################|\n",
      "100% |########################################################################|\n",
      "  6% |####                                                                    |\r"
     ]
    },
    {
     "name": "stdout",
     "output_type": "stream",
     "text": [
      "[3]5.80s\tloss (with l2 norm):0.236821\ttrain-auc: 0.778757\teval-auc: 0.779069\ttrain-acc:0.935638\teval-acc:0.931275\n",
      "[4]\ttraining...\n"
     ]
    },
    {
     "name": "stderr",
     "output_type": "stream",
     "text": [
      "100% |########################################################################|\n",
      "  0% |                                                                        |\r"
     ]
    },
    {
     "name": "stdout",
     "output_type": "stream",
     "text": [
      "[4]\tevaluating...\n"
     ]
    },
    {
     "name": "stderr",
     "output_type": "stream",
     "text": [
      "100% |########################################################################|\n",
      "100% |########################################################################|\n",
      "  6% |####                                                                    |\r"
     ]
    },
    {
     "name": "stdout",
     "output_type": "stream",
     "text": [
      "[4]6.03s\tloss (with l2 norm):0.230248\ttrain-auc: 0.794622\teval-auc: 0.792996\ttrain-acc:0.935861\teval-acc:0.931184\n",
      "[5]\ttraining...\n"
     ]
    },
    {
     "name": "stderr",
     "output_type": "stream",
     "text": [
      "100% |########################################################################|\n",
      "  0% |                                                                        |\r"
     ]
    },
    {
     "name": "stdout",
     "output_type": "stream",
     "text": [
      "[5]\tevaluating...\n"
     ]
    },
    {
     "name": "stderr",
     "output_type": "stream",
     "text": [
      "100% |########################################################################|\n",
      "100% |########################################################################|\n",
      "  6% |####                                                                    |\r"
     ]
    },
    {
     "name": "stdout",
     "output_type": "stream",
     "text": [
      "[5]6.12s\tloss (with l2 norm):0.226382\ttrain-auc: 0.804760\teval-auc: 0.800753\ttrain-acc:0.936039\teval-acc:0.931184\n",
      "[6]\ttraining...\n"
     ]
    },
    {
     "name": "stderr",
     "output_type": "stream",
     "text": [
      "100% |########################################################################|\n",
      "  0% |                                                                        |\r"
     ]
    },
    {
     "name": "stdout",
     "output_type": "stream",
     "text": [
      "[6]\tevaluating...\n"
     ]
    },
    {
     "name": "stderr",
     "output_type": "stream",
     "text": [
      "100% |########################################################################|\n",
      "100% |########################################################################|\n",
      "  6% |####                                                                    |\r"
     ]
    },
    {
     "name": "stdout",
     "output_type": "stream",
     "text": [
      "[6]6.10s\tloss (with l2 norm):0.223634\ttrain-auc: 0.812299\teval-auc: 0.805757\ttrain-acc:0.936039\teval-acc:0.931547\n",
      "[7]\ttraining...\n"
     ]
    },
    {
     "name": "stderr",
     "output_type": "stream",
     "text": [
      "100% |########################################################################|\n",
      "  0% |                                                                        |\r"
     ]
    },
    {
     "name": "stdout",
     "output_type": "stream",
     "text": [
      "[7]\tevaluating...\n"
     ]
    },
    {
     "name": "stderr",
     "output_type": "stream",
     "text": [
      "100% |########################################################################|\n",
      "100% |########################################################################|\n",
      "  6% |####                                                                    |\r"
     ]
    },
    {
     "name": "stdout",
     "output_type": "stream",
     "text": [
      "[7]5.92s\tloss (with l2 norm):0.221434\ttrain-auc: 0.818312\teval-auc: 0.809304\ttrain-acc:0.936530\teval-acc:0.931547\n",
      "[8]\ttraining...\n"
     ]
    },
    {
     "name": "stderr",
     "output_type": "stream",
     "text": [
      "100% |########################################################################|\n",
      "  0% |                                                                        |\r"
     ]
    },
    {
     "name": "stdout",
     "output_type": "stream",
     "text": [
      "[8]\tevaluating...\n"
     ]
    },
    {
     "name": "stderr",
     "output_type": "stream",
     "text": [
      "100% |########################################################################|\n",
      "100% |########################################################################|\n",
      "  6% |####                                                                    |\r"
     ]
    },
    {
     "name": "stdout",
     "output_type": "stream",
     "text": [
      "[8]5.74s\tloss (with l2 norm):0.219555\ttrain-auc: 0.823319\teval-auc: 0.811930\ttrain-acc:0.936798\teval-acc:0.931728\n",
      "[9]\ttraining...\n"
     ]
    },
    {
     "name": "stderr",
     "output_type": "stream",
     "text": [
      "100% |########################################################################|\n",
      "  0% |                                                                        |\r"
     ]
    },
    {
     "name": "stdout",
     "output_type": "stream",
     "text": [
      "[9]\tevaluating...\n"
     ]
    },
    {
     "name": "stderr",
     "output_type": "stream",
     "text": [
      "100% |########################################################################|\n",
      "100% |########################################################################|\n",
      "  9% |######                                                                  |\r"
     ]
    },
    {
     "name": "stdout",
     "output_type": "stream",
     "text": [
      "[9]5.98s\tloss (with l2 norm):0.217886\ttrain-auc: 0.827595\teval-auc: 0.814001\ttrain-acc:0.936976\teval-acc:0.931637\n",
      "[10]\ttraining...\n"
     ]
    },
    {
     "name": "stderr",
     "output_type": "stream",
     "text": [
      "100% |########################################################################|\n",
      "  0% |                                                                        |\r"
     ]
    },
    {
     "name": "stdout",
     "output_type": "stream",
     "text": [
      "[10]\tevaluating...\n"
     ]
    },
    {
     "name": "stderr",
     "output_type": "stream",
     "text": [
      "100% |########################################################################|\n",
      "100% |########################################################################|\n",
      "  9% |######                                                                  |\r"
     ]
    },
    {
     "name": "stdout",
     "output_type": "stream",
     "text": [
      "[10]5.93s\tloss (with l2 norm):0.216371\ttrain-auc: 0.831273\teval-auc: 0.815619\ttrain-acc:0.937333\teval-acc:0.931909\n",
      "[11]\ttraining...\n"
     ]
    },
    {
     "name": "stderr",
     "output_type": "stream",
     "text": [
      "100% |########################################################################|\n",
      "  0% |                                                                        |\r"
     ]
    },
    {
     "name": "stdout",
     "output_type": "stream",
     "text": [
      "[11]\tevaluating...\n"
     ]
    },
    {
     "name": "stderr",
     "output_type": "stream",
     "text": [
      "100% |########################################################################|\n",
      "100% |########################################################################|\n",
      "  6% |####                                                                    |\r"
     ]
    },
    {
     "name": "stdout",
     "output_type": "stream",
     "text": [
      "[11]5.05s\tloss (with l2 norm):0.214975\ttrain-auc: 0.834577\teval-auc: 0.816919\ttrain-acc:0.937511\teval-acc:0.932180\n",
      "[12]\ttraining...\n"
     ]
    },
    {
     "name": "stderr",
     "output_type": "stream",
     "text": [
      "100% |########################################################################|\n",
      "  0% |                                                                        |\r"
     ]
    },
    {
     "name": "stdout",
     "output_type": "stream",
     "text": [
      "[12]\tevaluating...\n"
     ]
    },
    {
     "name": "stderr",
     "output_type": "stream",
     "text": [
      "100% |########################################################################|\n",
      "100% |########################################################################|\n",
      "  6% |####                                                                    |\r"
     ]
    },
    {
     "name": "stdout",
     "output_type": "stream",
     "text": [
      "[12]6.13s\tloss (with l2 norm):0.213673\ttrain-auc: 0.837502\teval-auc: 0.817930\ttrain-acc:0.937690\teval-acc:0.931909\n",
      "[13]\ttraining...\n"
     ]
    },
    {
     "name": "stderr",
     "output_type": "stream",
     "text": [
      "100% |########################################################################|\n",
      "  0% |                                                                        |\r"
     ]
    },
    {
     "name": "stdout",
     "output_type": "stream",
     "text": [
      "[13]\tevaluating...\n"
     ]
    },
    {
     "name": "stderr",
     "output_type": "stream",
     "text": [
      "100% |########################################################################|\n",
      "100% |########################################################################|\n",
      "  6% |####                                                                    |\r"
     ]
    },
    {
     "name": "stdout",
     "output_type": "stream",
     "text": [
      "[13]6.01s\tloss (with l2 norm):0.212452\ttrain-auc: 0.840142\teval-auc: 0.818788\ttrain-acc:0.937823\teval-acc:0.931909\n",
      "[14]\ttraining...\n"
     ]
    },
    {
     "name": "stderr",
     "output_type": "stream",
     "text": [
      "100% |########################################################################|\n",
      "  0% |                                                                        |\r"
     ]
    },
    {
     "name": "stdout",
     "output_type": "stream",
     "text": [
      "[14]\tevaluating...\n"
     ]
    },
    {
     "name": "stderr",
     "output_type": "stream",
     "text": [
      "100% |########################################################################|\n",
      "100% |########################################################################|\n",
      " 11% |########                                                                |\r"
     ]
    },
    {
     "name": "stdout",
     "output_type": "stream",
     "text": [
      "[14]6.30s\tloss (with l2 norm):0.211298\ttrain-auc: 0.842541\teval-auc: 0.819433\ttrain-acc:0.938180\teval-acc:0.931909\n",
      "[15]\ttraining...\n"
     ]
    },
    {
     "name": "stderr",
     "output_type": "stream",
     "text": [
      "100% |########################################################################|\n",
      "  0% |                                                                        |\r"
     ]
    },
    {
     "name": "stdout",
     "output_type": "stream",
     "text": [
      "[15]\tevaluating...\n"
     ]
    },
    {
     "name": "stderr",
     "output_type": "stream",
     "text": [
      "100% |########################################################################|\n",
      "100% |########################################################################|\n",
      "  6% |####                                                                    |\r"
     ]
    },
    {
     "name": "stdout",
     "output_type": "stream",
     "text": [
      "[15]5.93s\tloss (with l2 norm):0.210203\ttrain-auc: 0.844725\teval-auc: 0.820002\ttrain-acc:0.938492\teval-acc:0.932271\n",
      "[16]\ttraining...\n"
     ]
    },
    {
     "name": "stderr",
     "output_type": "stream",
     "text": [
      "100% |########################################################################|\n",
      "  0% |                                                                        |\r"
     ]
    },
    {
     "name": "stdout",
     "output_type": "stream",
     "text": [
      "[16]\tevaluating...\n"
     ]
    },
    {
     "name": "stderr",
     "output_type": "stream",
     "text": [
      "100% |########################################################################|\n",
      "100% |########################################################################|\n",
      "  6% |####                                                                    |\r"
     ]
    },
    {
     "name": "stdout",
     "output_type": "stream",
     "text": [
      "[16]6.08s\tloss (with l2 norm):0.209159\ttrain-auc: 0.846719\teval-auc: 0.820463\ttrain-acc:0.938448\teval-acc:0.932271\n",
      "[17]\ttraining...\n"
     ]
    },
    {
     "name": "stderr",
     "output_type": "stream",
     "text": [
      "100% |########################################################################|\n",
      "  0% |                                                                        |\r"
     ]
    },
    {
     "name": "stdout",
     "output_type": "stream",
     "text": [
      "[17]\tevaluating...\n"
     ]
    },
    {
     "name": "stderr",
     "output_type": "stream",
     "text": [
      "100% |########################################################################|\n",
      "100% |########################################################################|\n",
      "  6% |####                                                                    |\r"
     ]
    },
    {
     "name": "stdout",
     "output_type": "stream",
     "text": [
      "[17]5.50s\tloss (with l2 norm):0.208162\ttrain-auc: 0.848562\teval-auc: 0.820801\ttrain-acc:0.938537\teval-acc:0.932452\n",
      "[18]\ttraining...\n"
     ]
    },
    {
     "name": "stderr",
     "output_type": "stream",
     "text": [
      "100% |########################################################################|\n",
      "  0% |                                                                        |\r"
     ]
    },
    {
     "name": "stdout",
     "output_type": "stream",
     "text": [
      "[18]\tevaluating...\n"
     ]
    },
    {
     "name": "stderr",
     "output_type": "stream",
     "text": [
      "100% |########################################################################|\n",
      "100% |########################################################################|\n",
      "  6% |####                                                                    |\r"
     ]
    },
    {
     "name": "stdout",
     "output_type": "stream",
     "text": [
      "[18]6.25s\tloss (with l2 norm):0.207206\ttrain-auc: 0.850282\teval-auc: 0.821069\ttrain-acc:0.938715\teval-acc:0.932543\n",
      "[19]\ttraining...\n"
     ]
    },
    {
     "name": "stderr",
     "output_type": "stream",
     "text": [
      "100% |########################################################################|\n",
      "  0% |                                                                        |\r"
     ]
    },
    {
     "name": "stdout",
     "output_type": "stream",
     "text": [
      "[19]\tevaluating...\n"
     ]
    },
    {
     "name": "stderr",
     "output_type": "stream",
     "text": [
      "100% |########################################################################|\n",
      "100% |########################################################################|\n",
      "  6% |####                                                                    |\r"
     ]
    },
    {
     "name": "stdout",
     "output_type": "stream",
     "text": [
      "[19]5.36s\tloss (with l2 norm):0.206287\ttrain-auc: 0.851885\teval-auc: 0.821308\ttrain-acc:0.938760\teval-acc:0.932452\n",
      "[20]\ttraining...\n"
     ]
    },
    {
     "name": "stderr",
     "output_type": "stream",
     "text": [
      "100% |########################################################################|\n",
      "  0% |                                                                        |\r"
     ]
    },
    {
     "name": "stdout",
     "output_type": "stream",
     "text": [
      "[20]\tevaluating...\n"
     ]
    },
    {
     "name": "stderr",
     "output_type": "stream",
     "text": [
      "100% |########################################################################|\n",
      "100% |########################################################################|\n",
      "  9% |######                                                                  |\r"
     ]
    },
    {
     "name": "stdout",
     "output_type": "stream",
     "text": [
      "[20]6.47s\tloss (with l2 norm):0.205401\ttrain-auc: 0.853375\teval-auc: 0.821460\ttrain-acc:0.938938\teval-acc:0.932361\n",
      "[21]\ttraining...\n"
     ]
    },
    {
     "name": "stderr",
     "output_type": "stream",
     "text": [
      "100% |########################################################################|\n",
      "  0% |                                                                        |\r"
     ]
    },
    {
     "name": "stdout",
     "output_type": "stream",
     "text": [
      "[21]\tevaluating...\n"
     ]
    },
    {
     "name": "stderr",
     "output_type": "stream",
     "text": [
      "100% |########################################################################|\n",
      "100% |########################################################################|\n",
      " 11% |########                                                                |\r"
     ]
    },
    {
     "name": "stdout",
     "output_type": "stream",
     "text": [
      "[21]5.78s\tloss (with l2 norm):0.204547\ttrain-auc: 0.854771\teval-auc: 0.821584\ttrain-acc:0.938805\teval-acc:0.931818\n",
      "[22]\ttraining...\n"
     ]
    },
    {
     "name": "stderr",
     "output_type": "stream",
     "text": [
      "100% |########################################################################|\n",
      "  0% |                                                                        |\r"
     ]
    },
    {
     "name": "stdout",
     "output_type": "stream",
     "text": [
      "[22]\tevaluating...\n"
     ]
    },
    {
     "name": "stderr",
     "output_type": "stream",
     "text": [
      "100% |########################################################################|\n",
      "100% |########################################################################|\n",
      "  6% |####                                                                    |\r"
     ]
    },
    {
     "name": "stdout",
     "output_type": "stream",
     "text": [
      "[22]6.15s\tloss (with l2 norm):0.203721\ttrain-auc: 0.856069\teval-auc: 0.821651\ttrain-acc:0.938938\teval-acc:0.931728\n",
      "[23]\ttraining...\n"
     ]
    },
    {
     "name": "stderr",
     "output_type": "stream",
     "text": [
      "100% |########################################################################|\n",
      "  0% |                                                                        |\r"
     ]
    },
    {
     "name": "stdout",
     "output_type": "stream",
     "text": [
      "[23]\tevaluating...\n"
     ]
    },
    {
     "name": "stderr",
     "output_type": "stream",
     "text": [
      "100% |########################################################################|\n",
      "100% |########################################################################|\n",
      "  6% |####                                                                    |\r"
     ]
    },
    {
     "name": "stdout",
     "output_type": "stream",
     "text": [
      "[23]5.45s\tloss (with l2 norm):0.202921\ttrain-auc: 0.857315\teval-auc: 0.821673\ttrain-acc:0.939028\teval-acc:0.931999\n",
      "[24]\ttraining...\n"
     ]
    },
    {
     "name": "stderr",
     "output_type": "stream",
     "text": [
      "100% |########################################################################|\n",
      "  0% |                                                                        |\r"
     ]
    },
    {
     "name": "stdout",
     "output_type": "stream",
     "text": [
      "[24]\tevaluating...\n"
     ]
    },
    {
     "name": "stderr",
     "output_type": "stream",
     "text": [
      "100% |########################################################################|\n",
      "100% |########################################################################|\n",
      "  9% |######                                                                  |\r"
     ]
    },
    {
     "name": "stdout",
     "output_type": "stream",
     "text": [
      "[24]5.56s\tloss (with l2 norm):0.202146\ttrain-auc: 0.858494\teval-auc: 0.821653\ttrain-acc:0.938983\teval-acc:0.932180\n",
      "[25]\ttraining...\n"
     ]
    },
    {
     "name": "stderr",
     "output_type": "stream",
     "text": [
      "100% |########################################################################|\n",
      "  0% |                                                                        |\r"
     ]
    },
    {
     "name": "stdout",
     "output_type": "stream",
     "text": [
      "[25]\tevaluating...\n"
     ]
    },
    {
     "name": "stderr",
     "output_type": "stream",
     "text": [
      "100% |########################################################################|\n",
      "100% |########################################################################|\n",
      "  6% |####                                                                    |\r"
     ]
    },
    {
     "name": "stdout",
     "output_type": "stream",
     "text": [
      "[25]6.58s\tloss (with l2 norm):0.201394\ttrain-auc: 0.859599\teval-auc: 0.821624\ttrain-acc:0.939072\teval-acc:0.932271\n",
      "[26]\ttraining...\n"
     ]
    },
    {
     "name": "stderr",
     "output_type": "stream",
     "text": [
      "100% |########################################################################|\n",
      "  0% |                                                                        |\r"
     ]
    },
    {
     "name": "stdout",
     "output_type": "stream",
     "text": [
      "[26]\tevaluating...\n"
     ]
    },
    {
     "name": "stderr",
     "output_type": "stream",
     "text": [
      "100% |########################################################################|\n",
      "100% |########################################################################|\n",
      "  6% |####                                                                    |\r"
     ]
    },
    {
     "name": "stdout",
     "output_type": "stream",
     "text": [
      "[26]5.40s\tloss (with l2 norm):0.200663\ttrain-auc: 0.860653\teval-auc: 0.821602\ttrain-acc:0.939028\teval-acc:0.932452\n",
      "[27]\ttraining...\n"
     ]
    },
    {
     "name": "stderr",
     "output_type": "stream",
     "text": [
      "100% |########################################################################|\n",
      "  0% |                                                                        |\r"
     ]
    },
    {
     "name": "stdout",
     "output_type": "stream",
     "text": [
      "[27]\tevaluating...\n"
     ]
    },
    {
     "name": "stderr",
     "output_type": "stream",
     "text": [
      "100% |########################################################################|\n",
      "100% |########################################################################|\n",
      "  6% |####                                                                    |\r"
     ]
    },
    {
     "name": "stdout",
     "output_type": "stream",
     "text": [
      "[27]6.23s\tloss (with l2 norm):0.199952\ttrain-auc: 0.861645\teval-auc: 0.821581\ttrain-acc:0.939161\teval-acc:0.932271\n",
      "[28]\ttraining...\n"
     ]
    },
    {
     "name": "stderr",
     "output_type": "stream",
     "text": [
      "100% |########################################################################|\n",
      "  0% |                                                                        |\r"
     ]
    },
    {
     "name": "stdout",
     "output_type": "stream",
     "text": [
      "[28]\tevaluating...\n"
     ]
    },
    {
     "name": "stderr",
     "output_type": "stream",
     "text": [
      "100% |########################################################################|\n",
      "100% |########################################################################|\n"
     ]
    },
    {
     "name": "stdout",
     "output_type": "stream",
     "text": [
      "[28]6.06s\tloss (with l2 norm):0.199260\ttrain-auc: 0.862598\teval-auc: 0.821490\ttrain-acc:0.939206\teval-acc:0.931999\n",
      "early stop\n",
      "best iteration:\n",
      "[23]\teval-auc: 0.821673\n",
      "Model saved in path: ./tmp/model.ckpt\n"
     ]
    }
   ],
   "source": [
    "import numpy as np\n",
    "from sklearn.metrics import roc_auc_score, accuracy_score\n",
    "from sklearn.model_selection import train_test_split\n",
    "import progressbar\n",
    "import time\n",
    "\n",
    "t, v = train_test_split(train, test_size=0.33)\n",
    "\n",
    "train_data = read_data(t)\n",
    "test_data = read_data(v)\n",
    "eval_data = read_data(eval)\n",
    "valid_data = read_data(valid)\n",
    "\n",
    "input_dim = train_data[0].shape[1]\n",
    "\n",
    "\n",
    "# 输出数据信息维度\n",
    "if train_data[1].ndim > 1:\n",
    "    print('label must be 1-dim')\n",
    "    exit(0)\n",
    "print('read finish')\n",
    "print('train data size:', train_data[0].shape)\n",
    "print('test data size:', test_data[0].shape)\n",
    "\n",
    "# 训练集与测试集\n",
    "train_size = train_data[0].shape[0]\n",
    "test_size = test_data[0].shape[0]\n",
    "\n",
    "# 超参数设定\n",
    "min_round = 1\n",
    "num_round = 50\n",
    "early_stop_round = 5\n",
    "# train + val\n",
    "batch_size = 512\n",
    "\n",
    "\n",
    "# 逻辑回归参数设定\n",
    "lr_params = {\n",
    "    'input_dim': input_dim,\n",
    "    'opt_algo': 'rmsprop',\n",
    "    'learning_rate': 0.001,\n",
    "    'l2_weight': 1e-5,\n",
    "    'random_seed': 0\n",
    "}\n",
    "print(lr_params)\n",
    "model = LR(**lr_params)\n",
    "print(\"training LR...\")\n",
    "def train_model(model):\n",
    "    history_score = []\n",
    "    saver = tf.train.Saver(model.vars)\n",
    "    # 执行num_round轮\n",
    "    for i in range(num_round):\n",
    "        t1= time.time()\n",
    "        # 主要的2个op是优化器和损失\n",
    "        fetches = [model.optimizer, model.loss]\n",
    "        if batch_size > 0:\n",
    "            ls = []\n",
    "            # 进度条工具\n",
    "            bar = progressbar.ProgressBar()\n",
    "            print('[%d]\\ttraining...' % i)\n",
    "            for j in bar(range(int(train_size / batch_size + 1))):\n",
    "                X_i, y_i = slice(train_data, j * batch_size, batch_size)\n",
    "                # 训练，run op\n",
    "                _, l = model.run(fetches, X_i, y_i)\n",
    "                ls.append(l)\n",
    "        elif batch_size == -1:\n",
    "            X_i, y_i = slice(train_data)\n",
    "            _, l = model.run(fetches, X_i, y_i)\n",
    "            ls = [l]\n",
    "        train_preds = []\n",
    "        print('[%d]\\tevaluating...' % i)\n",
    "        bar = progressbar.ProgressBar()\n",
    "        for j in bar(range(int(train_size / 10000 + 1))):\n",
    "            X_i, _ = slice(train_data, j * 10000, 10000)\n",
    "            preds = model.run(model.y_prob, X_i, mode='test')\n",
    "            train_preds.extend(preds)\n",
    "        test_preds = []\n",
    "        bar = progressbar.ProgressBar()\n",
    "        for j in bar(range(int(test_size / 10000 + 1))):\n",
    "            X_i, _ = slice(test_data, j * 10000, 10000)\n",
    "            preds = model.run(model.y_prob, X_i, mode='test')\n",
    "            test_preds.extend(preds)\n",
    "        # 把预估的结果和真实结果拿出来计算auc\n",
    "        train_score = roc_auc_score(train_data[1], train_preds)\n",
    "        train_acc = accuracy_score(train_data[1], np.array(train_preds)>0.4)\n",
    "        test_score = roc_auc_score(test_data[1], test_preds)\n",
    "        test_acc = accuracy_score(test_data[1], np.array(test_preds)>0.4)\n",
    "        # 输出auc信息\n",
    "        print('[%d]%.2fs\\tloss (with l2 norm):%f\\ttrain-auc: %f\\teval-auc: %f\\ttrain-acc:%f\\teval-acc:%f' % (\n",
    "            i,time.time()-t1, np.mean(ls), train_score, test_score,train_acc, test_acc))\n",
    "        history_score.append(test_score)\n",
    "        # early stopping\n",
    "        if i > min_round and i > early_stop_round:\n",
    "            if np.argmax(history_score) == i - early_stop_round and history_score[-1] - history_score[\n",
    "                        -1 * early_stop_round] < 1e-5:\n",
    "                print('early stop\\nbest iteration:\\n[%d]\\teval-auc: %f' % (\n",
    "                    np.argmax(history_score), np.max(history_score)))\n",
    "                break\n",
    "    save_path = saver.save(model.sess, \"./tmp/model.ckpt\")\n",
    "    print(\"Model saved in path: %s\" % save_path)\n",
    "    \n",
    "train_model(model)"
   ]
  },
  {
   "cell_type": "markdown",
   "metadata": {},
   "source": [
    "拒绝推断"
   ]
  },
  {
   "cell_type": "code",
   "execution_count": 22,
   "metadata": {},
   "outputs": [
    {
     "data": {
      "text/plain": [
       "array([0.05522371, 0.03395312, 0.05165528, ..., 0.18755345, 0.0676312 ,\n",
       "       0.08775756], dtype=float32)"
      ]
     },
     "execution_count": 22,
     "metadata": {},
     "output_type": "execute_result"
    }
   ],
   "source": [
    "X_i, y_i = slice(train_data)\n",
    "train_preds = model.run(model.y_prob, X_i, mode='test')\n",
    "train_preds"
   ]
  },
  {
   "cell_type": "code",
   "execution_count": 23,
   "metadata": {},
   "outputs": [
    {
     "data": {
      "text/plain": [
       "array([0.05667618, 0.03158789, 0.0318908 , ..., 0.07484034, 0.10511034,\n",
       "       0.00389753], dtype=float32)"
      ]
     },
     "execution_count": 23,
     "metadata": {},
     "output_type": "execute_result"
    }
   ],
   "source": [
    "X_i, y_i = slice(test_data)\n",
    "test_preds = model.run(model.y_prob, X_i, mode='test')\n",
    "test_preds"
   ]
  },
  {
   "cell_type": "code",
   "execution_count": 24,
   "metadata": {},
   "outputs": [
    {
     "data": {
      "image/png": "[encoded data removed]",
      "text/plain": [
       "<matplotlib.figure.Figure at 0x1f32b550>"
      ]
     },
     "metadata": {},
     "output_type": "display_data"
    }
   ],
   "source": [
    "%matplotlib inline\n",
    "sns.distplot(test_preds, rug=False);"
   ]
  },
  {
   "cell_type": "code",
   "execution_count": 25,
   "metadata": {},
   "outputs": [
    {
     "name": "stdout",
     "output_type": "stream",
     "text": [
      "predicted overdue rate:0.013310\n",
      "actual overdue rate: 0.068635\n"
     ]
    }
   ],
   "source": [
    "valid_preds = np.array(test_preds)\n",
    "pred_overdue_rate = np.mean(test_preds>=0.4)\n",
    "actual_overdue_rate = test_data[1].mean()\n",
    "print('predicted overdue rate:%f'%pred_overdue_rate)\n",
    "print('actual overdue rate: %f' % actual_overdue_rate)"
   ]
  },
  {
   "cell_type": "code",
   "execution_count": 26,
   "metadata": {},
   "outputs": [
    {
     "data": {
      "text/plain": [
       "0.06863455474376678"
      ]
     },
     "execution_count": 26,
     "metadata": {},
     "output_type": "execute_result"
    }
   ],
   "source": [
    "test_data[1].mean()"
   ]
  }
 ],
 "metadata": {
  "anaconda-cloud": {},
  "kernelspec": {
   "display_name": "Python [conda env:tensorflow]",
   "language": "python",
   "name": "conda-env-tensorflow-py"
  },
  "language_info": {
   "codemirror_mode": {
    "name": "ipython",
    "version": 3
   },
   "file_extension": ".py",
   "mimetype": "text/x-python",
   "name": "python",
   "nbconvert_exporter": "python",
   "pygments_lexer": "ipython3",
   "version": "3.5.0"
  }
 },
 "nbformat": 4,
 "nbformat_minor": 2
}
